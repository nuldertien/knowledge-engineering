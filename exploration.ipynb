{
 "cells": [
  {
   "cell_type": "code",
   "execution_count": 1,
   "metadata": {},
   "outputs": [],
   "source": [
    "import pandas as pd\n",
    "from datetime import datetime, timedelta\n",
    "import numpy as np\n",
    "from tqdm import trange\n",
    "\n",
    "pd.set_option('display.max_columns', None)\n",
    "pd.set_option('display.max_rows', 100)"
   ]
  },
  {
   "cell_type": "code",
   "execution_count": 2,
   "metadata": {
    "scrolled": true
   },
   "outputs": [
    {
     "name": "stderr",
     "output_type": "stream",
     "text": [
      "/Users/laurensniesten/opt/anaconda3/lib/python3.9/site-packages/openpyxl/styles/stylesheet.py:226: UserWarning: Workbook contains no default style, apply openpyxl's default\n",
      "  warn(\"Workbook contains no default style, apply openpyxl's default\")\n"
     ]
    }
   ],
   "source": [
    "disaster_info = pd.read_excel('./data/emdat_public_2023_05_31_query_uid-ldmOwE.xlsx', skiprows=6)"
   ]
  },
  {
   "cell_type": "code",
   "execution_count": 3,
   "metadata": {},
   "outputs": [],
   "source": [
    "# Data cleaning.\n",
    "disaster_info['Start Date'] = pd.to_datetime(dict(year=disaster_info['Start Year'], month=disaster_info['Start Month'], day=disaster_info['Start Day']))\n",
    "disaster_info['End Date'] = pd.to_datetime(dict(year=disaster_info['End Year'], month=disaster_info['End Month'], day=disaster_info['End Day']))\n",
    "disaster_info = disaster_info.drop(columns=['Seq', 'OFDA Response', 'Local Time', 'Start Year', 'Start Month', 'Start Day', 'End Year', 'End Month', 'End Day', \"Reconstruction Costs ('000 US$)\", \"Insured Damages ('000 US$)\", \"Total Damages ('000 US$)\", 'CPI', 'Adm Level', 'Admin1 Code', 'Admin2 Code'])"
   ]
  },
  {
   "cell_type": "code",
   "execution_count": 4,
   "metadata": {},
   "outputs": [],
   "source": [
    "# Omit all natural disasters that took place on dates we do not have news articles on. \n",
    "disaster_info = disaster_info[disaster_info['Start Date'] < '2020-04-02'].copy()"
   ]
  },
  {
   "cell_type": "code",
   "execution_count": 5,
   "metadata": {},
   "outputs": [],
   "source": [
    "# Create a list of the locations (keywords) involved in the natural disaster.\n",
    "disaster_info['Location List'] = disaster_info['Location'].apply(lambda x: x.replace(' (', '_').replace('), ', '_').replace(', ', '_').replace(')', '').replace('; ', '_').split('_') if type(x) == str else [])"
   ]
  },
  {
   "cell_type": "code",
   "execution_count": 6,
   "metadata": {},
   "outputs": [
    {
     "name": "stdout",
     "output_type": "stream",
     "text": [
      "Maximum Total Deaths: 4140.0\n",
      "Minimum Total Deaths: 1.0\n",
      "Maximum Total Damages Adjusted: 113423011.0\n",
      "Minimum Total Damages Adjusted: 42.0\n"
     ]
    }
   ],
   "source": [
    "max_total_deaths = disaster_info.loc[disaster_info['Total Deaths'].idxmax()]['Total Deaths']\n",
    "min_total_deaths = disaster_info.loc[disaster_info['Total Deaths'].idxmin()]['Total Deaths']\n",
    "max_total_damages_adjusted = disaster_info.loc[disaster_info[\"Total Damages, Adjusted ('000 US$)\"].idxmax()][\"Total Damages, Adjusted ('000 US$)\"]\n",
    "min_total_damages_adjusted = disaster_info.loc[disaster_info[\"Total Damages, Adjusted ('000 US$)\"].idxmin()][\"Total Damages, Adjusted ('000 US$)\"]\n",
    "\n",
    "print(f'Maximum Total Deaths: {max_total_deaths}')\n",
    "print(f'Minimum Total Deaths: {min_total_deaths}')\n",
    "print(f'Maximum Total Damages Adjusted: {max_total_damages_adjusted}')\n",
    "print(f'Minimum Total Damages Adjusted: {min_total_damages_adjusted}')"
   ]
  },
  {
   "cell_type": "code",
   "execution_count": 7,
   "metadata": {},
   "outputs": [],
   "source": [
    "news_data = pd.read_csv('./data/all-the-news-2-1.csv') "
   ]
  },
  {
   "cell_type": "code",
   "execution_count": 8,
   "metadata": {},
   "outputs": [],
   "source": [
    "news_data['Date'] = pd.to_datetime(dict(year=news_data['year'], month=news_data['month'], day=news_data['day']))\n",
    "news_data['Time'] = news_data.date.str[-8:]"
   ]
  },
  {
   "cell_type": "code",
   "execution_count": 53,
   "metadata": {},
   "outputs": [
    {
     "ename": "KeyError",
     "evalue": "\"['date', 'year', 'month', 'day'] not found in axis\"",
     "output_type": "error",
     "traceback": [
      "\u001b[0;31m---------------------------------------------------------------------------\u001b[0m",
      "\u001b[0;31mKeyError\u001b[0m                                  Traceback (most recent call last)",
      "Input \u001b[0;32mIn [53]\u001b[0m, in \u001b[0;36m<cell line: 1>\u001b[0;34m()\u001b[0m\n\u001b[0;32m----> 1\u001b[0m \u001b[43mnews_data\u001b[49m\u001b[38;5;241;43m.\u001b[39;49m\u001b[43mdrop\u001b[49m\u001b[43m(\u001b[49m\u001b[43mcolumns\u001b[49m\u001b[38;5;241;43m=\u001b[39;49m\u001b[43m[\u001b[49m\u001b[38;5;124;43m'\u001b[39;49m\u001b[38;5;124;43mdate\u001b[39;49m\u001b[38;5;124;43m'\u001b[39;49m\u001b[43m,\u001b[49m\u001b[43m \u001b[49m\u001b[38;5;124;43m'\u001b[39;49m\u001b[38;5;124;43myear\u001b[39;49m\u001b[38;5;124;43m'\u001b[39;49m\u001b[43m,\u001b[49m\u001b[43m \u001b[49m\u001b[38;5;124;43m'\u001b[39;49m\u001b[38;5;124;43mmonth\u001b[39;49m\u001b[38;5;124;43m'\u001b[39;49m\u001b[43m,\u001b[49m\u001b[43m \u001b[49m\u001b[38;5;124;43m'\u001b[39;49m\u001b[38;5;124;43mday\u001b[39;49m\u001b[38;5;124;43m'\u001b[39;49m\u001b[43m]\u001b[49m\u001b[43m,\u001b[49m\u001b[43m \u001b[49m\u001b[43minplace\u001b[49m\u001b[38;5;241;43m=\u001b[39;49m\u001b[38;5;28;43;01mTrue\u001b[39;49;00m\u001b[43m)\u001b[49m\n\u001b[1;32m      2\u001b[0m news_data\u001b[38;5;241m.\u001b[39mrename(columns\u001b[38;5;241m=\u001b[39m{\u001b[38;5;124m'\u001b[39m\u001b[38;5;124mauthor\u001b[39m\u001b[38;5;124m'\u001b[39m: \u001b[38;5;124m'\u001b[39m\u001b[38;5;124mAuthor\u001b[39m\u001b[38;5;124m'\u001b[39m, \u001b[38;5;124m'\u001b[39m\u001b[38;5;124mtitle\u001b[39m\u001b[38;5;124m'\u001b[39m:\u001b[38;5;124m'\u001b[39m\u001b[38;5;124mTitle\u001b[39m\u001b[38;5;124m'\u001b[39m, \u001b[38;5;124m'\u001b[39m\u001b[38;5;124murl\u001b[39m\u001b[38;5;124m'\u001b[39m:\u001b[38;5;124m'\u001b[39m\u001b[38;5;124mUrl\u001b[39m\u001b[38;5;124m'\u001b[39m, \u001b[38;5;124m'\u001b[39m\u001b[38;5;124msection\u001b[39m\u001b[38;5;124m'\u001b[39m:\u001b[38;5;124m'\u001b[39m\u001b[38;5;124mSection\u001b[39m\u001b[38;5;124m'\u001b[39m, \u001b[38;5;124m'\u001b[39m\u001b[38;5;124mpublication\u001b[39m\u001b[38;5;124m'\u001b[39m:\u001b[38;5;124m'\u001b[39m\u001b[38;5;124mPublication\u001b[39m\u001b[38;5;124m'\u001b[39m, \u001b[38;5;124m'\u001b[39m\u001b[38;5;124marticle\u001b[39m\u001b[38;5;124m'\u001b[39m: \u001b[38;5;124m'\u001b[39m\u001b[38;5;124mArticle\u001b[39m\u001b[38;5;124m'\u001b[39m}, inplace\u001b[38;5;241m=\u001b[39m\u001b[38;5;28;01mTrue\u001b[39;00m)\n",
      "File \u001b[0;32m~/opt/anaconda3/lib/python3.9/site-packages/pandas/util/_decorators.py:311\u001b[0m, in \u001b[0;36mdeprecate_nonkeyword_arguments.<locals>.decorate.<locals>.wrapper\u001b[0;34m(*args, **kwargs)\u001b[0m\n\u001b[1;32m    305\u001b[0m \u001b[38;5;28;01mif\u001b[39;00m \u001b[38;5;28mlen\u001b[39m(args) \u001b[38;5;241m>\u001b[39m num_allow_args:\n\u001b[1;32m    306\u001b[0m     warnings\u001b[38;5;241m.\u001b[39mwarn(\n\u001b[1;32m    307\u001b[0m         msg\u001b[38;5;241m.\u001b[39mformat(arguments\u001b[38;5;241m=\u001b[39marguments),\n\u001b[1;32m    308\u001b[0m         \u001b[38;5;167;01mFutureWarning\u001b[39;00m,\n\u001b[1;32m    309\u001b[0m         stacklevel\u001b[38;5;241m=\u001b[39mstacklevel,\n\u001b[1;32m    310\u001b[0m     )\n\u001b[0;32m--> 311\u001b[0m \u001b[38;5;28;01mreturn\u001b[39;00m \u001b[43mfunc\u001b[49m\u001b[43m(\u001b[49m\u001b[38;5;241;43m*\u001b[39;49m\u001b[43margs\u001b[49m\u001b[43m,\u001b[49m\u001b[43m \u001b[49m\u001b[38;5;241;43m*\u001b[39;49m\u001b[38;5;241;43m*\u001b[39;49m\u001b[43mkwargs\u001b[49m\u001b[43m)\u001b[49m\n",
      "File \u001b[0;32m~/opt/anaconda3/lib/python3.9/site-packages/pandas/core/frame.py:4954\u001b[0m, in \u001b[0;36mDataFrame.drop\u001b[0;34m(self, labels, axis, index, columns, level, inplace, errors)\u001b[0m\n\u001b[1;32m   4806\u001b[0m \u001b[38;5;129m@deprecate_nonkeyword_arguments\u001b[39m(version\u001b[38;5;241m=\u001b[39m\u001b[38;5;28;01mNone\u001b[39;00m, allowed_args\u001b[38;5;241m=\u001b[39m[\u001b[38;5;124m\"\u001b[39m\u001b[38;5;124mself\u001b[39m\u001b[38;5;124m\"\u001b[39m, \u001b[38;5;124m\"\u001b[39m\u001b[38;5;124mlabels\u001b[39m\u001b[38;5;124m\"\u001b[39m])\n\u001b[1;32m   4807\u001b[0m \u001b[38;5;28;01mdef\u001b[39;00m \u001b[38;5;21mdrop\u001b[39m(\n\u001b[1;32m   4808\u001b[0m     \u001b[38;5;28mself\u001b[39m,\n\u001b[0;32m   (...)\u001b[0m\n\u001b[1;32m   4815\u001b[0m     errors: \u001b[38;5;28mstr\u001b[39m \u001b[38;5;241m=\u001b[39m \u001b[38;5;124m\"\u001b[39m\u001b[38;5;124mraise\u001b[39m\u001b[38;5;124m\"\u001b[39m,\n\u001b[1;32m   4816\u001b[0m ):\n\u001b[1;32m   4817\u001b[0m     \u001b[38;5;124;03m\"\"\"\u001b[39;00m\n\u001b[1;32m   4818\u001b[0m \u001b[38;5;124;03m    Drop specified labels from rows or columns.\u001b[39;00m\n\u001b[1;32m   4819\u001b[0m \n\u001b[0;32m   (...)\u001b[0m\n\u001b[1;32m   4952\u001b[0m \u001b[38;5;124;03m            weight  1.0     0.8\u001b[39;00m\n\u001b[1;32m   4953\u001b[0m \u001b[38;5;124;03m    \"\"\"\u001b[39;00m\n\u001b[0;32m-> 4954\u001b[0m     \u001b[38;5;28;01mreturn\u001b[39;00m \u001b[38;5;28;43msuper\u001b[39;49m\u001b[43m(\u001b[49m\u001b[43m)\u001b[49m\u001b[38;5;241;43m.\u001b[39;49m\u001b[43mdrop\u001b[49m\u001b[43m(\u001b[49m\n\u001b[1;32m   4955\u001b[0m \u001b[43m        \u001b[49m\u001b[43mlabels\u001b[49m\u001b[38;5;241;43m=\u001b[39;49m\u001b[43mlabels\u001b[49m\u001b[43m,\u001b[49m\n\u001b[1;32m   4956\u001b[0m \u001b[43m        \u001b[49m\u001b[43maxis\u001b[49m\u001b[38;5;241;43m=\u001b[39;49m\u001b[43maxis\u001b[49m\u001b[43m,\u001b[49m\n\u001b[1;32m   4957\u001b[0m \u001b[43m        \u001b[49m\u001b[43mindex\u001b[49m\u001b[38;5;241;43m=\u001b[39;49m\u001b[43mindex\u001b[49m\u001b[43m,\u001b[49m\n\u001b[1;32m   4958\u001b[0m \u001b[43m        \u001b[49m\u001b[43mcolumns\u001b[49m\u001b[38;5;241;43m=\u001b[39;49m\u001b[43mcolumns\u001b[49m\u001b[43m,\u001b[49m\n\u001b[1;32m   4959\u001b[0m \u001b[43m        \u001b[49m\u001b[43mlevel\u001b[49m\u001b[38;5;241;43m=\u001b[39;49m\u001b[43mlevel\u001b[49m\u001b[43m,\u001b[49m\n\u001b[1;32m   4960\u001b[0m \u001b[43m        \u001b[49m\u001b[43minplace\u001b[49m\u001b[38;5;241;43m=\u001b[39;49m\u001b[43minplace\u001b[49m\u001b[43m,\u001b[49m\n\u001b[1;32m   4961\u001b[0m \u001b[43m        \u001b[49m\u001b[43merrors\u001b[49m\u001b[38;5;241;43m=\u001b[39;49m\u001b[43merrors\u001b[49m\u001b[43m,\u001b[49m\n\u001b[1;32m   4962\u001b[0m \u001b[43m    \u001b[49m\u001b[43m)\u001b[49m\n",
      "File \u001b[0;32m~/opt/anaconda3/lib/python3.9/site-packages/pandas/core/generic.py:4267\u001b[0m, in \u001b[0;36mNDFrame.drop\u001b[0;34m(self, labels, axis, index, columns, level, inplace, errors)\u001b[0m\n\u001b[1;32m   4265\u001b[0m \u001b[38;5;28;01mfor\u001b[39;00m axis, labels \u001b[38;5;129;01min\u001b[39;00m axes\u001b[38;5;241m.\u001b[39mitems():\n\u001b[1;32m   4266\u001b[0m     \u001b[38;5;28;01mif\u001b[39;00m labels \u001b[38;5;129;01mis\u001b[39;00m \u001b[38;5;129;01mnot\u001b[39;00m \u001b[38;5;28;01mNone\u001b[39;00m:\n\u001b[0;32m-> 4267\u001b[0m         obj \u001b[38;5;241m=\u001b[39m \u001b[43mobj\u001b[49m\u001b[38;5;241;43m.\u001b[39;49m\u001b[43m_drop_axis\u001b[49m\u001b[43m(\u001b[49m\u001b[43mlabels\u001b[49m\u001b[43m,\u001b[49m\u001b[43m \u001b[49m\u001b[43maxis\u001b[49m\u001b[43m,\u001b[49m\u001b[43m \u001b[49m\u001b[43mlevel\u001b[49m\u001b[38;5;241;43m=\u001b[39;49m\u001b[43mlevel\u001b[49m\u001b[43m,\u001b[49m\u001b[43m \u001b[49m\u001b[43merrors\u001b[49m\u001b[38;5;241;43m=\u001b[39;49m\u001b[43merrors\u001b[49m\u001b[43m)\u001b[49m\n\u001b[1;32m   4269\u001b[0m \u001b[38;5;28;01mif\u001b[39;00m inplace:\n\u001b[1;32m   4270\u001b[0m     \u001b[38;5;28mself\u001b[39m\u001b[38;5;241m.\u001b[39m_update_inplace(obj)\n",
      "File \u001b[0;32m~/opt/anaconda3/lib/python3.9/site-packages/pandas/core/generic.py:4311\u001b[0m, in \u001b[0;36mNDFrame._drop_axis\u001b[0;34m(self, labels, axis, level, errors, consolidate, only_slice)\u001b[0m\n\u001b[1;32m   4309\u001b[0m         new_axis \u001b[38;5;241m=\u001b[39m axis\u001b[38;5;241m.\u001b[39mdrop(labels, level\u001b[38;5;241m=\u001b[39mlevel, errors\u001b[38;5;241m=\u001b[39merrors)\n\u001b[1;32m   4310\u001b[0m     \u001b[38;5;28;01melse\u001b[39;00m:\n\u001b[0;32m-> 4311\u001b[0m         new_axis \u001b[38;5;241m=\u001b[39m \u001b[43maxis\u001b[49m\u001b[38;5;241;43m.\u001b[39;49m\u001b[43mdrop\u001b[49m\u001b[43m(\u001b[49m\u001b[43mlabels\u001b[49m\u001b[43m,\u001b[49m\u001b[43m \u001b[49m\u001b[43merrors\u001b[49m\u001b[38;5;241;43m=\u001b[39;49m\u001b[43merrors\u001b[49m\u001b[43m)\u001b[49m\n\u001b[1;32m   4312\u001b[0m     indexer \u001b[38;5;241m=\u001b[39m axis\u001b[38;5;241m.\u001b[39mget_indexer(new_axis)\n\u001b[1;32m   4314\u001b[0m \u001b[38;5;66;03m# Case for non-unique axis\u001b[39;00m\n\u001b[1;32m   4315\u001b[0m \u001b[38;5;28;01melse\u001b[39;00m:\n",
      "File \u001b[0;32m~/opt/anaconda3/lib/python3.9/site-packages/pandas/core/indexes/base.py:6644\u001b[0m, in \u001b[0;36mIndex.drop\u001b[0;34m(self, labels, errors)\u001b[0m\n\u001b[1;32m   6642\u001b[0m \u001b[38;5;28;01mif\u001b[39;00m mask\u001b[38;5;241m.\u001b[39many():\n\u001b[1;32m   6643\u001b[0m     \u001b[38;5;28;01mif\u001b[39;00m errors \u001b[38;5;241m!=\u001b[39m \u001b[38;5;124m\"\u001b[39m\u001b[38;5;124mignore\u001b[39m\u001b[38;5;124m\"\u001b[39m:\n\u001b[0;32m-> 6644\u001b[0m         \u001b[38;5;28;01mraise\u001b[39;00m \u001b[38;5;167;01mKeyError\u001b[39;00m(\u001b[38;5;124mf\u001b[39m\u001b[38;5;124m\"\u001b[39m\u001b[38;5;132;01m{\u001b[39;00m\u001b[38;5;28mlist\u001b[39m(labels[mask])\u001b[38;5;132;01m}\u001b[39;00m\u001b[38;5;124m not found in axis\u001b[39m\u001b[38;5;124m\"\u001b[39m)\n\u001b[1;32m   6645\u001b[0m     indexer \u001b[38;5;241m=\u001b[39m indexer[\u001b[38;5;241m~\u001b[39mmask]\n\u001b[1;32m   6646\u001b[0m \u001b[38;5;28;01mreturn\u001b[39;00m \u001b[38;5;28mself\u001b[39m\u001b[38;5;241m.\u001b[39mdelete(indexer)\n",
      "\u001b[0;31mKeyError\u001b[0m: \"['date', 'year', 'month', 'day'] not found in axis\""
     ]
    }
   ],
   "source": [
    "news_data.drop(columns=['date', 'year', 'month', 'day'], inplace=True)\n",
    "news_data.rename(columns={'author': 'Author', 'title':'Title', 'url':'Url', 'section':'Section', 'publication':'Publication', 'article': 'Article'}, inplace=True)"
   ]
  },
  {
   "cell_type": "code",
   "execution_count": 54,
   "metadata": {},
   "outputs": [
    {
     "data": {
      "text/plain": [
       "104713"
      ]
     },
     "execution_count": 54,
     "metadata": {},
     "output_type": "execute_result"
    }
   ],
   "source": [
    "news_data['Article'].isna().sum()"
   ]
  },
  {
   "cell_type": "code",
   "execution_count": 55,
   "metadata": {},
   "outputs": [],
   "source": [
    "news_data = news_data[news_data['Article'].notna()].copy()"
   ]
  },
  {
   "cell_type": "code",
   "execution_count": 56,
   "metadata": {},
   "outputs": [],
   "source": [
    "news_data['Article'] = news_data['Article'].apply(lambda x: x.replace(\"\\'\", \"\").replace(\"\\xa0\", \" \").replace(\"  \", \" \").replace(\"\\n\", \" \") if type(x) == str else float(\"nan\"))"
   ]
  },
  {
   "cell_type": "code",
   "execution_count": 12,
   "metadata": {},
   "outputs": [],
   "source": [
    "disaster_info['mentions_1'] = 0\n",
    "disaster_info['mentions_2'] = 0\n",
    "disaster_info['mentions_3'] = 0"
   ]
  },
  {
   "cell_type": "markdown",
   "metadata": {},
   "source": [
    "## Data Merging"
   ]
  },
  {
   "cell_type": "code",
   "execution_count": 14,
   "metadata": {},
   "outputs": [],
   "source": [
    "pre_margin, post_margin = 1, 7"
   ]
  },
  {
   "cell_type": "code",
   "execution_count": 15,
   "metadata": {},
   "outputs": [],
   "source": [
    "conv_dict = conv_dict = {'Cyclone Roanu': [['cyclone', 'roanu']],\n",
    "             'Cyclone Winston': [['cyclone', 'winston']], \n",
    "             'Fort McMurray wildfires': [['fort', 'wildfires'],['mcmurray', 'wildfires']], \n",
    "             'Typhoon Butchoy (Nepartak)': [['typhoon','butchoy'],['typhoon', 'nepartak']], \n",
    "             'Tropical cyclone Zena': [['cyclone', 'Zena']], \n",
    "             'Yarloop busfires': [['yarloop','busfires']], \n",
    "             \"Tropical storm 'Earl'\": [['storm','earl']], \n",
    "             'Cholera': [['cholera']], \n",
    "             'Hurricane Newton': [['hurricane', 'newton']], \n",
    "             'Typhoon Megi': [['typhoon', 'megi']], \n",
    "             \"Hurricane 'Matthew'\": [['hurricane', 'matthew']], \n",
    "             'Typhoon Ferdie (Meranti)': [['typhoon', 'ferdie'], ['typhoon', 'meranti']], \n",
    "             'Tropical storm Otto': [['storm', 'otto']], \n",
    "             'Storm Jonas (Snowzilla)': [['storm','jonas'], ['storm', 'snowzilla']], \n",
    "             'Cyclone Ulla': [['cyclone', 'ulla']], \n",
    "             'Sand Fire': [['sand', 'fire']], \n",
    "             'Clayton Fire': [['clayton', 'fire']], \n",
    "             'Storm Mirinae': [['storm', 'mirinae']], \n",
    "             'Dengue': [['dengue']], \n",
    "             'Yellow fever': [['yellow', 'fever']], \n",
    "             'Typhoon Karen (Sarika)': [['typhoon', 'karen'], ['typhoon', 'sarika']], \n",
    "             'Typhoon Lawin (Haima)': [['typhoon' ,'lawin'], ['typhoon', 'haima']], \n",
    "             'Tropical storm Dianmu': [['storm','dianmu']], \n",
    "             'Typhoon Carina (Nida)': [['typhoon','carina'], ['typhoon','nada']], \n",
    "             \"Tropical depression'16/Hurricane 'Nate'\": [['depression', 'nate'], ['hurricane', 'nate']], \n",
    "             \"Hurricane 'Maria'\": [['hurricane','Maria']], \n",
    "             'Sir Ivan fire': [['fire','Ivan']], \n",
    "             'Gustafsen, Wildwood, Elephant Hill Fires': [['fire','Gustafson'], ['fire','wildwood'], ['fire','elephant', 'hill']], \n",
    "             'Debbie': [['Debbie']], \n",
    "             \"Typhoon 'Hato'\": [['typhoon','hate']], \n",
    "             \"Hurricane 'Irma'\": [['hurricane','irma']], \n",
    "             'Cyclone Mora': [['cyclone','mora']], \n",
    "             'Diphteria': [['diphtheria']], \n",
    "             'Tropical Storm Talas': [['storm','talas']], \n",
    "             'Typhoon Nesat & Haitang': [['typhoon','nesat'], ['typhoon','haitang']], \n",
    "             \"Tropical storm 'Pakhar'/'Jolina'\": [['storm','pakhar'], ['storm','jolina']], \n",
    "             \"'Zeus'\": [['zeus']], 'Eleanor': [['eleanor']], \n",
    "             \"Tropical storm 'Alberto'\": [['storm','alberto']], \n",
    "             'Volcan de Fuego': [['volcan','fuego']], \n",
    "             \"Typhoon 'Maria' (Gardo)\": [['typhoon', 'maria'], ['typhoon', 'gardo']], \n",
    "             \"Typhoon 'Bebinca'\": [['typhoon', 'bebinca']], \n",
    "             'Tropical Storm Yagi': [['storm', 'yagi']], \n",
    "             'Tropical storm Rumbia': [['storm', 'rumbia']], \n",
    "             \"Cyclone 'Sagar'\": [['cyclone', 'sagar']], \n",
    "             \"Cyclone 'Josie'\": [['cyclone', 'josie']], \n",
    "             \"'Friederike' (David)\": [['friederike'], ['david']], \n",
    "             'Influenza': [['influenza']], \n",
    "             'Hepatitis E': [['hepatitis e']], \n",
    "             \"Tropical storm 'Ewiniar'\": [['storm', 'ewiniar']], \n",
    "             \"Tropical storm 'Ampil' (Inday)\": [['storm', 'ampil'], ['storm', 'inday']], \n",
    "             \"Typhoon 'Soulik'\": [['typhoon', 'soulik']], \n",
    "             'Typhoon Mangkut (Ompong)': [['typhoon', 'mangkut'], ['typhoon', 'ompong']], \n",
    "             'Hurricane Michael': [['hurricane', 'michael']], \n",
    "             \"Hurricane 'Beryl'\": [['hurricane', 'beryl']], \n",
    "             \"Tropical cyclone 'Keni'\": [['cyclone', 'keni']], \n",
    "             \"Storm 'Adrian'\": [['storm','adrian']], \n",
    "             \"Cyclone 'Kenneth'\": [['cyclone', 'kenneth']], \n",
    "             \"Cyclone 'Fani'\": [['cyclone', 'fani']], \n",
    "             \"Cyclone 'Wutip'\": [['cyclone', 'wutip']], \n",
    "             'Typhoon Chaba (Chyba?)': [['typhoon','chaba'], ['typhoon', 'chyba']], \n",
    "             'Tropical storm Mindulle': [['storm', 'mindulle']], \n",
    "             'Tropical storm Marce (Tokage)': [['storm','marce'],['storm','tokage']], \n",
    "             \"Cyclone 'Vardah'\": [['cyclone','vardah']], \n",
    "             'Typhoon Lionrock': [['typhoon','lionrock']], \n",
    "             'Typhoon Malakas': [['typhoon','malakas']], \n",
    "             'Typhoon Helen (Megi)': [['typhoon','helen']], \n",
    "             'Measles': [['measles']], 'Lassa fever': [['lassa', 'fever']], \n",
    "             \"Typhoon 'Nina' (Nock-Ten)\": [['typhoon','nina'], ['typhoon','nock-ten']], \n",
    "             \"Typhoon 'Lan'/'Paolo'\": [['typhoon','lan'], ['typhoon','paolo']], \n",
    "             \"Typhoon 'Talim'\": [['typhoon','talim']], \n",
    "             \"Cyclone 'Ockhi'\": [['cyclone','ockhi']], \n",
    "             'Beatriz': [['beatriz']], \n",
    "             \"Hurricane 'Franklin'\": [['hurricane','franklin']], \n",
    "             \"Typhoon 'Damrey' / 'Ramil'\": [['typhoon','damrey'], ['typhoon','ramil']], \n",
    "             \"Storm 'Tembin' (Vinta)\": [['storm','tembin'],['storm','vinta']], \n",
    "             \"Tropical storm 'Kai-Tak' (Urduja)\": [['storm','kai-tak'], ['storm','urduja']], \n",
    "             \"Cyclone 'Cempaka'\": [['cyclone','cempaka']], \n",
    "             'Hurricane Katia': [['hurricane','katia']], \n",
    "             \"Typhoon 'Doksuri'\": [['typhoon','doksuri']], \n",
    "             \"Cyclone 'Enawo'\": [['cyclone','enawo']], \n",
    "             \"Tropical storm 'Lidia'\": [['storm','lidia']], \n",
    "             \"Cyclone 'Dineo'\": [['cyclone','dineo']], \n",
    "             'Mt. Agung': [['mt. agung'],['mount agung']], \n",
    "             \"Typhoon 'Noru'\": [['typhoon','noru']], \n",
    "             'Marburg': [['marburg']], \n",
    "             'Chikungunya': [['chikungunya']], \n",
    "             'Plague': [['plague']], \n",
    "             'Meningitis': [['meningitis']], \n",
    "             'Hepatitis E Virus': [['hepatitis e']], \n",
    "             'Tropical depression 02W (Crising)': [['depression','crising']], \n",
    "             'Influenza A': [['influenza a']], \n",
    "             \"Cyclone 'Ava'\": [['cyclone','ava']], \n",
    "             \"Tropical storm 'Basyang' (Sanba)\": [['storm','basyang'], ['storm','sanba']], \n",
    "             \"Tropical depression 'Usman'\": [['depression','usman']], \n",
    "             \"Tropical storm 'Titli'\": [['storm','titli']], \n",
    "             \"Typhoon 'Yutu' (Rosita)\": [['typhoon', 'yutu'], ['typhoon', 'rosita']], \n",
    "             'Anak Krakatoa': [['anak'], ['krakatoa']], \n",
    "             'Mount Etna': [['mount', 'etna'], ['etna']], \n",
    "             'Typhoon Jebi': [['typhoon', 'jebi']], \n",
    "             'Typhoon Trami': [['typhoon', 'trami']], \n",
    "             \"Tyhoon 'Son Tinh'\": [['typhoon', 'son', 'tinh']], \n",
    "             \"Tropical storm 'Eliakim'\": [['storm', 'eliakim']], \n",
    "             \"Tropical storm 'Vicente'\": [['storm', 'vicente']], \n",
    "             \"Tropical storm 'Berguitta'\": [['storm', 'berguitta']], \n",
    "             \"Cyclone 'Mekunu'\": [['cyclone', 'mekunu']], \n",
    "             \"Cyclone 'Luban'\": [['cyclone', 'luban']], \n",
    "             \"Cyclone 'Gaja'\": [['cyclone', 'gaja']], \n",
    "             \"Tropical storm 'Phethai'\": [['storm', 'pethai']], \n",
    "             \"Typhoon 'Kong-Rey'\": [['typhoon', 'kong-rey']], \n",
    "             'Hurricane Willa': [['hurricane', 'willa']], \n",
    "             \"Tropical cyclone 'Penny'\": [['cyclone', 'penny']], \n",
    "             'Mt. Mayon': [['mt.', 'mayon'], ['mount', 'mayon']], \n",
    "             'Agaton (01W)': [['agaton']], \n",
    "             \"Storm 'Leslie'\": [['storm', 'leslie']], \n",
    "             \"Storm 'Norma'\": [['storm', 'norma']], \n",
    "             \"Cyclone 'Idai'\": [['cyclone', 'idai']], \n",
    "             'Acute Encephalitis Syndrome (AES)': [['acute', 'encephalitis', 'syndrome']], \n",
    "             \"Tropical depression 'Amang' (01W)\": [['depression', 'amang']], \n",
    "             'Mount Ulawun and Manam': [['mount', 'ulawun', 'manam'], ['mount', 'ulawun'], ['mount', 'manam']], \n",
    "             'Hurricane Hermine': [['hurricane', 'hermine']], \n",
    "             'Tropical storm Aere': [['storm', 'aere']], \n",
    "             'Hurricane Harvey': [['hurricane', 'harvey']], \n",
    "             'Acute Watery Diarrhoea': [['acute', 'watery', 'diarrhea'], ['acute', 'watery', 'diarrhoea']], \n",
    "             'Wall Fire, Alamo Fire, Whittier Fire': [['wall', 'fire'], ['Alamo', 'fire'], ['Whittier', 'fire']], \n",
    "             'Tubbs, Atlas, Nuns Fires': [['tubes', 'atlas', 'nuns', 'fires'], ['tubes', 'nuns', 'fires'], ['nuns', 'fires'], ['tubes', 'fires']], \n",
    "             \"'Thomas'\": [['thomas']], \n",
    "             'Mt Monaro': [['mt', 'monaro'], ['mount', 'monaro']], \n",
    "             \"Tropical cyclone 'Donna'\": [['cyclone', 'donna']], \n",
    "             'Knysna fire': [['knysna', 'fire']], 'Kilauea': [['kilauea']], \n",
    "             'Ambryn': [['ambryn']], \n",
    "             'Carr and Mendocino Complex fires': [['carr', 'mendocino', 'fires']], \n",
    "             'Cyclone Gita': [['cyclone', 'gita']], 'Hurricane Florence': [['hurricane', 'florence']], \n",
    "             'Camp Fire': [['camp', 'fire']], 'Woolsey Fire': [['woolsey', 'fire']], \n",
    "             \"Tropical depression 'Toraji'\": [['depression', 'toraji']], \n",
    "             'Ebola': [['ebola']], \n",
    "             'Typhoid fever': [['typhoid', 'fever']], \n",
    "             'Currowan': [['currowan']], \n",
    "             'Tropical cyclone Lekima (Hanna)': [['cyclone', 'lekima'], ['cyclone', 'hanna']], \n",
    "             'FL-2019-000131': [['fl-2019-000131']], \n",
    "             \"Tropical cylone 'Pabuk'\": [['cyclone', 'pabuk']], \n",
    "             \"Tropical cyclone 'Bulbul'\": [['cyclone', 'bulbul']], \n",
    "             \"Tropical cyclone 'Dorian'\": [['cyclone', 'dorian']], \n",
    "             'Ubinas': [['ubinas']], \n",
    "             \"Tropical cyclone 'Lingling'\": [['cyclone', 'lingling']], \n",
    "             \"Tropical cyclone 'Mitag'\": [['cyclone', 'mitag']], \n",
    "             \"Cyclone 'Belna'\": [['cyclone', 'belna']], \n",
    "             \"Storm 'Ciara' (Sabine)\": [['storm', 'ciara'], ['storm', 'sabine']], \n",
    "             \"Storm 'Amelie'\": [['storm', 'amelie']], \n",
    "             \"Tropical cylone 'Hagibis'\": [['cyclone', 'hagibis']], \n",
    "             \"Tropical cyclone 'Lorena'\": [['cyclone', 'lorena']], \n",
    "             \"Tropical storm 'Fernand'\": [['storm', 'fernand']], \n",
    "             'Elsa, Fabien': [['elsa'], ['fabien']], \n",
    "             \"Tropical cyclone 'Sarai'\": [['cyclone', 'sarai']], \n",
    "             \"Tropical storm 'Tapah'\": [['storm', 'tapah']], \n",
    "             \"Typhoon 'Faxai'\": [['typhoon', 'faxai']], \n",
    "             \"Tropical storm 'Narda'\": [['storm', 'narda']], \n",
    "             'Whakaari/White Island volcano': [['whakaari', 'volcano'], ['white', 'island', 'volcano']], \n",
    "             \"Cyclone 'Herold'\": [['cyclone', 'herold']], \n",
    "             \"'Gloria'\": [['gloria']], \n",
    "             \"Cyclone 'Tino'\": [['cyclone', 'tino']], \n",
    "             \"Tropical cyclone 'Kalmaegi' (Ramon)\": [['cyclone', 'kalmaegi'], ['cyclone', 'ramon']], \n",
    "             \"Tropical cyclone 'Phanfone' (Ursula)\": [['cyclone', 'phanfone'], ['cyclone', 'ursula']], \n",
    "             \"Tropical Storm 'Pawan'\": [['storm', 'pawan']], \n",
    "             \"Typhoon 'Matmo'\": [['typhoon', 'matmo']], \n",
    "             \"Tropical storm ' Imelda'\": [['storm', 'imelda']], \n",
    "             \"Tropical cyclone 'Nakri'\": [['cyclone', 'nakri']], \n",
    "             \"Tropical cyclone 'Danas'\": [['cyclone', 'danas']], \n",
    "             \"Tropical cyclone 'Podul'\": [['cyclone', 'podul']], \n",
    "             \"Tropical cyclone 'Kammuri' (Tisoy)\": [['cyclone', 'kammuri'], ['cyclone', 'tisoy']], \n",
    "             \"Tropical cylone 'Barry'\": [['cyclone', 'barry']], \n",
    "             'Saddleridge fire & Sandalwood fire': [['saddleridge', 'fire'], ['sandalwood', 'fire']], \n",
    "             'Kincade Fire': [['kincade', 'fire']], 'Taal volcano': [['taal', 'volcano']]}"
   ]
  },
  {
   "cell_type": "code",
   "execution_count": 59,
   "metadata": {
    "scrolled": false
   },
   "outputs": [
    {
     "name": "stderr",
     "output_type": "stream",
     "text": [
      "  0%|                                      | 1/1517 [03:13<81:34:25, 193.71s/it]"
     ]
    },
    {
     "name": "stdout",
     "output_type": "stream",
     "text": [
      "c1: 4, c2: 0, c3: 0\n",
      "Cyclone Roanu 2016-05-21 00:00:00\n",
      "\n"
     ]
    },
    {
     "name": "stderr",
     "output_type": "stream",
     "text": [
      "\r",
      "  0%|                                       | 2/1517 [03:22<35:41:00, 84.79s/it]"
     ]
    },
    {
     "name": "stdout",
     "output_type": "stream",
     "text": [
      "c1: 0, c2: 5, c3: 71\n",
      "nan 2016-04-16 00:00:00\n",
      "\n"
     ]
    },
    {
     "name": "stderr",
     "output_type": "stream",
     "text": [
      "\r",
      "  0%|                                       | 3/1517 [04:50<36:21:28, 86.45s/it]"
     ]
    },
    {
     "name": "stdout",
     "output_type": "stream",
     "text": [
      "c1: 0, c2: 0, c3: 21\n",
      "nan 2016-03-19 00:00:00\n",
      "\n"
     ]
    },
    {
     "name": "stderr",
     "output_type": "stream",
     "text": [
      "\r",
      "  0%|                                       | 4/1517 [05:09<25:02:40, 59.59s/it]"
     ]
    },
    {
     "name": "stdout",
     "output_type": "stream",
     "text": [
      "c1: 0, c2: 0, c3: 49\n",
      "nan 2016-04-20 00:00:00\n",
      "\n"
     ]
    },
    {
     "name": "stderr",
     "output_type": "stream",
     "text": [
      "\r",
      "  0%|▏                                      | 5/1517 [05:20<17:48:10, 42.39s/it]"
     ]
    },
    {
     "name": "stdout",
     "output_type": "stream",
     "text": [
      "c1: 23, c2: 24, c3: 0\n",
      "Cyclone Winston 2016-02-20 00:00:00\n",
      "\n"
     ]
    },
    {
     "name": "stderr",
     "output_type": "stream",
     "text": [
      "\r",
      "  0%|▏                                      | 6/1517 [05:32<13:27:08, 32.05s/it]"
     ]
    },
    {
     "name": "stdout",
     "output_type": "stream",
     "text": [
      "c1: 0, c2: 0, c3: 9\n",
      "nan 2016-04-02 00:00:00\n",
      "\n"
     ]
    },
    {
     "name": "stderr",
     "output_type": "stream",
     "text": [
      "\r",
      "  0%|▏                                      | 7/1517 [05:43<10:33:08, 25.16s/it]"
     ]
    },
    {
     "name": "stdout",
     "output_type": "stream",
     "text": [
      "c1: 0, c2: 0, c3: 3\n",
      "nan 2016-05-09 00:00:00\n",
      "\n"
     ]
    },
    {
     "name": "stderr",
     "output_type": "stream",
     "text": [
      "  1%|▏                                       | 9/1517 [06:06<7:22:01, 17.59s/it]"
     ]
    },
    {
     "name": "stdout",
     "output_type": "stream",
     "text": [
      "c1: 0, c2: 0, c3: 16\n",
      "nan 2016-03-10 00:00:00\n",
      "\n"
     ]
    },
    {
     "name": "stderr",
     "output_type": "stream",
     "text": [
      "\r",
      "  1%|▎                                      | 10/1517 [06:31<8:20:24, 19.92s/it]"
     ]
    },
    {
     "name": "stdout",
     "output_type": "stream",
     "text": [
      "c1: 0, c2: 5, c3: 72\n",
      "nan 2016-06-28 00:00:00\n",
      "\n"
     ]
    },
    {
     "name": "stderr",
     "output_type": "stream",
     "text": [
      "\r",
      "  1%|▎                                      | 11/1517 [06:40<6:49:56, 16.33s/it]"
     ]
    },
    {
     "name": "stdout",
     "output_type": "stream",
     "text": [
      "c1: 0, c2: 0, c3: 2\n",
      "nan 2016-01-24 00:00:00\n",
      "\n"
     ]
    },
    {
     "name": "stderr",
     "output_type": "stream",
     "text": [
      "\r",
      "  1%|▎                                      | 12/1517 [06:50<6:04:18, 14.52s/it]"
     ]
    },
    {
     "name": "stdout",
     "output_type": "stream",
     "text": [
      "c1: 0, c2: 1, c3: 4\n",
      "nan 2016-04-02 00:00:00\n",
      "\n"
     ]
    },
    {
     "name": "stderr",
     "output_type": "stream",
     "text": [
      "\r",
      "  1%|▎                                      | 13/1517 [07:06<6:15:14, 14.97s/it]"
     ]
    },
    {
     "name": "stdout",
     "output_type": "stream",
     "text": [
      "c1: 0, c2: 0, c3: 4\n",
      "nan 2016-05-09 00:00:00\n",
      "\n"
     ]
    },
    {
     "name": "stderr",
     "output_type": "stream",
     "text": [
      "\r",
      "  1%|▎                                      | 14/1517 [07:12<5:04:58, 12.17s/it]"
     ]
    },
    {
     "name": "stdout",
     "output_type": "stream",
     "text": [
      "c1: 0, c2: 0, c3: 1\n",
      "nan 2016-04-23 00:00:00\n",
      "\n"
     ]
    },
    {
     "name": "stderr",
     "output_type": "stream",
     "text": [
      "\r",
      "  1%|▍                                     | 15/1517 [08:22<12:26:19, 29.81s/it]"
     ]
    },
    {
     "name": "stdout",
     "output_type": "stream",
     "text": [
      "c1: 142, c2: 3, c3: 273\n",
      "Fort McMurray wildfires 2016-05-01 00:00:00\n",
      "\n"
     ]
    },
    {
     "name": "stderr",
     "output_type": "stream",
     "text": [
      "\r",
      "  1%|▍                                      | 16/1517 [08:31<9:47:15, 23.47s/it]"
     ]
    },
    {
     "name": "stdout",
     "output_type": "stream",
     "text": [
      "c1: 0, c2: 1, c3: 38\n",
      "nan 2016-04-24 00:00:00\n",
      "\n"
     ]
    },
    {
     "name": "stderr",
     "output_type": "stream",
     "text": [
      "\r",
      "  1%|▍                                      | 17/1517 [08:43<8:19:10, 19.97s/it]"
     ]
    },
    {
     "name": "stdout",
     "output_type": "stream",
     "text": [
      "c1: 0, c2: 0, c3: 10\n",
      "nan 2016-06-02 00:00:00\n",
      "\n"
     ]
    },
    {
     "name": "stderr",
     "output_type": "stream",
     "text": [
      "\r",
      "  1%|▍                                      | 18/1517 [08:48<6:28:52, 15.57s/it]"
     ]
    },
    {
     "name": "stdout",
     "output_type": "stream",
     "text": [
      "c1: 0, c2: 8, c3: 13\n",
      "nan 2016-06-04 00:00:00\n",
      "\n"
     ]
    },
    {
     "name": "stderr",
     "output_type": "stream",
     "text": [
      "\r",
      "  1%|▍                                      | 19/1517 [08:57<5:34:33, 13.40s/it]"
     ]
    },
    {
     "name": "stdout",
     "output_type": "stream",
     "text": [
      "c1: 0, c2: 2, c3: 4\n",
      "nan 2016-06-23 00:00:00\n",
      "\n"
     ]
    },
    {
     "name": "stderr",
     "output_type": "stream",
     "text": [
      "\r",
      "  1%|▌                                      | 20/1517 [09:03<4:43:52, 11.38s/it]"
     ]
    },
    {
     "name": "stdout",
     "output_type": "stream",
     "text": [
      "c1: 5, c2: 0, c3: 22\n",
      "Typhoon Butchoy (Nepartak) 2016-07-09 00:00:00\n",
      "\n"
     ]
    },
    {
     "name": "stderr",
     "output_type": "stream",
     "text": [
      "\r",
      "  1%|▌                                      | 21/1517 [09:18<5:04:15, 12.20s/it]"
     ]
    },
    {
     "name": "stdout",
     "output_type": "stream",
     "text": [
      "c1: 0, c2: 0, c3: 16\n",
      "nan 2016-05-04 00:00:00\n",
      "\n"
     ]
    },
    {
     "name": "stderr",
     "output_type": "stream",
     "text": [
      "\r",
      "  1%|▌                                      | 22/1517 [09:27<4:41:40, 11.30s/it]"
     ]
    },
    {
     "name": "stdout",
     "output_type": "stream",
     "text": [
      "c1: 0, c2: 41, c3: 1\n",
      "Tropical cyclone Zena 2016-04-04 00:00:00\n",
      "\n"
     ]
    },
    {
     "name": "stderr",
     "output_type": "stream",
     "text": [
      "\r",
      "  2%|▌                                      | 23/1517 [09:32<3:56:45,  9.51s/it]"
     ]
    },
    {
     "name": "stdout",
     "output_type": "stream",
     "text": [
      "c1: 0, c2: 0, c3: 2\n",
      "nan 2016-05-02 00:00:00\n",
      "\n"
     ]
    },
    {
     "name": "stderr",
     "output_type": "stream",
     "text": [
      "\r",
      "  2%|▌                                      | 24/1517 [09:45<4:24:59, 10.65s/it]"
     ]
    },
    {
     "name": "stdout",
     "output_type": "stream",
     "text": [
      "c1: 0, c2: 5, c3: 5\n",
      "nan 2016-05-13 00:00:00\n",
      "\n"
     ]
    },
    {
     "name": "stderr",
     "output_type": "stream",
     "text": [
      "\r",
      "  2%|▋                                      | 25/1517 [09:57<4:32:01, 10.94s/it]"
     ]
    },
    {
     "name": "stdout",
     "output_type": "stream",
     "text": [
      "c1: 0, c2: 39, c3: 47\n",
      "nan 2016-05-31 00:00:00\n",
      "\n"
     ]
    },
    {
     "name": "stderr",
     "output_type": "stream",
     "text": [
      "  2%|▋                                      | 27/1517 [10:09<3:30:36,  8.48s/it]"
     ]
    },
    {
     "name": "stdout",
     "output_type": "stream",
     "text": [
      "c1: 0, c2: 0, c3: 3\n",
      "nan 2016-04-16 00:00:00\n",
      "\n"
     ]
    },
    {
     "name": "stderr",
     "output_type": "stream",
     "text": [
      "\r",
      "  2%|▋                                      | 28/1517 [10:16<3:21:05,  8.10s/it]"
     ]
    },
    {
     "name": "stdout",
     "output_type": "stream",
     "text": [
      "c1: 0, c2: 0, c3: 2\n",
      "nan 2016-07-19 00:00:00\n",
      "\n"
     ]
    },
    {
     "name": "stderr",
     "output_type": "stream",
     "text": [
      "\r",
      "  2%|▋                                      | 29/1517 [10:23<3:07:21,  7.55s/it]"
     ]
    },
    {
     "name": "stdout",
     "output_type": "stream",
     "text": [
      "c1: 0, c2: 0, c3: 2\n",
      "nan 2016-02-29 00:00:00\n",
      "\n"
     ]
    },
    {
     "name": "stderr",
     "output_type": "stream",
     "text": [
      "\r",
      "  2%|▊                                      | 30/1517 [10:30<3:07:31,  7.57s/it]"
     ]
    },
    {
     "name": "stdout",
     "output_type": "stream",
     "text": [
      "c1: 0, c2: 0, c3: 1\n",
      "nan 2016-03-03 00:00:00\n",
      "\n"
     ]
    },
    {
     "name": "stderr",
     "output_type": "stream",
     "text": [
      "\r",
      "  2%|▊                                      | 31/1517 [10:44<3:51:22,  9.34s/it]"
     ]
    },
    {
     "name": "stdout",
     "output_type": "stream",
     "text": [
      "c1: 0, c2: 7, c3: 0\n",
      "nan 2016-04-16 00:00:00\n",
      "\n"
     ]
    },
    {
     "name": "stderr",
     "output_type": "stream",
     "text": [
      "\r",
      "  2%|▊                                      | 32/1517 [10:56<4:10:52, 10.14s/it]"
     ]
    },
    {
     "name": "stdout",
     "output_type": "stream",
     "text": [
      "c1: 0, c2: 0, c3: 3\n",
      "nan 2016-03-01 00:00:00\n",
      "\n"
     ]
    },
    {
     "name": "stderr",
     "output_type": "stream",
     "text": [
      "\r",
      "  2%|▊                                      | 33/1517 [11:12<4:59:57, 12.13s/it]"
     ]
    },
    {
     "name": "stdout",
     "output_type": "stream",
     "text": [
      "c1: 0, c2: 3, c3: 1\n",
      "nan 2016-04-04 00:00:00\n",
      "\n"
     ]
    },
    {
     "name": "stderr",
     "output_type": "stream",
     "text": [
      "\r",
      "  2%|▊                                      | 34/1517 [11:28<5:27:24, 13.25s/it]"
     ]
    },
    {
     "name": "stdout",
     "output_type": "stream",
     "text": [
      "c1: 0, c2: 6, c3: 1\n",
      "Yarloop busfires 2016-01-05 00:00:00\n",
      "\n"
     ]
    },
    {
     "name": "stderr",
     "output_type": "stream",
     "text": [
      "\r",
      "  2%|▉                                      | 35/1517 [11:37<4:54:12, 11.91s/it]"
     ]
    },
    {
     "name": "stdout",
     "output_type": "stream",
     "text": [
      "c1: 0, c2: 0, c3: 5\n",
      "nan 2016-06-01 00:00:00\n",
      "\n"
     ]
    },
    {
     "name": "stderr",
     "output_type": "stream",
     "text": [
      "\r",
      "  2%|▉                                      | 36/1517 [11:50<5:01:43, 12.22s/it]"
     ]
    },
    {
     "name": "stdout",
     "output_type": "stream",
     "text": [
      "c1: 0, c2: 0, c3: 5\n",
      "nan 2016-06-02 00:00:00\n",
      "\n"
     ]
    },
    {
     "name": "stderr",
     "output_type": "stream",
     "text": [
      "\r",
      "  2%|▉                                      | 37/1517 [12:29<8:15:33, 20.09s/it]"
     ]
    },
    {
     "name": "stdout",
     "output_type": "stream",
     "text": [
      "c1: 0, c2: 663, c3: 0\n",
      "nan 2016-06-21 00:00:00\n",
      "\n"
     ]
    },
    {
     "name": "stderr",
     "output_type": "stream",
     "text": [
      "\r",
      "  3%|▉                                      | 38/1517 [12:34<6:27:51, 15.73s/it]"
     ]
    },
    {
     "name": "stdout",
     "output_type": "stream",
     "text": [
      "c1: 0, c2: 2, c3: 2\n",
      "nan 2016-01-03 00:00:00\n",
      "\n"
     ]
    },
    {
     "name": "stderr",
     "output_type": "stream",
     "text": [
      "\r",
      "  3%|█                                      | 39/1517 [12:57<7:21:19, 17.92s/it]"
     ]
    },
    {
     "name": "stdout",
     "output_type": "stream",
     "text": [
      "c1: 0, c2: 0, c3: 7\n",
      "nan 2016-07-19 00:00:00\n",
      "\n"
     ]
    },
    {
     "name": "stderr",
     "output_type": "stream",
     "text": [
      "\r",
      "  3%|█                                      | 40/1517 [13:04<5:59:24, 14.60s/it]"
     ]
    },
    {
     "name": "stdout",
     "output_type": "stream",
     "text": [
      "c1: 119, c2: 0, c3: 0\n",
      "Tropical storm 'Earl' 2016-08-04 00:00:00\n",
      "\n"
     ]
    },
    {
     "name": "stderr",
     "output_type": "stream",
     "text": [
      "\r",
      "  3%|█                                      | 41/1517 [13:15<5:35:42, 13.65s/it]"
     ]
    },
    {
     "name": "stdout",
     "output_type": "stream",
     "text": [
      "c1: 0, c2: 0, c3: 15\n",
      "nan 2016-01-09 00:00:00\n",
      "\n"
     ]
    },
    {
     "name": "stderr",
     "output_type": "stream",
     "text": [
      "\r",
      "  3%|█                                     | 42/1517 [14:39<14:15:07, 34.78s/it]"
     ]
    },
    {
     "name": "stdout",
     "output_type": "stream",
     "text": [
      "c1: 62, c2: 0, c3: 0\n",
      "Cholera 2016-07-05 00:00:00\n",
      "\n"
     ]
    },
    {
     "name": "stderr",
     "output_type": "stream",
     "text": [
      "\r",
      "  3%|█                                     | 43/1517 [14:51<11:24:49, 27.88s/it]"
     ]
    },
    {
     "name": "stdout",
     "output_type": "stream",
     "text": [
      "c1: 0, c2: 0, c3: 8\n",
      "nan 2016-06-14 00:00:00\n",
      "\n"
     ]
    },
    {
     "name": "stderr",
     "output_type": "stream",
     "text": [
      "\r",
      "  3%|█▏                                     | 44/1517 [14:57<8:42:50, 21.30s/it]"
     ]
    },
    {
     "name": "stdout",
     "output_type": "stream",
     "text": [
      "c1: 0, c2: 0, c3: 8\n",
      "nan 2016-04-15 00:00:00\n",
      "\n"
     ]
    },
    {
     "name": "stderr",
     "output_type": "stream",
     "text": [
      "\r",
      "  3%|█▏                                     | 45/1517 [15:03<6:45:19, 16.52s/it]"
     ]
    },
    {
     "name": "stdout",
     "output_type": "stream",
     "text": [
      "c1: 0, c2: 0, c3: 20\n",
      "nan 2016-06-24 00:00:00\n",
      "\n"
     ]
    },
    {
     "name": "stderr",
     "output_type": "stream",
     "text": [
      "\r",
      "  3%|█▏                                     | 46/1517 [15:11<5:43:20, 14.00s/it]"
     ]
    },
    {
     "name": "stdout",
     "output_type": "stream",
     "text": [
      "c1: 0, c2: 0, c3: 33\n",
      "nan 2016-01-26 00:00:00\n",
      "\n"
     ]
    },
    {
     "name": "stderr",
     "output_type": "stream",
     "text": [
      "\r",
      "  3%|█▏                                     | 47/1517 [15:21<5:12:28, 12.75s/it]"
     ]
    },
    {
     "name": "stdout",
     "output_type": "stream",
     "text": [
      "c1: 0, c2: 0, c3: 28\n",
      "nan 2016-05-18 00:00:00\n",
      "\n"
     ]
    },
    {
     "name": "stderr",
     "output_type": "stream",
     "text": [
      "\r",
      "  3%|█▏                                     | 48/1517 [15:25<4:09:01, 10.17s/it]"
     ]
    },
    {
     "name": "stdout",
     "output_type": "stream",
     "text": [
      "c1: 0, c2: 0, c3: 11\n",
      "nan 2016-07-01 00:00:00\n",
      "\n"
     ]
    },
    {
     "name": "stderr",
     "output_type": "stream",
     "text": [
      "\r",
      "  3%|█▎                                     | 49/1517 [15:29<3:26:47,  8.45s/it]"
     ]
    },
    {
     "name": "stdout",
     "output_type": "stream",
     "text": [
      "c1: 0, c2: 0, c3: 12\n",
      "nan 2016-07-07 00:00:00\n",
      "\n"
     ]
    },
    {
     "name": "stderr",
     "output_type": "stream",
     "text": [
      "\r",
      "  3%|█▎                                     | 50/1517 [15:39<3:40:28,  9.02s/it]"
     ]
    },
    {
     "name": "stdout",
     "output_type": "stream",
     "text": [
      "c1: 0, c2: 4, c3: 36\n",
      "nan 2016-06-16 00:00:00\n",
      "\n"
     ]
    },
    {
     "name": "stderr",
     "output_type": "stream",
     "text": [
      "\r",
      "  3%|█▎                                     | 51/1517 [15:53<4:10:34, 10.26s/it]"
     ]
    },
    {
     "name": "stdout",
     "output_type": "stream",
     "text": [
      "c1: 0, c2: 0, c3: 1\n",
      "nan 2016-01-20 00:00:00\n",
      "\n"
     ]
    },
    {
     "name": "stderr",
     "output_type": "stream",
     "text": [
      "\r",
      "  3%|█▎                                     | 52/1517 [16:03<4:08:54, 10.19s/it]"
     ]
    },
    {
     "name": "stdout",
     "output_type": "stream",
     "text": [
      "c1: 0, c2: 0, c3: 42\n",
      "nan 2016-05-21 00:00:00\n",
      "\n"
     ]
    },
    {
     "name": "stderr",
     "output_type": "stream",
     "text": [
      "\r",
      "  3%|█▎                                     | 53/1517 [16:14<4:19:39, 10.64s/it]"
     ]
    },
    {
     "name": "stdout",
     "output_type": "stream",
     "text": [
      "c1: 0, c2: 0, c3: 24\n",
      "nan 2016-06-09 00:00:00\n",
      "\n"
     ]
    },
    {
     "name": "stderr",
     "output_type": "stream",
     "text": [
      "\r",
      "  4%|█▍                                     | 54/1517 [16:25<4:21:30, 10.73s/it]"
     ]
    },
    {
     "name": "stdout",
     "output_type": "stream",
     "text": [
      "c1: 0, c2: 0, c3: 24\n",
      "nan 2016-06-18 00:00:00\n",
      "\n"
     ]
    },
    {
     "name": "stderr",
     "output_type": "stream",
     "text": [
      "\r",
      "  4%|█▍                                     | 55/1517 [16:36<4:22:38, 10.78s/it]"
     ]
    },
    {
     "name": "stdout",
     "output_type": "stream",
     "text": [
      "c1: 0, c2: 0, c3: 32\n",
      "nan 2016-06-23 00:00:00\n",
      "\n"
     ]
    },
    {
     "name": "stderr",
     "output_type": "stream",
     "text": [
      "\r",
      "  4%|█▍                                     | 56/1517 [16:49<4:35:41, 11.32s/it]"
     ]
    },
    {
     "name": "stdout",
     "output_type": "stream",
     "text": [
      "c1: 0, c2: 1, c3: 47\n",
      "nan 2016-07-18 00:00:00\n",
      "\n"
     ]
    },
    {
     "name": "stderr",
     "output_type": "stream",
     "text": [
      "\r",
      "  4%|█▍                                     | 57/1517 [16:59<4:28:52, 11.05s/it]"
     ]
    },
    {
     "name": "stdout",
     "output_type": "stream",
     "text": [
      "c1: 0, c2: 7, c3: 34\n",
      "nan 2016-05-31 00:00:00\n",
      "\n"
     ]
    },
    {
     "name": "stderr",
     "output_type": "stream",
     "text": [
      "  4%|█▌                                     | 59/1517 [17:09<3:12:28,  7.92s/it]"
     ]
    },
    {
     "name": "stdout",
     "output_type": "stream",
     "text": [
      "c1: 0, c2: 0, c3: 6\n",
      "nan 2016-05-18 00:00:00\n",
      "\n"
     ]
    },
    {
     "name": "stderr",
     "output_type": "stream",
     "text": [
      "\r",
      "  4%|█▌                                     | 60/1517 [17:32<5:03:01, 12.48s/it]"
     ]
    },
    {
     "name": "stdout",
     "output_type": "stream",
     "text": [
      "c1: 0, c2: 1, c3: 3\n",
      "nan 2016-01-01 00:00:00\n",
      "\n"
     ]
    },
    {
     "name": "stderr",
     "output_type": "stream",
     "text": [
      "  4%|█▌                                     | 63/1517 [17:50<3:16:04,  8.09s/it]"
     ]
    },
    {
     "name": "stdout",
     "output_type": "stream",
     "text": [
      "c1: 107, c2: 0, c3: 0\n",
      "Tropical storm 'Earl' 2016-08-06 00:00:00\n",
      "\n"
     ]
    },
    {
     "name": "stderr",
     "output_type": "stream",
     "text": [
      "\r",
      "  4%|█▋                                     | 64/1517 [17:56<2:58:03,  7.35s/it]"
     ]
    },
    {
     "name": "stdout",
     "output_type": "stream",
     "text": [
      "c1: 107, c2: 1, c3: 1\n",
      "Tropical storm 'Earl' 2016-08-06 00:00:00\n",
      "\n"
     ]
    },
    {
     "name": "stderr",
     "output_type": "stream",
     "text": [
      "\r",
      "  4%|█▋                                     | 65/1517 [18:03<2:57:44,  7.34s/it]"
     ]
    },
    {
     "name": "stdout",
     "output_type": "stream",
     "text": [
      "c1: 0, c2: 19, c3: 0\n",
      "nan 2016-04-21 00:00:00\n",
      "\n"
     ]
    },
    {
     "name": "stderr",
     "output_type": "stream",
     "text": [
      "  4%|█▋                                     | 68/1517 [18:24<2:44:16,  6.80s/it]"
     ]
    },
    {
     "name": "stdout",
     "output_type": "stream",
     "text": [
      "c1: 113, c2: 0, c3: 6\n",
      "Tropical storm 'Earl' 2016-08-06 00:00:00\n",
      "\n"
     ]
    },
    {
     "name": "stderr",
     "output_type": "stream",
     "text": [
      "  5%|█▊                                     | 71/1517 [18:44<2:46:18,  6.90s/it]"
     ]
    },
    {
     "name": "stdout",
     "output_type": "stream",
     "text": [
      "c1: 0, c2: 0, c3: 2\n",
      "nan 2016-05-26 00:00:00\n",
      "\n"
     ]
    },
    {
     "name": "stderr",
     "output_type": "stream",
     "text": [
      "\r",
      "  5%|█▊                                     | 72/1517 [18:56<3:26:13,  8.56s/it]"
     ]
    },
    {
     "name": "stdout",
     "output_type": "stream",
     "text": [
      "c1: 0, c2: 0, c3: 2\n",
      "nan 2016-03-08 00:00:00\n",
      "\n"
     ]
    },
    {
     "name": "stderr",
     "output_type": "stream",
     "text": [
      "\r",
      "  5%|█▉                                     | 73/1517 [19:10<4:05:59, 10.22s/it]"
     ]
    },
    {
     "name": "stdout",
     "output_type": "stream",
     "text": [
      "c1: 0, c2: 0, c3: 4\n",
      "nan 2016-02-07 00:00:00\n",
      "\n"
     ]
    },
    {
     "name": "stderr",
     "output_type": "stream",
     "text": [
      "\r",
      "  5%|█▉                                     | 74/1517 [19:17<3:40:55,  9.19s/it]"
     ]
    },
    {
     "name": "stdout",
     "output_type": "stream",
     "text": [
      "c1: 0, c2: 0, c3: 1\n",
      "nan 2016-03-07 00:00:00\n",
      "\n"
     ]
    },
    {
     "name": "stderr",
     "output_type": "stream",
     "text": [
      "\r",
      "  5%|█▉                                     | 75/1517 [19:23<3:17:27,  8.22s/it]"
     ]
    },
    {
     "name": "stdout",
     "output_type": "stream",
     "text": [
      "c1: 0, c2: 0, c3: 22\n",
      "nan 2016-04-22 00:00:00\n",
      "\n"
     ]
    },
    {
     "name": "stderr",
     "output_type": "stream",
     "text": [
      "\r",
      "  5%|█▉                                     | 76/1517 [19:29<3:03:16,  7.63s/it]"
     ]
    },
    {
     "name": "stdout",
     "output_type": "stream",
     "text": [
      "c1: 0, c2: 0, c3: 5\n",
      "nan 2016-06-20 00:00:00\n",
      "\n"
     ]
    },
    {
     "name": "stderr",
     "output_type": "stream",
     "text": [
      "\r",
      "  5%|█▉                                     | 77/1517 [19:34<2:46:06,  6.92s/it]"
     ]
    },
    {
     "name": "stdout",
     "output_type": "stream",
     "text": [
      "c1: 0, c2: 5, c3: 6\n",
      "nan 2016-05-14 00:00:00\n",
      "\n"
     ]
    },
    {
     "name": "stderr",
     "output_type": "stream",
     "text": [
      "\r",
      "  5%|██                                     | 78/1517 [19:45<3:09:42,  7.91s/it]"
     ]
    },
    {
     "name": "stdout",
     "output_type": "stream",
     "text": [
      "c1: 0, c2: 9, c3: 6\n",
      "nan 2016-07-25 00:00:00\n",
      "\n"
     ]
    },
    {
     "name": "stderr",
     "output_type": "stream",
     "text": [
      "\r",
      "  5%|██                                     | 79/1517 [19:54<3:22:50,  8.46s/it]"
     ]
    },
    {
     "name": "stdout",
     "output_type": "stream",
     "text": [
      "c1: 0, c2: 0, c3: 6\n",
      "nan 2016-04-02 00:00:00\n",
      "\n"
     ]
    },
    {
     "name": "stderr",
     "output_type": "stream",
     "text": [
      "\r",
      "  5%|██                                     | 80/1517 [20:03<3:22:02,  8.44s/it]"
     ]
    },
    {
     "name": "stdout",
     "output_type": "stream",
     "text": [
      "c1: 0, c2: 0, c3: 6\n",
      "nan 2016-02-20 00:00:00\n",
      "\n"
     ]
    },
    {
     "name": "stderr",
     "output_type": "stream",
     "text": [
      "\r",
      "  5%|██                                     | 81/1517 [20:09<3:07:14,  7.82s/it]"
     ]
    },
    {
     "name": "stdout",
     "output_type": "stream",
     "text": [
      "c1: 0, c2: 0, c3: 4\n",
      "nan 2016-04-29 00:00:00\n",
      "\n"
     ]
    },
    {
     "name": "stderr",
     "output_type": "stream",
     "text": [
      "\r",
      "  5%|██                                     | 82/1517 [20:23<3:53:43,  9.77s/it]"
     ]
    },
    {
     "name": "stdout",
     "output_type": "stream",
     "text": [
      "c1: 0, c2: 1, c3: 2\n",
      "nan 2016-06-17 00:00:00\n",
      "\n"
     ]
    },
    {
     "name": "stderr",
     "output_type": "stream",
     "text": [
      "\r",
      "  5%|██▏                                    | 83/1517 [20:30<3:33:55,  8.95s/it]"
     ]
    },
    {
     "name": "stdout",
     "output_type": "stream",
     "text": [
      "c1: 8, c2: 0, c3: 16\n",
      "Hurricane Newton 2016-09-06 00:00:00\n",
      "\n"
     ]
    },
    {
     "name": "stderr",
     "output_type": "stream",
     "text": [
      "\r",
      "  6%|██▏                                    | 84/1517 [20:35<3:00:23,  7.55s/it]"
     ]
    },
    {
     "name": "stdout",
     "output_type": "stream",
     "text": [
      "c1: 0, c2: 0, c3: 4\n",
      "nan 2016-07-30 00:00:00\n",
      "\n"
     ]
    },
    {
     "name": "stderr",
     "output_type": "stream",
     "text": [
      "\r",
      "  6%|██▏                                    | 85/1517 [20:40<2:41:37,  6.77s/it]"
     ]
    },
    {
     "name": "stdout",
     "output_type": "stream",
     "text": [
      "c1: 0, c2: 0, c3: 1\n",
      "nan 2016-05-28 00:00:00\n",
      "\n"
     ]
    },
    {
     "name": "stderr",
     "output_type": "stream",
     "text": [
      "  6%|██▏                                    | 87/1517 [20:50<2:24:32,  6.06s/it]"
     ]
    },
    {
     "name": "stdout",
     "output_type": "stream",
     "text": [
      "c1: 0, c2: 0, c3: 2\n",
      "nan 2016-05-07 00:00:00\n",
      "\n"
     ]
    },
    {
     "name": "stderr",
     "output_type": "stream",
     "text": [
      "  6%|██▎                                    | 90/1517 [21:09<2:39:45,  6.72s/it]"
     ]
    },
    {
     "name": "stdout",
     "output_type": "stream",
     "text": [
      "c1: 0, c2: 0, c3: 2\n",
      "nan 2016-02-19 00:00:00\n",
      "\n"
     ]
    },
    {
     "name": "stderr",
     "output_type": "stream",
     "text": [
      "\r",
      "  6%|██▎                                    | 91/1517 [21:20<3:09:03,  7.95s/it]"
     ]
    },
    {
     "name": "stdout",
     "output_type": "stream",
     "text": [
      "c1: 0, c2: 0, c3: 2\n",
      "nan 2016-07-11 00:00:00\n",
      "\n"
     ]
    },
    {
     "name": "stderr",
     "output_type": "stream",
     "text": [
      "\r",
      "  6%|██▎                                    | 92/1517 [21:25<2:46:25,  7.01s/it]"
     ]
    },
    {
     "name": "stdout",
     "output_type": "stream",
     "text": [
      "c1: 0, c2: 0, c3: 9\n",
      "nan 2016-06-12 00:00:00\n",
      "\n"
     ]
    },
    {
     "name": "stderr",
     "output_type": "stream",
     "text": [
      "\r",
      "  6%|██▍                                    | 93/1517 [21:31<2:35:44,  6.56s/it]"
     ]
    },
    {
     "name": "stdout",
     "output_type": "stream",
     "text": [
      "c1: 0, c2: 1, c3: 21\n",
      "nan 2016-06-20 00:00:00\n",
      "\n"
     ]
    },
    {
     "name": "stderr",
     "output_type": "stream",
     "text": [
      "\r",
      "  6%|██▍                                    | 94/1517 [21:37<2:31:12,  6.38s/it]"
     ]
    },
    {
     "name": "stdout",
     "output_type": "stream",
     "text": [
      "c1: 0, c2: 0, c3: 14\n",
      "nan 2016-01-03 00:00:00\n",
      "\n"
     ]
    },
    {
     "name": "stderr",
     "output_type": "stream",
     "text": [
      "\r",
      "  6%|██▍                                    | 95/1517 [21:45<2:47:32,  7.07s/it]"
     ]
    },
    {
     "name": "stdout",
     "output_type": "stream",
     "text": [
      "c1: 0, c2: 0, c3: 24\n",
      "nan 2016-06-25 00:00:00\n",
      "\n"
     ]
    },
    {
     "name": "stderr",
     "output_type": "stream",
     "text": [
      "\r",
      "  6%|██▍                                    | 96/1517 [21:54<2:56:29,  7.45s/it]"
     ]
    },
    {
     "name": "stdout",
     "output_type": "stream",
     "text": [
      "c1: 0, c2: 0, c3: 29\n",
      "nan 2016-07-28 00:00:00\n",
      "\n"
     ]
    },
    {
     "name": "stderr",
     "output_type": "stream",
     "text": [
      "\r",
      "  6%|██▍                                    | 97/1517 [21:58<2:37:37,  6.66s/it]"
     ]
    },
    {
     "name": "stdout",
     "output_type": "stream",
     "text": [
      "c1: 0, c2: 4, c3: 3\n",
      "nan 2016-02-03 00:00:00\n",
      "\n"
     ]
    },
    {
     "name": "stderr",
     "output_type": "stream",
     "text": [
      "\r",
      "  6%|██▌                                    | 98/1517 [22:03<2:19:52,  5.91s/it]"
     ]
    },
    {
     "name": "stdout",
     "output_type": "stream",
     "text": [
      "c1: 0, c2: 0, c3: 8\n",
      "nan 2016-05-22 00:00:00\n",
      "\n"
     ]
    },
    {
     "name": "stderr",
     "output_type": "stream",
     "text": [
      "\r",
      "  7%|██▌                                    | 99/1517 [22:45<6:37:54, 16.84s/it]"
     ]
    },
    {
     "name": "stdout",
     "output_type": "stream",
     "text": [
      "c1: 0, c2: 7, c3: 15\n",
      "nan 2016-04-01 00:00:00\n",
      "\n"
     ]
    },
    {
     "name": "stderr",
     "output_type": "stream",
     "text": [
      "\r",
      "  7%|██▍                                  | 100/1517 [23:51<12:29:20, 31.73s/it]"
     ]
    },
    {
     "name": "stdout",
     "output_type": "stream",
     "text": [
      "c1: 0, c2: 2, c3: 27\n",
      "nan 2016-02-01 00:00:00\n",
      "\n"
     ]
    },
    {
     "name": "stderr",
     "output_type": "stream",
     "text": [
      "\r",
      "  7%|██▍                                  | 101/1517 [25:29<20:12:24, 51.37s/it]"
     ]
    },
    {
     "name": "stdout",
     "output_type": "stream",
     "text": [
      "c1: 0, c2: 19, c3: 152\n",
      "nan 2016-07-15 00:00:00\n",
      "\n"
     ]
    },
    {
     "name": "stderr",
     "output_type": "stream",
     "text": [
      "\r",
      "  7%|██▍                                  | 102/1517 [26:18<19:58:45, 50.83s/it]"
     ]
    },
    {
     "name": "stdout",
     "output_type": "stream",
     "text": [
      "c1: 0, c2: 30, c3: 118\n",
      "nan 2016-07-09 00:00:00\n",
      "\n"
     ]
    },
    {
     "name": "stderr",
     "output_type": "stream",
     "text": [
      "\r",
      "  7%|██▌                                  | 103/1517 [26:27<15:00:55, 38.23s/it]"
     ]
    },
    {
     "name": "stdout",
     "output_type": "stream",
     "text": [
      "c1: 0, c2: 4, c3: 23\n",
      "nan 2016-08-01 00:00:00\n",
      "\n"
     ]
    },
    {
     "name": "stderr",
     "output_type": "stream",
     "text": [
      "\r",
      "  7%|██▌                                  | 104/1517 [26:31<11:02:05, 28.11s/it]"
     ]
    },
    {
     "name": "stdout",
     "output_type": "stream",
     "text": [
      "c1: 0, c2: 70, c3: 44\n",
      "nan 2016-08-24 00:00:00\n",
      "\n"
     ]
    },
    {
     "name": "stderr",
     "output_type": "stream",
     "text": [
      "\r",
      "  7%|██▋                                   | 105/1517 [26:36<8:14:46, 21.02s/it]"
     ]
    },
    {
     "name": "stdout",
     "output_type": "stream",
     "text": [
      "c1: 0, c2: 6, c3: 101\n",
      "nan 2016-04-14 00:00:00\n",
      "\n"
     ]
    },
    {
     "name": "stderr",
     "output_type": "stream",
     "text": [
      "\r",
      "  7%|██▋                                   | 106/1517 [26:41<6:21:13, 16.21s/it]"
     ]
    },
    {
     "name": "stdout",
     "output_type": "stream",
     "text": [
      "c1: 0, c2: 49, c3: 48\n",
      "nan 2016-04-16 00:00:00\n",
      "\n"
     ]
    },
    {
     "name": "stderr",
     "output_type": "stream",
     "text": [
      "  7%|██▋                                   | 108/1517 [26:56<4:33:28, 11.65s/it]"
     ]
    },
    {
     "name": "stdout",
     "output_type": "stream",
     "text": [
      "c1: 0, c2: 0, c3: 2\n",
      "nan 2016-03-10 00:00:00\n",
      "\n"
     ]
    },
    {
     "name": "stderr",
     "output_type": "stream",
     "text": [
      "  7%|██▊                                   | 111/1517 [27:38<5:15:16, 13.45s/it]"
     ]
    },
    {
     "name": "stdout",
     "output_type": "stream",
     "text": [
      "c1: 0, c2: 7, c3: 0\n",
      "nan 2016-06-29 00:00:00\n",
      "\n"
     ]
    },
    {
     "name": "stderr",
     "output_type": "stream",
     "text": [
      "\r",
      "  7%|██▊                                   | 112/1517 [27:54<5:30:24, 14.11s/it]"
     ]
    },
    {
     "name": "stdout",
     "output_type": "stream",
     "text": [
      "c1: 0, c2: 3, c3: 25\n",
      "nan 2016-07-11 00:00:00\n",
      "\n"
     ]
    },
    {
     "name": "stderr",
     "output_type": "stream",
     "text": [
      "  8%|██▊                                   | 114/1517 [28:04<3:43:19,  9.55s/it]"
     ]
    },
    {
     "name": "stdout",
     "output_type": "stream",
     "text": [
      "c1: 0, c2: 0, c3: 2\n",
      "nan 2016-05-23 00:00:00\n",
      "\n"
     ]
    },
    {
     "name": "stderr",
     "output_type": "stream",
     "text": [
      "\r",
      "  8%|██▉                                   | 115/1517 [28:25<5:00:15, 12.85s/it]"
     ]
    },
    {
     "name": "stdout",
     "output_type": "stream",
     "text": [
      "c1: 0, c2: 696, c3: 0\n",
      "nan 2016-06-01 00:00:00\n",
      "\n"
     ]
    },
    {
     "name": "stderr",
     "output_type": "stream",
     "text": [
      "  8%|██▉                                   | 117/1517 [28:52<4:55:10, 12.65s/it]"
     ]
    },
    {
     "name": "stdout",
     "output_type": "stream",
     "text": [
      "c1: 0, c2: 0, c3: 3\n",
      "nan 2016-04-06 00:00:00\n",
      "\n"
     ]
    },
    {
     "name": "stderr",
     "output_type": "stream",
     "text": [
      "\r",
      "  8%|██▉                                   | 118/1517 [29:00<4:23:00, 11.28s/it]"
     ]
    },
    {
     "name": "stdout",
     "output_type": "stream",
     "text": [
      "c1: 0, c2: 0, c3: 2\n",
      "nan 2016-02-19 00:00:00\n",
      "\n"
     ]
    },
    {
     "name": "stderr",
     "output_type": "stream",
     "text": [
      "\r",
      "  8%|██▉                                   | 119/1517 [29:06<3:46:43,  9.73s/it]"
     ]
    },
    {
     "name": "stdout",
     "output_type": "stream",
     "text": [
      "c1: 0, c2: 26, c3: 1\n",
      "nan 2016-07-18 00:00:00\n",
      "\n"
     ]
    },
    {
     "name": "stderr",
     "output_type": "stream",
     "text": [
      "  8%|██▉                                  | 122/1517 [32:01<15:16:18, 39.41s/it]"
     ]
    },
    {
     "name": "stdout",
     "output_type": "stream",
     "text": [
      "c1: 0, c2: 0, c3: 1\n",
      "nan 2016-02-01 00:00:00\n",
      "\n"
     ]
    },
    {
     "name": "stderr",
     "output_type": "stream",
     "text": [
      "\r",
      "  8%|███                                  | 123/1517 [32:13<12:39:02, 32.67s/it]"
     ]
    },
    {
     "name": "stdout",
     "output_type": "stream",
     "text": [
      "c1: 0, c2: 1, c3: 0\n",
      "nan 2016-06-29 00:00:00\n",
      "\n"
     ]
    },
    {
     "name": "stderr",
     "output_type": "stream",
     "text": [
      "  8%|███▏                                  | 125/1517 [32:27<8:07:56, 21.03s/it]"
     ]
    },
    {
     "name": "stdout",
     "output_type": "stream",
     "text": [
      "c1: 0, c2: 0, c3: 62\n",
      "nan 2016-04-08 00:00:00\n",
      "\n"
     ]
    },
    {
     "name": "stderr",
     "output_type": "stream",
     "text": [
      "\r",
      "  8%|███▏                                  | 126/1517 [32:33<6:28:38, 16.76s/it]"
     ]
    },
    {
     "name": "stdout",
     "output_type": "stream",
     "text": [
      "c1: 0, c2: 1, c3: 2\n",
      "nan 2016-06-01 00:00:00\n",
      "\n"
     ]
    },
    {
     "name": "stderr",
     "output_type": "stream",
     "text": [
      "\r",
      "  8%|███▏                                  | 127/1517 [32:38<5:07:43, 13.28s/it]"
     ]
    },
    {
     "name": "stdout",
     "output_type": "stream",
     "text": [
      "c1: 0, c2: 0, c3: 2\n",
      "nan 2016-04-10 00:00:00\n",
      "\n"
     ]
    },
    {
     "name": "stderr",
     "output_type": "stream",
     "text": [
      "\r",
      "  8%|███▏                                  | 128/1517 [32:44<4:18:00, 11.14s/it]"
     ]
    },
    {
     "name": "stdout",
     "output_type": "stream",
     "text": [
      "c1: 0, c2: 3, c3: 2\n",
      "nan 2016-07-03 00:00:00\n",
      "\n"
     ]
    },
    {
     "name": "stderr",
     "output_type": "stream",
     "text": [
      "\r",
      "  9%|███▏                                  | 129/1517 [32:50<3:43:39,  9.67s/it]"
     ]
    },
    {
     "name": "stdout",
     "output_type": "stream",
     "text": [
      "c1: 0, c2: 4, c3: 0\n",
      "nan 2016-08-14 00:00:00\n",
      "\n"
     ]
    },
    {
     "name": "stderr",
     "output_type": "stream",
     "text": [
      "\r",
      "  9%|███▎                                  | 130/1517 [32:56<3:20:42,  8.68s/it]"
     ]
    },
    {
     "name": "stdout",
     "output_type": "stream",
     "text": [
      "c1: 9, c2: 0, c3: 0\n",
      "Typhoon Butchoy (Nepartak) 2016-07-08 00:00:00\n",
      "\n"
     ]
    },
    {
     "name": "stderr",
     "output_type": "stream",
     "text": [
      "  9%|███▎                                  | 132/1517 [33:12<3:16:09,  8.50s/it]"
     ]
    },
    {
     "name": "stdout",
     "output_type": "stream",
     "text": [
      "c1: 0, c2: 2, c3: 0\n",
      "nan 2016-08-29 00:00:00\n",
      "\n"
     ]
    },
    {
     "name": "stderr",
     "output_type": "stream",
     "text": [
      "\r",
      "  9%|███▎                                  | 133/1517 [33:21<3:18:46,  8.62s/it]"
     ]
    },
    {
     "name": "stdout",
     "output_type": "stream",
     "text": [
      "c1: 0, c2: 3, c3: 1\n",
      "nan 2016-08-08 00:00:00\n",
      "\n"
     ]
    },
    {
     "name": "stderr",
     "output_type": "stream",
     "text": [
      "\r",
      "  9%|███▎                                  | 134/1517 [33:26<2:51:25,  7.44s/it]"
     ]
    },
    {
     "name": "stdout",
     "output_type": "stream",
     "text": [
      "c1: 0, c2: 0, c3: 4\n",
      "nan 2016-06-02 00:00:00\n",
      "\n"
     ]
    },
    {
     "name": "stderr",
     "output_type": "stream",
     "text": [
      "  9%|███▍                                  | 136/1517 [33:40<2:47:36,  7.28s/it]"
     ]
    },
    {
     "name": "stdout",
     "output_type": "stream",
     "text": [
      "c1: 0, c2: 0, c3: 1\n",
      "nan 2016-05-07 00:00:00\n",
      "\n"
     ]
    },
    {
     "name": "stderr",
     "output_type": "stream",
     "text": [
      "\r",
      "  9%|███▍                                  | 137/1517 [33:46<2:36:25,  6.80s/it]"
     ]
    },
    {
     "name": "stdout",
     "output_type": "stream",
     "text": [
      "c1: 0, c2: 0, c3: 3\n",
      "nan 2016-04-08 00:00:00\n",
      "\n"
     ]
    },
    {
     "name": "stderr",
     "output_type": "stream",
     "text": [
      "\r",
      "  9%|███▍                                  | 138/1517 [33:57<3:01:01,  7.88s/it]"
     ]
    },
    {
     "name": "stdout",
     "output_type": "stream",
     "text": [
      "c1: 0, c2: 6, c3: 11\n",
      "nan 2016-04-08 00:00:00\n",
      "\n"
     ]
    },
    {
     "name": "stderr",
     "output_type": "stream",
     "text": [
      "  9%|███▌                                  | 142/1517 [34:24<2:41:57,  7.07s/it]"
     ]
    },
    {
     "name": "stdout",
     "output_type": "stream",
     "text": [
      "c1: 0, c2: 23, c3: 0\n",
      "nan 2016-01-04 00:00:00\n",
      "\n"
     ]
    },
    {
     "name": "stderr",
     "output_type": "stream",
     "text": [
      "\r",
      "  9%|███▌                                  | 143/1517 [34:31<2:42:43,  7.11s/it]"
     ]
    },
    {
     "name": "stdout",
     "output_type": "stream",
     "text": [
      "c1: 0, c2: 50, c3: 0\n",
      "nan 2016-06-22 00:00:00\n",
      "\n"
     ]
    },
    {
     "name": "stderr",
     "output_type": "stream",
     "text": [
      "\r",
      "  9%|███▌                                  | 144/1517 [34:38<2:42:31,  7.10s/it]"
     ]
    },
    {
     "name": "stdout",
     "output_type": "stream",
     "text": [
      "c1: 0, c2: 4, c3: 0\n",
      "nan 2016-12-25 00:00:00\n",
      "\n"
     ]
    },
    {
     "name": "stderr",
     "output_type": "stream",
     "text": [
      "\r",
      " 10%|███▋                                  | 145/1517 [34:48<3:03:49,  8.04s/it]"
     ]
    },
    {
     "name": "stdout",
     "output_type": "stream",
     "text": [
      "c1: 0, c2: 0, c3: 49\n",
      "nan 2016-09-08 00:00:00\n",
      "\n"
     ]
    },
    {
     "name": "stderr",
     "output_type": "stream",
     "text": [
      "\r",
      " 10%|███▋                                  | 146/1517 [35:03<3:48:48, 10.01s/it]"
     ]
    },
    {
     "name": "stdout",
     "output_type": "stream",
     "text": [
      "c1: 0, c2: 118, c3: 0\n",
      "nan 2016-04-25 00:00:00\n",
      "\n"
     ]
    },
    {
     "name": "stderr",
     "output_type": "stream",
     "text": [
      "\r",
      " 10%|███▋                                  | 147/1517 [35:44<7:20:29, 19.29s/it]"
     ]
    },
    {
     "name": "stdout",
     "output_type": "stream",
     "text": [
      "c1: 0, c2: 55, c3: 1\n",
      "nan 2016-04-12 00:00:00\n",
      "\n"
     ]
    },
    {
     "name": "stderr",
     "output_type": "stream",
     "text": [
      "\r",
      " 10%|███▋                                  | 148/1517 [35:54<6:17:32, 16.55s/it]"
     ]
    },
    {
     "name": "stdout",
     "output_type": "stream",
     "text": [
      "c1: 0, c2: 41, c3: 0\n",
      "nan 2016-05-09 00:00:00\n",
      "\n"
     ]
    },
    {
     "name": "stderr",
     "output_type": "stream",
     "text": [
      " 10%|███▊                                  | 150/1517 [36:16<5:05:38, 13.41s/it]"
     ]
    },
    {
     "name": "stdout",
     "output_type": "stream",
     "text": [
      "c1: 8, c2: 0, c3: 15\n",
      "Typhoon Megi 2016-09-28 00:00:00\n",
      "\n"
     ]
    },
    {
     "name": "stderr",
     "output_type": "stream",
     "text": [
      "\r",
      " 10%|███▊                                  | 151/1517 [36:25<4:37:11, 12.18s/it]"
     ]
    },
    {
     "name": "stdout",
     "output_type": "stream",
     "text": [
      "c1: 0, c2: 0, c3: 8\n",
      "nan 2016-11-26 00:00:00\n",
      "\n"
     ]
    },
    {
     "name": "stderr",
     "output_type": "stream",
     "text": [
      "\r",
      " 10%|███▊                                  | 152/1517 [36:39<4:50:54, 12.79s/it]"
     ]
    },
    {
     "name": "stdout",
     "output_type": "stream",
     "text": [
      "c1: 0, c2: 1, c3: 0\n",
      "nan 2016-11-07 00:00:00\n",
      "\n"
     ]
    },
    {
     "name": "stderr",
     "output_type": "stream",
     "text": [
      "\r",
      " 10%|███▊                                  | 153/1517 [36:44<3:54:33, 10.32s/it]"
     ]
    },
    {
     "name": "stdout",
     "output_type": "stream",
     "text": [
      "c1: 0, c2: 10, c3: 0\n",
      "nan 2016-02-06 00:00:00\n",
      "\n"
     ]
    },
    {
     "name": "stderr",
     "output_type": "stream",
     "text": [
      "\r",
      " 10%|███▊                                  | 154/1517 [37:00<4:36:59, 12.19s/it]"
     ]
    },
    {
     "name": "stdout",
     "output_type": "stream",
     "text": [
      "c1: 0, c2: 141, c3: 0\n",
      "nan 2016-04-10 00:00:00\n",
      "\n"
     ]
    },
    {
     "name": "stderr",
     "output_type": "stream",
     "text": [
      "\r",
      " 10%|███▉                                  | 155/1517 [37:09<4:13:19, 11.16s/it]"
     ]
    },
    {
     "name": "stdout",
     "output_type": "stream",
     "text": [
      "c1: 0, c2: 41, c3: 0\n",
      "nan 2016-05-08 00:00:00\n",
      "\n"
     ]
    },
    {
     "name": "stderr",
     "output_type": "stream",
     "text": [
      "\r",
      " 10%|███▉                                  | 156/1517 [37:15<3:35:33,  9.50s/it]"
     ]
    },
    {
     "name": "stdout",
     "output_type": "stream",
     "text": [
      "c1: 0, c2: 26, c3: 0\n",
      "nan 2016-03-17 00:00:00\n",
      "\n"
     ]
    },
    {
     "name": "stderr",
     "output_type": "stream",
     "text": [
      "\r",
      " 10%|███▉                                  | 157/1517 [37:22<3:20:45,  8.86s/it]"
     ]
    },
    {
     "name": "stdout",
     "output_type": "stream",
     "text": [
      "c1: 0, c2: 40, c3: 0\n",
      "nan 2016-03-22 00:00:00\n",
      "\n"
     ]
    },
    {
     "name": "stderr",
     "output_type": "stream",
     "text": [
      "\r",
      " 10%|███▉                                  | 158/1517 [37:29<3:05:15,  8.18s/it]"
     ]
    },
    {
     "name": "stdout",
     "output_type": "stream",
     "text": [
      "c1: 0, c2: 20, c3: 0\n",
      "nan 2016-04-16 00:00:00\n",
      "\n"
     ]
    },
    {
     "name": "stderr",
     "output_type": "stream",
     "text": [
      "\r",
      " 10%|███▉                                  | 159/1517 [37:37<3:05:07,  8.18s/it]"
     ]
    },
    {
     "name": "stdout",
     "output_type": "stream",
     "text": [
      "c1: 0, c2: 65, c3: 0\n",
      "nan 2016-05-27 00:00:00\n",
      "\n"
     ]
    },
    {
     "name": "stderr",
     "output_type": "stream",
     "text": [
      "\r",
      " 11%|████                                  | 160/1517 [37:47<3:19:30,  8.82s/it]"
     ]
    },
    {
     "name": "stdout",
     "output_type": "stream",
     "text": [
      "c1: 0, c2: 57, c3: 0\n",
      "nan 2016-05-21 00:00:00\n",
      "\n"
     ]
    },
    {
     "name": "stderr",
     "output_type": "stream",
     "text": [
      "\r",
      " 11%|████                                  | 161/1517 [38:00<3:43:35,  9.89s/it]"
     ]
    },
    {
     "name": "stdout",
     "output_type": "stream",
     "text": [
      "c1: 0, c2: 113, c3: 0\n",
      "nan 2016-03-04 00:00:00\n",
      "\n"
     ]
    },
    {
     "name": "stderr",
     "output_type": "stream",
     "text": [
      "\r",
      " 11%|████                                  | 162/1517 [38:16<4:26:51, 11.82s/it]"
     ]
    },
    {
     "name": "stdout",
     "output_type": "stream",
     "text": [
      "c1: 627, c2: 0, c3: 0\n",
      "Hurricane 'Matthew' 2016-09-28 00:00:00\n",
      "\n"
     ]
    },
    {
     "name": "stderr",
     "output_type": "stream",
     "text": [
      "\r",
      " 11%|████                                  | 163/1517 [38:21<3:43:20,  9.90s/it]"
     ]
    },
    {
     "name": "stdout",
     "output_type": "stream",
     "text": [
      "c1: 8, c2: 0, c3: 21\n",
      "Typhoon Ferdie (Meranti) 2016-09-15 00:00:00\n",
      "\n"
     ]
    },
    {
     "name": "stderr",
     "output_type": "stream",
     "text": [
      "\r",
      " 11%|████                                  | 164/1517 [38:29<3:27:15,  9.19s/it]"
     ]
    },
    {
     "name": "stdout",
     "output_type": "stream",
     "text": [
      "c1: 22, c2: 27, c3: 1\n",
      "Tropical storm Otto 2016-11-23 00:00:00\n",
      "\n"
     ]
    },
    {
     "name": "stderr",
     "output_type": "stream",
     "text": [
      "\r",
      " 11%|████▏                                 | 165/1517 [38:39<3:30:48,  9.36s/it]"
     ]
    },
    {
     "name": "stdout",
     "output_type": "stream",
     "text": [
      "c1: 0, c2: 1, c3: 5\n",
      "nan 2016-10-27 00:00:00\n",
      "\n"
     ]
    },
    {
     "name": "stderr",
     "output_type": "stream",
     "text": [
      "\r",
      " 11%|████▏                                 | 166/1517 [38:48<3:33:29,  9.48s/it]"
     ]
    },
    {
     "name": "stdout",
     "output_type": "stream",
     "text": [
      "c1: 89, c2: 223, c3: 0\n",
      "Storm Jonas (Snowzilla) 2016-01-23 00:00:00\n",
      "\n"
     ]
    },
    {
     "name": "stderr",
     "output_type": "stream",
     "text": [
      "\r",
      " 11%|████▏                                 | 167/1517 [38:59<3:38:30,  9.71s/it]"
     ]
    },
    {
     "name": "stdout",
     "output_type": "stream",
     "text": [
      "c1: 0, c2: 148, c3: 0\n",
      "nan 2016-02-22 00:00:00\n",
      "\n"
     ]
    },
    {
     "name": "stderr",
     "output_type": "stream",
     "text": [
      " 11%|████▏                                 | 169/1517 [39:09<2:47:28,  7.45s/it]"
     ]
    },
    {
     "name": "stdout",
     "output_type": "stream",
     "text": [
      "c1: 25, c2: 0, c3: 0\n",
      "Cyclone Winston 2016-02-19 00:00:00\n",
      "\n"
     ]
    },
    {
     "name": "stderr",
     "output_type": "stream",
     "text": [
      " 11%|████▎                                 | 171/1517 [39:21<2:27:51,  6.59s/it]"
     ]
    },
    {
     "name": "stdout",
     "output_type": "stream",
     "text": [
      "c1: 5, c2: 0, c3: 0\n",
      "Typhoon Butchoy (Nepartak) 2016-07-09 00:00:00\n",
      "\n"
     ]
    },
    {
     "name": "stderr",
     "output_type": "stream",
     "text": [
      " 12%|████▌                                 | 180/1517 [40:43<3:35:56,  9.69s/it]"
     ]
    },
    {
     "name": "stdout",
     "output_type": "stream",
     "text": [
      "c1: 538, c2: 4, c3: 0\n",
      "Sand Fire 2016-07-24 00:00:00\n",
      "\n"
     ]
    },
    {
     "name": "stderr",
     "output_type": "stream",
     "text": [
      "\r",
      " 12%|████▌                                 | 181/1517 [40:50<3:16:50,  8.84s/it]"
     ]
    },
    {
     "name": "stdout",
     "output_type": "stream",
     "text": [
      "c1: 14, c2: 2, c3: 0\n",
      "Clayton Fire 2016-08-13 00:00:00\n",
      "\n"
     ]
    },
    {
     "name": "stderr",
     "output_type": "stream",
     "text": [
      " 12%|████▌                                 | 183/1517 [41:06<3:11:36,  8.62s/it]"
     ]
    },
    {
     "name": "stdout",
     "output_type": "stream",
     "text": [
      "c1: 0, c2: 224, c3: 0\n",
      "nan 2016-08-09 00:00:00\n",
      "\n"
     ]
    },
    {
     "name": "stderr",
     "output_type": "stream",
     "text": [
      "\r",
      " 12%|████▌                                 | 184/1517 [41:12<2:53:04,  7.79s/it]"
     ]
    },
    {
     "name": "stdout",
     "output_type": "stream",
     "text": [
      "c1: 1, c2: 0, c3: 0\n",
      "Storm Mirinae 2016-07-28 00:00:00\n",
      "\n"
     ]
    },
    {
     "name": "stderr",
     "output_type": "stream",
     "text": [
      "\r",
      " 12%|████▋                                 | 185/1517 [41:18<2:45:04,  7.44s/it]"
     ]
    },
    {
     "name": "stdout",
     "output_type": "stream",
     "text": [
      "c1: 0, c2: 8, c3: 2\n",
      "nan 2016-04-13 00:00:00\n",
      "\n"
     ]
    },
    {
     "name": "stderr",
     "output_type": "stream",
     "text": [
      " 12%|████▋                                 | 187/1517 [41:32<2:41:04,  7.27s/it]"
     ]
    },
    {
     "name": "stdout",
     "output_type": "stream",
     "text": [
      "c1: 0, c2: 0, c3: 1\n",
      "nan 2016-01-01 00:00:00\n",
      "\n"
     ]
    },
    {
     "name": "stderr",
     "output_type": "stream",
     "text": [
      "\r",
      " 12%|████▋                                 | 188/1517 [41:48<3:41:36, 10.00s/it]"
     ]
    },
    {
     "name": "stdout",
     "output_type": "stream",
     "text": [
      "c1: 0, c2: 0, c3: 5\n",
      "nan 2016-07-25 00:00:00\n",
      "\n"
     ]
    },
    {
     "name": "stderr",
     "output_type": "stream",
     "text": [
      "\r",
      " 12%|████▋                                 | 189/1517 [41:53<3:07:56,  8.49s/it]"
     ]
    },
    {
     "name": "stdout",
     "output_type": "stream",
     "text": [
      "c1: 0, c2: 0, c3: 8\n",
      "nan 2016-03-06 00:00:00\n",
      "\n"
     ]
    },
    {
     "name": "stderr",
     "output_type": "stream",
     "text": [
      "\r",
      " 13%|████▊                                 | 190/1517 [42:03<3:14:57,  8.82s/it]"
     ]
    },
    {
     "name": "stdout",
     "output_type": "stream",
     "text": [
      "c1: 0, c2: 0, c3: 2\n",
      "nan 2016-11-07 00:00:00\n",
      "\n"
     ]
    },
    {
     "name": "stderr",
     "output_type": "stream",
     "text": [
      " 13%|████▊                                 | 192/1517 [42:32<4:40:54, 12.72s/it]"
     ]
    },
    {
     "name": "stdout",
     "output_type": "stream",
     "text": [
      "c1: 170, c2: 0, c3: 13\n",
      "Dengue 2016-01-01 00:00:00\n",
      "\n"
     ]
    },
    {
     "name": "stderr",
     "output_type": "stream",
     "text": [
      "\r",
      " 13%|████▊                                 | 193/1517 [42:44<4:35:03, 12.47s/it]"
     ]
    },
    {
     "name": "stdout",
     "output_type": "stream",
     "text": [
      "c1: 0, c2: 3, c3: 17\n",
      "nan 2016-09-10 00:00:00\n",
      "\n"
     ]
    },
    {
     "name": "stderr",
     "output_type": "stream",
     "text": [
      "\r",
      " 13%|████▊                                 | 194/1517 [43:17<6:50:27, 18.61s/it]"
     ]
    },
    {
     "name": "stdout",
     "output_type": "stream",
     "text": [
      "c1: 39, c2: 0, c3: 0\n",
      "Cholera 2016-08-03 00:00:00\n",
      "\n"
     ]
    },
    {
     "name": "stderr",
     "output_type": "stream",
     "text": [
      "\r",
      " 13%|████▉                                 | 195/1517 [43:40<7:19:11, 19.93s/it]"
     ]
    },
    {
     "name": "stdout",
     "output_type": "stream",
     "text": [
      "c1: 29, c2: 160, c3: 0\n",
      "Cholera 2016-08-16 00:00:00\n",
      "\n"
     ]
    },
    {
     "name": "stderr",
     "output_type": "stream",
     "text": [
      "\r",
      " 13%|████▊                                | 196/1517 [46:22<23:00:45, 62.71s/it]"
     ]
    },
    {
     "name": "stdout",
     "output_type": "stream",
     "text": [
      "c1: 58, c2: 0, c3: 24\n",
      "Yellow fever 2016-12-18 00:00:00\n",
      "\n"
     ]
    },
    {
     "name": "stderr",
     "output_type": "stream",
     "text": [
      "\r",
      " 13%|████▊                                | 197/1517 [46:32<17:05:30, 46.61s/it]"
     ]
    },
    {
     "name": "stdout",
     "output_type": "stream",
     "text": [
      "c1: 0, c2: 1, c3: 28\n",
      "nan 2016-08-04 00:00:00\n",
      "\n"
     ]
    },
    {
     "name": "stderr",
     "output_type": "stream",
     "text": [
      "\r",
      " 13%|████▊                                | 198/1517 [46:35<12:23:14, 33.81s/it]"
     ]
    },
    {
     "name": "stdout",
     "output_type": "stream",
     "text": [
      "c1: 0, c2: 0, c3: 7\n",
      "nan 2016-11-25 00:00:00\n",
      "\n"
     ]
    },
    {
     "name": "stderr",
     "output_type": "stream",
     "text": [
      "\r",
      " 13%|████▉                                 | 199/1517 [46:40<9:11:04, 25.09s/it]"
     ]
    },
    {
     "name": "stdout",
     "output_type": "stream",
     "text": [
      "c1: 0, c2: 0, c3: 10\n",
      "nan 2016-12-08 00:00:00\n",
      "\n"
     ]
    },
    {
     "name": "stderr",
     "output_type": "stream",
     "text": [
      "\r",
      " 13%|█████                                 | 200/1517 [46:45<6:54:25, 18.88s/it]"
     ]
    },
    {
     "name": "stdout",
     "output_type": "stream",
     "text": [
      "c1: 0, c2: 0, c3: 9\n",
      "nan 2016-05-18 00:00:00\n",
      "\n"
     ]
    },
    {
     "name": "stderr",
     "output_type": "stream",
     "text": [
      "\r",
      " 13%|█████                                 | 201/1517 [46:54<5:51:37, 16.03s/it]"
     ]
    },
    {
     "name": "stdout",
     "output_type": "stream",
     "text": [
      "c1: 11, c2: 0, c3: 30\n",
      "Typhoon Karen (Sarika) 2016-10-16 00:00:00\n",
      "\n"
     ]
    },
    {
     "name": "stderr",
     "output_type": "stream",
     "text": [
      "\r",
      " 13%|█████                                 | 202/1517 [47:02<4:59:09, 13.65s/it]"
     ]
    },
    {
     "name": "stdout",
     "output_type": "stream",
     "text": [
      "c1: 15, c2: 0, c3: 26\n",
      "Typhoon Lawin (Haima) 2016-10-19 00:00:00\n",
      "\n"
     ]
    },
    {
     "name": "stderr",
     "output_type": "stream",
     "text": [
      "\r",
      " 13%|█████                                 | 203/1517 [47:08<4:08:25, 11.34s/it]"
     ]
    },
    {
     "name": "stdout",
     "output_type": "stream",
     "text": [
      "c1: 0, c2: 0, c3: 20\n",
      "Tropical storm Dianmu 2016-08-18 00:00:00\n",
      "\n"
     ]
    },
    {
     "name": "stderr",
     "output_type": "stream",
     "text": [
      "\r",
      " 13%|█████                                 | 204/1517 [47:13<3:29:32,  9.58s/it]"
     ]
    },
    {
     "name": "stdout",
     "output_type": "stream",
     "text": [
      "c1: 0, c2: 0, c3: 23\n",
      "Typhoon Carina (Nida) 2016-08-02 00:00:00\n",
      "\n"
     ]
    },
    {
     "name": "stderr",
     "output_type": "stream",
     "text": [
      "\r",
      " 14%|█████▏                                | 205/1517 [47:21<3:16:37,  8.99s/it]"
     ]
    },
    {
     "name": "stdout",
     "output_type": "stream",
     "text": [
      "c1: 0, c2: 0, c3: 43\n",
      "nan 2016-08-05 00:00:00\n",
      "\n"
     ]
    },
    {
     "name": "stderr",
     "output_type": "stream",
     "text": [
      "\r",
      " 14%|█████▏                                | 206/1517 [47:28<3:03:22,  8.39s/it]"
     ]
    },
    {
     "name": "stdout",
     "output_type": "stream",
     "text": [
      "c1: 0, c2: 0, c3: 32\n",
      "nan 2016-09-18 00:00:00\n",
      "\n"
     ]
    },
    {
     "name": "stderr",
     "output_type": "stream",
     "text": [
      " 14%|█████▏                                | 208/1517 [47:41<2:44:33,  7.54s/it]"
     ]
    },
    {
     "name": "stdout",
     "output_type": "stream",
     "text": [
      "c1: 0, c2: 0, c3: 1\n",
      "nan 2016-10-18 00:00:00\n",
      "\n"
     ]
    },
    {
     "name": "stderr",
     "output_type": "stream",
     "text": [
      "\r",
      " 14%|█████▏                                | 209/1517 [47:56<3:33:33,  9.80s/it]"
     ]
    },
    {
     "name": "stdout",
     "output_type": "stream",
     "text": [
      "c1: 591, c2: 0, c3: 21\n",
      "Hurricane 'Matthew' 2016-09-28 00:00:00\n",
      "\n"
     ]
    },
    {
     "name": "stderr",
     "output_type": "stream",
     "text": [
      "\r",
      " 14%|█████▎                                | 210/1517 [48:07<3:40:24, 10.12s/it]"
     ]
    },
    {
     "name": "stdout",
     "output_type": "stream",
     "text": [
      "c1: 455, c2: 1, c3: 0\n",
      "Hurricane 'Matthew' 2016-10-03 00:00:00\n",
      "\n"
     ]
    },
    {
     "name": "stderr",
     "output_type": "stream",
     "text": [
      "\r",
      " 14%|█████▎                                | 211/1517 [48:13<3:15:34,  8.98s/it]"
     ]
    },
    {
     "name": "stdout",
     "output_type": "stream",
     "text": [
      "c1: 0, c2: 127, c3: 0\n",
      "nan 2016-12-17 00:00:00\n",
      "\n"
     ]
    },
    {
     "name": "stderr",
     "output_type": "stream",
     "text": [
      "\r",
      " 14%|█████▎                                | 213/1517 [48:20<2:17:36,  6.33s/it]"
     ]
    },
    {
     "name": "stdout",
     "output_type": "stream",
     "text": [
      "c1: 0, c2: 1, c3: 1\n",
      "nan 2016-09-05 00:00:00\n",
      "\n"
     ]
    },
    {
     "name": "stderr",
     "output_type": "stream",
     "text": [
      "\r",
      " 14%|█████▎                                | 214/1517 [48:35<3:05:39,  8.55s/it]"
     ]
    },
    {
     "name": "stdout",
     "output_type": "stream",
     "text": [
      "c1: 0, c2: 1, c3: 0\n",
      "nan 2017-06-10 00:00:00\n",
      "\n"
     ]
    },
    {
     "name": "stderr",
     "output_type": "stream",
     "text": [
      "\r",
      " 14%|█████▍                                | 215/1517 [48:49<3:36:53,  9.99s/it]"
     ]
    },
    {
     "name": "stdout",
     "output_type": "stream",
     "text": [
      "c1: 0, c2: 0, c3: 3\n",
      "nan 2017-08-05 00:00:00\n",
      "\n"
     ]
    },
    {
     "name": "stderr",
     "output_type": "stream",
     "text": [
      "\r",
      " 14%|█████▍                                | 216/1517 [49:37<7:22:11, 20.39s/it]"
     ]
    },
    {
     "name": "stdout",
     "output_type": "stream",
     "text": [
      "c1: 2069, c2: 3302, c3: 0\n",
      "Tropical depression'16/Hurricane 'Nate' 2017-09-04 00:00:00\n",
      "\n"
     ]
    },
    {
     "name": "stderr",
     "output_type": "stream",
     "text": [
      "\r",
      " 14%|█████▍                                | 217/1517 [49:44<5:58:24, 16.54s/it]"
     ]
    },
    {
     "name": "stdout",
     "output_type": "stream",
     "text": [
      "c1: 0, c2: 17, c3: 111\n",
      "Hurricane 'Maria' 2017-09-18 00:00:00\n",
      "\n"
     ]
    },
    {
     "name": "stderr",
     "output_type": "stream",
     "text": [
      "\r",
      " 14%|█████▍                                | 218/1517 [49:53<5:14:02, 14.51s/it]"
     ]
    },
    {
     "name": "stdout",
     "output_type": "stream",
     "text": [
      "c1: 0, c2: 124, c3: 0\n",
      "Hurricane 'Maria' 2017-09-20 00:00:00\n",
      "\n"
     ]
    },
    {
     "name": "stderr",
     "output_type": "stream",
     "text": [
      "\r",
      " 14%|█████▍                                | 219/1517 [49:59<4:17:06, 11.89s/it]"
     ]
    },
    {
     "name": "stdout",
     "output_type": "stream",
     "text": [
      "c1: 321, c2: 0, c3: 0\n",
      "Tropical depression'16/Hurricane 'Nate' 2017-10-05 00:00:00\n",
      "\n"
     ]
    },
    {
     "name": "stderr",
     "output_type": "stream",
     "text": [
      "\r",
      " 15%|█████▌                                | 220/1517 [50:12<4:24:24, 12.23s/it]"
     ]
    },
    {
     "name": "stdout",
     "output_type": "stream",
     "text": [
      "c1: 0, c2: 1, c3: 53\n",
      "nan 2017-07-14 00:00:00\n",
      "\n"
     ]
    },
    {
     "name": "stderr",
     "output_type": "stream",
     "text": [
      "\r",
      " 15%|█████▌                                | 221/1517 [50:26<4:38:15, 12.88s/it]"
     ]
    },
    {
     "name": "stdout",
     "output_type": "stream",
     "text": [
      "c1: 0, c2: 4, c3: 26\n",
      "nan 2017-06-15 00:00:00\n",
      "\n"
     ]
    },
    {
     "name": "stderr",
     "output_type": "stream",
     "text": [
      "\r",
      " 15%|█████▌                                | 222/1517 [50:42<4:54:17, 13.64s/it]"
     ]
    },
    {
     "name": "stdout",
     "output_type": "stream",
     "text": [
      "c1: 0, c2: 5, c3: 7\n",
      "nan 2017-03-17 00:00:00\n",
      "\n"
     ]
    },
    {
     "name": "stderr",
     "output_type": "stream",
     "text": [
      "\r",
      " 15%|█████▌                                | 223/1517 [50:48<4:08:41, 11.53s/it]"
     ]
    },
    {
     "name": "stdout",
     "output_type": "stream",
     "text": [
      "c1: 0, c2: 0, c3: 6\n",
      "nan 2017-01-24 00:00:00\n",
      "\n"
     ]
    },
    {
     "name": "stderr",
     "output_type": "stream",
     "text": [
      "\r",
      " 15%|█████▌                                | 224/1517 [50:55<3:37:11, 10.08s/it]"
     ]
    },
    {
     "name": "stdout",
     "output_type": "stream",
     "text": [
      "c1: 0, c2: 2, c3: 5\n",
      "nan 2017-02-17 00:00:00\n",
      "\n"
     ]
    },
    {
     "name": "stderr",
     "output_type": "stream",
     "text": [
      "\r",
      " 15%|█████▋                                | 225/1517 [51:03<3:21:04,  9.34s/it]"
     ]
    },
    {
     "name": "stdout",
     "output_type": "stream",
     "text": [
      "c1: 0, c2: 11, c3: 21\n",
      "nan 2017-07-06 00:00:00\n",
      "\n"
     ]
    },
    {
     "name": "stderr",
     "output_type": "stream",
     "text": [
      "\r",
      " 15%|█████▋                                | 226/1517 [51:20<4:15:18, 11.87s/it]"
     ]
    },
    {
     "name": "stdout",
     "output_type": "stream",
     "text": [
      "c1: 0, c2: 18, c3: 0\n",
      "nan 2017-11-30 00:00:00\n",
      "\n"
     ]
    },
    {
     "name": "stderr",
     "output_type": "stream",
     "text": [
      "\r",
      " 15%|█████▋                                | 227/1517 [51:28<3:48:04, 10.61s/it]"
     ]
    },
    {
     "name": "stdout",
     "output_type": "stream",
     "text": [
      "c1: 0, c2: 3, c3: 3\n",
      "nan 2017-06-12 00:00:00\n",
      "\n"
     ]
    },
    {
     "name": "stderr",
     "output_type": "stream",
     "text": [
      "\r",
      " 15%|█████▋                                | 228/1517 [52:19<8:05:41, 22.61s/it]"
     ]
    },
    {
     "name": "stdout",
     "output_type": "stream",
     "text": [
      "c1: 0, c2: 1, c3: 11\n",
      "nan 2017-05-26 00:00:00\n",
      "\n"
     ]
    },
    {
     "name": "stderr",
     "output_type": "stream",
     "text": [
      "\r",
      " 15%|█████▋                                | 229/1517 [52:26<6:26:15, 17.99s/it]"
     ]
    },
    {
     "name": "stdout",
     "output_type": "stream",
     "text": [
      "c1: 0, c2: 10, c3: 1\n",
      "nan 2017-06-16 00:00:00\n",
      "\n"
     ]
    },
    {
     "name": "stderr",
     "output_type": "stream",
     "text": [
      "\r",
      " 15%|█████▊                                | 230/1517 [52:37<5:41:57, 15.94s/it]"
     ]
    },
    {
     "name": "stdout",
     "output_type": "stream",
     "text": [
      "c1: 0, c2: 6, c3: 3\n",
      "nan 2017-02-24 00:00:00\n",
      "\n"
     ]
    },
    {
     "name": "stderr",
     "output_type": "stream",
     "text": [
      "\r",
      " 15%|█████▊                                | 231/1517 [52:42<4:30:01, 12.60s/it]"
     ]
    },
    {
     "name": "stdout",
     "output_type": "stream",
     "text": [
      "c1: 0, c2: 5, c3: 10\n",
      "nan 2017-08-08 00:00:00\n",
      "\n"
     ]
    },
    {
     "name": "stderr",
     "output_type": "stream",
     "text": [
      "\r",
      " 15%|█████▊                                | 232/1517 [52:52<4:14:41, 11.89s/it]"
     ]
    },
    {
     "name": "stdout",
     "output_type": "stream",
     "text": [
      "c1: 0, c2: 3, c3: 46\n",
      "nan 2017-05-31 00:00:00\n",
      "\n"
     ]
    },
    {
     "name": "stderr",
     "output_type": "stream",
     "text": [
      "\r",
      " 15%|█████▊                                | 233/1517 [53:13<5:08:48, 14.43s/it]"
     ]
    },
    {
     "name": "stdout",
     "output_type": "stream",
     "text": [
      "c1: 0, c2: 11, c3: 48\n",
      "nan 2017-06-22 00:00:00\n",
      "\n"
     ]
    },
    {
     "name": "stderr",
     "output_type": "stream",
     "text": [
      "\r",
      " 15%|█████▊                                | 234/1517 [53:20<4:24:16, 12.36s/it]"
     ]
    },
    {
     "name": "stdout",
     "output_type": "stream",
     "text": [
      "c1: 0, c2: 2, c3: 34\n",
      "nan 2017-07-08 00:00:00\n",
      "\n"
     ]
    },
    {
     "name": "stderr",
     "output_type": "stream",
     "text": [
      "\r",
      " 15%|█████▉                                | 235/1517 [53:26<3:45:53, 10.57s/it]"
     ]
    },
    {
     "name": "stdout",
     "output_type": "stream",
     "text": [
      "c1: 0, c2: 0, c3: 1\n",
      "nan 2017-11-09 00:00:00\n",
      "\n"
     ]
    },
    {
     "name": "stderr",
     "output_type": "stream",
     "text": [
      "\r",
      " 16%|█████▉                                | 236/1517 [53:32<3:16:15,  9.19s/it]"
     ]
    },
    {
     "name": "stdout",
     "output_type": "stream",
     "text": [
      "c1: 0, c2: 3, c3: 0\n",
      "nan 2017-06-12 00:00:00\n",
      "\n"
     ]
    },
    {
     "name": "stderr",
     "output_type": "stream",
     "text": [
      "\r",
      " 16%|█████▉                                | 237/1517 [53:46<3:42:58, 10.45s/it]"
     ]
    },
    {
     "name": "stdout",
     "output_type": "stream",
     "text": [
      "c1: 0, c2: 2, c3: 2\n",
      "nan 2017-11-11 00:00:00\n",
      "\n"
     ]
    },
    {
     "name": "stderr",
     "output_type": "stream",
     "text": [
      "\r",
      " 16%|█████▉                                | 238/1517 [53:51<3:06:27,  8.75s/it]"
     ]
    },
    {
     "name": "stdout",
     "output_type": "stream",
     "text": [
      "c1: 0, c2: 0, c3: 3\n",
      "nan 2017-07-21 00:00:00\n",
      "\n"
     ]
    },
    {
     "name": "stderr",
     "output_type": "stream",
     "text": [
      "\r",
      " 16%|█████▉                                | 239/1517 [53:59<3:06:38,  8.76s/it]"
     ]
    },
    {
     "name": "stdout",
     "output_type": "stream",
     "text": [
      "c1: 0, c2: 0, c3: 40\n",
      "nan 2017-07-13 00:00:00\n",
      "\n"
     ]
    },
    {
     "name": "stderr",
     "output_type": "stream",
     "text": [
      "\r",
      " 16%|██████                                | 240/1517 [54:06<2:51:41,  8.07s/it]"
     ]
    },
    {
     "name": "stdout",
     "output_type": "stream",
     "text": [
      "c1: 0, c2: 0, c3: 11\n",
      "nan 2017-08-18 00:00:00\n",
      "\n"
     ]
    },
    {
     "name": "stderr",
     "output_type": "stream",
     "text": [
      "\r",
      " 16%|██████                                | 241/1517 [54:24<3:54:12, 11.01s/it]"
     ]
    },
    {
     "name": "stdout",
     "output_type": "stream",
     "text": [
      "c1: 0, c2: 1, c3: 43\n",
      "nan 2017-10-01 00:00:00\n",
      "\n"
     ]
    },
    {
     "name": "stderr",
     "output_type": "stream",
     "text": [
      "\r",
      " 16%|██████                                | 242/1517 [54:35<3:54:16, 11.02s/it]"
     ]
    },
    {
     "name": "stdout",
     "output_type": "stream",
     "text": [
      "c1: 0, c2: 0, c3: 3\n",
      "Sir Ivan fire 2017-02-09 00:00:00\n",
      "\n"
     ]
    },
    {
     "name": "stderr",
     "output_type": "stream",
     "text": [
      "\r",
      " 16%|█████▉                               | 243/1517 [55:57<11:29:37, 32.48s/it]"
     ]
    },
    {
     "name": "stdout",
     "output_type": "stream",
     "text": [
      "c1: 21, c2: 35, c3: 35\n",
      "Gustafsen, Wildwood, Elephant Hill Fires 2017-07-07 00:00:00\n",
      "\n"
     ]
    },
    {
     "name": "stderr",
     "output_type": "stream",
     "text": [
      "\r",
      " 16%|█████▉                               | 244/1517 [57:01<14:47:25, 41.83s/it]"
     ]
    },
    {
     "name": "stdout",
     "output_type": "stream",
     "text": [
      "c1: 0, c2: 11, c3: 11\n",
      "nan 2017-01-15 00:00:00\n",
      "\n"
     ]
    },
    {
     "name": "stderr",
     "output_type": "stream",
     "text": [
      "\r",
      " 16%|█████▉                               | 245/1517 [57:09<11:09:01, 31.56s/it]"
     ]
    },
    {
     "name": "stdout",
     "output_type": "stream",
     "text": [
      "c1: 0, c2: 0, c3: 2\n",
      "nan 2017-06-24 00:00:00\n",
      "\n"
     ]
    },
    {
     "name": "stderr",
     "output_type": "stream",
     "text": [
      "\r",
      " 16%|██████                               | 246/1517 [57:29<10:01:13, 28.38s/it]"
     ]
    },
    {
     "name": "stdout",
     "output_type": "stream",
     "text": [
      "c1: 0, c2: 43, c3: 25\n",
      "Debbie 2017-03-27 00:00:00\n",
      "\n"
     ]
    },
    {
     "name": "stderr",
     "output_type": "stream",
     "text": [
      " 16%|██████▏                               | 248/1517 [57:46<6:18:15, 17.88s/it]"
     ]
    },
    {
     "name": "stdout",
     "output_type": "stream",
     "text": [
      "c1: 0, c2: 1, c3: 1\n",
      "nan 2017-12-17 00:00:00\n",
      "\n"
     ]
    },
    {
     "name": "stderr",
     "output_type": "stream",
     "text": [
      "\r",
      " 16%|██████▏                               | 249/1517 [57:53<5:06:01, 14.48s/it]"
     ]
    },
    {
     "name": "stdout",
     "output_type": "stream",
     "text": [
      "c1: 1, c2: 92, c3: 39\n",
      "Typhoon 'Hato' 2017-08-24 00:00:00\n",
      "\n"
     ]
    },
    {
     "name": "stderr",
     "output_type": "stream",
     "text": [
      "\r",
      " 16%|██████▎                               | 250/1517 [57:58<4:09:03, 11.79s/it]"
     ]
    },
    {
     "name": "stdout",
     "output_type": "stream",
     "text": [
      "c1: 350, c2: 1, c3: 0\n",
      "Tropical depression'16/Hurricane 'Nate' 2017-10-04 00:00:00\n",
      "\n"
     ]
    },
    {
     "name": "stderr",
     "output_type": "stream",
     "text": [
      "\r",
      " 17%|██████▎                               | 251/1517 [58:13<4:28:18, 12.72s/it]"
     ]
    },
    {
     "name": "stdout",
     "output_type": "stream",
     "text": [
      "c1: 1524, c2: 35, c3: 3\n",
      "Hurricane 'Irma' 2017-09-08 00:00:00\n",
      "\n"
     ]
    },
    {
     "name": "stderr",
     "output_type": "stream",
     "text": [
      "\r",
      " 17%|██████▎                               | 252/1517 [58:22<4:03:03, 11.53s/it]"
     ]
    },
    {
     "name": "stdout",
     "output_type": "stream",
     "text": [
      "c1: 1531, c2: 6, c3: 0\n",
      "Hurricane 'Irma' 2017-09-06 00:00:00\n",
      "\n"
     ]
    },
    {
     "name": "stderr",
     "output_type": "stream",
     "text": [
      "\r",
      " 17%|██████▎                               | 253/1517 [58:27<3:24:32,  9.71s/it]"
     ]
    },
    {
     "name": "stdout",
     "output_type": "stream",
     "text": [
      "c1: 0, c2: 0, c3: 18\n",
      "Hurricane 'Maria' 2017-09-20 00:00:00\n",
      "\n"
     ]
    },
    {
     "name": "stderr",
     "output_type": "stream",
     "text": [
      "\r",
      " 17%|██████▎                               | 254/1517 [58:32<2:55:38,  8.34s/it]"
     ]
    },
    {
     "name": "stdout",
     "output_type": "stream",
     "text": [
      "c1: 1, c2: 1, c3: 15\n",
      "Typhoon 'Hato' 2017-08-24 00:00:00\n",
      "\n"
     ]
    },
    {
     "name": "stderr",
     "output_type": "stream",
     "text": [
      "\r",
      " 17%|██████▍                               | 255/1517 [58:37<2:34:37,  7.35s/it]"
     ]
    },
    {
     "name": "stdout",
     "output_type": "stream",
     "text": [
      "c1: 0, c2: 4, c3: 6\n",
      "nan 2017-02-05 00:00:00\n",
      "\n"
     ]
    },
    {
     "name": "stderr",
     "output_type": "stream",
     "text": [
      "\r",
      " 17%|██████▍                               | 256/1517 [58:43<2:21:17,  6.72s/it]"
     ]
    },
    {
     "name": "stdout",
     "output_type": "stream",
     "text": [
      "c1: 0, c2: 0, c3: 10\n",
      "nan 2017-02-05 00:00:00\n",
      "\n"
     ]
    },
    {
     "name": "stderr",
     "output_type": "stream",
     "text": [
      " 17%|██████▌                               | 261/1517 [59:31<2:54:16,  8.33s/it]"
     ]
    },
    {
     "name": "stdout",
     "output_type": "stream",
     "text": [
      "c1: 0, c2: 0, c3: 3\n",
      "nan 2017-07-17 00:00:00\n",
      "\n"
     ]
    },
    {
     "name": "stderr",
     "output_type": "stream",
     "text": [
      "\r",
      " 17%|██████▌                               | 262/1517 [59:49<3:51:00, 11.04s/it]"
     ]
    },
    {
     "name": "stdout",
     "output_type": "stream",
     "text": [
      "c1: 0, c2: 0, c3: 3\n",
      "nan 2017-03-21 00:00:00\n",
      "\n"
     ]
    },
    {
     "name": "stderr",
     "output_type": "stream",
     "text": [
      "\r",
      " 17%|██████▌                               | 263/1517 [59:54<3:12:58,  9.23s/it]"
     ]
    },
    {
     "name": "stdout",
     "output_type": "stream",
     "text": [
      "c1: 1531, c2: 0, c3: 0\n",
      "Hurricane 'Irma' 2017-09-06 00:00:00\n",
      "\n"
     ]
    },
    {
     "name": "stderr",
     "output_type": "stream",
     "text": [
      " 17%|██████▎                             | 265/1517 [1:00:14<3:34:39, 10.29s/it]"
     ]
    },
    {
     "name": "stdout",
     "output_type": "stream",
     "text": [
      "c1: 0, c2: 0, c3: 4\n",
      "nan 2017-05-29 00:00:00\n",
      "\n"
     ]
    },
    {
     "name": "stderr",
     "output_type": "stream",
     "text": [
      "\r",
      " 18%|██████▎                             | 266/1517 [1:00:20<3:07:11,  8.98s/it]"
     ]
    },
    {
     "name": "stdout",
     "output_type": "stream",
     "text": [
      "c1: 0, c2: 0, c3: 2\n",
      "nan 2017-01-10 00:00:00\n",
      "\n"
     ]
    },
    {
     "name": "stderr",
     "output_type": "stream",
     "text": [
      "\r",
      " 18%|██████▎                             | 267/1517 [1:00:42<4:24:57, 12.72s/it]"
     ]
    },
    {
     "name": "stdout",
     "output_type": "stream",
     "text": [
      "c1: 0, c2: 1, c3: 5\n",
      "nan 2017-03-27 00:00:00\n",
      "\n"
     ]
    },
    {
     "name": "stderr",
     "output_type": "stream",
     "text": [
      "\r",
      " 18%|██████▎                             | 268/1517 [1:00:59<4:53:45, 14.11s/it]"
     ]
    },
    {
     "name": "stdout",
     "output_type": "stream",
     "text": [
      "c1: 0, c2: 0, c3: 7\n",
      "nan 2017-04-05 00:00:00\n",
      "\n"
     ]
    },
    {
     "name": "stderr",
     "output_type": "stream",
     "text": [
      "\r",
      " 18%|██████▍                             | 269/1517 [1:01:05<4:03:36, 11.71s/it]"
     ]
    },
    {
     "name": "stdout",
     "output_type": "stream",
     "text": [
      "c1: 1531, c2: 0, c3: 0\n",
      "Hurricane 'Irma' 2017-09-06 00:00:00\n",
      "\n"
     ]
    },
    {
     "name": "stderr",
     "output_type": "stream",
     "text": [
      "\r",
      " 18%|██████▍                             | 270/1517 [1:01:12<3:31:52, 10.19s/it]"
     ]
    },
    {
     "name": "stdout",
     "output_type": "stream",
     "text": [
      "c1: 0, c2: 0, c3: 52\n",
      "nan 2017-03-06 00:00:00\n",
      "\n"
     ]
    },
    {
     "name": "stderr",
     "output_type": "stream",
     "text": [
      "\r",
      " 18%|██████▍                             | 271/1517 [1:01:17<2:57:26,  8.54s/it]"
     ]
    },
    {
     "name": "stdout",
     "output_type": "stream",
     "text": [
      "c1: 0, c2: 2, c3: 1\n",
      "nan 2017-08-19 00:00:00\n",
      "\n"
     ]
    },
    {
     "name": "stderr",
     "output_type": "stream",
     "text": [
      "\r",
      " 18%|██████▍                             | 272/1517 [1:01:23<2:46:06,  8.01s/it]"
     ]
    },
    {
     "name": "stdout",
     "output_type": "stream",
     "text": [
      "c1: 0, c2: 0, c3: 2\n",
      "nan 2017-05-01 00:00:00\n",
      "\n"
     ]
    },
    {
     "name": "stderr",
     "output_type": "stream",
     "text": [
      "\r",
      " 18%|██████▍                             | 273/1517 [1:01:49<4:38:29, 13.43s/it]"
     ]
    },
    {
     "name": "stdout",
     "output_type": "stream",
     "text": [
      "c1: 0, c2: 1, c3: 9\n",
      "nan 2017-03-28 00:00:00\n",
      "\n"
     ]
    },
    {
     "name": "stderr",
     "output_type": "stream",
     "text": [
      "\r",
      " 18%|██████▌                             | 274/1517 [1:02:00<4:19:47, 12.54s/it]"
     ]
    },
    {
     "name": "stdout",
     "output_type": "stream",
     "text": [
      "c1: 11, c2: 3, c3: 1\n",
      "Cyclone Mora 2017-05-30 00:00:00\n",
      "\n"
     ]
    },
    {
     "name": "stderr",
     "output_type": "stream",
     "text": [
      "\r",
      " 18%|██████▌                             | 275/1517 [1:02:37<6:52:42, 19.94s/it]"
     ]
    },
    {
     "name": "stdout",
     "output_type": "stream",
     "text": [
      "c1: 30, c2: 0, c3: 4\n",
      "Diphteria 2017-11-03 00:00:00\n",
      "\n"
     ]
    },
    {
     "name": "stderr",
     "output_type": "stream",
     "text": [
      "\r",
      " 18%|██████▌                             | 276/1517 [1:03:13<8:33:18, 24.82s/it]"
     ]
    },
    {
     "name": "stdout",
     "output_type": "stream",
     "text": [
      "c1: 0, c2: 19, c3: 54\n",
      "nan 2017-08-10 00:00:00\n",
      "\n"
     ]
    },
    {
     "name": "stderr",
     "output_type": "stream",
     "text": [
      "\r",
      " 18%|██████▌                             | 277/1517 [1:03:21<6:44:58, 19.60s/it]"
     ]
    },
    {
     "name": "stdout",
     "output_type": "stream",
     "text": [
      "c1: 1493, c2: 0, c3: 0\n",
      "Hurricane 'Irma' 2017-09-08 00:00:00\n",
      "\n"
     ]
    },
    {
     "name": "stderr",
     "output_type": "stream",
     "text": [
      "\r",
      " 18%|██████▍                            | 278/1517 [1:06:46<25:52:02, 75.16s/it]"
     ]
    },
    {
     "name": "stdout",
     "output_type": "stream",
     "text": [
      "c1: 123, c2: 10, c3: 43\n",
      "Yellow fever 2017-07-01 00:00:00\n",
      "\n"
     ]
    },
    {
     "name": "stderr",
     "output_type": "stream",
     "text": [
      "\r",
      " 18%|██████▍                            | 279/1517 [1:06:53<18:53:56, 54.96s/it]"
     ]
    },
    {
     "name": "stdout",
     "output_type": "stream",
     "text": [
      "c1: 1493, c2: 0, c3: 0\n",
      "Hurricane 'Irma' 2017-09-08 00:00:00\n",
      "\n"
     ]
    },
    {
     "name": "stderr",
     "output_type": "stream",
     "text": [
      "\r",
      " 18%|██████▍                            | 280/1517 [1:07:08<14:45:59, 42.97s/it]"
     ]
    },
    {
     "name": "stdout",
     "output_type": "stream",
     "text": [
      "c1: 0, c2: 55, c3: 0\n",
      "nan 2017-02-18 00:00:00\n",
      "\n"
     ]
    },
    {
     "name": "stderr",
     "output_type": "stream",
     "text": [
      "\r",
      " 19%|██████▍                            | 281/1517 [1:07:18<11:17:16, 32.88s/it]"
     ]
    },
    {
     "name": "stdout",
     "output_type": "stream",
     "text": [
      "c1: 0, c2: 0, c3: 2\n",
      "nan 2017-08-23 00:00:00\n",
      "\n"
     ]
    },
    {
     "name": "stderr",
     "output_type": "stream",
     "text": [
      "\r",
      " 19%|██████▌                            | 282/1517 [1:07:59<12:05:53, 35.27s/it]"
     ]
    },
    {
     "name": "stdout",
     "output_type": "stream",
     "text": [
      "c1: 0, c2: 130, c3: 20\n",
      "nan 2017-05-05 00:00:00\n",
      "\n"
     ]
    },
    {
     "name": "stderr",
     "output_type": "stream",
     "text": [
      "\r",
      " 19%|██████▋                             | 283/1517 [1:08:04<9:00:10, 26.26s/it]"
     ]
    },
    {
     "name": "stdout",
     "output_type": "stream",
     "text": [
      "c1: 0, c2: 3, c3: 21\n",
      "nan 2017-08-28 00:00:00\n",
      "\n"
     ]
    },
    {
     "name": "stderr",
     "output_type": "stream",
     "text": [
      "\r",
      " 19%|██████▋                             | 284/1517 [1:08:08<6:43:31, 19.64s/it]"
     ]
    },
    {
     "name": "stdout",
     "output_type": "stream",
     "text": [
      "c1: 0, c2: 0, c3: 1\n",
      "nan 2017-08-23 00:00:00\n",
      "\n"
     ]
    },
    {
     "name": "stderr",
     "output_type": "stream",
     "text": [
      "\r",
      " 19%|██████▊                             | 285/1517 [1:08:16<5:33:30, 16.24s/it]"
     ]
    },
    {
     "name": "stdout",
     "output_type": "stream",
     "text": [
      "c1: 0, c2: 1, c3: 1\n",
      "nan 2017-05-11 00:00:00\n",
      "\n"
     ]
    },
    {
     "name": "stderr",
     "output_type": "stream",
     "text": [
      "\r",
      " 19%|██████▊                             | 286/1517 [1:08:22<4:27:33, 13.04s/it]"
     ]
    },
    {
     "name": "stdout",
     "output_type": "stream",
     "text": [
      "c1: 0, c2: 2, c3: 20\n",
      "nan 2017-04-15 00:00:00\n",
      "\n"
     ]
    },
    {
     "name": "stderr",
     "output_type": "stream",
     "text": [
      "\r",
      " 19%|██████▊                             | 287/1517 [1:08:29<3:53:27, 11.39s/it]"
     ]
    },
    {
     "name": "stdout",
     "output_type": "stream",
     "text": [
      "c1: 0, c2: 3, c3: 11\n",
      "nan 2017-05-20 00:00:00\n",
      "\n"
     ]
    },
    {
     "name": "stderr",
     "output_type": "stream",
     "text": [
      "\r",
      " 19%|██████▊                             | 288/1517 [1:08:34<3:13:16,  9.44s/it]"
     ]
    },
    {
     "name": "stdout",
     "output_type": "stream",
     "text": [
      "c1: 0, c2: 0, c3: 25\n",
      "nan 2017-03-01 00:00:00\n",
      "\n"
     ]
    },
    {
     "name": "stderr",
     "output_type": "stream",
     "text": [
      "\r",
      " 19%|██████▊                             | 289/1517 [1:08:39<2:47:08,  8.17s/it]"
     ]
    },
    {
     "name": "stdout",
     "output_type": "stream",
     "text": [
      "c1: 0, c2: 0, c3: 2\n",
      "nan 2017-03-26 00:00:00\n",
      "\n"
     ]
    },
    {
     "name": "stderr",
     "output_type": "stream",
     "text": [
      "\r",
      " 19%|██████▉                             | 290/1517 [1:08:44<2:27:31,  7.21s/it]"
     ]
    },
    {
     "name": "stdout",
     "output_type": "stream",
     "text": [
      "c1: 0, c2: 0, c3: 3\n",
      "nan 2017-05-11 00:00:00\n",
      "\n"
     ]
    },
    {
     "name": "stderr",
     "output_type": "stream",
     "text": [
      "\r",
      " 19%|██████▉                             | 291/1517 [1:08:48<2:05:44,  6.15s/it]"
     ]
    },
    {
     "name": "stdout",
     "output_type": "stream",
     "text": [
      "c1: 0, c2: 1, c3: 3\n",
      "nan 2017-11-18 00:00:00\n",
      "\n"
     ]
    },
    {
     "name": "stderr",
     "output_type": "stream",
     "text": [
      "\r",
      " 19%|██████▉                             | 292/1517 [1:08:53<1:58:32,  5.81s/it]"
     ]
    },
    {
     "name": "stdout",
     "output_type": "stream",
     "text": [
      "c1: 0, c2: 0, c3: 3\n",
      "nan 2017-01-20 00:00:00\n",
      "\n"
     ]
    },
    {
     "name": "stderr",
     "output_type": "stream",
     "text": [
      "\r",
      " 19%|██████▉                             | 293/1517 [1:08:58<1:50:05,  5.40s/it]"
     ]
    },
    {
     "name": "stdout",
     "output_type": "stream",
     "text": [
      "c1: 0, c2: 1, c3: 9\n",
      "nan 2017-08-07 00:00:00\n",
      "\n"
     ]
    },
    {
     "name": "stderr",
     "output_type": "stream",
     "text": [
      "\r",
      " 19%|██████▉                             | 294/1517 [1:09:02<1:42:32,  5.03s/it]"
     ]
    },
    {
     "name": "stdout",
     "output_type": "stream",
     "text": [
      "c1: 0, c2: 1, c3: 1\n",
      "nan 2017-08-28 00:00:00\n",
      "\n"
     ]
    },
    {
     "name": "stderr",
     "output_type": "stream",
     "text": [
      "\r",
      " 19%|███████                             | 295/1517 [1:09:07<1:42:58,  5.06s/it]"
     ]
    },
    {
     "name": "stdout",
     "output_type": "stream",
     "text": [
      "c1: 0, c2: 10, c3: 4\n",
      "nan 2017-06-23 00:00:00\n",
      "\n"
     ]
    },
    {
     "name": "stderr",
     "output_type": "stream",
     "text": [
      "\r",
      " 20%|███████                             | 296/1517 [1:09:13<1:47:27,  5.28s/it]"
     ]
    },
    {
     "name": "stdout",
     "output_type": "stream",
     "text": [
      "c1: 1, c2: 0, c3: 25\n",
      "Tropical Storm Talas 2017-07-16 00:00:00\n",
      "\n"
     ]
    },
    {
     "name": "stderr",
     "output_type": "stream",
     "text": [
      "\r",
      " 20%|███████                             | 297/1517 [1:09:18<1:48:52,  5.35s/it]"
     ]
    },
    {
     "name": "stdout",
     "output_type": "stream",
     "text": [
      "c1: 0, c2: 0, c3: 20\n",
      "Typhoon Nesat & Haitang 2017-08-03 00:00:00\n",
      "\n"
     ]
    },
    {
     "name": "stderr",
     "output_type": "stream",
     "text": [
      "\r",
      " 20%|███████                             | 298/1517 [1:09:24<1:52:52,  5.56s/it]"
     ]
    },
    {
     "name": "stdout",
     "output_type": "stream",
     "text": [
      "c1: 0, c2: 0, c3: 51\n",
      "Tropical storm 'Pakhar'/'Jolina' 2017-08-27 00:00:00\n",
      "\n"
     ]
    },
    {
     "name": "stderr",
     "output_type": "stream",
     "text": [
      "\r",
      " 20%|███████                             | 299/1517 [1:09:33<2:10:58,  6.45s/it]"
     ]
    },
    {
     "name": "stdout",
     "output_type": "stream",
     "text": [
      "c1: 0, c2: 2, c3: 20\n",
      "nan 2017-06-08 00:00:00\n",
      "\n"
     ]
    },
    {
     "name": "stderr",
     "output_type": "stream",
     "text": [
      "\r",
      " 20%|███████                             | 300/1517 [1:09:41<2:20:53,  6.95s/it]"
     ]
    },
    {
     "name": "stdout",
     "output_type": "stream",
     "text": [
      "c1: 0, c2: 0, c3: 36\n",
      "nan 2017-07-17 00:00:00\n",
      "\n"
     ]
    },
    {
     "name": "stderr",
     "output_type": "stream",
     "text": [
      "\r",
      " 20%|███████▏                            | 301/1517 [1:09:48<2:22:19,  7.02s/it]"
     ]
    },
    {
     "name": "stdout",
     "output_type": "stream",
     "text": [
      "c1: 0, c2: 2, c3: 36\n",
      "nan 2017-08-08 00:00:00\n",
      "\n"
     ]
    },
    {
     "name": "stderr",
     "output_type": "stream",
     "text": [
      "\r",
      " 20%|███████▏                            | 302/1517 [1:10:07<3:34:12, 10.58s/it]"
     ]
    },
    {
     "name": "stdout",
     "output_type": "stream",
     "text": [
      "c1: 0, c2: 0, c3: 59\n",
      "nan 2017-09-24 00:00:00\n",
      "\n"
     ]
    },
    {
     "name": "stderr",
     "output_type": "stream",
     "text": [
      "\r",
      " 20%|███████▏                            | 303/1517 [1:10:15<3:20:41,  9.92s/it]"
     ]
    },
    {
     "name": "stdout",
     "output_type": "stream",
     "text": [
      "c1: 0, c2: 1, c3: 53\n",
      "nan 2017-08-11 00:00:00\n",
      "\n"
     ]
    },
    {
     "name": "stderr",
     "output_type": "stream",
     "text": [
      "\r",
      " 20%|███████▏                            | 304/1517 [1:10:24<3:10:00,  9.40s/it]"
     ]
    },
    {
     "name": "stdout",
     "output_type": "stream",
     "text": [
      "c1: 0, c2: 1, c3: 36\n",
      "nan 2017-04-26 00:00:00\n",
      "\n"
     ]
    },
    {
     "name": "stderr",
     "output_type": "stream",
     "text": [
      "\r",
      " 20%|███████▏                            | 305/1517 [1:11:33<9:16:51, 27.57s/it]"
     ]
    },
    {
     "name": "stdout",
     "output_type": "stream",
     "text": [
      "c1: 33, c2: 0, c3: 0\n",
      "Dengue 2017-04-22 00:00:00\n",
      "\n"
     ]
    },
    {
     "name": "stderr",
     "output_type": "stream",
     "text": [
      "\r",
      " 20%|███████▎                            | 306/1517 [1:11:56<8:44:47, 26.00s/it]"
     ]
    },
    {
     "name": "stdout",
     "output_type": "stream",
     "text": [
      "c1: 0, c2: 0, c3: 2\n",
      "nan 2017-08-04 00:00:00\n",
      "\n"
     ]
    },
    {
     "name": "stderr",
     "output_type": "stream",
     "text": [
      "\r",
      " 20%|███████▎                            | 307/1517 [1:12:04<6:57:54, 20.72s/it]"
     ]
    },
    {
     "name": "stdout",
     "output_type": "stream",
     "text": [
      "c1: 0, c2: 2, c3: 0\n",
      "nan 2017-04-17 00:00:00\n",
      "\n"
     ]
    },
    {
     "name": "stderr",
     "output_type": "stream",
     "text": [
      "\r",
      " 20%|███████▎                            | 308/1517 [1:12:12<5:39:21, 16.84s/it]"
     ]
    },
    {
     "name": "stdout",
     "output_type": "stream",
     "text": [
      "c1: 0, c2: 28, c3: 4\n",
      "nan 2017-03-31 00:00:00\n",
      "\n"
     ]
    },
    {
     "name": "stderr",
     "output_type": "stream",
     "text": [
      "\r",
      " 20%|███████▎                            | 309/1517 [1:12:26<5:18:56, 15.84s/it]"
     ]
    },
    {
     "name": "stdout",
     "output_type": "stream",
     "text": [
      "c1: 0, c2: 0, c3: 1\n",
      "nan 2017-02-23 00:00:00\n",
      "\n"
     ]
    },
    {
     "name": "stderr",
     "output_type": "stream",
     "text": [
      "\r",
      " 20%|███████▎                            | 310/1517 [1:13:00<7:12:01, 21.48s/it]"
     ]
    },
    {
     "name": "stdout",
     "output_type": "stream",
     "text": [
      "c1: 0, c2: 0, c3: 9\n",
      "nan 2017-01-05 00:00:00\n",
      "\n"
     ]
    },
    {
     "name": "stderr",
     "output_type": "stream",
     "text": [
      "\r",
      " 21%|███████▍                            | 311/1517 [1:13:06<5:36:24, 16.74s/it]"
     ]
    },
    {
     "name": "stdout",
     "output_type": "stream",
     "text": [
      "c1: 0, c2: 17, c3: 0\n",
      "nan 2017-08-10 00:00:00\n",
      "\n"
     ]
    },
    {
     "name": "stderr",
     "output_type": "stream",
     "text": [
      "\r",
      " 21%|███████▍                            | 312/1517 [1:13:12<4:30:26, 13.47s/it]"
     ]
    },
    {
     "name": "stdout",
     "output_type": "stream",
     "text": [
      "c1: 0, c2: 1, c3: 26\n",
      "nan 2017-06-22 00:00:00\n",
      "\n"
     ]
    },
    {
     "name": "stderr",
     "output_type": "stream",
     "text": [
      "\r",
      " 21%|███████▍                            | 313/1517 [1:13:21<4:05:53, 12.25s/it]"
     ]
    },
    {
     "name": "stdout",
     "output_type": "stream",
     "text": [
      "c1: 0, c2: 0, c3: 6\n",
      "nan 2017-07-24 00:00:00\n",
      "\n"
     ]
    },
    {
     "name": "stderr",
     "output_type": "stream",
     "text": [
      " 21%|███████▍                            | 315/1517 [1:13:35<3:07:12,  9.34s/it]"
     ]
    },
    {
     "name": "stdout",
     "output_type": "stream",
     "text": [
      "c1: 0, c2: 3, c3: 9\n",
      "nan 2017-10-17 00:00:00\n",
      "\n"
     ]
    },
    {
     "name": "stderr",
     "output_type": "stream",
     "text": [
      "\r",
      " 21%|███████▍                            | 316/1517 [1:13:41<2:50:25,  8.51s/it]"
     ]
    },
    {
     "name": "stdout",
     "output_type": "stream",
     "text": [
      "c1: 0, c2: 0, c3: 9\n",
      "nan 2017-06-13 00:00:00\n",
      "\n"
     ]
    },
    {
     "name": "stderr",
     "output_type": "stream",
     "text": [
      "\r",
      " 21%|███████▌                            | 317/1517 [1:13:50<2:49:47,  8.49s/it]"
     ]
    },
    {
     "name": "stdout",
     "output_type": "stream",
     "text": [
      "c1: 6, c2: 0, c3: 23\n",
      "'Zeus' 2017-03-06 00:00:00\n",
      "\n"
     ]
    },
    {
     "name": "stderr",
     "output_type": "stream",
     "text": [
      "\r",
      " 21%|███████▌                            | 318/1517 [1:13:56<2:39:07,  7.96s/it]"
     ]
    },
    {
     "name": "stdout",
     "output_type": "stream",
     "text": [
      "c1: 0, c2: 13, c3: 5\n",
      "nan 2017-07-24 00:00:00\n",
      "\n"
     ]
    },
    {
     "name": "stderr",
     "output_type": "stream",
     "text": [
      " 21%|███████▌                            | 320/1517 [1:14:10<2:23:17,  7.18s/it]"
     ]
    },
    {
     "name": "stdout",
     "output_type": "stream",
     "text": [
      "c1: 0, c2: 0, c3: 2\n",
      "nan 2017-03-19 00:00:00\n",
      "\n"
     ]
    },
    {
     "name": "stderr",
     "output_type": "stream",
     "text": [
      "\r",
      " 21%|███████▍                           | 321/1517 [1:16:15<14:05:38, 42.42s/it]"
     ]
    },
    {
     "name": "stdout",
     "output_type": "stream",
     "text": [
      "c1: 0, c2: 18, c3: 11\n",
      "nan 2017-04-01 00:00:00\n",
      "\n"
     ]
    },
    {
     "name": "stderr",
     "output_type": "stream",
     "text": [
      "\r",
      " 21%|███████▍                           | 322/1517 [1:16:20<10:25:02, 31.38s/it]"
     ]
    },
    {
     "name": "stdout",
     "output_type": "stream",
     "text": [
      "c1: 0, c2: 0, c3: 1\n",
      "nan 2017-07-04 00:00:00\n",
      "\n"
     ]
    },
    {
     "name": "stderr",
     "output_type": "stream",
     "text": [
      "\r",
      " 21%|███████▋                            | 323/1517 [1:16:26<7:50:59, 23.67s/it]"
     ]
    },
    {
     "name": "stdout",
     "output_type": "stream",
     "text": [
      "c1: 0, c2: 1, c3: 20\n",
      "nan 2017-09-08 00:00:00\n",
      "\n"
     ]
    },
    {
     "name": "stderr",
     "output_type": "stream",
     "text": [
      "\r",
      " 21%|███████▋                            | 324/1517 [1:16:31<5:59:23, 18.08s/it]"
     ]
    },
    {
     "name": "stdout",
     "output_type": "stream",
     "text": [
      "c1: 0, c2: 0, c3: 2\n",
      "nan 2017-06-10 00:00:00\n",
      "\n"
     ]
    },
    {
     "name": "stderr",
     "output_type": "stream",
     "text": [
      " 21%|███████▋                            | 326/1517 [1:16:42<3:54:56, 11.84s/it]"
     ]
    },
    {
     "name": "stdout",
     "output_type": "stream",
     "text": [
      "c1: 0, c2: 5, c3: 3\n",
      "nan 2017-09-18 00:00:00\n",
      "\n"
     ]
    },
    {
     "name": "stderr",
     "output_type": "stream",
     "text": [
      "\r",
      " 22%|███████▊                            | 327/1517 [1:16:51<3:37:09, 10.95s/it]"
     ]
    },
    {
     "name": "stdout",
     "output_type": "stream",
     "text": [
      "c1: 0, c2: 0, c3: 2\n",
      "nan 2017-10-23 00:00:00\n",
      "\n"
     ]
    },
    {
     "name": "stderr",
     "output_type": "stream",
     "text": [
      " 22%|███████▊                            | 329/1517 [1:17:07<3:03:58,  9.29s/it]"
     ]
    },
    {
     "name": "stdout",
     "output_type": "stream",
     "text": [
      "c1: 0, c2: 0, c3: 9\n",
      "Tropical storm 'Pakhar'/'Jolina' 2017-08-27 00:00:00\n",
      "\n"
     ]
    },
    {
     "name": "stderr",
     "output_type": "stream",
     "text": [
      "\r",
      " 22%|███████▊                            | 330/1517 [1:17:17<3:04:54,  9.35s/it]"
     ]
    },
    {
     "name": "stdout",
     "output_type": "stream",
     "text": [
      "c1: 16, c2: 9, c3: 13\n",
      "Eleanor 2018-01-03 00:00:00\n",
      "\n"
     ]
    },
    {
     "name": "stderr",
     "output_type": "stream",
     "text": [
      "\r",
      " 22%|███████▊                            | 331/1517 [1:17:28<3:15:32,  9.89s/it]"
     ]
    },
    {
     "name": "stdout",
     "output_type": "stream",
     "text": [
      "c1: 0, c2: 6, c3: 0\n",
      "nan 2018-03-05 00:00:00\n",
      "\n"
     ]
    },
    {
     "name": "stderr",
     "output_type": "stream",
     "text": [
      "\r",
      " 22%|███████▉                            | 332/1517 [1:17:34<2:52:01,  8.71s/it]"
     ]
    },
    {
     "name": "stdout",
     "output_type": "stream",
     "text": [
      "c1: 0, c2: 1, c3: 3\n",
      "nan 2018-02-14 00:00:00\n",
      "\n"
     ]
    },
    {
     "name": "stderr",
     "output_type": "stream",
     "text": [
      "\r",
      " 22%|███████▉                            | 333/1517 [1:17:47<3:15:55,  9.93s/it]"
     ]
    },
    {
     "name": "stdout",
     "output_type": "stream",
     "text": [
      "c1: 35, c2: 0, c3: 9\n",
      "Tropical storm 'Alberto' 2018-05-29 00:00:00\n",
      "\n"
     ]
    },
    {
     "name": "stderr",
     "output_type": "stream",
     "text": [
      "\r",
      " 22%|███████▉                            | 334/1517 [1:17:59<3:27:58, 10.55s/it]"
     ]
    },
    {
     "name": "stdout",
     "output_type": "stream",
     "text": [
      "c1: 0, c2: 0, c3: 10\n",
      "nan 2018-06-05 00:00:00\n",
      "\n"
     ]
    },
    {
     "name": "stderr",
     "output_type": "stream",
     "text": [
      "\r",
      " 22%|███████▉                            | 335/1517 [1:18:12<3:43:33, 11.35s/it]"
     ]
    },
    {
     "name": "stdout",
     "output_type": "stream",
     "text": [
      "c1: 0, c2: 372, c3: 0\n",
      "nan 2018-02-10 00:00:00\n",
      "\n"
     ]
    },
    {
     "name": "stderr",
     "output_type": "stream",
     "text": [
      "\r",
      " 22%|███████▉                            | 336/1517 [1:18:28<4:09:24, 12.67s/it]"
     ]
    },
    {
     "name": "stdout",
     "output_type": "stream",
     "text": [
      "c1: 0, c2: 0, c3: 5\n",
      "nan 2018-10-01 00:00:00\n",
      "\n"
     ]
    },
    {
     "name": "stderr",
     "output_type": "stream",
     "text": [
      "\r",
      " 22%|███████▉                            | 337/1517 [1:18:39<3:59:12, 12.16s/it]"
     ]
    },
    {
     "name": "stdout",
     "output_type": "stream",
     "text": [
      "c1: 0, c2: 0, c3: 6\n",
      "nan 2018-10-02 00:00:00\n",
      "\n"
     ]
    },
    {
     "name": "stderr",
     "output_type": "stream",
     "text": [
      "\r",
      " 22%|████████                            | 338/1517 [1:18:51<3:59:48, 12.20s/it]"
     ]
    },
    {
     "name": "stdout",
     "output_type": "stream",
     "text": [
      "c1: 0, c2: 0, c3: 14\n",
      "nan 2018-10-01 00:00:00\n",
      "\n"
     ]
    },
    {
     "name": "stderr",
     "output_type": "stream",
     "text": [
      "\r",
      " 22%|████████                            | 339/1517 [1:19:15<5:10:52, 15.83s/it]"
     ]
    },
    {
     "name": "stdout",
     "output_type": "stream",
     "text": [
      "c1: 0, c2: 0, c3: 3\n",
      "nan 2018-08-31 00:00:00\n",
      "\n"
     ]
    },
    {
     "name": "stderr",
     "output_type": "stream",
     "text": [
      "\r",
      " 22%|████████                            | 340/1517 [1:19:22<4:19:42, 13.24s/it]"
     ]
    },
    {
     "name": "stdout",
     "output_type": "stream",
     "text": [
      "c1: 65, c2: 5, c3: 1\n",
      "Volcan de Fuego 2018-06-03 00:00:00\n",
      "\n"
     ]
    },
    {
     "name": "stderr",
     "output_type": "stream",
     "text": [
      "\r",
      " 22%|████████                            | 341/1517 [1:19:29<3:37:31, 11.10s/it]"
     ]
    },
    {
     "name": "stdout",
     "output_type": "stream",
     "text": [
      "c1: 0, c2: 0, c3: 1\n",
      "nan 2018-11-12 00:00:00\n",
      "\n"
     ]
    },
    {
     "name": "stderr",
     "output_type": "stream",
     "text": [
      "\r",
      " 23%|████████                            | 342/1517 [1:19:38<3:26:00, 10.52s/it]"
     ]
    },
    {
     "name": "stdout",
     "output_type": "stream",
     "text": [
      "c1: 0, c2: 0, c3: 102\n",
      "nan 2018-06-28 00:00:00\n",
      "\n"
     ]
    },
    {
     "name": "stderr",
     "output_type": "stream",
     "text": [
      "\r",
      " 23%|███████▉                           | 343/1517 [1:21:01<10:34:59, 32.45s/it]"
     ]
    },
    {
     "name": "stdout",
     "output_type": "stream",
     "text": [
      "c1: 0, c2: 24, c3: 387\n",
      "nan 2018-05-05 00:00:00\n",
      "\n"
     ]
    },
    {
     "name": "stderr",
     "output_type": "stream",
     "text": [
      "\r",
      " 23%|███████▉                           | 344/1517 [1:21:42<11:23:55, 34.98s/it]"
     ]
    },
    {
     "name": "stdout",
     "output_type": "stream",
     "text": [
      "c1: 0, c2: 6, c3: 12\n",
      "nan 2018-03-12 00:00:00\n",
      "\n"
     ]
    },
    {
     "name": "stderr",
     "output_type": "stream",
     "text": [
      "\r",
      " 23%|████████▏                           | 345/1517 [1:21:52<8:57:46, 27.53s/it]"
     ]
    },
    {
     "name": "stdout",
     "output_type": "stream",
     "text": [
      "c1: 0, c2: 2, c3: 50\n",
      "nan 2018-01-24 00:00:00\n",
      "\n"
     ]
    },
    {
     "name": "stderr",
     "output_type": "stream",
     "text": [
      "\r",
      " 23%|████████▏                           | 346/1517 [1:21:58<6:48:31, 20.93s/it]"
     ]
    },
    {
     "name": "stdout",
     "output_type": "stream",
     "text": [
      "c1: 0, c2: 235, c3: 0\n",
      "nan 2018-07-23 00:00:00\n",
      "\n"
     ]
    },
    {
     "name": "stderr",
     "output_type": "stream",
     "text": [
      "\r",
      " 23%|████████▏                           | 347/1517 [1:22:04<5:20:32, 16.44s/it]"
     ]
    },
    {
     "name": "stdout",
     "output_type": "stream",
     "text": [
      "c1: 0, c2: 0, c3: 1\n",
      "nan 2018-04-28 00:00:00\n",
      "\n"
     ]
    },
    {
     "name": "stderr",
     "output_type": "stream",
     "text": [
      "\r",
      " 23%|████████▎                           | 348/1517 [1:22:10<4:20:11, 13.35s/it]"
     ]
    },
    {
     "name": "stdout",
     "output_type": "stream",
     "text": [
      "c1: 3, c2: 0, c3: 47\n",
      "Typhoon 'Maria' (Gardo) 2018-07-10 00:00:00\n",
      "\n"
     ]
    },
    {
     "name": "stderr",
     "output_type": "stream",
     "text": [
      "\r",
      " 23%|████████▎                           | 349/1517 [1:22:15<3:30:22, 10.81s/it]"
     ]
    },
    {
     "name": "stdout",
     "output_type": "stream",
     "text": [
      "c1: 0, c2: 0, c3: 24\n",
      "Typhoon 'Bebinca' 2018-08-15 00:00:00\n",
      "\n"
     ]
    },
    {
     "name": "stderr",
     "output_type": "stream",
     "text": [
      "\r",
      " 23%|████████▎                           | 350/1517 [1:22:20<2:56:55,  9.10s/it]"
     ]
    },
    {
     "name": "stdout",
     "output_type": "stream",
     "text": [
      "c1: 0, c2: 0, c3: 32\n",
      "Tropical Storm Yagi 2018-08-12 00:00:00\n",
      "\n"
     ]
    },
    {
     "name": "stderr",
     "output_type": "stream",
     "text": [
      "\r",
      " 23%|████████▎                           | 351/1517 [1:22:27<2:45:18,  8.51s/it]"
     ]
    },
    {
     "name": "stdout",
     "output_type": "stream",
     "text": [
      "c1: 1, c2: 3, c3: 44\n",
      "Tropical storm Rumbia 2018-08-15 00:00:00\n",
      "\n"
     ]
    },
    {
     "name": "stderr",
     "output_type": "stream",
     "text": [
      "\r",
      " 23%|████████▎                           | 352/1517 [1:22:33<2:27:03,  7.57s/it]"
     ]
    },
    {
     "name": "stdout",
     "output_type": "stream",
     "text": [
      "c1: 7, c2: 0, c3: 0\n",
      "Cyclone 'Sagar' 2018-05-20 00:00:00\n",
      "\n"
     ]
    },
    {
     "name": "stderr",
     "output_type": "stream",
     "text": [
      "\r",
      " 23%|████████▍                           | 353/1517 [1:22:37<2:10:47,  6.74s/it]"
     ]
    },
    {
     "name": "stdout",
     "output_type": "stream",
     "text": [
      "c1: 2, c2: 10, c3: 1\n",
      "Cyclone 'Josie' 2018-04-02 00:00:00\n",
      "\n"
     ]
    },
    {
     "name": "stderr",
     "output_type": "stream",
     "text": [
      "\r",
      " 23%|████████▍                           | 354/1517 [1:22:44<2:07:58,  6.60s/it]"
     ]
    },
    {
     "name": "stdout",
     "output_type": "stream",
     "text": [
      "c1: 16, c2: 20, c3: 6\n",
      "Eleanor 2018-01-03 00:00:00\n",
      "\n"
     ]
    },
    {
     "name": "stderr",
     "output_type": "stream",
     "text": [
      "\r",
      " 23%|████████▍                           | 355/1517 [1:22:50<2:06:53,  6.55s/it]"
     ]
    },
    {
     "name": "stdout",
     "output_type": "stream",
     "text": [
      "c1: 14, c2: 65, c3: 0\n",
      "Eleanor 2018-01-02 00:00:00\n",
      "\n"
     ]
    },
    {
     "name": "stderr",
     "output_type": "stream",
     "text": [
      "\r",
      " 23%|████████▍                           | 356/1517 [1:22:58<2:12:02,  6.82s/it]"
     ]
    },
    {
     "name": "stdout",
     "output_type": "stream",
     "text": [
      "c1: 16, c2: 150, c3: 4\n",
      "Eleanor 2018-01-03 00:00:00\n",
      "\n"
     ]
    },
    {
     "name": "stderr",
     "output_type": "stream",
     "text": [
      "\r",
      " 24%|████████▍                           | 357/1517 [1:23:06<2:24:20,  7.47s/it]"
     ]
    },
    {
     "name": "stdout",
     "output_type": "stream",
     "text": [
      "c1: 893, c2: 0, c3: 17\n",
      "'Friederike' (David) 2018-01-17 00:00:00\n",
      "\n"
     ]
    },
    {
     "name": "stderr",
     "output_type": "stream",
     "text": [
      "\r",
      " 24%|████████▍                           | 358/1517 [1:23:11<2:06:18,  6.54s/it]"
     ]
    },
    {
     "name": "stdout",
     "output_type": "stream",
     "text": [
      "c1: 0, c2: 0, c3: 4\n",
      "nan 2018-08-24 00:00:00\n",
      "\n"
     ]
    },
    {
     "name": "stderr",
     "output_type": "stream",
     "text": [
      " 24%|████████▌                           | 360/1517 [1:23:26<2:22:19,  7.38s/it]"
     ]
    },
    {
     "name": "stdout",
     "output_type": "stream",
     "text": [
      "c1: 0, c2: 0, c3: 7\n",
      "nan 2018-05-09 00:00:00\n",
      "\n"
     ]
    },
    {
     "name": "stderr",
     "output_type": "stream",
     "text": [
      "\r",
      " 24%|████████▌                           | 361/1517 [1:23:35<2:30:28,  7.81s/it]"
     ]
    },
    {
     "name": "stdout",
     "output_type": "stream",
     "text": [
      "c1: 0, c2: 0, c3: 5\n",
      "nan 2018-05-07 00:00:00\n",
      "\n"
     ]
    },
    {
     "name": "stderr",
     "output_type": "stream",
     "text": [
      " 24%|████████▌                           | 363/1517 [1:24:17<4:55:46, 15.38s/it]"
     ]
    },
    {
     "name": "stdout",
     "output_type": "stream",
     "text": [
      "c1: 33, c2: 0, c3: 2\n",
      "Cholera 2018-10-09 00:00:00\n",
      "\n"
     ]
    },
    {
     "name": "stderr",
     "output_type": "stream",
     "text": [
      "\r",
      " 24%|████████▋                           | 364/1517 [1:24:36<5:12:54, 16.28s/it]"
     ]
    },
    {
     "name": "stdout",
     "output_type": "stream",
     "text": [
      "c1: 0, c2: 0, c3: 4\n",
      "nan 2018-01-31 00:00:00\n",
      "\n"
     ]
    },
    {
     "name": "stderr",
     "output_type": "stream",
     "text": [
      "\r",
      " 24%|████████▋                           | 365/1517 [1:24:43<4:19:11, 13.50s/it]"
     ]
    },
    {
     "name": "stdout",
     "output_type": "stream",
     "text": [
      "c1: 0, c2: 0, c3: 1\n",
      "nan 2018-01-20 00:00:00\n",
      "\n"
     ]
    },
    {
     "name": "stderr",
     "output_type": "stream",
     "text": [
      "\r",
      " 24%|████████▋                           | 366/1517 [1:24:47<3:23:33, 10.61s/it]"
     ]
    },
    {
     "name": "stdout",
     "output_type": "stream",
     "text": [
      "c1: 0, c2: 0, c3: 3\n",
      "nan 2018-08-17 00:00:00\n",
      "\n"
     ]
    },
    {
     "name": "stderr",
     "output_type": "stream",
     "text": [
      "\r",
      " 24%|████████▋                           | 367/1517 [1:24:53<2:56:52,  9.23s/it]"
     ]
    },
    {
     "name": "stdout",
     "output_type": "stream",
     "text": [
      "c1: 0, c2: 7, c3: 7\n",
      "nan 2018-03-09 00:00:00\n",
      "\n"
     ]
    },
    {
     "name": "stderr",
     "output_type": "stream",
     "text": [
      "\r",
      " 24%|████████▋                           | 368/1517 [1:25:05<3:16:05, 10.24s/it]"
     ]
    },
    {
     "name": "stdout",
     "output_type": "stream",
     "text": [
      "c1: 0, c2: 0, c3: 1\n",
      "nan 2018-01-14 00:00:00\n",
      "\n"
     ]
    },
    {
     "name": "stderr",
     "output_type": "stream",
     "text": [
      "\r",
      " 24%|████████▊                           | 369/1517 [1:25:11<2:51:12,  8.95s/it]"
     ]
    },
    {
     "name": "stdout",
     "output_type": "stream",
     "text": [
      "c1: 0, c2: 0, c3: 1\n",
      "nan 2018-04-28 00:00:00\n",
      "\n"
     ]
    },
    {
     "name": "stderr",
     "output_type": "stream",
     "text": [
      "\r",
      " 24%|████████▊                           | 370/1517 [1:25:21<2:54:25,  9.12s/it]"
     ]
    },
    {
     "name": "stdout",
     "output_type": "stream",
     "text": [
      "c1: 0, c2: 0, c3: 1\n",
      "nan 2018-05-04 00:00:00\n",
      "\n"
     ]
    },
    {
     "name": "stderr",
     "output_type": "stream",
     "text": [
      "\r",
      " 24%|████████▊                           | 371/1517 [1:25:27<2:38:52,  8.32s/it]"
     ]
    },
    {
     "name": "stdout",
     "output_type": "stream",
     "text": [
      "c1: 893, c2: 0, c3: 1\n",
      "'Friederike' (David) 2018-01-17 00:00:00\n",
      "\n"
     ]
    },
    {
     "name": "stderr",
     "output_type": "stream",
     "text": [
      "\r",
      " 25%|████████▊                           | 372/1517 [1:25:31<2:15:28,  7.10s/it]"
     ]
    },
    {
     "name": "stdout",
     "output_type": "stream",
     "text": [
      "c1: 0, c2: 0, c3: 3\n",
      "nan 2018-04-29 00:00:00\n",
      "\n"
     ]
    },
    {
     "name": "stderr",
     "output_type": "stream",
     "text": [
      " 25%|████████▉                           | 375/1517 [1:25:51<2:05:09,  6.58s/it]"
     ]
    },
    {
     "name": "stdout",
     "output_type": "stream",
     "text": [
      "c1: 0, c2: 0, c3: 1\n",
      "nan 2018-06-28 00:00:00\n",
      "\n"
     ]
    },
    {
     "name": "stderr",
     "output_type": "stream",
     "text": [
      "\r",
      " 25%|████████▉                           | 376/1517 [1:26:20<4:16:18, 13.48s/it]"
     ]
    },
    {
     "name": "stdout",
     "output_type": "stream",
     "text": [
      "c1: 0, c2: 2, c3: 0\n",
      "nan 2018-03-19 00:00:00\n",
      "\n"
     ]
    },
    {
     "name": "stderr",
     "output_type": "stream",
     "text": [
      "\r",
      " 25%|████████▍                         | 377/1517 [1:31:25<31:54:11, 100.75s/it]"
     ]
    },
    {
     "name": "stdout",
     "output_type": "stream",
     "text": [
      "c1: 367, c2: 0, c3: 0\n",
      "Influenza 2018-04-15 00:00:00\n",
      "\n"
     ]
    },
    {
     "name": "stderr",
     "output_type": "stream",
     "text": [
      " 25%|████████▋                          | 379/1517 [1:31:38<16:37:11, 52.58s/it]"
     ]
    },
    {
     "name": "stdout",
     "output_type": "stream",
     "text": [
      "c1: 0, c2: 0, c3: 17\n",
      "nan 2018-03-20 00:00:00\n",
      "\n"
     ]
    },
    {
     "name": "stderr",
     "output_type": "stream",
     "text": [
      "\r",
      " 25%|████████▊                          | 380/1517 [1:32:04<14:06:33, 44.67s/it]"
     ]
    },
    {
     "name": "stdout",
     "output_type": "stream",
     "text": [
      "c1: 0, c2: 1, c3: 1\n",
      "nan 2018-02-23 00:00:00\n",
      "\n"
     ]
    },
    {
     "name": "stderr",
     "output_type": "stream",
     "text": [
      "\r",
      " 25%|████████▊                          | 381/1517 [1:32:51<14:21:10, 45.48s/it]"
     ]
    },
    {
     "name": "stdout",
     "output_type": "stream",
     "text": [
      "c1: 7, c2: 0, c3: 1\n",
      "Hepatitis E 2018-09-10 00:00:00\n",
      "\n"
     ]
    },
    {
     "name": "stderr",
     "output_type": "stream",
     "text": [
      "\r",
      " 25%|████████▊                          | 382/1517 [1:32:55<10:23:19, 32.95s/it]"
     ]
    },
    {
     "name": "stdout",
     "output_type": "stream",
     "text": [
      "c1: 0, c2: 2, c3: 8\n",
      "nan 2018-09-21 00:00:00\n",
      "\n"
     ]
    },
    {
     "name": "stderr",
     "output_type": "stream",
     "text": [
      "\r",
      " 25%|█████████                           | 383/1517 [1:33:06<8:20:26, 26.48s/it]"
     ]
    },
    {
     "name": "stdout",
     "output_type": "stream",
     "text": [
      "c1: 0, c2: 18, c3: 13\n",
      "nan 2018-06-29 00:00:00\n",
      "\n"
     ]
    },
    {
     "name": "stderr",
     "output_type": "stream",
     "text": [
      "\r",
      " 25%|█████████                           | 384/1517 [1:33:13<6:26:18, 20.46s/it]"
     ]
    },
    {
     "name": "stdout",
     "output_type": "stream",
     "text": [
      "c1: 0, c2: 0, c3: 14\n",
      "nan 2018-05-10 00:00:00\n",
      "\n"
     ]
    },
    {
     "name": "stderr",
     "output_type": "stream",
     "text": [
      "\r",
      " 25%|█████████▏                          | 385/1517 [1:33:18<4:58:43, 15.83s/it]"
     ]
    },
    {
     "name": "stdout",
     "output_type": "stream",
     "text": [
      "c1: 0, c2: 0, c3: 35\n",
      "nan 2018-03-03 00:00:00\n",
      "\n"
     ]
    },
    {
     "name": "stderr",
     "output_type": "stream",
     "text": [
      "\r",
      " 25%|█████████▏                          | 386/1517 [1:33:27<4:19:31, 13.77s/it]"
     ]
    },
    {
     "name": "stdout",
     "output_type": "stream",
     "text": [
      "c1: 0, c2: 1, c3: 48\n",
      "nan 2018-01-02 00:00:00\n",
      "\n"
     ]
    },
    {
     "name": "stderr",
     "output_type": "stream",
     "text": [
      "\r",
      " 26%|█████████▏                          | 387/1517 [1:33:31<3:24:57, 10.88s/it]"
     ]
    },
    {
     "name": "stdout",
     "output_type": "stream",
     "text": [
      "c1: 0, c2: 0, c3: 48\n",
      "nan 2018-12-27 00:00:00\n",
      "\n"
     ]
    },
    {
     "name": "stderr",
     "output_type": "stream",
     "text": [
      "\r",
      " 26%|█████████▏                          | 388/1517 [1:33:35<2:45:44,  8.81s/it]"
     ]
    },
    {
     "name": "stdout",
     "output_type": "stream",
     "text": [
      "c1: 0, c2: 1, c3: 3\n",
      "nan 2018-05-28 00:00:00\n",
      "\n"
     ]
    },
    {
     "name": "stderr",
     "output_type": "stream",
     "text": [
      "\r",
      " 26%|█████████▏                          | 389/1517 [1:33:38<2:15:49,  7.23s/it]"
     ]
    },
    {
     "name": "stdout",
     "output_type": "stream",
     "text": [
      "c1: 0, c2: 0, c3: 3\n",
      "nan 2018-08-13 00:00:00\n",
      "\n"
     ]
    },
    {
     "name": "stderr",
     "output_type": "stream",
     "text": [
      "\r",
      " 26%|█████████▎                          | 390/1517 [1:33:44<2:08:40,  6.85s/it]"
     ]
    },
    {
     "name": "stdout",
     "output_type": "stream",
     "text": [
      "c1: 0, c2: 0, c3: 56\n",
      "Tropical storm 'Ewiniar' 2018-07-19 00:00:00\n",
      "\n"
     ]
    },
    {
     "name": "stderr",
     "output_type": "stream",
     "text": [
      "\r",
      " 26%|█████████▎                          | 391/1517 [1:33:50<2:04:08,  6.62s/it]"
     ]
    },
    {
     "name": "stdout",
     "output_type": "stream",
     "text": [
      "c1: 3, c2: 1, c3: 46\n",
      "Tropical storm 'Ampil' (Inday) 2018-07-22 00:00:00\n",
      "\n"
     ]
    },
    {
     "name": "stderr",
     "output_type": "stream",
     "text": [
      "\r",
      " 26%|█████████▎                          | 392/1517 [1:33:55<1:53:44,  6.07s/it]"
     ]
    },
    {
     "name": "stdout",
     "output_type": "stream",
     "text": [
      "c1: 0, c2: 0, c3: 51\n",
      "Typhoon 'Soulik' 2018-08-22 00:00:00\n",
      "\n"
     ]
    },
    {
     "name": "stderr",
     "output_type": "stream",
     "text": [
      "\r",
      " 26%|█████████▎                          | 393/1517 [1:34:06<2:19:25,  7.44s/it]"
     ]
    },
    {
     "name": "stdout",
     "output_type": "stream",
     "text": [
      "c1: 27, c2: 14, c3: 152\n",
      "Typhoon Mangkut (Ompong) 2018-09-10 00:00:00\n",
      "\n"
     ]
    },
    {
     "name": "stderr",
     "output_type": "stream",
     "text": [
      "\r",
      " 26%|█████████▎                          | 394/1517 [1:34:16<2:33:38,  8.21s/it]"
     ]
    },
    {
     "name": "stdout",
     "output_type": "stream",
     "text": [
      "c1: 0, c2: 0, c3: 47\n",
      "nan 2018-05-07 00:00:00\n",
      "\n"
     ]
    },
    {
     "name": "stderr",
     "output_type": "stream",
     "text": [
      "\r",
      " 26%|█████████▎                          | 395/1517 [1:34:43<4:18:25, 13.82s/it]"
     ]
    },
    {
     "name": "stdout",
     "output_type": "stream",
     "text": [
      "c1: 0, c2: 5, c3: 111\n",
      "nan 2018-05-07 00:00:00\n",
      "\n"
     ]
    },
    {
     "name": "stderr",
     "output_type": "stream",
     "text": [
      "\r",
      " 26%|█████████▍                          | 396/1517 [1:34:52<3:53:28, 12.50s/it]"
     ]
    },
    {
     "name": "stdout",
     "output_type": "stream",
     "text": [
      "c1: 0, c2: 0, c3: 38\n",
      "nan 2018-05-07 00:00:00\n",
      "\n"
     ]
    },
    {
     "name": "stderr",
     "output_type": "stream",
     "text": [
      "\r",
      " 26%|█████████▍                          | 397/1517 [1:34:57<3:10:00, 10.18s/it]"
     ]
    },
    {
     "name": "stdout",
     "output_type": "stream",
     "text": [
      "c1: 0, c2: 1, c3: 53\n",
      "nan 2018-07-07 00:00:00\n",
      "\n"
     ]
    },
    {
     "name": "stderr",
     "output_type": "stream",
     "text": [
      "\r",
      " 26%|█████████▍                          | 398/1517 [1:35:02<2:43:09,  8.75s/it]"
     ]
    },
    {
     "name": "stdout",
     "output_type": "stream",
     "text": [
      "c1: 0, c2: 2, c3: 36\n",
      "nan 2018-07-10 00:00:00\n",
      "\n"
     ]
    },
    {
     "name": "stderr",
     "output_type": "stream",
     "text": [
      "\r",
      " 26%|█████████▍                          | 399/1517 [1:35:09<2:29:39,  8.03s/it]"
     ]
    },
    {
     "name": "stdout",
     "output_type": "stream",
     "text": [
      "c1: 0, c2: 0, c3: 41\n",
      "nan 2018-08-29 00:00:00\n",
      "\n"
     ]
    },
    {
     "name": "stderr",
     "output_type": "stream",
     "text": [
      "\r",
      " 26%|█████████▍                          | 400/1517 [1:35:16<2:23:44,  7.72s/it]"
     ]
    },
    {
     "name": "stdout",
     "output_type": "stream",
     "text": [
      "c1: 0, c2: 1, c3: 0\n",
      "nan 2018-06-18 00:00:00\n",
      "\n"
     ]
    },
    {
     "name": "stderr",
     "output_type": "stream",
     "text": [
      "\r",
      " 26%|█████████▎                         | 401/1517 [1:37:41<15:10:02, 48.93s/it]"
     ]
    },
    {
     "name": "stdout",
     "output_type": "stream",
     "text": [
      "c1: 183, c2: 504, c3: 1\n",
      "Cholera 2018-05-18 00:00:00\n",
      "\n"
     ]
    },
    {
     "name": "stderr",
     "output_type": "stream",
     "text": [
      "\r",
      " 26%|█████████▎                         | 402/1517 [1:37:47<11:10:05, 36.06s/it]"
     ]
    },
    {
     "name": "stdout",
     "output_type": "stream",
     "text": [
      "c1: 454, c2: 0, c3: 5\n",
      "Hurricane Michael 2018-10-10 00:00:00\n",
      "\n"
     ]
    },
    {
     "name": "stderr",
     "output_type": "stream",
     "text": [
      " 27%|█████████▌                          | 404/1517 [1:38:00<6:31:35, 21.11s/it]"
     ]
    },
    {
     "name": "stdout",
     "output_type": "stream",
     "text": [
      "c1: 8, c2: 0, c3: 0\n",
      "Hurricane 'Beryl' 2018-07-09 00:00:00\n",
      "\n"
     ]
    },
    {
     "name": "stderr",
     "output_type": "stream",
     "text": [
      " 27%|█████████▋                          | 407/1517 [1:38:20<3:32:59, 11.51s/it]"
     ]
    },
    {
     "name": "stdout",
     "output_type": "stream",
     "text": [
      "c1: 0, c2: 0, c3: 5\n",
      "nan 2018-08-06 00:00:00\n",
      "\n"
     ]
    },
    {
     "name": "stderr",
     "output_type": "stream",
     "text": [
      "\r",
      " 27%|█████████▋                          | 408/1517 [1:38:26<3:01:22,  9.81s/it]"
     ]
    },
    {
     "name": "stdout",
     "output_type": "stream",
     "text": [
      "c1: 0, c2: 1, c3: 5\n",
      "nan 2018-10-09 00:00:00\n",
      "\n"
     ]
    },
    {
     "name": "stderr",
     "output_type": "stream",
     "text": [
      " 27%|█████████▋                          | 410/1517 [1:38:55<3:36:28, 11.73s/it]"
     ]
    },
    {
     "name": "stdout",
     "output_type": "stream",
     "text": [
      "c1: 0, c2: 0, c3: 2\n",
      "nan 2018-05-20 00:00:00\n",
      "\n"
     ]
    },
    {
     "name": "stderr",
     "output_type": "stream",
     "text": [
      " 27%|█████████▊                          | 412/1517 [1:39:08<2:50:48,  9.27s/it]"
     ]
    },
    {
     "name": "stdout",
     "output_type": "stream",
     "text": [
      "c1: 0, c2: 577, c3: 0\n",
      "Tropical cyclone 'Keni' 2018-04-09 00:00:00\n",
      "\n"
     ]
    },
    {
     "name": "stderr",
     "output_type": "stream",
     "text": [
      "\r",
      " 27%|█████████▊                          | 413/1517 [1:39:15<2:39:05,  8.65s/it]"
     ]
    },
    {
     "name": "stdout",
     "output_type": "stream",
     "text": [
      "c1: 893, c2: 4, c3: 10\n",
      "'Friederike' (David) 2018-01-17 00:00:00\n",
      "\n"
     ]
    },
    {
     "name": "stderr",
     "output_type": "stream",
     "text": [
      "\r",
      " 27%|█████████▊                          | 414/1517 [1:39:20<2:17:23,  7.47s/it]"
     ]
    },
    {
     "name": "stdout",
     "output_type": "stream",
     "text": [
      "c1: 3, c2: 1, c3: 16\n",
      "Storm 'Adrian' 2018-10-30 00:00:00\n",
      "\n"
     ]
    },
    {
     "name": "stderr",
     "output_type": "stream",
     "text": [
      " 27%|█████████▊                          | 416/1517 [1:39:35<2:19:17,  7.59s/it]"
     ]
    },
    {
     "name": "stdout",
     "output_type": "stream",
     "text": [
      "c1: 0, c2: 0, c3: 22\n",
      "nan 2018-01-24 00:00:00\n",
      "\n"
     ]
    },
    {
     "name": "stderr",
     "output_type": "stream",
     "text": [
      "\r",
      " 27%|█████████▉                          | 417/1517 [1:39:41<2:08:29,  7.01s/it]"
     ]
    },
    {
     "name": "stdout",
     "output_type": "stream",
     "text": [
      "c1: 0, c2: 25, c3: 9\n",
      "nan 2018-10-14 00:00:00\n",
      "\n"
     ]
    },
    {
     "name": "stderr",
     "output_type": "stream",
     "text": [
      " 28%|█████████▉                          | 419/1517 [1:39:53<1:54:08,  6.24s/it]"
     ]
    },
    {
     "name": "stdout",
     "output_type": "stream",
     "text": [
      "c1: 0, c2: 0, c3: 6\n",
      "nan 2018-07-05 00:00:00\n",
      "\n"
     ]
    },
    {
     "name": "stderr",
     "output_type": "stream",
     "text": [
      "\r",
      " 28%|█████████▉                          | 420/1517 [1:39:58<1:49:07,  5.97s/it]"
     ]
    },
    {
     "name": "stdout",
     "output_type": "stream",
     "text": [
      "c1: 0, c2: 140, c3: 0\n",
      "nan 2018-06-27 00:00:00\n",
      "\n"
     ]
    },
    {
     "name": "stderr",
     "output_type": "stream",
     "text": [
      "\r",
      " 28%|█████████▉                          | 421/1517 [1:40:07<2:03:31,  6.76s/it]"
     ]
    },
    {
     "name": "stdout",
     "output_type": "stream",
     "text": [
      "c1: 0, c2: 3, c3: 0\n",
      "nan 2018-05-18 00:00:00\n",
      "\n"
     ]
    },
    {
     "name": "stderr",
     "output_type": "stream",
     "text": [
      "\r",
      " 28%|██████████                          | 422/1517 [1:40:11<1:51:23,  6.10s/it]"
     ]
    },
    {
     "name": "stdout",
     "output_type": "stream",
     "text": [
      "c1: 9, c2: 0, c3: 30\n",
      "Typhoon Mangkut (Ompong) 2018-09-17 00:00:00\n",
      "\n"
     ]
    },
    {
     "name": "stderr",
     "output_type": "stream",
     "text": [
      "\r",
      " 28%|██████████                          | 423/1517 [1:40:53<5:08:30, 16.92s/it]"
     ]
    },
    {
     "name": "stdout",
     "output_type": "stream",
     "text": [
      "c1: 0, c2: 15, c3: 0\n",
      "nan 2019-02-24 00:00:00\n",
      "\n"
     ]
    },
    {
     "name": "stderr",
     "output_type": "stream",
     "text": [
      "\r",
      " 28%|██████████                          | 424/1517 [1:40:58<3:59:18, 13.14s/it]"
     ]
    },
    {
     "name": "stdout",
     "output_type": "stream",
     "text": [
      "c1: 0, c2: 0, c3: 2\n",
      "nan 2019-01-06 00:00:00\n",
      "\n"
     ]
    },
    {
     "name": "stderr",
     "output_type": "stream",
     "text": [
      "\r",
      " 28%|██████████                          | 425/1517 [1:41:04<3:24:17, 11.22s/it]"
     ]
    },
    {
     "name": "stdout",
     "output_type": "stream",
     "text": [
      "c1: 0, c2: 14, c3: 4\n",
      "nan 2019-06-11 00:00:00\n",
      "\n"
     ]
    },
    {
     "name": "stderr",
     "output_type": "stream",
     "text": [
      " 28%|██████████▏                         | 428/1517 [1:41:31<2:54:04,  9.59s/it]"
     ]
    },
    {
     "name": "stdout",
     "output_type": "stream",
     "text": [
      "c1: 0, c2: 2, c3: 4\n",
      "nan 2019-03-10 00:00:00\n",
      "\n"
     ]
    },
    {
     "name": "stderr",
     "output_type": "stream",
     "text": [
      "\r",
      " 28%|██████████▏                         | 429/1517 [1:41:37<2:35:11,  8.56s/it]"
     ]
    },
    {
     "name": "stdout",
     "output_type": "stream",
     "text": [
      "c1: 0, c2: 1, c3: 11\n",
      "nan 2019-04-08 00:00:00\n",
      "\n"
     ]
    },
    {
     "name": "stderr",
     "output_type": "stream",
     "text": [
      "\r",
      " 28%|██████████▏                         | 430/1517 [1:41:48<2:45:13,  9.12s/it]"
     ]
    },
    {
     "name": "stdout",
     "output_type": "stream",
     "text": [
      "c1: 0, c2: 1, c3: 3\n",
      "nan 2019-04-07 00:00:00\n",
      "\n"
     ]
    },
    {
     "name": "stderr",
     "output_type": "stream",
     "text": [
      "\r",
      " 28%|██████████▏                         | 431/1517 [1:41:54<2:31:02,  8.35s/it]"
     ]
    },
    {
     "name": "stdout",
     "output_type": "stream",
     "text": [
      "c1: 0, c2: 0, c3: 2\n",
      "nan 2019-01-22 00:00:00\n",
      "\n"
     ]
    },
    {
     "name": "stderr",
     "output_type": "stream",
     "text": [
      "\r",
      " 28%|██████████▎                         | 432/1517 [1:42:04<2:38:12,  8.75s/it]"
     ]
    },
    {
     "name": "stdout",
     "output_type": "stream",
     "text": [
      "c1: 0, c2: 3, c3: 14\n",
      "nan 2019-04-27 00:00:00\n",
      "\n"
     ]
    },
    {
     "name": "stderr",
     "output_type": "stream",
     "text": [
      "\r",
      " 29%|██████████▎                         | 433/1517 [1:42:12<2:35:32,  8.61s/it]"
     ]
    },
    {
     "name": "stdout",
     "output_type": "stream",
     "text": [
      "c1: 0, c2: 2, c3: 2\n",
      "nan 2019-01-11 00:00:00\n",
      "\n"
     ]
    },
    {
     "name": "stderr",
     "output_type": "stream",
     "text": [
      " 29%|██████████▎                         | 435/1517 [1:42:22<2:04:17,  6.89s/it]"
     ]
    },
    {
     "name": "stdout",
     "output_type": "stream",
     "text": [
      "c1: 0, c2: 2, c3: 6\n",
      "nan 2019-07-08 00:00:00\n",
      "\n"
     ]
    },
    {
     "name": "stderr",
     "output_type": "stream",
     "text": [
      "\r",
      " 29%|██████████▎                         | 436/1517 [1:42:37<2:48:45,  9.37s/it]"
     ]
    },
    {
     "name": "stdout",
     "output_type": "stream",
     "text": [
      "c1: 0, c2: 0, c3: 17\n",
      "nan 2019-03-01 00:00:00\n",
      "\n"
     ]
    },
    {
     "name": "stderr",
     "output_type": "stream",
     "text": [
      "\r",
      " 29%|██████████▎                         | 437/1517 [1:42:44<2:33:50,  8.55s/it]"
     ]
    },
    {
     "name": "stdout",
     "output_type": "stream",
     "text": [
      "c1: 35, c2: 0, c3: 0\n",
      "Cyclone 'Kenneth' 2019-04-24 00:00:00\n",
      "\n"
     ]
    },
    {
     "name": "stderr",
     "output_type": "stream",
     "text": [
      " 29%|██████████▍                         | 439/1517 [1:42:56<2:13:30,  7.43s/it]"
     ]
    },
    {
     "name": "stdout",
     "output_type": "stream",
     "text": [
      "c1: 0, c2: 0, c3: 7\n",
      "nan 2019-04-18 00:00:00\n",
      "\n"
     ]
    },
    {
     "name": "stderr",
     "output_type": "stream",
     "text": [
      "\r",
      " 29%|██████████▍                         | 440/1517 [1:43:06<2:23:36,  8.00s/it]"
     ]
    },
    {
     "name": "stdout",
     "output_type": "stream",
     "text": [
      "c1: 0, c2: 0, c3: 12\n",
      "nan 2019-01-05 00:00:00\n",
      "\n"
     ]
    },
    {
     "name": "stderr",
     "output_type": "stream",
     "text": [
      "\r",
      " 29%|██████████▍                         | 441/1517 [1:43:10<2:04:17,  6.93s/it]"
     ]
    },
    {
     "name": "stdout",
     "output_type": "stream",
     "text": [
      "c1: 0, c2: 0, c3: 7\n",
      "nan 2019-01-13 00:00:00\n",
      "\n"
     ]
    },
    {
     "name": "stderr",
     "output_type": "stream",
     "text": [
      "\r",
      " 29%|██████████▍                         | 442/1517 [1:44:21<7:45:43, 25.99s/it]"
     ]
    },
    {
     "name": "stdout",
     "output_type": "stream",
     "text": [
      "c1: 0, c2: 13, c3: 0\n",
      "nan 2019-01-11 00:00:00\n",
      "\n"
     ]
    },
    {
     "name": "stderr",
     "output_type": "stream",
     "text": [
      "\r",
      " 29%|██████████▌                         | 443/1517 [1:44:29<6:11:38, 20.76s/it]"
     ]
    },
    {
     "name": "stdout",
     "output_type": "stream",
     "text": [
      "c1: 0, c2: 2, c3: 4\n",
      "nan 2019-05-22 00:00:00\n",
      "\n"
     ]
    },
    {
     "name": "stderr",
     "output_type": "stream",
     "text": [
      "\r",
      " 29%|██████████▌                         | 444/1517 [1:44:41<5:22:53, 18.06s/it]"
     ]
    },
    {
     "name": "stdout",
     "output_type": "stream",
     "text": [
      "c1: 0, c2: 3, c3: 13\n",
      "nan 2019-03-18 00:00:00\n",
      "\n"
     ]
    },
    {
     "name": "stderr",
     "output_type": "stream",
     "text": [
      "\r",
      " 29%|██████████▌                         | 445/1517 [1:44:55<5:03:35, 16.99s/it]"
     ]
    },
    {
     "name": "stdout",
     "output_type": "stream",
     "text": [
      "c1: 0, c2: 4, c3: 11\n",
      "nan 2019-03-30 00:00:00\n",
      "\n"
     ]
    },
    {
     "name": "stderr",
     "output_type": "stream",
     "text": [
      " 29%|██████████▌                         | 447/1517 [1:45:14<3:49:28, 12.87s/it]"
     ]
    },
    {
     "name": "stdout",
     "output_type": "stream",
     "text": [
      "c1: 0, c2: 0, c3: 1\n",
      "nan 2019-03-16 00:00:00\n",
      "\n"
     ]
    },
    {
     "name": "stderr",
     "output_type": "stream",
     "text": [
      "\r",
      " 30%|██████████▋                         | 448/1517 [1:45:18<3:03:13, 10.28s/it]"
     ]
    },
    {
     "name": "stdout",
     "output_type": "stream",
     "text": [
      "c1: 0, c2: 0, c3: 1\n",
      "nan 2019-06-01 00:00:00\n",
      "\n"
     ]
    },
    {
     "name": "stderr",
     "output_type": "stream",
     "text": [
      " 30%|██████████▋                         | 450/1517 [1:45:34<2:47:06,  9.40s/it]"
     ]
    },
    {
     "name": "stdout",
     "output_type": "stream",
     "text": [
      "c1: 0, c2: 0, c3: 5\n",
      "nan 2019-05-10 00:00:00\n",
      "\n"
     ]
    },
    {
     "name": "stderr",
     "output_type": "stream",
     "text": [
      "\r",
      " 30%|██████████▋                         | 451/1517 [1:45:42<2:39:46,  8.99s/it]"
     ]
    },
    {
     "name": "stdout",
     "output_type": "stream",
     "text": [
      "c1: 0, c2: 0, c3: 1\n",
      "nan 2019-06-27 00:00:00\n",
      "\n"
     ]
    },
    {
     "name": "stderr",
     "output_type": "stream",
     "text": [
      "\r",
      " 30%|██████████▋                         | 452/1517 [1:45:55<2:59:46, 10.13s/it]"
     ]
    },
    {
     "name": "stdout",
     "output_type": "stream",
     "text": [
      "c1: 0, c2: 26, c3: 21\n",
      "nan 2019-01-27 00:00:00\n",
      "\n"
     ]
    },
    {
     "name": "stderr",
     "output_type": "stream",
     "text": [
      " 30%|██████████▍                        | 454/1517 [1:49:29<20:15:50, 68.63s/it]"
     ]
    },
    {
     "name": "stdout",
     "output_type": "stream",
     "text": [
      "c1: 0, c2: 0, c3: 46\n",
      "nan 2019-06-21 00:00:00\n",
      "\n"
     ]
    },
    {
     "name": "stderr",
     "output_type": "stream",
     "text": [
      "\r",
      " 30%|██████████▍                        | 455/1517 [1:49:34<14:39:30, 49.69s/it]"
     ]
    },
    {
     "name": "stdout",
     "output_type": "stream",
     "text": [
      "c1: 0, c2: 1, c3: 1\n",
      "nan 2019-03-31 00:00:00\n",
      "\n"
     ]
    },
    {
     "name": "stderr",
     "output_type": "stream",
     "text": [
      "\r",
      " 30%|██████████▌                        | 456/1517 [1:49:42<10:58:17, 37.23s/it]"
     ]
    },
    {
     "name": "stdout",
     "output_type": "stream",
     "text": [
      "c1: 0, c2: 2, c3: 2\n",
      "nan 2019-07-02 00:00:00\n",
      "\n"
     ]
    },
    {
     "name": "stderr",
     "output_type": "stream",
     "text": [
      "\r",
      " 30%|██████████▊                         | 457/1517 [1:49:50<8:19:49, 28.29s/it]"
     ]
    },
    {
     "name": "stdout",
     "output_type": "stream",
     "text": [
      "c1: 9, c2: 1, c3: 2\n",
      "Cyclone 'Fani' 2019-05-04 00:00:00\n",
      "\n"
     ]
    },
    {
     "name": "stderr",
     "output_type": "stream",
     "text": [
      "\r",
      " 30%|██████████▊                         | 458/1517 [1:49:56<6:23:58, 21.76s/it]"
     ]
    },
    {
     "name": "stdout",
     "output_type": "stream",
     "text": [
      "c1: 0, c2: 1, c3: 0\n",
      "nan 2019-05-12 00:00:00\n",
      "\n"
     ]
    },
    {
     "name": "stderr",
     "output_type": "stream",
     "text": [
      " 30%|██████████▉                         | 461/1517 [1:50:10<3:03:24, 10.42s/it]"
     ]
    },
    {
     "name": "stdout",
     "output_type": "stream",
     "text": [
      "c1: 0, c2: 0, c3: 7\n",
      "nan 2019-06-13 00:00:00\n",
      "\n"
     ]
    },
    {
     "name": "stderr",
     "output_type": "stream",
     "text": [
      "\r",
      " 30%|██████████▉                         | 462/1517 [1:50:13<2:25:26,  8.27s/it]"
     ]
    },
    {
     "name": "stdout",
     "output_type": "stream",
     "text": [
      "c1: 0, c2: 1, c3: 0\n",
      "nan 2019-01-19 00:00:00\n",
      "\n"
     ]
    },
    {
     "name": "stderr",
     "output_type": "stream",
     "text": [
      "\r",
      " 31%|██████████▉                         | 463/1517 [1:50:22<2:27:09,  8.38s/it]"
     ]
    },
    {
     "name": "stdout",
     "output_type": "stream",
     "text": [
      "c1: 0, c2: 0, c3: 2\n",
      "nan 2019-02-01 00:00:00\n",
      "\n"
     ]
    },
    {
     "name": "stderr",
     "output_type": "stream",
     "text": [
      "\r",
      " 31%|███████████                         | 464/1517 [1:50:26<2:02:59,  7.01s/it]"
     ]
    },
    {
     "name": "stdout",
     "output_type": "stream",
     "text": [
      "c1: 0, c2: 0, c3: 57\n",
      "nan 2019-07-03 00:00:00\n",
      "\n"
     ]
    },
    {
     "name": "stderr",
     "output_type": "stream",
     "text": [
      "\r",
      " 31%|███████████                         | 465/1517 [1:50:30<1:47:47,  6.15s/it]"
     ]
    },
    {
     "name": "stdout",
     "output_type": "stream",
     "text": [
      "c1: 0, c2: 5, c3: 2\n",
      "nan 2019-02-25 00:00:00\n",
      "\n"
     ]
    },
    {
     "name": "stderr",
     "output_type": "stream",
     "text": [
      "\r",
      " 31%|███████████                         | 466/1517 [1:50:35<1:41:33,  5.80s/it]"
     ]
    },
    {
     "name": "stdout",
     "output_type": "stream",
     "text": [
      "c1: 0, c2: 3, c3: 12\n",
      "nan 2019-06-17 00:00:00\n",
      "\n"
     ]
    },
    {
     "name": "stderr",
     "output_type": "stream",
     "text": [
      "\r",
      " 31%|███████████                         | 467/1517 [1:50:39<1:33:36,  5.35s/it]"
     ]
    },
    {
     "name": "stdout",
     "output_type": "stream",
     "text": [
      "c1: 0, c2: 1, c3: 8\n",
      "nan 2019-04-01 00:00:00\n",
      "\n"
     ]
    },
    {
     "name": "stderr",
     "output_type": "stream",
     "text": [
      "\r",
      " 31%|███████████                         | 468/1517 [1:50:44<1:32:18,  5.28s/it]"
     ]
    },
    {
     "name": "stdout",
     "output_type": "stream",
     "text": [
      "c1: 0, c2: 0, c3: 52\n",
      "nan 2019-04-11 00:00:00\n",
      "\n"
     ]
    },
    {
     "name": "stderr",
     "output_type": "stream",
     "text": [
      "\r",
      " 31%|███████████▏                        | 469/1517 [1:51:05<2:56:28, 10.10s/it]"
     ]
    },
    {
     "name": "stdout",
     "output_type": "stream",
     "text": [
      "c1: 0, c2: 10, c3: 168\n",
      "nan 2019-06-13 00:00:00\n",
      "\n"
     ]
    },
    {
     "name": "stderr",
     "output_type": "stream",
     "text": [
      "\r",
      " 31%|███████████▏                        | 470/1517 [1:51:12<2:38:16,  9.07s/it]"
     ]
    },
    {
     "name": "stdout",
     "output_type": "stream",
     "text": [
      "c1: 0, c2: 1, c3: 39\n",
      "nan 2019-07-15 00:00:00\n",
      "\n"
     ]
    },
    {
     "name": "stderr",
     "output_type": "stream",
     "text": [
      "\r",
      " 31%|███████████▏                        | 471/1517 [1:51:21<2:37:56,  9.06s/it]"
     ]
    },
    {
     "name": "stdout",
     "output_type": "stream",
     "text": [
      "c1: 0, c2: 0, c3: 4\n",
      "nan 2019-02-20 00:00:00\n",
      "\n"
     ]
    },
    {
     "name": "stderr",
     "output_type": "stream",
     "text": [
      "\r",
      " 31%|███████████▏                        | 472/1517 [1:51:25<2:12:51,  7.63s/it]"
     ]
    },
    {
     "name": "stdout",
     "output_type": "stream",
     "text": [
      "c1: 0, c2: 3, c3: 1\n",
      "nan 2019-04-21 00:00:00\n",
      "\n"
     ]
    },
    {
     "name": "stderr",
     "output_type": "stream",
     "text": [
      "\r",
      " 31%|███████████▏                        | 473/1517 [1:51:30<1:57:12,  6.74s/it]"
     ]
    },
    {
     "name": "stdout",
     "output_type": "stream",
     "text": [
      "c1: 0, c2: 1, c3: 5\n",
      "nan 2019-01-27 00:00:00\n",
      "\n"
     ]
    },
    {
     "name": "stderr",
     "output_type": "stream",
     "text": [
      "\r",
      " 31%|███████████▏                        | 474/1517 [1:51:39<2:09:55,  7.47s/it]"
     ]
    },
    {
     "name": "stdout",
     "output_type": "stream",
     "text": [
      "c1: 0, c2: 1, c3: 34\n",
      "nan 2019-01-05 00:00:00\n",
      "\n"
     ]
    },
    {
     "name": "stderr",
     "output_type": "stream",
     "text": [
      "\r",
      " 31%|███████████▎                        | 475/1517 [1:51:48<2:14:12,  7.73s/it]"
     ]
    },
    {
     "name": "stdout",
     "output_type": "stream",
     "text": [
      "c1: 0, c2: 0, c3: 33\n",
      "nan 2019-06-24 00:00:00\n",
      "\n"
     ]
    },
    {
     "name": "stderr",
     "output_type": "stream",
     "text": [
      "\r",
      " 31%|███████████▎                        | 476/1517 [1:51:51<1:52:14,  6.47s/it]"
     ]
    },
    {
     "name": "stdout",
     "output_type": "stream",
     "text": [
      "c1: 0, c2: 0, c3: 4\n",
      "nan 2019-05-26 00:00:00\n",
      "\n"
     ]
    },
    {
     "name": "stderr",
     "output_type": "stream",
     "text": [
      "\r",
      " 31%|███████████▎                        | 477/1517 [1:52:04<2:26:42,  8.46s/it]"
     ]
    },
    {
     "name": "stdout",
     "output_type": "stream",
     "text": [
      "c1: 0, c2: 0, c3: 2\n",
      "nan 2019-02-21 00:00:00\n",
      "\n"
     ]
    },
    {
     "name": "stderr",
     "output_type": "stream",
     "text": [
      "\r",
      " 32%|███████████▎                        | 478/1517 [1:52:11<2:19:48,  8.07s/it]"
     ]
    },
    {
     "name": "stdout",
     "output_type": "stream",
     "text": [
      "c1: 0, c2: 1, c3: 21\n",
      "nan 2019-06-26 00:00:00\n",
      "\n"
     ]
    },
    {
     "name": "stderr",
     "output_type": "stream",
     "text": [
      "\r",
      " 32%|███████████▎                        | 479/1517 [1:52:26<2:55:08, 10.12s/it]"
     ]
    },
    {
     "name": "stdout",
     "output_type": "stream",
     "text": [
      "c1: 0, c2: 18, c3: 49\n",
      "nan 2019-06-24 00:00:00\n",
      "\n"
     ]
    },
    {
     "name": "stderr",
     "output_type": "stream",
     "text": [
      " 32%|███████████▍                        | 482/1517 [1:52:47<2:11:44,  7.64s/it]"
     ]
    },
    {
     "name": "stdout",
     "output_type": "stream",
     "text": [
      "c1: 0, c2: 0, c3: 9\n",
      "nan 2019-05-12 00:00:00\n",
      "\n"
     ]
    },
    {
     "name": "stderr",
     "output_type": "stream",
     "text": [
      "\r",
      " 32%|███████████▍                        | 483/1517 [1:52:52<1:58:24,  6.87s/it]"
     ]
    },
    {
     "name": "stdout",
     "output_type": "stream",
     "text": [
      "c1: 0, c2: 1, c3: 0\n",
      "nan 2019-06-04 00:00:00\n",
      "\n"
     ]
    },
    {
     "name": "stderr",
     "output_type": "stream",
     "text": [
      "\r",
      " 32%|███████████▍                        | 484/1517 [1:52:57<1:48:09,  6.28s/it]"
     ]
    },
    {
     "name": "stdout",
     "output_type": "stream",
     "text": [
      "c1: 0, c2: 0, c3: 6\n",
      "nan 2019-07-10 00:00:00\n",
      "\n"
     ]
    },
    {
     "name": "stderr",
     "output_type": "stream",
     "text": [
      "\r",
      " 32%|███████████▌                        | 485/1517 [1:53:04<1:51:33,  6.49s/it]"
     ]
    },
    {
     "name": "stdout",
     "output_type": "stream",
     "text": [
      "c1: 0, c2: 15, c3: 23\n",
      "nan 2016-11-14 00:00:00\n",
      "\n"
     ]
    },
    {
     "name": "stderr",
     "output_type": "stream",
     "text": [
      "\r",
      " 32%|███████████▌                        | 486/1517 [1:53:21<2:49:16,  9.85s/it]"
     ]
    },
    {
     "name": "stdout",
     "output_type": "stream",
     "text": [
      "c1: 4, c2: 0, c3: 0\n",
      "Typhoon Chaba (Chyba?) 2016-10-05 00:00:00\n",
      "\n"
     ]
    },
    {
     "name": "stderr",
     "output_type": "stream",
     "text": [
      "\r",
      " 32%|███████████▌                        | 487/1517 [1:53:51<4:31:21, 15.81s/it]"
     ]
    },
    {
     "name": "stdout",
     "output_type": "stream",
     "text": [
      "c1: 0, c2: 13, c3: 7\n",
      "nan 2016-08-14 00:00:00\n",
      "\n"
     ]
    },
    {
     "name": "stderr",
     "output_type": "stream",
     "text": [
      "\r",
      " 32%|███████████▌                        | 488/1517 [1:53:59<3:50:42, 13.45s/it]"
     ]
    },
    {
     "name": "stdout",
     "output_type": "stream",
     "text": [
      "c1: 26, c2: 5, c3: 0\n",
      "Tropical storm Otto 2016-11-21 00:00:00\n",
      "\n"
     ]
    },
    {
     "name": "stderr",
     "output_type": "stream",
     "text": [
      "\r",
      " 32%|███████████▌                        | 489/1517 [1:54:13<3:54:08, 13.67s/it]"
     ]
    },
    {
     "name": "stdout",
     "output_type": "stream",
     "text": [
      "c1: 0, c2: 0, c3: 23\n",
      "nan 2016-11-03 00:00:00\n",
      "\n"
     ]
    },
    {
     "name": "stderr",
     "output_type": "stream",
     "text": [
      "\r",
      " 32%|███████████▋                        | 490/1517 [1:54:21<3:25:44, 12.02s/it]"
     ]
    },
    {
     "name": "stdout",
     "output_type": "stream",
     "text": [
      "c1: 0, c2: 6, c3: 0\n",
      "nan 2016-10-18 00:00:00\n",
      "\n"
     ]
    },
    {
     "name": "stderr",
     "output_type": "stream",
     "text": [
      "\r",
      " 32%|███████████▋                        | 491/1517 [1:54:30<3:08:05, 11.00s/it]"
     ]
    },
    {
     "name": "stdout",
     "output_type": "stream",
     "text": [
      "c1: 0, c2: 0, c3: 4\n",
      "nan 2016-11-05 00:00:00\n",
      "\n"
     ]
    },
    {
     "name": "stderr",
     "output_type": "stream",
     "text": [
      "\r",
      " 32%|███████████▋                        | 492/1517 [1:54:38<2:53:05, 10.13s/it]"
     ]
    },
    {
     "name": "stdout",
     "output_type": "stream",
     "text": [
      "c1: 0, c2: 1, c3: 5\n",
      "nan 2016-09-20 00:00:00\n",
      "\n"
     ]
    },
    {
     "name": "stderr",
     "output_type": "stream",
     "text": [
      "\r",
      " 32%|███████████▋                        | 493/1517 [1:54:57<3:40:37, 12.93s/it]"
     ]
    },
    {
     "name": "stdout",
     "output_type": "stream",
     "text": [
      "c1: 0, c2: 0, c3: 9\n",
      "nan 2016-10-23 00:00:00\n",
      "\n"
     ]
    },
    {
     "name": "stderr",
     "output_type": "stream",
     "text": [
      "\r",
      " 33%|███████████▋                        | 494/1517 [1:55:16<4:09:13, 14.62s/it]"
     ]
    },
    {
     "name": "stdout",
     "output_type": "stream",
     "text": [
      "c1: 0, c2: 0, c3: 4\n",
      "nan 2016-11-30 00:00:00\n",
      "\n"
     ]
    },
    {
     "name": "stderr",
     "output_type": "stream",
     "text": [
      "\r",
      " 33%|███████████▋                        | 495/1517 [1:55:23<3:31:20, 12.41s/it]"
     ]
    },
    {
     "name": "stdout",
     "output_type": "stream",
     "text": [
      "c1: 0, c2: 0, c3: 1\n",
      "nan 2016-12-21 00:00:00\n",
      "\n"
     ]
    },
    {
     "name": "stderr",
     "output_type": "stream",
     "text": [
      "\r",
      " 33%|███████████▊                        | 496/1517 [1:55:28<2:54:39, 10.26s/it]"
     ]
    },
    {
     "name": "stdout",
     "output_type": "stream",
     "text": [
      "c1: 2, c2: 0, c3: 14\n",
      "Tropical storm Mindulle 2016-08-22 00:00:00\n",
      "\n"
     ]
    },
    {
     "name": "stderr",
     "output_type": "stream",
     "text": [
      "\r",
      " 33%|███████████▊                        | 497/1517 [1:55:34<2:30:28,  8.85s/it]"
     ]
    },
    {
     "name": "stdout",
     "output_type": "stream",
     "text": [
      "c1: 0, c2: 0, c3: 17\n",
      "nan 2016-09-03 00:00:00\n",
      "\n"
     ]
    },
    {
     "name": "stderr",
     "output_type": "stream",
     "text": [
      "\r",
      " 33%|███████████▊                        | 498/1517 [1:55:41<2:20:22,  8.27s/it]"
     ]
    },
    {
     "name": "stdout",
     "output_type": "stream",
     "text": [
      "c1: 0, c2: 0, c3: 3\n",
      "nan 2016-08-05 00:00:00\n",
      "\n"
     ]
    },
    {
     "name": "stderr",
     "output_type": "stream",
     "text": [
      "\r",
      " 33%|███████████▊                        | 499/1517 [1:56:05<3:38:09, 12.86s/it]"
     ]
    },
    {
     "name": "stdout",
     "output_type": "stream",
     "text": [
      "c1: 0, c2: 3, c3: 12\n",
      "nan 2016-03-09 00:00:00\n",
      "\n"
     ]
    },
    {
     "name": "stderr",
     "output_type": "stream",
     "text": [
      "\r",
      " 33%|███████████▊                        | 500/1517 [1:56:10<2:59:10, 10.57s/it]"
     ]
    },
    {
     "name": "stdout",
     "output_type": "stream",
     "text": [
      "c1: 0, c2: 0, c3: 3\n",
      "nan 2016-08-06 00:00:00\n",
      "\n"
     ]
    },
    {
     "name": "stderr",
     "output_type": "stream",
     "text": [
      "\r",
      " 33%|███████████▉                        | 501/1517 [1:56:20<2:58:38, 10.55s/it]"
     ]
    },
    {
     "name": "stdout",
     "output_type": "stream",
     "text": [
      "c1: 4, c2: 6, c3: 0\n",
      "Tropical storm Marce (Tokage) 2016-11-23 00:00:00\n",
      "\n"
     ]
    },
    {
     "name": "stderr",
     "output_type": "stream",
     "text": [
      "\r",
      " 33%|███████████▉                        | 502/1517 [1:56:30<2:53:22, 10.25s/it]"
     ]
    },
    {
     "name": "stdout",
     "output_type": "stream",
     "text": [
      "c1: 3, c2: 146, c3: 0\n",
      "Typhoon Carina (Nida) 2016-07-29 00:00:00\n",
      "\n"
     ]
    },
    {
     "name": "stderr",
     "output_type": "stream",
     "text": [
      "\r",
      " 33%|███████████▉                        | 503/1517 [1:56:37<2:35:46,  9.22s/it]"
     ]
    },
    {
     "name": "stdout",
     "output_type": "stream",
     "text": [
      "c1: 0, c2: 0, c3: 1\n",
      "nan 2016-06-21 00:00:00\n",
      "\n"
     ]
    },
    {
     "name": "stderr",
     "output_type": "stream",
     "text": [
      " 33%|███████████▉                        | 505/1517 [1:56:50<2:16:42,  8.11s/it]"
     ]
    },
    {
     "name": "stdout",
     "output_type": "stream",
     "text": [
      "c1: 4, c2: 0, c3: 24\n",
      "Cyclone 'Vardah' 2016-12-12 00:00:00\n",
      "\n"
     ]
    },
    {
     "name": "stderr",
     "output_type": "stream",
     "text": [
      "\r",
      " 33%|████████████                        | 506/1517 [1:56:55<2:00:36,  7.16s/it]"
     ]
    },
    {
     "name": "stdout",
     "output_type": "stream",
     "text": [
      "c1: 0, c2: 1, c3: 0\n",
      "nan 2016-09-01 00:00:00\n",
      "\n"
     ]
    },
    {
     "name": "stderr",
     "output_type": "stream",
     "text": [
      "\r",
      " 33%|████████████                        | 507/1517 [1:57:00<1:48:33,  6.45s/it]"
     ]
    },
    {
     "name": "stdout",
     "output_type": "stream",
     "text": [
      "c1: 1, c2: 0, c3: 17\n",
      "Typhoon Lionrock 2016-09-04 00:00:00\n",
      "\n"
     ]
    },
    {
     "name": "stderr",
     "output_type": "stream",
     "text": [
      "\r",
      " 33%|████████████                        | 508/1517 [1:57:05<1:44:49,  6.23s/it]"
     ]
    },
    {
     "name": "stdout",
     "output_type": "stream",
     "text": [
      "c1: 2, c2: 0, c3: 17\n",
      "Typhoon Malakas 2016-09-20 00:00:00\n",
      "\n"
     ]
    },
    {
     "name": "stderr",
     "output_type": "stream",
     "text": [
      "\r",
      " 34%|████████████                        | 509/1517 [1:57:15<2:00:13,  7.16s/it]"
     ]
    },
    {
     "name": "stdout",
     "output_type": "stream",
     "text": [
      "c1: 66, c2: 0, c3: 0\n",
      "Hurricane 'Matthew' 2016-09-28 00:00:00\n",
      "\n"
     ]
    },
    {
     "name": "stderr",
     "output_type": "stream",
     "text": [
      " 34%|████████████▏                       | 511/1517 [1:57:37<2:43:33,  9.75s/it]"
     ]
    },
    {
     "name": "stdout",
     "output_type": "stream",
     "text": [
      "c1: 591, c2: 212, c3: 0\n",
      "Hurricane 'Matthew' 2016-09-28 00:00:00\n",
      "\n"
     ]
    },
    {
     "name": "stderr",
     "output_type": "stream",
     "text": [
      "\r",
      " 34%|████████████▏                       | 512/1517 [1:57:42<2:16:37,  8.16s/it]"
     ]
    },
    {
     "name": "stdout",
     "output_type": "stream",
     "text": [
      "c1: 0, c2: 0, c3: 1\n",
      "nan 2016-08-01 00:00:00\n",
      "\n"
     ]
    },
    {
     "name": "stderr",
     "output_type": "stream",
     "text": [
      "\r",
      " 34%|████████████▏                       | 513/1517 [1:57:46<1:59:01,  7.11s/it]"
     ]
    },
    {
     "name": "stdout",
     "output_type": "stream",
     "text": [
      "c1: 0, c2: 3, c3: 15\n",
      "nan 2016-12-07 00:00:00\n",
      "\n"
     ]
    },
    {
     "name": "stderr",
     "output_type": "stream",
     "text": [
      "\r",
      " 34%|████████████▏                       | 514/1517 [1:57:52<1:53:01,  6.76s/it]"
     ]
    },
    {
     "name": "stdout",
     "output_type": "stream",
     "text": [
      "c1: 0, c2: 0, c3: 1\n",
      "nan 2016-11-13 00:00:00\n",
      "\n"
     ]
    },
    {
     "name": "stderr",
     "output_type": "stream",
     "text": [
      "\r",
      " 34%|████████████▏                       | 515/1517 [1:58:03<2:10:21,  7.81s/it]"
     ]
    },
    {
     "name": "stdout",
     "output_type": "stream",
     "text": [
      "c1: 0, c2: 0, c3: 25\n",
      "nan 2016-09-21 00:00:00\n",
      "\n"
     ]
    },
    {
     "name": "stderr",
     "output_type": "stream",
     "text": [
      "\r",
      " 34%|████████████▏                       | 516/1517 [1:58:10<2:06:46,  7.60s/it]"
     ]
    },
    {
     "name": "stdout",
     "output_type": "stream",
     "text": [
      "c1: 0, c2: 0, c3: 20\n",
      "nan 2016-07-17 00:00:00\n",
      "\n"
     ]
    },
    {
     "name": "stderr",
     "output_type": "stream",
     "text": [
      "\r",
      " 34%|████████████▎                       | 517/1517 [1:58:20<2:18:12,  8.29s/it]"
     ]
    },
    {
     "name": "stdout",
     "output_type": "stream",
     "text": [
      "c1: 0, c2: 7, c3: 7\n",
      "nan 2016-11-18 00:00:00\n",
      "\n"
     ]
    },
    {
     "name": "stderr",
     "output_type": "stream",
     "text": [
      "\r",
      " 34%|████████████▎                       | 518/1517 [1:58:25<2:02:58,  7.39s/it]"
     ]
    },
    {
     "name": "stdout",
     "output_type": "stream",
     "text": [
      "c1: 0, c2: 8, c3: 43\n",
      "nan 2016-10-26 00:00:00\n",
      "\n"
     ]
    },
    {
     "name": "stderr",
     "output_type": "stream",
     "text": [
      "\r",
      " 34%|████████████▎                       | 519/1517 [1:58:30<1:50:37,  6.65s/it]"
     ]
    },
    {
     "name": "stdout",
     "output_type": "stream",
     "text": [
      "c1: 0, c2: 19, c3: 23\n",
      "nan 2016-10-30 00:00:00\n",
      "\n"
     ]
    },
    {
     "name": "stderr",
     "output_type": "stream",
     "text": [
      "\r",
      " 34%|████████████▎                       | 520/1517 [1:58:35<1:43:41,  6.24s/it]"
     ]
    },
    {
     "name": "stdout",
     "output_type": "stream",
     "text": [
      "c1: 0, c2: 0, c3: 5\n",
      "nan 2016-11-23 00:00:00\n",
      "\n"
     ]
    },
    {
     "name": "stderr",
     "output_type": "stream",
     "text": [
      "\r",
      " 34%|████████████▎                       | 521/1517 [1:58:46<2:04:12,  7.48s/it]"
     ]
    },
    {
     "name": "stdout",
     "output_type": "stream",
     "text": [
      "c1: 432, c2: 0, c3: 3\n",
      "Hurricane 'Matthew' 2016-09-27 00:00:00\n",
      "\n"
     ]
    },
    {
     "name": "stderr",
     "output_type": "stream",
     "text": [
      "\r",
      " 34%|████████████▍                       | 522/1517 [1:58:51<1:51:42,  6.74s/it]"
     ]
    },
    {
     "name": "stdout",
     "output_type": "stream",
     "text": [
      "c1: 0, c2: 1, c3: 16\n",
      "nan 2016-10-21 00:00:00\n",
      "\n"
     ]
    },
    {
     "name": "stderr",
     "output_type": "stream",
     "text": [
      "\r",
      " 34%|████████████▍                       | 523/1517 [1:58:58<1:53:27,  6.85s/it]"
     ]
    },
    {
     "name": "stdout",
     "output_type": "stream",
     "text": [
      "c1: 4, c2: 0, c3: 18\n",
      "Typhoon Chaba (Chyba?) 2016-10-05 00:00:00\n",
      "\n"
     ]
    },
    {
     "name": "stderr",
     "output_type": "stream",
     "text": [
      " 35%|████████████▍                       | 526/1517 [1:59:15<1:47:11,  6.49s/it]"
     ]
    },
    {
     "name": "stdout",
     "output_type": "stream",
     "text": [
      "c1: 0, c2: 0, c3: 16\n",
      "nan 2016-09-29 00:00:00\n",
      "\n"
     ]
    },
    {
     "name": "stderr",
     "output_type": "stream",
     "text": [
      "\r",
      " 35%|████████████▌                       | 527/1517 [1:59:25<2:00:13,  7.29s/it]"
     ]
    },
    {
     "name": "stdout",
     "output_type": "stream",
     "text": [
      "c1: 0, c2: 0, c3: 12\n",
      "nan 2016-02-03 00:00:00\n",
      "\n"
     ]
    },
    {
     "name": "stderr",
     "output_type": "stream",
     "text": [
      "\r",
      " 35%|████████████▌                       | 528/1517 [1:59:34<2:12:42,  8.05s/it]"
     ]
    },
    {
     "name": "stdout",
     "output_type": "stream",
     "text": [
      "c1: 0, c2: 0, c3: 27\n",
      "nan 2016-09-14 00:00:00\n",
      "\n"
     ]
    },
    {
     "name": "stderr",
     "output_type": "stream",
     "text": [
      " 35%|████████████▌                       | 530/1517 [1:59:43<1:40:47,  6.13s/it]"
     ]
    },
    {
     "name": "stdout",
     "output_type": "stream",
     "text": [
      "c1: 0, c2: 2, c3: 5\n",
      "nan 2016-08-24 00:00:00\n",
      "\n"
     ]
    },
    {
     "name": "stderr",
     "output_type": "stream",
     "text": [
      "\r",
      " 35%|████████████▌                       | 531/1517 [1:59:48<1:34:25,  5.75s/it]"
     ]
    },
    {
     "name": "stdout",
     "output_type": "stream",
     "text": [
      "c1: 10, c2: 0, c3: 0\n",
      "Measles 2016-08-22 00:00:00\n",
      "\n"
     ]
    },
    {
     "name": "stderr",
     "output_type": "stream",
     "text": [
      " 35%|████████████▋                       | 533/1517 [2:00:14<2:32:29,  9.30s/it]"
     ]
    },
    {
     "name": "stdout",
     "output_type": "stream",
     "text": [
      "c1: 0, c2: 0, c3: 8\n",
      "nan 2016-11-28 00:00:00\n",
      "\n"
     ]
    },
    {
     "name": "stderr",
     "output_type": "stream",
     "text": [
      "\r",
      " 35%|████████████▋                       | 534/1517 [2:00:55<5:04:28, 18.58s/it]"
     ]
    },
    {
     "name": "stdout",
     "output_type": "stream",
     "text": [
      "c1: 0, c2: 0, c3: 5\n",
      "nan 2016-12-26 00:00:00\n",
      "\n"
     ]
    },
    {
     "name": "stderr",
     "output_type": "stream",
     "text": [
      "\r",
      " 35%|████████████▋                       | 535/1517 [2:01:15<5:13:20, 19.15s/it]"
     ]
    },
    {
     "name": "stdout",
     "output_type": "stream",
     "text": [
      "c1: 0, c2: 0, c3: 8\n",
      "nan 2016-09-01 00:00:00\n",
      "\n"
     ]
    },
    {
     "name": "stderr",
     "output_type": "stream",
     "text": [
      "\r",
      " 35%|████████████                      | 536/1517 [2:08:57<41:25:45, 152.03s/it]"
     ]
    },
    {
     "name": "stdout",
     "output_type": "stream",
     "text": [
      "c1: 18, c2: 785, c3: 25\n",
      "Lassa fever 2016-12-04 00:00:00\n",
      "\n"
     ]
    },
    {
     "name": "stderr",
     "output_type": "stream",
     "text": [
      "\r",
      " 35%|████████████                      | 537/1517 [2:09:05<29:37:28, 108.83s/it]"
     ]
    },
    {
     "name": "stdout",
     "output_type": "stream",
     "text": [
      "c1: 21, c2: 0, c3: 0\n",
      "Tropical storm Otto 2016-11-17 00:00:00\n",
      "\n"
     ]
    },
    {
     "name": "stderr",
     "output_type": "stream",
     "text": [
      "\r",
      " 35%|████████████▍                      | 538/1517 [2:09:10<21:04:21, 77.49s/it]"
     ]
    },
    {
     "name": "stdout",
     "output_type": "stream",
     "text": [
      "c1: 0, c2: 0, c3: 3\n",
      "nan 2016-08-27 00:00:00\n",
      "\n"
     ]
    },
    {
     "name": "stderr",
     "output_type": "stream",
     "text": [
      "\r",
      " 36%|████████████▍                      | 539/1517 [2:09:14<15:07:32, 55.68s/it]"
     ]
    },
    {
     "name": "stdout",
     "output_type": "stream",
     "text": [
      "c1: 0, c2: 0, c3: 2\n",
      "nan 2016-12-01 00:00:00\n",
      "\n"
     ]
    },
    {
     "name": "stderr",
     "output_type": "stream",
     "text": [
      " 36%|████████████▊                       | 541/1517 [2:09:26<8:11:53, 30.24s/it]"
     ]
    },
    {
     "name": "stdout",
     "output_type": "stream",
     "text": [
      "c1: 4, c2: 3, c3: 0\n",
      "Typhoon Ferdie (Meranti) 2016-09-16 00:00:00\n",
      "\n"
     ]
    },
    {
     "name": "stderr",
     "output_type": "stream",
     "text": [
      "\r",
      " 36%|████████████▊                       | 542/1517 [2:09:42<7:02:12, 25.98s/it]"
     ]
    },
    {
     "name": "stdout",
     "output_type": "stream",
     "text": [
      "c1: 11, c2: 10, c3: 0\n",
      "Typhoon Karen (Sarika) 2016-10-16 00:00:00\n",
      "\n"
     ]
    },
    {
     "name": "stderr",
     "output_type": "stream",
     "text": [
      "\r",
      " 36%|████████████▉                       | 543/1517 [2:10:00<6:24:01, 23.66s/it]"
     ]
    },
    {
     "name": "stdout",
     "output_type": "stream",
     "text": [
      "c1: 15, c2: 197, c3: 0\n",
      "Typhoon Lawin (Haima) 2016-10-19 00:00:00\n",
      "\n"
     ]
    },
    {
     "name": "stderr",
     "output_type": "stream",
     "text": [
      "\r",
      " 36%|████████████▉                       | 544/1517 [2:10:06<4:56:06, 18.26s/it]"
     ]
    },
    {
     "name": "stdout",
     "output_type": "stream",
     "text": [
      "c1: 7, c2: 2, c3: 0\n",
      "Typhoon 'Nina' (Nock-Ten) 2016-12-25 00:00:00\n",
      "\n"
     ]
    },
    {
     "name": "stderr",
     "output_type": "stream",
     "text": [
      "\r",
      " 36%|████████████▉                       | 545/1517 [2:10:25<5:00:50, 18.57s/it]"
     ]
    },
    {
     "name": "stdout",
     "output_type": "stream",
     "text": [
      "c1: 0, c2: 12, c3: 0\n",
      "nan 2016-08-08 00:00:00\n",
      "\n"
     ]
    },
    {
     "name": "stderr",
     "output_type": "stream",
     "text": [
      "\r",
      " 36%|████████████▉                       | 546/1517 [2:10:31<4:02:18, 14.97s/it]"
     ]
    },
    {
     "name": "stdout",
     "output_type": "stream",
     "text": [
      "c1: 0, c2: 1, c3: 0\n",
      "nan 2016-08-18 00:00:00\n",
      "\n"
     ]
    },
    {
     "name": "stderr",
     "output_type": "stream",
     "text": [
      " 36%|█████████████                       | 548/1517 [2:10:49<3:13:55, 12.01s/it]"
     ]
    },
    {
     "name": "stdout",
     "output_type": "stream",
     "text": [
      "c1: 0, c2: 0, c3: 1\n",
      "nan 2016-10-09 00:00:00\n",
      "\n"
     ]
    },
    {
     "name": "stderr",
     "output_type": "stream",
     "text": [
      "\r",
      " 36%|█████████████                       | 549/1517 [2:10:54<2:40:21,  9.94s/it]"
     ]
    },
    {
     "name": "stdout",
     "output_type": "stream",
     "text": [
      "c1: 0, c2: 38, c3: 44\n",
      "nan 2017-09-08 00:00:00\n",
      "\n"
     ]
    },
    {
     "name": "stderr",
     "output_type": "stream",
     "text": [
      "\r",
      " 36%|█████████████                       | 550/1517 [2:11:03<2:37:59,  9.80s/it]"
     ]
    },
    {
     "name": "stdout",
     "output_type": "stream",
     "text": [
      "c1: 384, c2: 32, c3: 3\n",
      "Tropical depression'16/Hurricane 'Nate' 2017-10-05 00:00:00\n",
      "\n"
     ]
    },
    {
     "name": "stderr",
     "output_type": "stream",
     "text": [
      "\r",
      " 36%|█████████████                       | 551/1517 [2:11:11<2:25:33,  9.04s/it]"
     ]
    },
    {
     "name": "stdout",
     "output_type": "stream",
     "text": [
      "c1: 11, c2: 0, c3: 34\n",
      "Cyclone Mora 2017-05-30 00:00:00\n",
      "\n"
     ]
    },
    {
     "name": "stderr",
     "output_type": "stream",
     "text": [
      "\r",
      " 36%|█████████████                       | 552/1517 [2:11:16<2:06:43,  7.88s/it]"
     ]
    },
    {
     "name": "stdout",
     "output_type": "stream",
     "text": [
      "c1: 0, c2: 0, c3: 7\n",
      "nan 2017-09-09 00:00:00\n",
      "\n"
     ]
    },
    {
     "name": "stderr",
     "output_type": "stream",
     "text": [
      "\r",
      " 36%|█████████████                       | 553/1517 [2:11:24<2:06:55,  7.90s/it]"
     ]
    },
    {
     "name": "stdout",
     "output_type": "stream",
     "text": [
      "c1: 24, c2: 31, c3: 19\n",
      "Typhoon 'Lan'/'Paolo' 2017-10-22 00:00:00\n",
      "\n"
     ]
    },
    {
     "name": "stderr",
     "output_type": "stream",
     "text": [
      "\r",
      " 37%|█████████████▏                      | 554/1517 [2:11:33<2:12:07,  8.23s/it]"
     ]
    },
    {
     "name": "stdout",
     "output_type": "stream",
     "text": [
      "c1: 2, c2: 4, c3: 24\n",
      "Typhoon 'Talim' 2017-09-17 00:00:00\n",
      "\n"
     ]
    },
    {
     "name": "stderr",
     "output_type": "stream",
     "text": [
      "\r",
      " 37%|█████████████▏                      | 555/1517 [2:11:45<2:30:08,  9.36s/it]"
     ]
    },
    {
     "name": "stdout",
     "output_type": "stream",
     "text": [
      "c1: 5, c2: 83, c3: 0\n",
      "Cyclone 'Ockhi' 2017-11-29 00:00:00\n",
      "\n"
     ]
    },
    {
     "name": "stderr",
     "output_type": "stream",
     "text": [
      "\r",
      " 37%|█████████████▏                      | 556/1517 [2:11:50<2:11:14,  8.19s/it]"
     ]
    },
    {
     "name": "stdout",
     "output_type": "stream",
     "text": [
      "c1: 0, c2: 0, c3: 1\n",
      "Tropical storm 'Pakhar'/'Jolina' 2017-08-27 00:00:00\n",
      "\n"
     ]
    },
    {
     "name": "stderr",
     "output_type": "stream",
     "text": [
      "\r",
      " 37%|█████████████▏                      | 557/1517 [2:12:01<2:25:06,  9.07s/it]"
     ]
    },
    {
     "name": "stdout",
     "output_type": "stream",
     "text": [
      "c1: 11, c2: 0, c3: 10\n",
      "Beatriz 2017-06-01 00:00:00\n",
      "\n"
     ]
    },
    {
     "name": "stderr",
     "output_type": "stream",
     "text": [
      "\r",
      " 37%|█████████████▏                      | 558/1517 [2:12:08<2:12:49,  8.31s/it]"
     ]
    },
    {
     "name": "stdout",
     "output_type": "stream",
     "text": [
      "c1: 18, c2: 0, c3: 4\n",
      "Hurricane 'Franklin' 2017-08-07 00:00:00\n",
      "\n"
     ]
    },
    {
     "name": "stderr",
     "output_type": "stream",
     "text": [
      "\r",
      " 37%|█████████████▎                      | 559/1517 [2:12:13<1:58:26,  7.42s/it]"
     ]
    },
    {
     "name": "stdout",
     "output_type": "stream",
     "text": [
      "c1: 0, c2: 0, c3: 3\n",
      "nan 2017-04-22 00:00:00\n",
      "\n"
     ]
    },
    {
     "name": "stderr",
     "output_type": "stream",
     "text": [
      "\r",
      " 37%|█████████████▎                      | 560/1517 [2:12:28<2:31:34,  9.50s/it]"
     ]
    },
    {
     "name": "stdout",
     "output_type": "stream",
     "text": [
      "c1: 6, c2: 185, c3: 0\n",
      "Typhoon Nesat & Haitang 2017-07-25 00:00:00\n",
      "\n"
     ]
    },
    {
     "name": "stderr",
     "output_type": "stream",
     "text": [
      "\r",
      " 37%|█████████████▎                      | 561/1517 [2:12:41<2:51:09, 10.74s/it]"
     ]
    },
    {
     "name": "stdout",
     "output_type": "stream",
     "text": [
      "c1: 9, c2: 0, c3: 0\n",
      "Typhoon 'Damrey' / 'Ramil' 2017-11-01 00:00:00\n",
      "\n"
     ]
    },
    {
     "name": "stderr",
     "output_type": "stream",
     "text": [
      "\r",
      " 37%|█████████████▎                      | 562/1517 [2:12:50<2:40:20, 10.07s/it]"
     ]
    },
    {
     "name": "stdout",
     "output_type": "stream",
     "text": [
      "c1: 11, c2: 2, c3: 0\n",
      "Storm 'Tembin' (Vinta) 2017-12-21 00:00:00\n",
      "\n"
     ]
    },
    {
     "name": "stderr",
     "output_type": "stream",
     "text": [
      "\r",
      " 37%|█████████████▎                      | 563/1517 [2:13:00<2:42:54, 10.25s/it]"
     ]
    },
    {
     "name": "stdout",
     "output_type": "stream",
     "text": [
      "c1: 8, c2: 1, c3: 0\n",
      "Tropical storm 'Kai-Tak' (Urduja) 2017-12-16 00:00:00\n",
      "\n"
     ]
    },
    {
     "name": "stderr",
     "output_type": "stream",
     "text": [
      "\r",
      " 37%|█████████████▍                      | 564/1517 [2:13:13<2:55:01, 11.02s/it]"
     ]
    },
    {
     "name": "stdout",
     "output_type": "stream",
     "text": [
      "c1: 0, c2: 146, c3: 234\n",
      "Hurricane 'Maria' 2017-09-19 00:00:00\n",
      "\n"
     ]
    },
    {
     "name": "stderr",
     "output_type": "stream",
     "text": [
      "\r",
      " 37%|█████████████▍                      | 565/1517 [2:13:20<2:33:05,  9.65s/it]"
     ]
    },
    {
     "name": "stdout",
     "output_type": "stream",
     "text": [
      "c1: 0, c2: 0, c3: 7\n",
      "nan 2017-08-05 00:00:00\n",
      "\n"
     ]
    },
    {
     "name": "stderr",
     "output_type": "stream",
     "text": [
      "\r",
      " 37%|█████████████▍                      | 566/1517 [2:13:33<2:48:15, 10.62s/it]"
     ]
    },
    {
     "name": "stdout",
     "output_type": "stream",
     "text": [
      "c1: 33, c2: 0, c3: 0\n",
      "Typhoon 'Lan'/'Paolo' 2017-10-18 00:00:00\n",
      "\n"
     ]
    },
    {
     "name": "stderr",
     "output_type": "stream",
     "text": [
      "\r",
      " 37%|█████████████▍                      | 567/1517 [2:13:41<2:39:16, 10.06s/it]"
     ]
    },
    {
     "name": "stdout",
     "output_type": "stream",
     "text": [
      "c1: 0, c2: 9, c3: 15\n",
      "nan 2017-06-17 00:00:00\n",
      "\n"
     ]
    },
    {
     "name": "stderr",
     "output_type": "stream",
     "text": [
      "\r",
      " 37%|█████████████▍                      | 568/1517 [2:13:49<2:27:24,  9.32s/it]"
     ]
    },
    {
     "name": "stdout",
     "output_type": "stream",
     "text": [
      "c1: 1, c2: 0, c3: 9\n",
      "Cyclone 'Cempaka' 2017-11-28 00:00:00\n",
      "\n"
     ]
    },
    {
     "name": "stderr",
     "output_type": "stream",
     "text": [
      "\r",
      " 38%|█████████████▌                      | 569/1517 [2:13:56<2:16:57,  8.67s/it]"
     ]
    },
    {
     "name": "stdout",
     "output_type": "stream",
     "text": [
      "c1: 66, c2: 0, c3: 81\n",
      "Hurricane Katia 2017-09-07 00:00:00\n",
      "\n"
     ]
    },
    {
     "name": "stderr",
     "output_type": "stream",
     "text": [
      "\r",
      " 38%|█████████████▌                      | 570/1517 [2:14:08<2:32:20,  9.65s/it]"
     ]
    },
    {
     "name": "stdout",
     "output_type": "stream",
     "text": [
      "c1: 4, c2: 0, c3: 0\n",
      "Typhoon 'Doksuri' 2017-09-11 00:00:00\n",
      "\n"
     ]
    },
    {
     "name": "stderr",
     "output_type": "stream",
     "text": [
      "\r",
      " 38%|█████████████▌                      | 571/1517 [2:14:19<2:36:47,  9.95s/it]"
     ]
    },
    {
     "name": "stdout",
     "output_type": "stream",
     "text": [
      "c1: 0, c2: 9, c3: 1\n",
      "nan 2017-07-21 00:00:00\n",
      "\n"
     ]
    },
    {
     "name": "stderr",
     "output_type": "stream",
     "text": [
      "\r",
      " 38%|█████████████▌                      | 572/1517 [2:14:26<2:23:32,  9.11s/it]"
     ]
    },
    {
     "name": "stdout",
     "output_type": "stream",
     "text": [
      "c1: 0, c2: 154, c3: 5\n",
      "Hurricane 'Maria' 2017-09-21 00:00:00\n",
      "\n"
     ]
    },
    {
     "name": "stderr",
     "output_type": "stream",
     "text": [
      "\r",
      " 38%|█████████████▌                      | 573/1517 [2:14:32<2:10:57,  8.32s/it]"
     ]
    },
    {
     "name": "stdout",
     "output_type": "stream",
     "text": [
      "c1: 4, c2: 0, c3: 5\n",
      "Tropical storm 'Kai-Tak' (Urduja) 2017-12-18 00:00:00\n",
      "\n"
     ]
    },
    {
     "name": "stderr",
     "output_type": "stream",
     "text": [
      "\r",
      " 38%|█████████████▌                      | 574/1517 [2:14:39<2:03:34,  7.86s/it]"
     ]
    },
    {
     "name": "stdout",
     "output_type": "stream",
     "text": [
      "c1: 0, c2: 2, c3: 5\n",
      "nan 2017-02-04 00:00:00\n",
      "\n"
     ]
    },
    {
     "name": "stderr",
     "output_type": "stream",
     "text": [
      "\r",
      " 38%|█████████████▋                      | 575/1517 [2:14:44<1:50:05,  7.01s/it]"
     ]
    },
    {
     "name": "stdout",
     "output_type": "stream",
     "text": [
      "c1: 0, c2: 0, c3: 41\n",
      "nan 2017-12-16 00:00:00\n",
      "\n"
     ]
    },
    {
     "name": "stderr",
     "output_type": "stream",
     "text": [
      "\r",
      " 38%|█████████████▋                      | 576/1517 [2:14:51<1:51:15,  7.09s/it]"
     ]
    },
    {
     "name": "stdout",
     "output_type": "stream",
     "text": [
      "c1: 0, c2: 161, c3: 24\n",
      "nan 2017-09-17 00:00:00\n",
      "\n"
     ]
    },
    {
     "name": "stderr",
     "output_type": "stream",
     "text": [
      "\r",
      " 38%|█████████████▋                      | 577/1517 [2:14:59<1:53:31,  7.25s/it]"
     ]
    },
    {
     "name": "stdout",
     "output_type": "stream",
     "text": [
      "c1: 0, c2: 3, c3: 1\n",
      "nan 2017-06-10 00:00:00\n",
      "\n"
     ]
    },
    {
     "name": "stderr",
     "output_type": "stream",
     "text": [
      "\r",
      " 38%|█████████████▋                      | 578/1517 [2:15:10<2:10:06,  8.31s/it]"
     ]
    },
    {
     "name": "stdout",
     "output_type": "stream",
     "text": [
      "c1: 0, c2: 0, c3: 1\n",
      "nan 2017-11-14 00:00:00\n",
      "\n"
     ]
    },
    {
     "name": "stderr",
     "output_type": "stream",
     "text": [
      "\r",
      " 38%|█████████████▋                      | 579/1517 [2:15:19<2:15:46,  8.68s/it]"
     ]
    },
    {
     "name": "stdout",
     "output_type": "stream",
     "text": [
      "c1: 0, c2: 4, c3: 2\n",
      "nan 2017-05-12 00:00:00\n",
      "\n"
     ]
    },
    {
     "name": "stderr",
     "output_type": "stream",
     "text": [
      "\r",
      " 38%|█████████████▊                      | 580/1517 [2:15:25<2:01:53,  7.80s/it]"
     ]
    },
    {
     "name": "stdout",
     "output_type": "stream",
     "text": [
      "c1: 0, c2: 0, c3: 3\n",
      "nan 2017-03-03 00:00:00\n",
      "\n"
     ]
    },
    {
     "name": "stderr",
     "output_type": "stream",
     "text": [
      "\r",
      " 38%|█████████████▊                      | 581/1517 [2:15:33<2:02:39,  7.86s/it]"
     ]
    },
    {
     "name": "stdout",
     "output_type": "stream",
     "text": [
      "c1: 0, c2: 1, c3: 1\n",
      "nan 2017-02-09 00:00:00\n",
      "\n"
     ]
    },
    {
     "name": "stderr",
     "output_type": "stream",
     "text": [
      "\r",
      " 38%|█████████████▊                      | 582/1517 [2:15:51<2:48:53, 10.84s/it]"
     ]
    },
    {
     "name": "stdout",
     "output_type": "stream",
     "text": [
      "c1: 0, c2: 0, c3: 9\n",
      "nan 2017-11-03 00:00:00\n",
      "\n"
     ]
    },
    {
     "name": "stderr",
     "output_type": "stream",
     "text": [
      "\r",
      " 38%|█████████████▊                      | 583/1517 [2:15:57<2:25:28,  9.35s/it]"
     ]
    },
    {
     "name": "stdout",
     "output_type": "stream",
     "text": [
      "c1: 0, c2: 114, c3: 0\n",
      "nan 2017-04-15 00:00:00\n",
      "\n"
     ]
    },
    {
     "name": "stderr",
     "output_type": "stream",
     "text": [
      "\r",
      " 38%|█████████████▊                      | 584/1517 [2:16:04<2:16:23,  8.77s/it]"
     ]
    },
    {
     "name": "stdout",
     "output_type": "stream",
     "text": [
      "c1: 0, c2: 4, c3: 16\n",
      "nan 2017-07-06 00:00:00\n",
      "\n"
     ]
    },
    {
     "name": "stderr",
     "output_type": "stream",
     "text": [
      "\r",
      " 39%|█████████████▉                      | 585/1517 [2:16:14<2:21:45,  9.13s/it]"
     ]
    },
    {
     "name": "stdout",
     "output_type": "stream",
     "text": [
      "c1: 0, c2: 31, c3: 6\n",
      "nan 2017-05-25 00:00:00\n",
      "\n"
     ]
    },
    {
     "name": "stderr",
     "output_type": "stream",
     "text": [
      "\r",
      " 39%|█████████████▉                      | 586/1517 [2:16:47<4:13:57, 16.37s/it]"
     ]
    },
    {
     "name": "stdout",
     "output_type": "stream",
     "text": [
      "c1: 0, c2: 438, c3: 1\n",
      "nan 2017-07-02 00:00:00\n",
      "\n"
     ]
    },
    {
     "name": "stderr",
     "output_type": "stream",
     "text": [
      "\r",
      " 39%|█████████████▉                      | 587/1517 [2:16:55<3:30:34, 13.59s/it]"
     ]
    },
    {
     "name": "stdout",
     "output_type": "stream",
     "text": [
      "c1: 0, c2: 10, c3: 12\n",
      "Hurricane 'Maria' 2017-09-18 00:00:00\n",
      "\n"
     ]
    },
    {
     "name": "stderr",
     "output_type": "stream",
     "text": [
      " 39%|█████████████▉                      | 589/1517 [2:17:46<5:29:22, 21.30s/it]"
     ]
    },
    {
     "name": "stdout",
     "output_type": "stream",
     "text": [
      "c1: 0, c2: 155, c3: 59\n",
      "nan 2017-08-10 00:00:00\n",
      "\n"
     ]
    },
    {
     "name": "stderr",
     "output_type": "stream",
     "text": [
      "\r",
      " 39%|██████████████                      | 590/1517 [2:18:09<5:37:38, 21.85s/it]"
     ]
    },
    {
     "name": "stdout",
     "output_type": "stream",
     "text": [
      "c1: 0, c2: 4, c3: 9\n",
      "nan 2017-04-05 00:00:00\n",
      "\n"
     ]
    },
    {
     "name": "stderr",
     "output_type": "stream",
     "text": [
      "\r",
      " 39%|█████████████▋                     | 591/1517 [2:19:39<10:54:22, 42.40s/it]"
     ]
    },
    {
     "name": "stdout",
     "output_type": "stream",
     "text": [
      "c1: 0, c2: 14, c3: 45\n",
      "nan 2017-06-26 00:00:00\n",
      "\n"
     ]
    },
    {
     "name": "stderr",
     "output_type": "stream",
     "text": [
      "\r",
      " 39%|██████████████                      | 592/1517 [2:19:46<8:08:25, 31.68s/it]"
     ]
    },
    {
     "name": "stdout",
     "output_type": "stream",
     "text": [
      "c1: 330, c2: 0, c3: 2\n",
      "Tropical depression'16/Hurricane 'Nate' 2017-10-06 00:00:00\n",
      "\n"
     ]
    },
    {
     "name": "stderr",
     "output_type": "stream",
     "text": [
      "\r",
      " 39%|██████████████                      | 593/1517 [2:20:14<7:52:41, 30.69s/it]"
     ]
    },
    {
     "name": "stdout",
     "output_type": "stream",
     "text": [
      "c1: 0, c2: 548, c3: 0\n",
      "nan 2017-01-14 00:00:00\n",
      "\n"
     ]
    },
    {
     "name": "stderr",
     "output_type": "stream",
     "text": [
      "\r",
      " 39%|██████████████                      | 594/1517 [2:20:26<6:25:55, 25.09s/it]"
     ]
    },
    {
     "name": "stdout",
     "output_type": "stream",
     "text": [
      "c1: 0, c2: 65, c3: 6\n",
      "nan 2017-03-15 00:00:00\n",
      "\n"
     ]
    },
    {
     "name": "stderr",
     "output_type": "stream",
     "text": [
      " 39%|██████████████▏                     | 597/1517 [2:21:13<4:59:31, 19.53s/it]"
     ]
    },
    {
     "name": "stdout",
     "output_type": "stream",
     "text": [
      "c1: 0, c2: 0, c3: 3\n",
      "nan 2017-10-23 00:00:00\n",
      "\n"
     ]
    },
    {
     "name": "stderr",
     "output_type": "stream",
     "text": [
      " 39%|██████████████▏                     | 599/1517 [2:21:23<3:05:46, 12.14s/it]"
     ]
    },
    {
     "name": "stdout",
     "output_type": "stream",
     "text": [
      "c1: 0, c2: 659, c3: 0\n",
      "nan 2017-09-11 00:00:00\n",
      "\n"
     ]
    },
    {
     "name": "stderr",
     "output_type": "stream",
     "text": [
      "\r",
      " 40%|██████████████▏                     | 600/1517 [2:21:33<2:54:09, 11.40s/it]"
     ]
    },
    {
     "name": "stdout",
     "output_type": "stream",
     "text": [
      "c1: 1633, c2: 0, c3: 3\n",
      "Hurricane 'Irma' 2017-09-07 00:00:00\n",
      "\n"
     ]
    },
    {
     "name": "stderr",
     "output_type": "stream",
     "text": [
      "\r",
      " 40%|██████████████▎                     | 601/1517 [2:21:38<2:24:18,  9.45s/it]"
     ]
    },
    {
     "name": "stdout",
     "output_type": "stream",
     "text": [
      "c1: 0, c2: 0, c3: 2\n",
      "nan 2017-06-21 00:00:00\n",
      "\n"
     ]
    },
    {
     "name": "stderr",
     "output_type": "stream",
     "text": [
      "\r",
      " 40%|██████████████▎                     | 602/1517 [2:21:46<2:17:16,  9.00s/it]"
     ]
    },
    {
     "name": "stdout",
     "output_type": "stream",
     "text": [
      "c1: 5, c2: 0, c3: 18\n",
      "Cyclone 'Ockhi' 2017-12-02 00:00:00\n",
      "\n"
     ]
    },
    {
     "name": "stderr",
     "output_type": "stream",
     "text": [
      "\r",
      " 40%|██████████████▎                     | 603/1517 [2:21:51<2:00:36,  7.92s/it]"
     ]
    },
    {
     "name": "stdout",
     "output_type": "stream",
     "text": [
      "c1: 1, c2: 0, c3: 1\n",
      "Typhoon 'Hato' 2017-08-24 00:00:00\n",
      "\n"
     ]
    },
    {
     "name": "stderr",
     "output_type": "stream",
     "text": [
      "\r",
      " 40%|██████████████▎                     | 604/1517 [2:22:04<2:23:33,  9.43s/it]"
     ]
    },
    {
     "name": "stdout",
     "output_type": "stream",
     "text": [
      "c1: 2, c2: 0, c3: 0\n",
      "Cyclone 'Enawo' 2017-03-07 00:00:00\n",
      "\n"
     ]
    },
    {
     "name": "stderr",
     "output_type": "stream",
     "text": [
      "\r",
      " 40%|██████████████▎                     | 605/1517 [2:22:14<2:24:41,  9.52s/it]"
     ]
    },
    {
     "name": "stdout",
     "output_type": "stream",
     "text": [
      "c1: 2, c2: 2, c3: 242\n",
      "Tropical storm 'Lidia' 2017-08-30 00:00:00\n",
      "\n"
     ]
    },
    {
     "name": "stderr",
     "output_type": "stream",
     "text": [
      "\r",
      " 40%|██████████████▍                     | 606/1517 [2:22:22<2:18:31,  9.12s/it]"
     ]
    },
    {
     "name": "stdout",
     "output_type": "stream",
     "text": [
      "c1: 2, c2: 2, c3: 0\n",
      "Cyclone 'Dineo' 2017-02-15 00:00:00\n",
      "\n"
     ]
    },
    {
     "name": "stderr",
     "output_type": "stream",
     "text": [
      " 40%|██████████████▍                     | 609/1517 [2:22:41<1:50:47,  7.32s/it]"
     ]
    },
    {
     "name": "stdout",
     "output_type": "stream",
     "text": [
      "c1: 1692, c2: 0, c3: 0\n",
      "Hurricane 'Irma' 2017-09-06 00:00:00\n",
      "\n"
     ]
    },
    {
     "name": "stderr",
     "output_type": "stream",
     "text": [
      " 40%|██████████████▍                     | 611/1517 [2:22:57<1:58:24,  7.84s/it]"
     ]
    },
    {
     "name": "stdout",
     "output_type": "stream",
     "text": [
      "c1: 0, c2: 13, c3: 9\n",
      "nan 2017-01-18 00:00:00\n",
      "\n"
     ]
    },
    {
     "name": "stderr",
     "output_type": "stream",
     "text": [
      " 40%|██████████████▌                     | 613/1517 [2:23:41<3:47:10, 15.08s/it]"
     ]
    },
    {
     "name": "stdout",
     "output_type": "stream",
     "text": [
      "c1: 0, c2: 12, c3: 2\n",
      "nan 2017-01-07 00:00:00\n",
      "\n"
     ]
    },
    {
     "name": "stderr",
     "output_type": "stream",
     "text": [
      "\r",
      " 40%|██████████████▌                     | 614/1517 [2:23:47<3:06:49, 12.41s/it]"
     ]
    },
    {
     "name": "stdout",
     "output_type": "stream",
     "text": [
      "c1: 0, c2: 5, c3: 1\n",
      "nan 2017-07-16 00:00:00\n",
      "\n"
     ]
    },
    {
     "name": "stderr",
     "output_type": "stream",
     "text": [
      "\r",
      " 41%|██████████████▌                     | 615/1517 [2:23:55<2:43:20, 10.87s/it]"
     ]
    },
    {
     "name": "stdout",
     "output_type": "stream",
     "text": [
      "c1: 0, c2: 0, c3: 2\n",
      "nan 2017-04-20 00:00:00\n",
      "\n"
     ]
    },
    {
     "name": "stderr",
     "output_type": "stream",
     "text": [
      "\r",
      " 41%|██████████████▌                     | 616/1517 [2:24:04<2:33:53, 10.25s/it]"
     ]
    },
    {
     "name": "stdout",
     "output_type": "stream",
     "text": [
      "c1: 0, c2: 24, c3: 2\n",
      "nan 2017-05-17 00:00:00\n",
      "\n"
     ]
    },
    {
     "name": "stderr",
     "output_type": "stream",
     "text": [
      "\r",
      " 41%|██████████████▋                     | 617/1517 [2:24:09<2:11:55,  8.79s/it]"
     ]
    },
    {
     "name": "stdout",
     "output_type": "stream",
     "text": [
      "c1: 0, c2: 37, c3: 0\n",
      "nan 2017-12-15 00:00:00\n",
      "\n"
     ]
    },
    {
     "name": "stderr",
     "output_type": "stream",
     "text": [
      "\r",
      " 41%|██████████████▋                     | 618/1517 [2:24:15<2:00:16,  8.03s/it]"
     ]
    },
    {
     "name": "stdout",
     "output_type": "stream",
     "text": [
      "c1: 0, c2: 0, c3: 5\n",
      "nan 2017-04-29 00:00:00\n",
      "\n"
     ]
    },
    {
     "name": "stderr",
     "output_type": "stream",
     "text": [
      "\r",
      " 41%|██████████████▋                     | 619/1517 [2:24:24<2:01:52,  8.14s/it]"
     ]
    },
    {
     "name": "stdout",
     "output_type": "stream",
     "text": [
      "c1: 0, c2: 0, c3: 7\n",
      "nan 2017-11-19 00:00:00\n",
      "\n"
     ]
    },
    {
     "name": "stderr",
     "output_type": "stream",
     "text": [
      "\r",
      " 41%|██████████████▋                     | 620/1517 [2:24:34<2:09:56,  8.69s/it]"
     ]
    },
    {
     "name": "stdout",
     "output_type": "stream",
     "text": [
      "c1: 0, c2: 0, c3: 3\n",
      "nan 2017-06-01 00:00:00\n",
      "\n"
     ]
    },
    {
     "name": "stderr",
     "output_type": "stream",
     "text": [
      "\r",
      " 41%|██████████████▋                     | 621/1517 [2:24:39<1:53:42,  7.61s/it]"
     ]
    },
    {
     "name": "stdout",
     "output_type": "stream",
     "text": [
      "c1: 0, c2: 0, c3: 2\n",
      "nan 2017-04-01 00:00:00\n",
      "\n"
     ]
    },
    {
     "name": "stderr",
     "output_type": "stream",
     "text": [
      "\r",
      " 41%|██████████████▊                     | 622/1517 [2:24:44<1:44:02,  6.98s/it]"
     ]
    },
    {
     "name": "stdout",
     "output_type": "stream",
     "text": [
      "c1: 0, c2: 2, c3: 2\n",
      "nan 2017-02-21 00:00:00\n",
      "\n"
     ]
    },
    {
     "name": "stderr",
     "output_type": "stream",
     "text": [
      "\r",
      " 41%|██████████████▊                     | 623/1517 [2:25:49<6:02:44, 24.35s/it]"
     ]
    },
    {
     "name": "stdout",
     "output_type": "stream",
     "text": [
      "c1: 90, c2: 0, c3: 0\n",
      "Mt. Agung 2017-09-22 00:00:00\n",
      "\n"
     ]
    },
    {
     "name": "stderr",
     "output_type": "stream",
     "text": [
      "\r",
      " 41%|██████████████▊                     | 624/1517 [2:25:57<4:48:14, 19.37s/it]"
     ]
    },
    {
     "name": "stdout",
     "output_type": "stream",
     "text": [
      "c1: 0, c2: 0, c3: 20\n",
      "nan 2017-07-08 00:00:00\n",
      "\n"
     ]
    },
    {
     "name": "stderr",
     "output_type": "stream",
     "text": [
      "\r",
      " 41%|██████████████▊                     | 625/1517 [2:26:02<3:43:14, 15.02s/it]"
     ]
    },
    {
     "name": "stdout",
     "output_type": "stream",
     "text": [
      "c1: 0, c2: 3, c3: 38\n",
      "nan 2017-05-28 00:00:00\n",
      "\n"
     ]
    },
    {
     "name": "stderr",
     "output_type": "stream",
     "text": [
      "\r",
      " 41%|██████████████▊                     | 626/1517 [2:26:07<2:59:15, 12.07s/it]"
     ]
    },
    {
     "name": "stdout",
     "output_type": "stream",
     "text": [
      "c1: 0, c2: 0, c3: 20\n",
      "nan 2017-03-25 00:00:00\n",
      "\n"
     ]
    },
    {
     "name": "stderr",
     "output_type": "stream",
     "text": [
      "\r",
      " 41%|██████████████▉                     | 627/1517 [2:26:12<2:30:14, 10.13s/it]"
     ]
    },
    {
     "name": "stdout",
     "output_type": "stream",
     "text": [
      "c1: 0, c2: 694, c3: 10\n",
      "nan 2017-08-29 00:00:00\n",
      "\n"
     ]
    },
    {
     "name": "stderr",
     "output_type": "stream",
     "text": [
      "\r",
      " 41%|██████████████▉                     | 628/1517 [2:26:25<2:40:15, 10.82s/it]"
     ]
    },
    {
     "name": "stdout",
     "output_type": "stream",
     "text": [
      "c1: 0, c2: 2, c3: 39\n",
      "nan 2017-10-30 00:00:00\n",
      "\n"
     ]
    },
    {
     "name": "stderr",
     "output_type": "stream",
     "text": [
      "\r",
      " 41%|██████████████▉                     | 629/1517 [2:27:13<5:24:23, 21.92s/it]"
     ]
    },
    {
     "name": "stdout",
     "output_type": "stream",
     "text": [
      "c1: 0, c2: 7, c3: 60\n",
      "nan 2017-06-25 00:00:00\n",
      "\n"
     ]
    },
    {
     "name": "stderr",
     "output_type": "stream",
     "text": [
      "\r",
      " 42%|██████████████▉                     | 630/1517 [2:27:19<4:15:12, 17.26s/it]"
     ]
    },
    {
     "name": "stdout",
     "output_type": "stream",
     "text": [
      "c1: 0, c2: 0, c3: 3\n",
      "nan 2017-01-25 00:00:00\n",
      "\n"
     ]
    },
    {
     "name": "stderr",
     "output_type": "stream",
     "text": [
      "\r",
      " 42%|██████████████▉                     | 631/1517 [2:27:24<3:19:22, 13.50s/it]"
     ]
    },
    {
     "name": "stdout",
     "output_type": "stream",
     "text": [
      "c1: 0, c2: 1, c3: 3\n",
      "nan 2017-07-11 00:00:00\n",
      "\n"
     ]
    },
    {
     "name": "stderr",
     "output_type": "stream",
     "text": [
      "\r",
      " 42%|██████████████▉                     | 632/1517 [2:27:28<2:39:13, 10.79s/it]"
     ]
    },
    {
     "name": "stdout",
     "output_type": "stream",
     "text": [
      "c1: 0, c2: 3, c3: 7\n",
      "nan 2017-08-13 00:00:00\n",
      "\n"
     ]
    },
    {
     "name": "stderr",
     "output_type": "stream",
     "text": [
      "\r",
      " 42%|███████████████                     | 633/1517 [2:28:24<5:56:53, 24.22s/it]"
     ]
    },
    {
     "name": "stdout",
     "output_type": "stream",
     "text": [
      "c1: 0, c2: 2, c3: 21\n",
      "nan 2017-04-12 00:00:00\n",
      "\n"
     ]
    },
    {
     "name": "stderr",
     "output_type": "stream",
     "text": [
      "\r",
      " 42%|███████████████                     | 634/1517 [2:28:31<4:41:28, 19.13s/it]"
     ]
    },
    {
     "name": "stdout",
     "output_type": "stream",
     "text": [
      "c1: 0, c2: 0, c3: 12\n",
      "nan 2017-06-04 00:00:00\n",
      "\n"
     ]
    },
    {
     "name": "stderr",
     "output_type": "stream",
     "text": [
      "\r",
      " 42%|███████████████                     | 635/1517 [2:28:53<4:55:33, 20.11s/it]"
     ]
    },
    {
     "name": "stdout",
     "output_type": "stream",
     "text": [
      "c1: 0, c2: 0, c3: 63\n",
      "nan 2017-06-01 00:00:00\n",
      "\n"
     ]
    },
    {
     "name": "stderr",
     "output_type": "stream",
     "text": [
      "\r",
      " 42%|███████████████                     | 636/1517 [2:29:12<4:47:31, 19.58s/it]"
     ]
    },
    {
     "name": "stdout",
     "output_type": "stream",
     "text": [
      "c1: 0, c2: 20, c3: 124\n",
      "nan 2017-08-11 00:00:00\n",
      "\n"
     ]
    },
    {
     "name": "stderr",
     "output_type": "stream",
     "text": [
      "\r",
      " 42%|███████████████                     | 637/1517 [2:29:29<4:34:31, 18.72s/it]"
     ]
    },
    {
     "name": "stdout",
     "output_type": "stream",
     "text": [
      "c1: 0, c2: 32, c3: 59\n",
      "nan 2017-08-16 00:00:00\n",
      "\n"
     ]
    },
    {
     "name": "stderr",
     "output_type": "stream",
     "text": [
      "\r",
      " 42%|███████████████▏                    | 638/1517 [2:29:33<3:32:11, 14.48s/it]"
     ]
    },
    {
     "name": "stdout",
     "output_type": "stream",
     "text": [
      "c1: 0, c2: 0, c3: 2\n",
      "nan 2017-11-22 00:00:00\n",
      "\n"
     ]
    },
    {
     "name": "stderr",
     "output_type": "stream",
     "text": [
      " 42%|███████████████▏                    | 640/1517 [2:29:46<2:29:55, 10.26s/it]"
     ]
    },
    {
     "name": "stdout",
     "output_type": "stream",
     "text": [
      "c1: 0, c2: 81, c3: 0\n",
      "nan 2017-11-12 00:00:00\n",
      "\n"
     ]
    },
    {
     "name": "stderr",
     "output_type": "stream",
     "text": [
      "\r",
      " 42%|███████████████▏                    | 641/1517 [2:29:49<1:59:40,  8.20s/it]"
     ]
    },
    {
     "name": "stdout",
     "output_type": "stream",
     "text": [
      "c1: 0, c2: 1, c3: 0\n",
      "nan 2017-12-20 00:00:00\n",
      "\n"
     ]
    },
    {
     "name": "stderr",
     "output_type": "stream",
     "text": [
      " 42%|███████████████▎                    | 643/1517 [2:30:03<1:47:17,  7.37s/it]"
     ]
    },
    {
     "name": "stdout",
     "output_type": "stream",
     "text": [
      "c1: 0, c2: 8, c3: 34\n",
      "nan 2017-11-12 00:00:00\n",
      "\n"
     ]
    },
    {
     "name": "stderr",
     "output_type": "stream",
     "text": [
      "\r",
      " 42%|███████████████▎                    | 644/1517 [2:30:08<1:36:48,  6.65s/it]"
     ]
    },
    {
     "name": "stdout",
     "output_type": "stream",
     "text": [
      "c1: 0, c2: 0, c3: 5\n",
      "nan 2017-08-23 00:00:00\n",
      "\n"
     ]
    },
    {
     "name": "stderr",
     "output_type": "stream",
     "text": [
      "\r",
      " 43%|███████████████▎                    | 645/1517 [2:30:15<1:40:26,  6.91s/it]"
     ]
    },
    {
     "name": "stdout",
     "output_type": "stream",
     "text": [
      "c1: 0, c2: 0, c3: 4\n",
      "nan 2017-12-11 00:00:00\n",
      "\n"
     ]
    },
    {
     "name": "stderr",
     "output_type": "stream",
     "text": [
      "\r",
      " 43%|███████████████▎                    | 646/1517 [2:30:24<1:47:32,  7.41s/it]"
     ]
    },
    {
     "name": "stdout",
     "output_type": "stream",
     "text": [
      "c1: 0, c2: 8, c3: 4\n",
      "nan 2017-04-20 00:00:00\n",
      "\n"
     ]
    },
    {
     "name": "stderr",
     "output_type": "stream",
     "text": [
      "\r",
      " 43%|███████████████▎                    | 647/1517 [2:30:31<1:47:22,  7.41s/it]"
     ]
    },
    {
     "name": "stdout",
     "output_type": "stream",
     "text": [
      "c1: 3, c2: 0, c3: 15\n",
      "Typhoon 'Noru' 2017-08-05 00:00:00\n",
      "\n"
     ]
    },
    {
     "name": "stderr",
     "output_type": "stream",
     "text": [
      "\r",
      " 43%|███████████████▍                    | 648/1517 [2:30:43<2:05:55,  8.69s/it]"
     ]
    },
    {
     "name": "stdout",
     "output_type": "stream",
     "text": [
      "c1: 0, c2: 0, c3: 2\n",
      "nan 2017-04-14 00:00:00\n",
      "\n"
     ]
    },
    {
     "name": "stderr",
     "output_type": "stream",
     "text": [
      "\r",
      " 43%|███████████████▍                    | 649/1517 [2:30:57<2:28:38, 10.27s/it]"
     ]
    },
    {
     "name": "stdout",
     "output_type": "stream",
     "text": [
      "c1: 0, c2: 67, c3: 3\n",
      "nan 2017-05-08 00:00:00\n",
      "\n"
     ]
    },
    {
     "name": "stderr",
     "output_type": "stream",
     "text": [
      "\r",
      " 43%|██████████████▌                   | 650/1517 [2:36:26<25:33:47, 106.14s/it]"
     ]
    },
    {
     "name": "stdout",
     "output_type": "stream",
     "text": [
      "c1: 509, c2: 9, c3: 27\n",
      "Cholera 2017-01-01 00:00:00\n",
      "\n"
     ]
    },
    {
     "name": "stderr",
     "output_type": "stream",
     "text": [
      " 43%|███████████████                    | 652/1517 [2:37:13<15:50:56, 65.96s/it]"
     ]
    },
    {
     "name": "stdout",
     "output_type": "stream",
     "text": [
      "c1: 3, c2: 0, c3: 6\n",
      "Chikungunya 2017-12-15 00:00:00\n",
      "\n"
     ]
    },
    {
     "name": "stderr",
     "output_type": "stream",
     "text": [
      " 43%|███████████████▌                    | 654/1517 [2:37:25<8:24:55, 35.11s/it]"
     ]
    },
    {
     "name": "stdout",
     "output_type": "stream",
     "text": [
      "c1: 0, c2: 0, c3: 1\n",
      "nan 2017-04-29 00:00:00\n",
      "\n"
     ]
    },
    {
     "name": "stderr",
     "output_type": "stream",
     "text": [
      "\r",
      " 43%|███████████████▌                    | 655/1517 [2:37:29<6:14:21, 26.06s/it]"
     ]
    },
    {
     "name": "stdout",
     "output_type": "stream",
     "text": [
      "c1: 1531, c2: 0, c3: 0\n",
      "Hurricane 'Irma' 2017-09-06 00:00:00\n",
      "\n"
     ]
    },
    {
     "name": "stderr",
     "output_type": "stream",
     "text": [
      " 43%|██████████████▋                   | 658/1517 [2:44:34<32:10:02, 134.81s/it]"
     ]
    },
    {
     "name": "stdout",
     "output_type": "stream",
     "text": [
      "c1: 158, c2: 41, c3: 8\n",
      "Dengue 2017-01-01 00:00:00\n",
      "\n"
     ]
    },
    {
     "name": "stderr",
     "output_type": "stream",
     "text": [
      "\r",
      " 43%|███████████████▏                   | 659/1517 [2:44:49<23:34:14, 98.90s/it]"
     ]
    },
    {
     "name": "stdout",
     "output_type": "stream",
     "text": [
      "c1: 0, c2: 0, c3: 2\n",
      "nan 2017-11-03 00:00:00\n",
      "\n"
     ]
    },
    {
     "name": "stderr",
     "output_type": "stream",
     "text": [
      " 44%|███████████████▎                   | 662/1517 [2:47:27<17:54:10, 75.38s/it]"
     ]
    },
    {
     "name": "stdout",
     "output_type": "stream",
     "text": [
      "c1: 1126, c2: 17, c3: 0\n",
      "Plague 2017-08-19 00:00:00\n",
      "\n"
     ]
    },
    {
     "name": "stderr",
     "output_type": "stream",
     "text": [
      "\r",
      " 44%|███████████████▎                   | 663/1517 [2:47:43<13:38:56, 57.54s/it]"
     ]
    },
    {
     "name": "stdout",
     "output_type": "stream",
     "text": [
      "c1: 0, c2: 0, c3: 65\n",
      "nan 2017-09-26 00:00:00\n",
      "\n"
     ]
    },
    {
     "name": "stderr",
     "output_type": "stream",
     "text": [
      "\r",
      " 44%|███████████████▎                   | 664/1517 [2:47:58<10:35:12, 44.68s/it]"
     ]
    },
    {
     "name": "stdout",
     "output_type": "stream",
     "text": [
      "c1: 9, c2: 198, c3: 0\n",
      "Cyclone Mora 2017-06-01 00:00:00\n",
      "\n"
     ]
    },
    {
     "name": "stderr",
     "output_type": "stream",
     "text": [
      " 44%|███████████████▎                   | 666/1517 [2:50:33<16:03:33, 67.94s/it]"
     ]
    },
    {
     "name": "stdout",
     "output_type": "stream",
     "text": [
      "c1: 374, c2: 0, c3: 7\n",
      "Cholera 2017-08-14 00:00:00\n",
      "\n"
     ]
    },
    {
     "name": "stderr",
     "output_type": "stream",
     "text": [
      "\r",
      " 44%|███████████████▍                   | 667/1517 [2:51:50<16:40:00, 70.59s/it]"
     ]
    },
    {
     "name": "stdout",
     "output_type": "stream",
     "text": [
      "c1: 160, c2: 0, c3: 2\n",
      "Cholera 2017-11-24 00:00:00\n",
      "\n"
     ]
    },
    {
     "name": "stderr",
     "output_type": "stream",
     "text": [
      "\r",
      " 44%|███████████████▍                   | 668/1517 [2:52:08<12:54:23, 54.73s/it]"
     ]
    },
    {
     "name": "stdout",
     "output_type": "stream",
     "text": [
      "c1: 0, c2: 1, c3: 1\n",
      "nan 2017-04-19 00:00:00\n",
      "\n"
     ]
    },
    {
     "name": "stderr",
     "output_type": "stream",
     "text": [
      "\r",
      " 44%|███████████████▍                   | 669/1517 [2:52:23<10:05:21, 42.83s/it]"
     ]
    },
    {
     "name": "stdout",
     "output_type": "stream",
     "text": [
      "c1: 0, c2: 0, c3: 2\n",
      "nan 2017-11-25 00:00:00\n",
      "\n"
     ]
    },
    {
     "name": "stderr",
     "output_type": "stream",
     "text": [
      "\r",
      " 44%|███████████████▉                    | 670/1517 [2:52:43<8:29:05, 36.06s/it]"
     ]
    },
    {
     "name": "stdout",
     "output_type": "stream",
     "text": [
      "c1: 0, c2: 0, c3: 9\n",
      "nan 2017-01-23 00:00:00\n",
      "\n"
     ]
    },
    {
     "name": "stderr",
     "output_type": "stream",
     "text": [
      "\r",
      " 44%|███████████████▉                    | 671/1517 [2:52:52<6:33:57, 27.94s/it]"
     ]
    },
    {
     "name": "stdout",
     "output_type": "stream",
     "text": [
      "c1: 0, c2: 4, c3: 1\n",
      "nan 2017-11-03 00:00:00\n",
      "\n"
     ]
    },
    {
     "name": "stderr",
     "output_type": "stream",
     "text": [
      " 44%|███████████████▌                   | 673/1517 [2:54:38<10:29:50, 44.78s/it]"
     ]
    },
    {
     "name": "stdout",
     "output_type": "stream",
     "text": [
      "c1: 40, c2: 0, c3: 0\n",
      "Meningitis 2017-01-01 00:00:00\n",
      "\n"
     ]
    },
    {
     "name": "stderr",
     "output_type": "stream",
     "text": [
      " 44%|████████████████                    | 675/1517 [2:55:04<6:48:13, 29.09s/it]"
     ]
    },
    {
     "name": "stdout",
     "output_type": "stream",
     "text": [
      "c1: 0, c2: 2, c3: 0\n",
      "nan 2017-08-26 00:00:00\n",
      "\n"
     ]
    },
    {
     "name": "stderr",
     "output_type": "stream",
     "text": [
      "\r",
      " 45%|████████████████                    | 676/1517 [2:56:02<8:51:13, 37.90s/it]"
     ]
    },
    {
     "name": "stdout",
     "output_type": "stream",
     "text": [
      "c1: 104, c2: 51, c3: 8\n",
      "Cholera 2017-06-07 00:00:00\n",
      "\n"
     ]
    },
    {
     "name": "stderr",
     "output_type": "stream",
     "text": [
      "\r",
      " 45%|███████████████▌                   | 677/1517 [2:57:00<10:15:38, 43.97s/it]"
     ]
    },
    {
     "name": "stdout",
     "output_type": "stream",
     "text": [
      "c1: 1, c2: 0, c3: 13\n",
      "Hepatitis E 2017-05-03 00:00:00\n",
      "\n"
     ]
    },
    {
     "name": "stderr",
     "output_type": "stream",
     "text": [
      "\r",
      " 45%|████████████████                    | 678/1517 [2:57:09<7:46:11, 33.34s/it]"
     ]
    },
    {
     "name": "stdout",
     "output_type": "stream",
     "text": [
      "c1: 0, c2: 22, c3: 0\n",
      "nan 2017-07-08 00:00:00\n",
      "\n"
     ]
    },
    {
     "name": "stderr",
     "output_type": "stream",
     "text": [
      "\r",
      " 45%|████████████████                    | 679/1517 [2:57:44<7:55:02, 34.01s/it]"
     ]
    },
    {
     "name": "stdout",
     "output_type": "stream",
     "text": [
      "c1: 0, c2: 51, c3: 17\n",
      "nan 2017-08-15 00:00:00\n",
      "\n"
     ]
    },
    {
     "name": "stderr",
     "output_type": "stream",
     "text": [
      "\r",
      " 45%|████████████████▏                   | 680/1517 [2:57:54<6:10:30, 26.56s/it]"
     ]
    },
    {
     "name": "stdout",
     "output_type": "stream",
     "text": [
      "c1: 384, c2: 0, c3: 1\n",
      "Tropical depression'16/Hurricane 'Nate' 2017-10-05 00:00:00\n",
      "\n"
     ]
    },
    {
     "name": "stderr",
     "output_type": "stream",
     "text": [
      "\r",
      " 45%|████████████████▏                   | 681/1517 [2:58:01<4:49:36, 20.79s/it]"
     ]
    },
    {
     "name": "stdout",
     "output_type": "stream",
     "text": [
      "c1: 0, c2: 0, c3: 2\n",
      "nan 2017-10-27 00:00:00\n",
      "\n"
     ]
    },
    {
     "name": "stderr",
     "output_type": "stream",
     "text": [
      "\r",
      " 45%|████████████████▏                   | 682/1517 [2:58:08<3:52:23, 16.70s/it]"
     ]
    },
    {
     "name": "stdout",
     "output_type": "stream",
     "text": [
      "c1: 0, c2: 5, c3: 0\n",
      "nan 2017-06-10 00:00:00\n",
      "\n"
     ]
    },
    {
     "name": "stderr",
     "output_type": "stream",
     "text": [
      "\r",
      " 45%|████████████████▏                   | 683/1517 [2:58:36<4:39:08, 20.08s/it]"
     ]
    },
    {
     "name": "stdout",
     "output_type": "stream",
     "text": [
      "c1: 26, c2: 0, c3: 2\n",
      "Dengue 2017-08-15 00:00:00\n",
      "\n"
     ]
    },
    {
     "name": "stderr",
     "output_type": "stream",
     "text": [
      "\r",
      " 45%|████████████████▏                   | 684/1517 [2:58:48<4:03:15, 17.52s/it]"
     ]
    },
    {
     "name": "stdout",
     "output_type": "stream",
     "text": [
      "c1: 0, c2: 1, c3: 2\n",
      "nan 2017-01-17 00:00:00\n",
      "\n"
     ]
    },
    {
     "name": "stderr",
     "output_type": "stream",
     "text": [
      "\r",
      " 45%|████████████████▎                   | 685/1517 [2:59:08<4:14:13, 18.33s/it]"
     ]
    },
    {
     "name": "stdout",
     "output_type": "stream",
     "text": [
      "c1: 0, c2: 87, c3: 1\n",
      "nan 2017-02-01 00:00:00\n",
      "\n"
     ]
    },
    {
     "name": "stderr",
     "output_type": "stream",
     "text": [
      " 45%|████████████████▎                   | 687/1517 [2:59:18<2:40:15, 11.58s/it]"
     ]
    },
    {
     "name": "stdout",
     "output_type": "stream",
     "text": [
      "c1: 0, c2: 2, c3: 0\n",
      "nan 2017-07-06 00:00:00\n",
      "\n"
     ]
    },
    {
     "name": "stderr",
     "output_type": "stream",
     "text": [
      " 45%|████████████████▎                   | 689/1517 [2:59:32<2:05:31,  9.10s/it]"
     ]
    },
    {
     "name": "stdout",
     "output_type": "stream",
     "text": [
      "c1: 0, c2: 1, c3: 0\n",
      "Tropical depression 02W (Crising) 2017-04-15 00:00:00\n",
      "\n"
     ]
    },
    {
     "name": "stderr",
     "output_type": "stream",
     "text": [
      "\r",
      " 45%|████████████████▎                   | 690/1517 [2:59:39<1:56:56,  8.48s/it]"
     ]
    },
    {
     "name": "stdout",
     "output_type": "stream",
     "text": [
      "c1: 2, c2: 0, c3: 0\n",
      "Tropical storm 'Pakhar'/'Jolina' 2017-08-25 00:00:00\n",
      "\n"
     ]
    },
    {
     "name": "stderr",
     "output_type": "stream",
     "text": [
      " 46%|████████████████▍                   | 692/1517 [2:59:56<1:54:02,  8.29s/it]"
     ]
    },
    {
     "name": "stdout",
     "output_type": "stream",
     "text": [
      "c1: 0, c2: 0, c3: 7\n",
      "nan 2017-08-10 00:00:00\n",
      "\n"
     ]
    },
    {
     "name": "stderr",
     "output_type": "stream",
     "text": [
      "\r",
      " 46%|████████████████▍                   | 693/1517 [3:00:53<5:14:18, 22.89s/it]"
     ]
    },
    {
     "name": "stdout",
     "output_type": "stream",
     "text": [
      "c1: 40, c2: 5, c3: 0\n",
      "Influenza A 2017-12-01 00:00:00\n",
      "\n"
     ]
    },
    {
     "name": "stderr",
     "output_type": "stream",
     "text": [
      "\r",
      " 46%|████████████████▍                   | 694/1517 [3:01:00<4:10:49, 18.29s/it]"
     ]
    },
    {
     "name": "stdout",
     "output_type": "stream",
     "text": [
      "c1: 0, c2: 3, c3: 20\n",
      "nan 2017-10-15 00:00:00\n",
      "\n"
     ]
    },
    {
     "name": "stderr",
     "output_type": "stream",
     "text": [
      "\r",
      " 46%|████████████████▍                   | 695/1517 [3:01:07<3:21:37, 14.72s/it]"
     ]
    },
    {
     "name": "stdout",
     "output_type": "stream",
     "text": [
      "c1: 0, c2: 1, c3: 0\n",
      "nan 2017-01-20 00:00:00\n",
      "\n"
     ]
    },
    {
     "name": "stderr",
     "output_type": "stream",
     "text": [
      "\r",
      " 46%|████████████████▌                   | 696/1517 [3:01:12<2:41:49, 11.83s/it]"
     ]
    },
    {
     "name": "stdout",
     "output_type": "stream",
     "text": [
      "c1: 0, c2: 20, c3: 3\n",
      "nan 2017-09-17 00:00:00\n",
      "\n"
     ]
    },
    {
     "name": "stderr",
     "output_type": "stream",
     "text": [
      "\r",
      " 46%|████████████████▌                   | 697/1517 [3:01:29<3:04:18, 13.49s/it]"
     ]
    },
    {
     "name": "stdout",
     "output_type": "stream",
     "text": [
      "c1: 0, c2: 1, c3: 0\n",
      "nan 2017-05-10 00:00:00\n",
      "\n"
     ]
    },
    {
     "name": "stderr",
     "output_type": "stream",
     "text": [
      "\r",
      " 46%|████████████████▌                   | 698/1517 [3:01:34<2:28:24, 10.87s/it]"
     ]
    },
    {
     "name": "stdout",
     "output_type": "stream",
     "text": [
      "c1: 0, c2: 0, c3: 1\n",
      "nan 2017-04-01 00:00:00\n",
      "\n"
     ]
    },
    {
     "name": "stderr",
     "output_type": "stream",
     "text": [
      "\r",
      " 46%|████████████████▌                   | 699/1517 [3:01:49<2:43:51, 12.02s/it]"
     ]
    },
    {
     "name": "stdout",
     "output_type": "stream",
     "text": [
      "c1: 3, c2: 5, c3: 24\n",
      "Storm 'Adrian' 2018-10-29 00:00:00\n",
      "\n"
     ]
    },
    {
     "name": "stderr",
     "output_type": "stream",
     "text": [
      "\r",
      " 46%|████████████████▌                   | 700/1517 [3:02:03<2:54:41, 12.83s/it]"
     ]
    },
    {
     "name": "stdout",
     "output_type": "stream",
     "text": [
      "c1: 23, c2: 4, c3: 0\n",
      "Cyclone 'Ava' 2018-01-05 00:00:00\n",
      "\n"
     ]
    },
    {
     "name": "stderr",
     "output_type": "stream",
     "text": [
      " 46%|████████████████▋                   | 702/1517 [3:02:26<2:36:33, 11.53s/it]"
     ]
    },
    {
     "name": "stdout",
     "output_type": "stream",
     "text": [
      "c1: 1, c2: 253, c3: 0\n",
      "Tropical depression 'Usman' 2018-12-28 00:00:00\n",
      "\n"
     ]
    },
    {
     "name": "stderr",
     "output_type": "stream",
     "text": [
      "\r",
      " 46%|████████████████▋                   | 703/1517 [3:02:34<2:22:02, 10.47s/it]"
     ]
    },
    {
     "name": "stdout",
     "output_type": "stream",
     "text": [
      "c1: 8, c2: 0, c3: 18\n",
      "Hurricane 'Beryl' 2018-07-09 00:00:00\n",
      "\n"
     ]
    },
    {
     "name": "stderr",
     "output_type": "stream",
     "text": [
      "\r",
      " 46%|████████████████▋                   | 704/1517 [3:02:40<2:05:32,  9.27s/it]"
     ]
    },
    {
     "name": "stdout",
     "output_type": "stream",
     "text": [
      "c1: 0, c2: 82, c3: 42\n",
      "nan 2018-09-28 00:00:00\n",
      "\n"
     ]
    },
    {
     "name": "stderr",
     "output_type": "stream",
     "text": [
      "\r",
      " 46%|████████████████▋                   | 705/1517 [3:02:57<2:35:42, 11.51s/it]"
     ]
    },
    {
     "name": "stdout",
     "output_type": "stream",
     "text": [
      "c1: 0, c2: 11, c3: 68\n",
      "nan 2018-08-07 00:00:00\n",
      "\n"
     ]
    },
    {
     "name": "stderr",
     "output_type": "stream",
     "text": [
      "\r",
      " 47%|████████████████▊                   | 706/1517 [3:03:06<2:25:24, 10.76s/it]"
     ]
    },
    {
     "name": "stdout",
     "output_type": "stream",
     "text": [
      "c1: 0, c2: 0, c3: 24\n",
      "nan 2018-06-08 00:00:00\n",
      "\n"
     ]
    },
    {
     "name": "stderr",
     "output_type": "stream",
     "text": [
      "\r",
      " 47%|████████████████▊                   | 707/1517 [3:03:14<2:12:30,  9.82s/it]"
     ]
    },
    {
     "name": "stdout",
     "output_type": "stream",
     "text": [
      "c1: 3, c2: 3, c3: 46\n",
      "Tropical storm 'Titli' 2018-10-11 00:00:00\n",
      "\n"
     ]
    },
    {
     "name": "stderr",
     "output_type": "stream",
     "text": [
      " 47%|████████████████▊                   | 709/1517 [3:03:24<1:40:43,  7.48s/it]"
     ]
    },
    {
     "name": "stdout",
     "output_type": "stream",
     "text": [
      "c1: 0, c2: 0, c3: 2\n",
      "nan 2018-03-18 00:00:00\n",
      "\n"
     ]
    },
    {
     "name": "stderr",
     "output_type": "stream",
     "text": [
      "\r",
      " 47%|████████████████▊                   | 710/1517 [3:03:28<1:28:10,  6.56s/it]"
     ]
    },
    {
     "name": "stdout",
     "output_type": "stream",
     "text": [
      "c1: 0, c2: 2, c3: 6\n",
      "nan 2018-10-11 00:00:00\n",
      "\n"
     ]
    },
    {
     "name": "stderr",
     "output_type": "stream",
     "text": [
      "\r",
      " 47%|████████████████▊                   | 711/1517 [3:03:39<1:43:20,  7.69s/it]"
     ]
    },
    {
     "name": "stdout",
     "output_type": "stream",
     "text": [
      "c1: 0, c2: 1, c3: 5\n",
      "nan 2018-11-26 00:00:00\n",
      "\n"
     ]
    },
    {
     "name": "stderr",
     "output_type": "stream",
     "text": [
      "\r",
      " 47%|████████████████▉                   | 712/1517 [3:03:47<1:44:20,  7.78s/it]"
     ]
    },
    {
     "name": "stdout",
     "output_type": "stream",
     "text": [
      "c1: 0, c2: 0, c3: 2\n",
      "nan 2018-03-22 00:00:00\n",
      "\n"
     ]
    },
    {
     "name": "stderr",
     "output_type": "stream",
     "text": [
      "\r",
      " 47%|████████████████▉                   | 713/1517 [3:03:54<1:42:04,  7.62s/it]"
     ]
    },
    {
     "name": "stdout",
     "output_type": "stream",
     "text": [
      "c1: 0, c2: 2, c3: 5\n",
      "nan 2018-12-06 00:00:00\n",
      "\n"
     ]
    },
    {
     "name": "stderr",
     "output_type": "stream",
     "text": [
      "\r",
      " 47%|████████████████▉                   | 714/1517 [3:04:02<1:42:34,  7.66s/it]"
     ]
    },
    {
     "name": "stdout",
     "output_type": "stream",
     "text": [
      "c1: 0, c2: 0, c3: 7\n",
      "nan 2018-02-21 00:00:00\n",
      "\n"
     ]
    },
    {
     "name": "stderr",
     "output_type": "stream",
     "text": [
      "\r",
      " 47%|████████████████▉                   | 715/1517 [3:04:11<1:49:27,  8.19s/it]"
     ]
    },
    {
     "name": "stdout",
     "output_type": "stream",
     "text": [
      "c1: 0, c2: 0, c3: 23\n",
      "nan 2018-06-01 00:00:00\n",
      "\n"
     ]
    },
    {
     "name": "stderr",
     "output_type": "stream",
     "text": [
      "\r",
      " 47%|████████████████▉                   | 716/1517 [3:04:16<1:36:39,  7.24s/it]"
     ]
    },
    {
     "name": "stdout",
     "output_type": "stream",
     "text": [
      "c1: 0, c2: 0, c3: 13\n",
      "nan 2018-09-23 00:00:00\n",
      "\n"
     ]
    },
    {
     "name": "stderr",
     "output_type": "stream",
     "text": [
      "\r",
      " 47%|█████████████████                   | 717/1517 [3:04:22<1:31:19,  6.85s/it]"
     ]
    },
    {
     "name": "stdout",
     "output_type": "stream",
     "text": [
      "c1: 0, c2: 2, c3: 0\n",
      "nan 2018-10-05 00:00:00\n",
      "\n"
     ]
    },
    {
     "name": "stderr",
     "output_type": "stream",
     "text": [
      "\r",
      " 47%|█████████████████                   | 718/1517 [3:04:27<1:24:06,  6.32s/it]"
     ]
    },
    {
     "name": "stdout",
     "output_type": "stream",
     "text": [
      "c1: 0, c2: 34, c3: 8\n",
      "nan 2018-09-06 00:00:00\n",
      "\n"
     ]
    },
    {
     "name": "stderr",
     "output_type": "stream",
     "text": [
      "\r",
      " 47%|█████████████████                   | 719/1517 [3:04:39<1:47:06,  8.05s/it]"
     ]
    },
    {
     "name": "stdout",
     "output_type": "stream",
     "text": [
      "c1: 0, c2: 26, c3: 71\n",
      "nan 2018-06-29 00:00:00\n",
      "\n"
     ]
    },
    {
     "name": "stderr",
     "output_type": "stream",
     "text": [
      "\r",
      " 47%|█████████████████                   | 720/1517 [3:04:50<1:58:29,  8.92s/it]"
     ]
    },
    {
     "name": "stdout",
     "output_type": "stream",
     "text": [
      "c1: 0, c2: 9, c3: 0\n",
      "nan 2018-05-19 00:00:00\n",
      "\n"
     ]
    },
    {
     "name": "stderr",
     "output_type": "stream",
     "text": [
      "\r",
      " 48%|█████████████████                   | 721/1517 [3:04:57<1:51:11,  8.38s/it]"
     ]
    },
    {
     "name": "stdout",
     "output_type": "stream",
     "text": [
      "c1: 0, c2: 6, c3: 1\n",
      "nan 2018-10-06 00:00:00\n",
      "\n"
     ]
    },
    {
     "name": "stderr",
     "output_type": "stream",
     "text": [
      "\r",
      " 48%|█████████████████▏                  | 722/1517 [3:05:07<1:57:38,  8.88s/it]"
     ]
    },
    {
     "name": "stdout",
     "output_type": "stream",
     "text": [
      "c1: 0, c2: 0, c3: 11\n",
      "nan 2018-06-05 00:00:00\n",
      "\n"
     ]
    },
    {
     "name": "stderr",
     "output_type": "stream",
     "text": [
      "\r",
      " 48%|█████████████████▏                  | 723/1517 [3:05:25<2:30:36, 11.38s/it]"
     ]
    },
    {
     "name": "stdout",
     "output_type": "stream",
     "text": [
      "c1: 0, c2: 4, c3: 2\n",
      "nan 2018-10-01 00:00:00\n",
      "\n"
     ]
    },
    {
     "name": "stderr",
     "output_type": "stream",
     "text": [
      "\r",
      " 48%|█████████████████▏                  | 724/1517 [3:05:31<2:12:02,  9.99s/it]"
     ]
    },
    {
     "name": "stdout",
     "output_type": "stream",
     "text": [
      "c1: 11, c2: 14, c3: 0\n",
      "Typhoon Mangkut (Ompong) 2018-09-16 00:00:00\n",
      "\n"
     ]
    },
    {
     "name": "stderr",
     "output_type": "stream",
     "text": [
      "\r",
      " 48%|█████████████████▏                  | 725/1517 [3:05:40<2:07:53,  9.69s/it]"
     ]
    },
    {
     "name": "stdout",
     "output_type": "stream",
     "text": [
      "c1: 4, c2: 177, c3: 0\n",
      "Typhoon 'Yutu' (Rosita) 2018-10-30 00:00:00\n",
      "\n"
     ]
    },
    {
     "name": "stderr",
     "output_type": "stream",
     "text": [
      "\r",
      " 48%|█████████████████▏                  | 726/1517 [3:05:46<1:50:47,  8.40s/it]"
     ]
    },
    {
     "name": "stdout",
     "output_type": "stream",
     "text": [
      "c1: 0, c2: 0, c3: 25\n",
      "nan 2018-02-26 00:00:00\n",
      "\n"
     ]
    },
    {
     "name": "stderr",
     "output_type": "stream",
     "text": [
      "\r",
      " 48%|█████████████████▎                  | 727/1517 [3:05:54<1:50:13,  8.37s/it]"
     ]
    },
    {
     "name": "stdout",
     "output_type": "stream",
     "text": [
      "c1: 0, c2: 0, c3: 1\n",
      "nan 2018-03-14 00:00:00\n",
      "\n"
     ]
    },
    {
     "name": "stderr",
     "output_type": "stream",
     "text": [
      "\r",
      " 48%|█████████████████▎                  | 728/1517 [3:06:01<1:44:29,  7.95s/it]"
     ]
    },
    {
     "name": "stdout",
     "output_type": "stream",
     "text": [
      "c1: 0, c2: 0, c3: 1\n",
      "nan 2018-03-03 00:00:00\n",
      "\n"
     ]
    },
    {
     "name": "stderr",
     "output_type": "stream",
     "text": [
      "\r",
      " 48%|█████████████████▎                  | 729/1517 [3:06:06<1:34:09,  7.17s/it]"
     ]
    },
    {
     "name": "stdout",
     "output_type": "stream",
     "text": [
      "c1: 0, c2: 0, c3: 3\n",
      "nan 2018-05-06 00:00:00\n",
      "\n"
     ]
    },
    {
     "name": "stderr",
     "output_type": "stream",
     "text": [
      "\r",
      " 48%|█████████████████▎                  | 730/1517 [3:06:10<1:22:15,  6.27s/it]"
     ]
    },
    {
     "name": "stdout",
     "output_type": "stream",
     "text": [
      "c1: 0, c2: 73, c3: 9\n",
      "nan 2018-08-05 00:00:00\n",
      "\n"
     ]
    },
    {
     "name": "stderr",
     "output_type": "stream",
     "text": [
      "\r",
      " 48%|█████████████████▎                  | 731/1517 [3:06:13<1:09:16,  5.29s/it]"
     ]
    },
    {
     "name": "stdout",
     "output_type": "stream",
     "text": [
      "c1: 49, c2: 0, c3: 2\n",
      "Anak Krakatoa 2018-12-22 00:00:00\n",
      "\n"
     ]
    },
    {
     "name": "stderr",
     "output_type": "stream",
     "text": [
      "\r",
      " 48%|█████████████████▎                  | 732/1517 [3:06:17<1:01:49,  4.73s/it]"
     ]
    },
    {
     "name": "stdout",
     "output_type": "stream",
     "text": [
      "c1: 92, c2: 0, c3: 0\n",
      "Mount Etna 2018-12-24 00:00:00\n",
      "\n"
     ]
    },
    {
     "name": "stderr",
     "output_type": "stream",
     "text": [
      "\r",
      " 48%|█████████████████▍                  | 733/1517 [3:06:23<1:05:23,  5.00s/it]"
     ]
    },
    {
     "name": "stdout",
     "output_type": "stream",
     "text": [
      "c1: 0, c2: 0, c3: 11\n",
      "nan 2018-05-09 00:00:00\n",
      "\n"
     ]
    },
    {
     "name": "stderr",
     "output_type": "stream",
     "text": [
      "\r",
      " 48%|█████████████████▍                  | 734/1517 [3:06:28<1:08:14,  5.23s/it]"
     ]
    },
    {
     "name": "stdout",
     "output_type": "stream",
     "text": [
      "c1: 0, c2: 125, c3: 0\n",
      "nan 2018-07-23 00:00:00\n",
      "\n"
     ]
    },
    {
     "name": "stderr",
     "output_type": "stream",
     "text": [
      "\r",
      " 48%|█████████████████▍                  | 735/1517 [3:06:34<1:08:22,  5.25s/it]"
     ]
    },
    {
     "name": "stdout",
     "output_type": "stream",
     "text": [
      "c1: 0, c2: 0, c3: 7\n",
      "nan 2018-08-29 00:00:00\n",
      "\n"
     ]
    },
    {
     "name": "stderr",
     "output_type": "stream",
     "text": [
      " 49%|█████████████████▍                  | 737/1517 [3:06:46<1:14:42,  5.75s/it]"
     ]
    },
    {
     "name": "stdout",
     "output_type": "stream",
     "text": [
      "c1: 0, c2: 0, c3: 3\n",
      "nan 2018-07-18 00:00:00\n",
      "\n"
     ]
    },
    {
     "name": "stderr",
     "output_type": "stream",
     "text": [
      "\r",
      " 49%|█████████████████▌                  | 738/1517 [3:06:53<1:19:31,  6.13s/it]"
     ]
    },
    {
     "name": "stdout",
     "output_type": "stream",
     "text": [
      "c1: 0, c2: 8, c3: 15\n",
      "nan 2018-08-03 00:00:00\n",
      "\n"
     ]
    },
    {
     "name": "stderr",
     "output_type": "stream",
     "text": [
      "\r",
      " 49%|█████████████████▌                  | 739/1517 [3:07:22<2:48:04, 12.96s/it]"
     ]
    },
    {
     "name": "stdout",
     "output_type": "stream",
     "text": [
      "c1: 0, c2: 0, c3: 1\n",
      "nan 2018-01-01 00:00:00\n",
      "\n"
     ]
    },
    {
     "name": "stderr",
     "output_type": "stream",
     "text": [
      " 49%|█████████████████▌                  | 741/1517 [3:07:50<2:46:44, 12.89s/it]"
     ]
    },
    {
     "name": "stdout",
     "output_type": "stream",
     "text": [
      "c1: 0, c2: 1, c3: 2\n",
      "nan 2018-02-22 00:00:00\n",
      "\n"
     ]
    },
    {
     "name": "stderr",
     "output_type": "stream",
     "text": [
      "\r",
      " 49%|█████████████████▌                  | 742/1517 [3:07:59<2:32:03, 11.77s/it]"
     ]
    },
    {
     "name": "stdout",
     "output_type": "stream",
     "text": [
      "c1: 14, c2: 4, c3: 3\n",
      "Eleanor 2018-01-02 00:00:00\n",
      "\n"
     ]
    },
    {
     "name": "stderr",
     "output_type": "stream",
     "text": [
      "\r",
      " 49%|█████████████████▋                  | 743/1517 [3:08:05<2:07:42,  9.90s/it]"
     ]
    },
    {
     "name": "stdout",
     "output_type": "stream",
     "text": [
      "c1: 26, c2: 14, c3: 29\n",
      "Typhoon Jebi 2018-09-04 00:00:00\n",
      "\n"
     ]
    },
    {
     "name": "stderr",
     "output_type": "stream",
     "text": [
      "\r",
      " 49%|█████████████████▋                  | 744/1517 [3:08:11<1:52:37,  8.74s/it]"
     ]
    },
    {
     "name": "stdout",
     "output_type": "stream",
     "text": [
      "c1: 8, c2: 3, c3: 15\n",
      "Typhoon Trami 2018-09-28 00:00:00\n",
      "\n"
     ]
    },
    {
     "name": "stderr",
     "output_type": "stream",
     "text": [
      "\r",
      " 49%|█████████████████▋                  | 745/1517 [3:08:16<1:40:24,  7.80s/it]"
     ]
    },
    {
     "name": "stdout",
     "output_type": "stream",
     "text": [
      "c1: 2, c2: 0, c3: 0\n",
      "Tyhoon 'Son Tinh' 2018-07-18 00:00:00\n",
      "\n"
     ]
    },
    {
     "name": "stderr",
     "output_type": "stream",
     "text": [
      " 49%|█████████████████▋                  | 747/1517 [3:08:36<1:57:24,  9.15s/it]"
     ]
    },
    {
     "name": "stdout",
     "output_type": "stream",
     "text": [
      "c1: 0, c2: 17, c3: 0\n",
      "Tropical storm 'Eliakim' 2018-03-14 00:00:00\n",
      "\n"
     ]
    },
    {
     "name": "stderr",
     "output_type": "stream",
     "text": [
      "\r",
      " 49%|█████████████████▊                  | 748/1517 [3:08:43<1:48:00,  8.43s/it]"
     ]
    },
    {
     "name": "stdout",
     "output_type": "stream",
     "text": [
      "c1: 7, c2: 0, c3: 60\n",
      "Tropical storm 'Vicente' 2018-10-19 00:00:00\n",
      "\n"
     ]
    },
    {
     "name": "stderr",
     "output_type": "stream",
     "text": [
      "\r",
      " 49%|█████████████████▊                  | 749/1517 [3:08:55<2:03:02,  9.61s/it]"
     ]
    },
    {
     "name": "stdout",
     "output_type": "stream",
     "text": [
      "c1: 1, c2: 1, c3: 0\n",
      "Tropical storm 'Berguitta' 2018-01-15 00:00:00\n",
      "\n"
     ]
    },
    {
     "name": "stderr",
     "output_type": "stream",
     "text": [
      "\r",
      " 49%|█████████████████▊                  | 750/1517 [3:09:00<1:44:10,  8.15s/it]"
     ]
    },
    {
     "name": "stdout",
     "output_type": "stream",
     "text": [
      "c1: 15, c2: 0, c3: 76\n",
      "Cyclone 'Mekunu' 2018-05-23 00:00:00\n",
      "\n"
     ]
    },
    {
     "name": "stderr",
     "output_type": "stream",
     "text": [
      "\r",
      " 50%|█████████████████▊                  | 751/1517 [3:09:05<1:31:01,  7.13s/it]"
     ]
    },
    {
     "name": "stdout",
     "output_type": "stream",
     "text": [
      "c1: 0, c2: 0, c3: 83\n",
      "Cyclone 'Luban' 2018-10-14 00:00:00\n",
      "\n"
     ]
    },
    {
     "name": "stderr",
     "output_type": "stream",
     "text": [
      "\r",
      " 50%|█████████████████▊                  | 752/1517 [3:09:19<1:58:01,  9.26s/it]"
     ]
    },
    {
     "name": "stdout",
     "output_type": "stream",
     "text": [
      "c1: 2, c2: 0, c3: 0\n",
      "Tyhoon 'Son Tinh' 2018-07-17 00:00:00\n",
      "\n"
     ]
    },
    {
     "name": "stderr",
     "output_type": "stream",
     "text": [
      " 50%|█████████████████▉                  | 756/1517 [3:09:41<1:20:03,  6.31s/it]"
     ]
    },
    {
     "name": "stdout",
     "output_type": "stream",
     "text": [
      "c1: 0, c2: 9, c3: 1\n",
      "nan 2018-10-06 00:00:00\n",
      "\n"
     ]
    },
    {
     "name": "stderr",
     "output_type": "stream",
     "text": [
      "\r",
      " 50%|█████████████████▉                  | 757/1517 [3:09:48<1:19:09,  6.25s/it]"
     ]
    },
    {
     "name": "stdout",
     "output_type": "stream",
     "text": [
      "c1: 0, c2: 5, c3: 4\n",
      "nan 2018-01-23 00:00:00\n",
      "\n"
     ]
    },
    {
     "name": "stderr",
     "output_type": "stream",
     "text": [
      "\r",
      " 50%|█████████████████▉                  | 758/1517 [3:09:52<1:13:00,  5.77s/it]"
     ]
    },
    {
     "name": "stdout",
     "output_type": "stream",
     "text": [
      "c1: 0, c2: 3, c3: 9\n",
      "nan 2018-07-29 00:00:00\n",
      "\n"
     ]
    },
    {
     "name": "stderr",
     "output_type": "stream",
     "text": [
      "\r",
      " 50%|██████████████████                  | 759/1517 [3:09:55<1:03:24,  5.02s/it]"
     ]
    },
    {
     "name": "stdout",
     "output_type": "stream",
     "text": [
      "c1: 0, c2: 0, c3: 11\n",
      "nan 2018-08-19 00:00:00\n",
      "\n"
     ]
    },
    {
     "name": "stderr",
     "output_type": "stream",
     "text": [
      " 50%|███████████████████                   | 761/1517 [3:10:04<56:05,  4.45s/it]"
     ]
    },
    {
     "name": "stdout",
     "output_type": "stream",
     "text": [
      "c1: 0, c2: 3, c3: 1\n",
      "nan 2018-12-31 00:00:00\n",
      "\n"
     ]
    },
    {
     "name": "stderr",
     "output_type": "stream",
     "text": [
      "\r",
      " 50%|███████████████████                   | 762/1517 [3:10:09<59:54,  4.76s/it]"
     ]
    },
    {
     "name": "stdout",
     "output_type": "stream",
     "text": [
      "c1: 0, c2: 0, c3: 1\n",
      "nan 2018-03-05 00:00:00\n",
      "\n"
     ]
    },
    {
     "name": "stderr",
     "output_type": "stream",
     "text": [
      "\r",
      " 50%|██████████████████                  | 763/1517 [3:10:14<1:01:31,  4.90s/it]"
     ]
    },
    {
     "name": "stdout",
     "output_type": "stream",
     "text": [
      "c1: 0, c2: 1, c3: 12\n",
      "nan 2018-04-11 00:00:00\n",
      "\n"
     ]
    },
    {
     "name": "stderr",
     "output_type": "stream",
     "text": [
      "\r",
      " 50%|██████████████████▏                 | 764/1517 [3:10:19<1:01:18,  4.88s/it]"
     ]
    },
    {
     "name": "stdout",
     "output_type": "stream",
     "text": [
      "c1: 0, c2: 0, c3: 14\n",
      "nan 2018-04-17 00:00:00\n",
      "\n"
     ]
    },
    {
     "name": "stderr",
     "output_type": "stream",
     "text": [
      "\r",
      " 50%|██████████████████▏                 | 765/1517 [3:10:26<1:09:52,  5.58s/it]"
     ]
    },
    {
     "name": "stdout",
     "output_type": "stream",
     "text": [
      "c1: 0, c2: 1, c3: 36\n",
      "nan 2018-05-13 00:00:00\n",
      "\n"
     ]
    },
    {
     "name": "stderr",
     "output_type": "stream",
     "text": [
      "\r",
      " 50%|██████████████████▏                 | 766/1517 [3:10:33<1:12:44,  5.81s/it]"
     ]
    },
    {
     "name": "stdout",
     "output_type": "stream",
     "text": [
      "c1: 0, c2: 1, c3: 42\n",
      "nan 2018-05-06 00:00:00\n",
      "\n"
     ]
    },
    {
     "name": "stderr",
     "output_type": "stream",
     "text": [
      "\r",
      " 51%|██████████████████▏                 | 767/1517 [3:10:37<1:06:21,  5.31s/it]"
     ]
    },
    {
     "name": "stdout",
     "output_type": "stream",
     "text": [
      "c1: 0, c2: 2, c3: 16\n",
      "nan 2018-05-28 00:00:00\n",
      "\n"
     ]
    },
    {
     "name": "stderr",
     "output_type": "stream",
     "text": [
      "\r",
      " 51%|██████████████████▏                 | 768/1517 [3:10:48<1:27:17,  6.99s/it]"
     ]
    },
    {
     "name": "stdout",
     "output_type": "stream",
     "text": [
      "c1: 0, c2: 7, c3: 62\n",
      "nan 2018-05-01 00:00:00\n",
      "\n"
     ]
    },
    {
     "name": "stderr",
     "output_type": "stream",
     "text": [
      "\r",
      " 51%|██████████████████▏                 | 769/1517 [3:10:54<1:23:24,  6.69s/it]"
     ]
    },
    {
     "name": "stdout",
     "output_type": "stream",
     "text": [
      "c1: 0, c2: 0, c3: 30\n",
      "nan 2018-05-17 00:00:00\n",
      "\n"
     ]
    },
    {
     "name": "stderr",
     "output_type": "stream",
     "text": [
      "\r",
      " 51%|██████████████████▎                 | 770/1517 [3:11:00<1:20:29,  6.46s/it]"
     ]
    },
    {
     "name": "stdout",
     "output_type": "stream",
     "text": [
      "c1: 1, c2: 1, c3: 11\n",
      "Cyclone 'Gaja' 2018-11-16 00:00:00\n",
      "\n"
     ]
    },
    {
     "name": "stderr",
     "output_type": "stream",
     "text": [
      "\r",
      " 51%|██████████████████▎                 | 771/1517 [3:11:05<1:16:36,  6.16s/it]"
     ]
    },
    {
     "name": "stdout",
     "output_type": "stream",
     "text": [
      "c1: 0, c2: 0, c3: 17\n",
      "Tropical storm 'Phethai' 2018-12-17 00:00:00\n",
      "\n"
     ]
    },
    {
     "name": "stderr",
     "output_type": "stream",
     "text": [
      "\r",
      " 51%|██████████████████▎                 | 772/1517 [3:11:10<1:10:14,  5.66s/it]"
     ]
    },
    {
     "name": "stdout",
     "output_type": "stream",
     "text": [
      "c1: 0, c2: 1, c3: 1\n",
      "nan 2018-03-10 00:00:00\n",
      "\n"
     ]
    },
    {
     "name": "stderr",
     "output_type": "stream",
     "text": [
      "\r",
      " 51%|██████████████████▎                 | 773/1517 [3:11:20<1:29:18,  7.20s/it]"
     ]
    },
    {
     "name": "stdout",
     "output_type": "stream",
     "text": [
      "c1: 0, c2: 0, c3: 47\n",
      "nan 2018-06-22 00:00:00\n",
      "\n"
     ]
    },
    {
     "name": "stderr",
     "output_type": "stream",
     "text": [
      "\r",
      " 51%|██████████████████▎                 | 774/1517 [3:11:26<1:24:29,  6.82s/it]"
     ]
    },
    {
     "name": "stdout",
     "output_type": "stream",
     "text": [
      "c1: 0, c2: 0, c3: 25\n",
      "nan 2018-05-29 00:00:00\n",
      "\n"
     ]
    },
    {
     "name": "stderr",
     "output_type": "stream",
     "text": [
      "\r",
      " 51%|██████████████████▍                 | 775/1517 [3:11:32<1:19:46,  6.45s/it]"
     ]
    },
    {
     "name": "stdout",
     "output_type": "stream",
     "text": [
      "c1: 0, c2: 1, c3: 27\n",
      "nan 2018-07-26 00:00:00\n",
      "\n"
     ]
    },
    {
     "name": "stderr",
     "output_type": "stream",
     "text": [
      "\r",
      " 51%|██████████████████▍                 | 776/1517 [3:11:37<1:14:26,  6.03s/it]"
     ]
    },
    {
     "name": "stdout",
     "output_type": "stream",
     "text": [
      "c1: 0, c2: 0, c3: 24\n",
      "nan 2018-07-20 00:00:00\n",
      "\n"
     ]
    },
    {
     "name": "stderr",
     "output_type": "stream",
     "text": [
      "\r",
      " 51%|██████████████████▍                 | 777/1517 [3:11:45<1:20:59,  6.57s/it]"
     ]
    },
    {
     "name": "stdout",
     "output_type": "stream",
     "text": [
      "c1: 0, c2: 0, c3: 23\n",
      "nan 2018-08-02 00:00:00\n",
      "\n"
     ]
    },
    {
     "name": "stderr",
     "output_type": "stream",
     "text": [
      "\r",
      " 51%|██████████████████▍                 | 778/1517 [3:12:06<2:15:11, 10.98s/it]"
     ]
    },
    {
     "name": "stdout",
     "output_type": "stream",
     "text": [
      "c1: 0, c2: 1, c3: 116\n",
      "nan 2018-09-01 00:00:00\n",
      "\n"
     ]
    },
    {
     "name": "stderr",
     "output_type": "stream",
     "text": [
      " 51%|██████████████████▌                 | 781/1517 [3:12:17<1:16:10,  6.21s/it]"
     ]
    },
    {
     "name": "stdout",
     "output_type": "stream",
     "text": [
      "c1: 0, c2: 5, c3: 0\n",
      "nan 2018-11-25 00:00:00\n",
      "\n"
     ]
    },
    {
     "name": "stderr",
     "output_type": "stream",
     "text": [
      "\r",
      " 52%|██████████████████▌                 | 782/1517 [3:12:21<1:07:12,  5.49s/it]"
     ]
    },
    {
     "name": "stdout",
     "output_type": "stream",
     "text": [
      "c1: 0, c2: 0, c3: 4\n",
      "nan 2018-11-22 00:00:00\n",
      "\n"
     ]
    },
    {
     "name": "stderr",
     "output_type": "stream",
     "text": [
      "\r",
      " 52%|██████████████████▌                 | 783/1517 [3:12:29<1:17:31,  6.34s/it]"
     ]
    },
    {
     "name": "stdout",
     "output_type": "stream",
     "text": [
      "c1: 0, c2: 0, c3: 9\n",
      "nan 2018-04-24 00:00:00\n",
      "\n"
     ]
    },
    {
     "name": "stderr",
     "output_type": "stream",
     "text": [
      "\r",
      " 52%|██████████████████▌                 | 784/1517 [3:12:33<1:07:03,  5.49s/it]"
     ]
    },
    {
     "name": "stdout",
     "output_type": "stream",
     "text": [
      "c1: 0, c2: 2, c3: 4\n",
      "nan 2018-08-21 00:00:00\n",
      "\n"
     ]
    },
    {
     "name": "stderr",
     "output_type": "stream",
     "text": [
      " 52%|██████████████████▋                 | 786/1517 [3:12:45<1:08:29,  5.62s/it]"
     ]
    },
    {
     "name": "stdout",
     "output_type": "stream",
     "text": [
      "c1: 0, c2: 3, c3: 8\n",
      "nan 2018-10-25 00:00:00\n",
      "\n"
     ]
    },
    {
     "name": "stderr",
     "output_type": "stream",
     "text": [
      "\r",
      " 52%|██████████████████▋                 | 787/1517 [3:12:50<1:04:55,  5.34s/it]"
     ]
    },
    {
     "name": "stdout",
     "output_type": "stream",
     "text": [
      "c1: 0, c2: 4, c3: 4\n",
      "nan 2018-11-09 00:00:00\n",
      "\n"
     ]
    },
    {
     "name": "stderr",
     "output_type": "stream",
     "text": [
      "\r",
      " 52%|██████████████████▋                 | 788/1517 [3:12:55<1:04:46,  5.33s/it]"
     ]
    },
    {
     "name": "stdout",
     "output_type": "stream",
     "text": [
      "c1: 0, c2: 4, c3: 17\n",
      "nan 2018-06-18 00:00:00\n",
      "\n"
     ]
    },
    {
     "name": "stderr",
     "output_type": "stream",
     "text": [
      "\r",
      " 52%|██████████████████▋                 | 789/1517 [3:12:59<1:02:03,  5.11s/it]"
     ]
    },
    {
     "name": "stdout",
     "output_type": "stream",
     "text": [
      "c1: 0, c2: 0, c3: 21\n",
      "Typhoon 'Kong-Rey' 2018-10-06 00:00:00\n",
      "\n"
     ]
    },
    {
     "name": "stderr",
     "output_type": "stream",
     "text": [
      "\r",
      " 52%|██████████████████▋                 | 790/1517 [3:13:11<1:26:59,  7.18s/it]"
     ]
    },
    {
     "name": "stdout",
     "output_type": "stream",
     "text": [
      "c1: 0, c2: 0, c3: 6\n",
      "nan 2018-07-01 00:00:00\n",
      "\n"
     ]
    },
    {
     "name": "stderr",
     "output_type": "stream",
     "text": [
      " 52%|██████████████████▊                 | 792/1517 [3:13:28<1:32:38,  7.67s/it]"
     ]
    },
    {
     "name": "stdout",
     "output_type": "stream",
     "text": [
      "c1: 0, c2: 3, c3: 5\n",
      "nan 2018-03-14 00:00:00\n",
      "\n"
     ]
    },
    {
     "name": "stderr",
     "output_type": "stream",
     "text": [
      "\r",
      " 52%|██████████████████▊                 | 793/1517 [3:14:37<5:16:18, 26.21s/it]"
     ]
    },
    {
     "name": "stdout",
     "output_type": "stream",
     "text": [
      "c1: 0, c2: 0, c3: 31\n",
      "nan 2018-03-14 00:00:00\n",
      "\n"
     ]
    },
    {
     "name": "stderr",
     "output_type": "stream",
     "text": [
      "\r",
      " 52%|██████████████████▊                 | 794/1517 [3:14:43<4:03:12, 20.18s/it]"
     ]
    },
    {
     "name": "stdout",
     "output_type": "stream",
     "text": [
      "c1: 0, c2: 0, c3: 15\n",
      "nan 2018-07-23 00:00:00\n",
      "\n"
     ]
    },
    {
     "name": "stderr",
     "output_type": "stream",
     "text": [
      "\r",
      " 52%|██████████████████▊                 | 795/1517 [3:14:47<3:02:31, 15.17s/it]"
     ]
    },
    {
     "name": "stdout",
     "output_type": "stream",
     "text": [
      "c1: 0, c2: 0, c3: 4\n",
      "nan 2018-11-09 00:00:00\n",
      "\n"
     ]
    },
    {
     "name": "stderr",
     "output_type": "stream",
     "text": [
      "\r",
      " 52%|██████████████████▉                 | 796/1517 [3:14:52<2:26:35, 12.20s/it]"
     ]
    },
    {
     "name": "stdout",
     "output_type": "stream",
     "text": [
      "c1: 0, c2: 0, c3: 7\n",
      "nan 2018-01-19 00:00:00\n",
      "\n"
     ]
    },
    {
     "name": "stderr",
     "output_type": "stream",
     "text": [
      "\r",
      " 53%|██████████████████▉                 | 797/1517 [3:14:55<1:52:32,  9.38s/it]"
     ]
    },
    {
     "name": "stdout",
     "output_type": "stream",
     "text": [
      "c1: 0, c2: 0, c3: 4\n",
      "nan 2018-12-22 00:00:00\n",
      "\n"
     ]
    },
    {
     "name": "stderr",
     "output_type": "stream",
     "text": [
      " 53%|██████████████████▉                 | 799/1517 [3:16:13<5:25:37, 27.21s/it]"
     ]
    },
    {
     "name": "stdout",
     "output_type": "stream",
     "text": [
      "c1: 81, c2: 0, c3: 3\n",
      "Measles 2018-10-04 00:00:00\n",
      "\n"
     ]
    },
    {
     "name": "stderr",
     "output_type": "stream",
     "text": [
      "\r",
      " 53%|██████████████████▉                 | 800/1517 [3:16:17<4:03:35, 20.38s/it]"
     ]
    },
    {
     "name": "stdout",
     "output_type": "stream",
     "text": [
      "c1: 0, c2: 14, c3: 3\n",
      "nan 2018-02-16 00:00:00\n",
      "\n"
     ]
    },
    {
     "name": "stderr",
     "output_type": "stream",
     "text": [
      "\r",
      " 53%|███████████████████                 | 801/1517 [3:16:23<3:11:02, 16.01s/it]"
     ]
    },
    {
     "name": "stdout",
     "output_type": "stream",
     "text": [
      "c1: 0, c2: 2, c3: 9\n",
      "nan 2018-09-20 00:00:00\n",
      "\n"
     ]
    },
    {
     "name": "stderr",
     "output_type": "stream",
     "text": [
      "\r",
      " 53%|███████████████████                 | 802/1517 [3:16:28<2:31:41, 12.73s/it]"
     ]
    },
    {
     "name": "stdout",
     "output_type": "stream",
     "text": [
      "c1: 18, c2: 0, c3: 33\n",
      "Hurricane Willa 2018-10-23 00:00:00\n",
      "\n"
     ]
    },
    {
     "name": "stderr",
     "output_type": "stream",
     "text": [
      " 53%|███████████████████                 | 804/1517 [3:16:53<2:39:16, 13.40s/it]"
     ]
    },
    {
     "name": "stdout",
     "output_type": "stream",
     "text": [
      "c1: 0, c2: 99, c3: 15\n",
      "nan 2018-08-07 00:00:00\n",
      "\n"
     ]
    },
    {
     "name": "stderr",
     "output_type": "stream",
     "text": [
      "\r",
      " 53%|███████████████████                 | 805/1517 [3:16:57<2:07:22, 10.73s/it]"
     ]
    },
    {
     "name": "stdout",
     "output_type": "stream",
     "text": [
      "c1: 0, c2: 0, c3: 4\n",
      "nan 2018-05-04 00:00:00\n",
      "\n"
     ]
    },
    {
     "name": "stderr",
     "output_type": "stream",
     "text": [
      "\r",
      " 53%|███████████████████▏                | 806/1517 [3:17:02<1:44:02,  8.78s/it]"
     ]
    },
    {
     "name": "stdout",
     "output_type": "stream",
     "text": [
      "c1: 0, c2: 2, c3: 2\n",
      "nan 2018-07-15 00:00:00\n",
      "\n"
     ]
    },
    {
     "name": "stderr",
     "output_type": "stream",
     "text": [
      "\r",
      " 53%|███████████████████▏                | 807/1517 [3:17:24<2:31:19, 12.79s/it]"
     ]
    },
    {
     "name": "stdout",
     "output_type": "stream",
     "text": [
      "c1: 0, c2: 695, c3: 2\n",
      "nan 2018-07-15 00:00:00\n",
      "\n"
     ]
    },
    {
     "name": "stderr",
     "output_type": "stream",
     "text": [
      "\r",
      " 53%|███████████████████▏                | 808/1517 [3:17:35<2:25:05, 12.28s/it]"
     ]
    },
    {
     "name": "stdout",
     "output_type": "stream",
     "text": [
      "c1: 0, c2: 77, c3: 0\n",
      "nan 2018-11-25 00:00:00\n",
      "\n"
     ]
    },
    {
     "name": "stderr",
     "output_type": "stream",
     "text": [
      " 53%|███████████████████▏                | 810/1517 [3:17:47<1:45:40,  8.97s/it]"
     ]
    },
    {
     "name": "stdout",
     "output_type": "stream",
     "text": [
      "c1: 0, c2: 1, c3: 0\n",
      "nan 2018-02-18 00:00:00\n",
      "\n"
     ]
    },
    {
     "name": "stderr",
     "output_type": "stream",
     "text": [
      "\r",
      " 53%|███████████████████▏                | 811/1517 [3:17:56<1:45:43,  8.99s/it]"
     ]
    },
    {
     "name": "stdout",
     "output_type": "stream",
     "text": [
      "c1: 0, c2: 0, c3: 1\n",
      "nan 2018-01-16 00:00:00\n",
      "\n"
     ]
    },
    {
     "name": "stderr",
     "output_type": "stream",
     "text": [
      "\r",
      " 54%|███████████████████▎                | 812/1517 [3:18:10<2:03:33, 10.52s/it]"
     ]
    },
    {
     "name": "stdout",
     "output_type": "stream",
     "text": [
      "c1: 0, c2: 2, c3: 2\n",
      "nan 2018-02-22 00:00:00\n",
      "\n"
     ]
    },
    {
     "name": "stderr",
     "output_type": "stream",
     "text": [
      " 54%|███████████████████▎                | 814/1517 [3:18:33<2:07:04, 10.85s/it]"
     ]
    },
    {
     "name": "stdout",
     "output_type": "stream",
     "text": [
      "c1: 0, c2: 0, c3: 2\n",
      "nan 2018-04-11 00:00:00\n",
      "\n"
     ]
    },
    {
     "name": "stderr",
     "output_type": "stream",
     "text": [
      "\r",
      " 54%|███████████████████▎                | 815/1517 [3:18:45<2:10:58, 11.19s/it]"
     ]
    },
    {
     "name": "stdout",
     "output_type": "stream",
     "text": [
      "c1: 0, c2: 0, c3: 3\n",
      "nan 2018-02-03 00:00:00\n",
      "\n"
     ]
    },
    {
     "name": "stderr",
     "output_type": "stream",
     "text": [
      "\r",
      " 54%|███████████████████▎                | 816/1517 [3:18:54<2:01:24, 10.39s/it]"
     ]
    },
    {
     "name": "stdout",
     "output_type": "stream",
     "text": [
      "c1: 0, c2: 0, c3: 3\n",
      "nan 2018-01-01 00:00:00\n",
      "\n"
     ]
    },
    {
     "name": "stderr",
     "output_type": "stream",
     "text": [
      "\r",
      " 54%|███████████████████▍                | 817/1517 [3:20:28<6:54:17, 35.51s/it]"
     ]
    },
    {
     "name": "stdout",
     "output_type": "stream",
     "text": [
      "c1: 81, c2: 3, c3: 0\n",
      "Cholera 2018-07-05 00:00:00\n",
      "\n"
     ]
    },
    {
     "name": "stderr",
     "output_type": "stream",
     "text": [
      "\r",
      " 54%|██████████████████▊                | 818/1517 [3:24:23<18:31:48, 95.43s/it]"
     ]
    },
    {
     "name": "stdout",
     "output_type": "stream",
     "text": [
      "c1: 24, c2: 649, c3: 16\n",
      "Lassa fever 2018-01-01 00:00:00\n",
      "\n"
     ]
    },
    {
     "name": "stderr",
     "output_type": "stream",
     "text": [
      "\r",
      " 54%|██████████████████▉                | 819/1517 [3:24:31<13:25:20, 69.23s/it]"
     ]
    },
    {
     "name": "stdout",
     "output_type": "stream",
     "text": [
      "c1: 0, c2: 77, c3: 0\n",
      "nan 2018-07-13 00:00:00\n",
      "\n"
     ]
    },
    {
     "name": "stderr",
     "output_type": "stream",
     "text": [
      "\r",
      " 54%|██████████████████▉                | 820/1517 [3:24:42<10:00:23, 51.68s/it]"
     ]
    },
    {
     "name": "stdout",
     "output_type": "stream",
     "text": [
      "c1: 0, c2: 20, c3: 0\n",
      "nan 2018-09-20 00:00:00\n",
      "\n"
     ]
    },
    {
     "name": "stderr",
     "output_type": "stream",
     "text": [
      "\r",
      " 54%|███████████████████▍                | 821/1517 [3:24:50<7:25:32, 38.41s/it]"
     ]
    },
    {
     "name": "stdout",
     "output_type": "stream",
     "text": [
      "c1: 893, c2: 4, c3: 0\n",
      "'Friederike' (David) 2018-01-17 00:00:00\n",
      "\n"
     ]
    },
    {
     "name": "stderr",
     "output_type": "stream",
     "text": [
      "\r",
      " 54%|███████████████████▌                | 822/1517 [3:25:02<5:55:23, 30.68s/it]"
     ]
    },
    {
     "name": "stdout",
     "output_type": "stream",
     "text": [
      "c1: 0, c2: 177, c3: 1\n",
      "nan 2018-07-01 00:00:00\n",
      "\n"
     ]
    },
    {
     "name": "stderr",
     "output_type": "stream",
     "text": [
      " 54%|███████████████████▌                | 824/1517 [3:25:14<3:27:40, 17.98s/it]"
     ]
    },
    {
     "name": "stdout",
     "output_type": "stream",
     "text": [
      "c1: 0, c2: 0, c3: 1\n",
      "nan 2018-06-11 00:00:00\n",
      "\n"
     ]
    },
    {
     "name": "stderr",
     "output_type": "stream",
     "text": [
      "\r",
      " 54%|███████████████████▌                | 825/1517 [3:25:20<2:45:11, 14.32s/it]"
     ]
    },
    {
     "name": "stdout",
     "output_type": "stream",
     "text": [
      "c1: 0, c2: 3, c3: 0\n",
      "nan 2018-05-18 00:00:00\n",
      "\n"
     ]
    },
    {
     "name": "stderr",
     "output_type": "stream",
     "text": [
      "\r",
      " 54%|███████████████████▌                | 826/1517 [3:25:29<2:26:20, 12.71s/it]"
     ]
    },
    {
     "name": "stdout",
     "output_type": "stream",
     "text": [
      "c1: 0, c2: 0, c3: 4\n",
      "nan 2018-05-07 00:00:00\n",
      "\n"
     ]
    },
    {
     "name": "stderr",
     "output_type": "stream",
     "text": [
      "\r",
      " 55%|███████████████████▋                | 827/1517 [3:25:36<2:06:19, 10.98s/it]"
     ]
    },
    {
     "name": "stdout",
     "output_type": "stream",
     "text": [
      "c1: 0, c2: 4, c3: 1\n",
      "nan 2018-01-14 00:00:00\n",
      "\n"
     ]
    },
    {
     "name": "stderr",
     "output_type": "stream",
     "text": [
      "\r",
      " 55%|███████████████████▋                | 828/1517 [3:26:39<5:04:39, 26.53s/it]"
     ]
    },
    {
     "name": "stdout",
     "output_type": "stream",
     "text": [
      "c1: 23, c2: 2, c3: 0\n",
      "Mt. Mayon 2018-01-13 00:00:00\n",
      "\n"
     ]
    },
    {
     "name": "stderr",
     "output_type": "stream",
     "text": [
      "\r",
      " 55%|███████████████████▋                | 829/1517 [3:26:48<4:03:32, 21.24s/it]"
     ]
    },
    {
     "name": "stdout",
     "output_type": "stream",
     "text": [
      "c1: 0, c2: 3, c3: 0\n",
      "Agaton (01W) 2018-01-01 00:00:00\n",
      "\n"
     ]
    },
    {
     "name": "stderr",
     "output_type": "stream",
     "text": [
      "\r",
      " 55%|███████████████████▋                | 830/1517 [3:26:52<3:05:46, 16.22s/it]"
     ]
    },
    {
     "name": "stdout",
     "output_type": "stream",
     "text": [
      "c1: 0, c2: 431, c3: 0\n",
      "Tropical Storm Yagi 2018-09-19 00:00:00\n",
      "\n"
     ]
    },
    {
     "name": "stderr",
     "output_type": "stream",
     "text": [
      " 55%|███████████████████▋                | 832/1517 [3:28:31<7:01:01, 36.88s/it]"
     ]
    },
    {
     "name": "stdout",
     "output_type": "stream",
     "text": [
      "c1: 37, c2: 0, c3: 1\n",
      "Dengue 2018-12-07 00:00:00\n",
      "\n"
     ]
    },
    {
     "name": "stderr",
     "output_type": "stream",
     "text": [
      "\r",
      " 55%|███████████████████▊                | 833/1517 [3:28:36<5:11:09, 27.29s/it]"
     ]
    },
    {
     "name": "stdout",
     "output_type": "stream",
     "text": [
      "c1: 0, c2: 0, c3: 15\n",
      "nan 2018-03-05 00:00:00\n",
      "\n"
     ]
    },
    {
     "name": "stderr",
     "output_type": "stream",
     "text": [
      "\r",
      " 55%|███████████████████▊                | 834/1517 [3:28:40<3:53:18, 20.50s/it]"
     ]
    },
    {
     "name": "stdout",
     "output_type": "stream",
     "text": [
      "c1: 0, c2: 3, c3: 5\n",
      "nan 2018-03-07 00:00:00\n",
      "\n"
     ]
    },
    {
     "name": "stderr",
     "output_type": "stream",
     "text": [
      " 55%|███████████████████▊                | 837/1517 [3:28:59<2:06:16, 11.14s/it]"
     ]
    },
    {
     "name": "stdout",
     "output_type": "stream",
     "text": [
      "c1: 0, c2: 5, c3: 11\n",
      "nan 2018-07-09 00:00:00\n",
      "\n"
     ]
    },
    {
     "name": "stderr",
     "output_type": "stream",
     "text": [
      "\r",
      " 55%|███████████████████▉                | 838/1517 [3:29:13<2:15:43, 11.99s/it]"
     ]
    },
    {
     "name": "stdout",
     "output_type": "stream",
     "text": [
      "c1: 0, c2: 1, c3: 0\n",
      "nan 2018-08-24 00:00:00\n",
      "\n"
     ]
    },
    {
     "name": "stderr",
     "output_type": "stream",
     "text": [
      "\r",
      " 55%|███████████████████▉                | 839/1517 [3:29:19<1:54:23, 10.12s/it]"
     ]
    },
    {
     "name": "stdout",
     "output_type": "stream",
     "text": [
      "c1: 7, c2: 0, c3: 2\n",
      "Storm 'Leslie' 2018-10-14 00:00:00\n",
      "\n"
     ]
    },
    {
     "name": "stderr",
     "output_type": "stream",
     "text": [
      " 55%|███████████████████▉                | 841/1517 [3:29:42<2:03:32, 10.97s/it]"
     ]
    },
    {
     "name": "stdout",
     "output_type": "stream",
     "text": [
      "c1: 0, c2: 0, c3: 1\n",
      "nan 2018-11-01 00:00:00\n",
      "\n"
     ]
    },
    {
     "name": "stderr",
     "output_type": "stream",
     "text": [
      " 56%|████████████████████                | 843/1517 [3:29:51<1:27:33,  7.79s/it]"
     ]
    },
    {
     "name": "stdout",
     "output_type": "stream",
     "text": [
      "c1: 0, c2: 0, c3: 3\n",
      "nan 2018-06-29 00:00:00\n",
      "\n"
     ]
    },
    {
     "name": "stderr",
     "output_type": "stream",
     "text": [
      " 56%|████████████████████                | 846/1517 [3:30:29<1:56:55, 10.46s/it]"
     ]
    },
    {
     "name": "stdout",
     "output_type": "stream",
     "text": [
      "c1: 0, c2: 0, c3: 1\n",
      "nan 2019-01-19 00:00:00\n",
      "\n"
     ]
    },
    {
     "name": "stderr",
     "output_type": "stream",
     "text": [
      "\r",
      " 56%|████████████████████                | 847/1517 [3:30:39<1:55:47, 10.37s/it]"
     ]
    },
    {
     "name": "stdout",
     "output_type": "stream",
     "text": [
      "c1: 0, c2: 290, c3: 0\n",
      "nan 2019-02-21 00:00:00\n",
      "\n"
     ]
    },
    {
     "name": "stderr",
     "output_type": "stream",
     "text": [
      "\r",
      " 56%|████████████████████                | 848/1517 [3:30:53<2:06:56, 11.39s/it]"
     ]
    },
    {
     "name": "stdout",
     "output_type": "stream",
     "text": [
      "c1: 0, c2: 1, c3: 47\n",
      "nan 2019-06-06 00:00:00\n",
      "\n"
     ]
    },
    {
     "name": "stderr",
     "output_type": "stream",
     "text": [
      "\r",
      " 56%|████████████████████▏               | 849/1517 [3:31:01<1:55:20, 10.36s/it]"
     ]
    },
    {
     "name": "stdout",
     "output_type": "stream",
     "text": [
      "c1: 0, c2: 0, c3: 52\n",
      "nan 2019-06-02 00:00:00\n",
      "\n"
     ]
    },
    {
     "name": "stderr",
     "output_type": "stream",
     "text": [
      "\r",
      " 56%|████████████████████▏               | 850/1517 [3:31:11<1:54:16, 10.28s/it]"
     ]
    },
    {
     "name": "stdout",
     "output_type": "stream",
     "text": [
      "c1: 0, c2: 0, c3: 2\n",
      "nan 2019-05-31 00:00:00\n",
      "\n"
     ]
    },
    {
     "name": "stderr",
     "output_type": "stream",
     "text": [
      "\r",
      " 56%|████████████████████▏               | 851/1517 [3:31:26<2:10:28, 11.76s/it]"
     ]
    },
    {
     "name": "stdout",
     "output_type": "stream",
     "text": [
      "c1: 0, c2: 2, c3: 17\n",
      "nan 2019-03-24 00:00:00\n",
      "\n"
     ]
    },
    {
     "name": "stderr",
     "output_type": "stream",
     "text": [
      " 56%|████████████████████▏               | 853/1517 [3:32:10<2:59:54, 16.26s/it]"
     ]
    },
    {
     "name": "stdout",
     "output_type": "stream",
     "text": [
      "c1: 61, c2: 190, c3: 1\n",
      "Storm 'Norma' 2019-01-11 00:00:00\n",
      "\n"
     ]
    },
    {
     "name": "stderr",
     "output_type": "stream",
     "text": [
      "\r",
      " 56%|████████████████████▎               | 854/1517 [3:32:15<2:19:38, 12.64s/it]"
     ]
    },
    {
     "name": "stdout",
     "output_type": "stream",
     "text": [
      "c1: 0, c2: 0, c3: 4\n",
      "nan 2019-01-17 00:00:00\n",
      "\n"
     ]
    },
    {
     "name": "stderr",
     "output_type": "stream",
     "text": [
      "\r",
      " 56%|████████████████████▎               | 855/1517 [3:32:21<1:57:05, 10.61s/it]"
     ]
    },
    {
     "name": "stdout",
     "output_type": "stream",
     "text": [
      "c1: 0, c2: 0, c3: 5\n",
      "nan 2019-03-06 00:00:00\n",
      "\n"
     ]
    },
    {
     "name": "stderr",
     "output_type": "stream",
     "text": [
      "\r",
      " 56%|████████████████████▎               | 856/1517 [3:32:55<3:16:49, 17.87s/it]"
     ]
    },
    {
     "name": "stdout",
     "output_type": "stream",
     "text": [
      "c1: 0, c2: 0, c3: 25\n",
      "nan 2019-04-25 00:00:00\n",
      "\n"
     ]
    },
    {
     "name": "stderr",
     "output_type": "stream",
     "text": [
      "\r",
      " 56%|███████████████████▊               | 857/1517 [3:36:11<13:03:54, 71.26s/it]"
     ]
    },
    {
     "name": "stdout",
     "output_type": "stream",
     "text": [
      "c1: 0, c2: 88, c3: 305\n",
      "nan 2019-07-14 00:00:00\n",
      "\n"
     ]
    },
    {
     "name": "stderr",
     "output_type": "stream",
     "text": [
      "\r",
      " 57%|███████████████████▊               | 858/1517 [3:36:44<10:56:28, 59.77s/it]"
     ]
    },
    {
     "name": "stdout",
     "output_type": "stream",
     "text": [
      "c1: 0, c2: 178, c3: 0\n",
      "nan 2019-03-19 00:00:00\n",
      "\n"
     ]
    },
    {
     "name": "stderr",
     "output_type": "stream",
     "text": [
      "\r",
      " 57%|████████████████████▍               | 859/1517 [3:36:50<7:58:36, 43.64s/it]"
     ]
    },
    {
     "name": "stdout",
     "output_type": "stream",
     "text": [
      "c1: 0, c2: 1, c3: 13\n",
      "nan 2019-06-18 00:00:00\n",
      "\n"
     ]
    },
    {
     "name": "stderr",
     "output_type": "stream",
     "text": [
      "\r",
      " 57%|████████████████████▍               | 860/1517 [3:36:57<5:56:38, 32.57s/it]"
     ]
    },
    {
     "name": "stdout",
     "output_type": "stream",
     "text": [
      "c1: 67, c2: 2, c3: 3\n",
      "Cyclone 'Idai' 2019-03-14 00:00:00\n",
      "\n"
     ]
    },
    {
     "name": "stderr",
     "output_type": "stream",
     "text": [
      "\r",
      " 57%|████████████████████▍               | 861/1517 [3:37:39<6:27:46, 35.47s/it]"
     ]
    },
    {
     "name": "stdout",
     "output_type": "stream",
     "text": [
      "c1: 0, c2: 224, c3: 7\n",
      "nan 2019-07-08 00:00:00\n",
      "\n"
     ]
    },
    {
     "name": "stderr",
     "output_type": "stream",
     "text": [
      "\r",
      " 57%|████████████████████▍               | 863/1517 [3:37:43<3:38:59, 20.09s/it]"
     ]
    },
    {
     "name": "stdout",
     "output_type": "stream",
     "text": [
      "c1: 0, c2: 0, c3: 5\n",
      "nan 2019-02-07 00:00:00\n",
      "\n"
     ]
    },
    {
     "name": "stderr",
     "output_type": "stream",
     "text": [
      " 57%|████████████████████▌               | 865/1517 [3:38:02<2:41:31, 14.86s/it]"
     ]
    },
    {
     "name": "stdout",
     "output_type": "stream",
     "text": [
      "c1: 0, c2: 0, c3: 8\n",
      "nan 2019-07-14 00:00:00\n",
      "\n"
     ]
    },
    {
     "name": "stderr",
     "output_type": "stream",
     "text": [
      "\r",
      " 57%|████████████████████▌               | 866/1517 [3:38:11<2:25:58, 13.45s/it]"
     ]
    },
    {
     "name": "stdout",
     "output_type": "stream",
     "text": [
      "c1: 0, c2: 19, c3: 36\n",
      "nan 2019-06-28 00:00:00\n",
      "\n"
     ]
    },
    {
     "name": "stderr",
     "output_type": "stream",
     "text": [
      " 57%|████████████████████▌               | 868/1517 [3:38:36<2:14:46, 12.46s/it]"
     ]
    },
    {
     "name": "stdout",
     "output_type": "stream",
     "text": [
      "c1: 0, c2: 1, c3: 3\n",
      "nan 2019-01-21 00:00:00\n",
      "\n"
     ]
    },
    {
     "name": "stderr",
     "output_type": "stream",
     "text": [
      "\r",
      " 57%|████████████████████▌               | 869/1517 [3:38:41<1:53:13, 10.48s/it]"
     ]
    },
    {
     "name": "stdout",
     "output_type": "stream",
     "text": [
      "c1: 0, c2: 2, c3: 24\n",
      "nan 2019-04-16 00:00:00\n",
      "\n"
     ]
    },
    {
     "name": "stderr",
     "output_type": "stream",
     "text": [
      "\r",
      " 57%|████████████████████▋               | 870/1517 [3:38:48<1:40:40,  9.34s/it]"
     ]
    },
    {
     "name": "stdout",
     "output_type": "stream",
     "text": [
      "c1: 0, c2: 0, c3: 2\n",
      "nan 2019-05-12 00:00:00\n",
      "\n"
     ]
    },
    {
     "name": "stderr",
     "output_type": "stream",
     "text": [
      "\r",
      " 57%|████████████████████▋               | 871/1517 [3:38:57<1:38:48,  9.18s/it]"
     ]
    },
    {
     "name": "stdout",
     "output_type": "stream",
     "text": [
      "c1: 0, c2: 0, c3: 1\n",
      "nan 2019-06-03 00:00:00\n",
      "\n"
     ]
    },
    {
     "name": "stderr",
     "output_type": "stream",
     "text": [
      "\r",
      " 57%|████████████████████▋               | 872/1517 [3:39:02<1:26:27,  8.04s/it]"
     ]
    },
    {
     "name": "stdout",
     "output_type": "stream",
     "text": [
      "c1: 0, c2: 0, c3: 1\n",
      "nan 2019-06-27 00:00:00\n",
      "\n"
     ]
    },
    {
     "name": "stderr",
     "output_type": "stream",
     "text": [
      " 58%|████████████████████▋               | 874/1517 [3:39:10<1:04:23,  6.01s/it]"
     ]
    },
    {
     "name": "stdout",
     "output_type": "stream",
     "text": [
      "c1: 0, c2: 0, c3: 5\n",
      "nan 2019-03-17 00:00:00\n",
      "\n"
     ]
    },
    {
     "name": "stderr",
     "output_type": "stream",
     "text": [
      "\r",
      " 58%|█████████████████████▉                | 875/1517 [3:39:14<58:56,  5.51s/it]"
     ]
    },
    {
     "name": "stdout",
     "output_type": "stream",
     "text": [
      "c1: 0, c2: 1, c3: 23\n",
      "nan 2019-03-16 00:00:00\n",
      "\n"
     ]
    },
    {
     "name": "stderr",
     "output_type": "stream",
     "text": [
      "\r",
      " 58%|█████████████████████▉                | 876/1517 [3:39:18<54:04,  5.06s/it]"
     ]
    },
    {
     "name": "stdout",
     "output_type": "stream",
     "text": [
      "c1: 0, c2: 0, c3: 1\n",
      "nan 2019-03-20 00:00:00\n",
      "\n"
     ]
    },
    {
     "name": "stderr",
     "output_type": "stream",
     "text": [
      "\r",
      " 58%|█████████████████████▉                | 877/1517 [3:39:23<53:55,  5.06s/it]"
     ]
    },
    {
     "name": "stdout",
     "output_type": "stream",
     "text": [
      "c1: 0, c2: 0, c3: 9\n",
      "nan 2019-04-25 00:00:00\n",
      "\n"
     ]
    },
    {
     "name": "stderr",
     "output_type": "stream",
     "text": [
      "\r",
      " 58%|████████████████████▊               | 878/1517 [3:39:34<1:11:32,  6.72s/it]"
     ]
    },
    {
     "name": "stdout",
     "output_type": "stream",
     "text": [
      "c1: 0, c2: 8, c3: 19\n",
      "nan 2019-06-09 00:00:00\n",
      "\n"
     ]
    },
    {
     "name": "stderr",
     "output_type": "stream",
     "text": [
      "\r",
      " 58%|████████████████████▊               | 879/1517 [3:39:44<1:21:29,  7.66s/it]"
     ]
    },
    {
     "name": "stdout",
     "output_type": "stream",
     "text": [
      "c1: 0, c2: 0, c3: 12\n",
      "nan 2019-06-03 00:00:00\n",
      "\n"
     ]
    },
    {
     "name": "stderr",
     "output_type": "stream",
     "text": [
      "\r",
      " 58%|████████████████████▉               | 880/1517 [3:39:49<1:14:02,  6.97s/it]"
     ]
    },
    {
     "name": "stdout",
     "output_type": "stream",
     "text": [
      "c1: 0, c2: 0, c3: 14\n",
      "nan 2019-06-01 00:00:00\n",
      "\n"
     ]
    },
    {
     "name": "stderr",
     "output_type": "stream",
     "text": [
      "\r",
      " 58%|████████████████████▉               | 881/1517 [3:39:54<1:08:06,  6.43s/it]"
     ]
    },
    {
     "name": "stdout",
     "output_type": "stream",
     "text": [
      "c1: 26, c2: 0, c3: 17\n",
      "Cyclone 'Fani' 2019-05-03 00:00:00\n",
      "\n"
     ]
    },
    {
     "name": "stderr",
     "output_type": "stream",
     "text": [
      "\r",
      " 58%|████████████████████▉               | 882/1517 [3:42:14<8:09:46, 46.28s/it]"
     ]
    },
    {
     "name": "stdout",
     "output_type": "stream",
     "text": [
      "c1: 8, c2: 2, c3: 142\n",
      "Acute Encephalitis Syndrome (AES) 2019-01-01 00:00:00\n",
      "\n"
     ]
    },
    {
     "name": "stderr",
     "output_type": "stream",
     "text": [
      " 58%|█████████████████████               | 885/1517 [3:42:30<3:27:41, 19.72s/it]"
     ]
    },
    {
     "name": "stdout",
     "output_type": "stream",
     "text": [
      "c1: 0, c2: 6, c3: 5\n",
      "nan 2019-06-26 00:00:00\n",
      "\n"
     ]
    },
    {
     "name": "stderr",
     "output_type": "stream",
     "text": [
      "\r",
      " 58%|█████████████████████               | 886/1517 [3:42:35<2:38:54, 15.11s/it]"
     ]
    },
    {
     "name": "stdout",
     "output_type": "stream",
     "text": [
      "c1: 0, c2: 0, c3: 1\n",
      "nan 2019-05-15 00:00:00\n",
      "\n"
     ]
    },
    {
     "name": "stderr",
     "output_type": "stream",
     "text": [
      "\r",
      " 58%|█████████████████████               | 887/1517 [3:42:43<2:18:11, 13.16s/it]"
     ]
    },
    {
     "name": "stdout",
     "output_type": "stream",
     "text": [
      "c1: 0, c2: 7, c3: 36\n",
      "nan 2019-06-29 00:00:00\n",
      "\n"
     ]
    },
    {
     "name": "stderr",
     "output_type": "stream",
     "text": [
      "\r",
      " 59%|█████████████████████               | 888/1517 [3:42:48<1:50:42, 10.56s/it]"
     ]
    },
    {
     "name": "stdout",
     "output_type": "stream",
     "text": [
      "c1: 0, c2: 1, c3: 0\n",
      "nan 2019-04-04 00:00:00\n",
      "\n"
     ]
    },
    {
     "name": "stderr",
     "output_type": "stream",
     "text": [
      "\r",
      " 59%|█████████████████████               | 889/1517 [3:42:57<1:45:25, 10.07s/it]"
     ]
    },
    {
     "name": "stdout",
     "output_type": "stream",
     "text": [
      "c1: 0, c2: 0, c3: 2\n",
      "nan 2019-05-28 00:00:00\n",
      "\n"
     ]
    },
    {
     "name": "stderr",
     "output_type": "stream",
     "text": [
      "\r",
      " 59%|█████████████████████               | 890/1517 [3:43:02<1:29:48,  8.59s/it]"
     ]
    },
    {
     "name": "stdout",
     "output_type": "stream",
     "text": [
      "c1: 65, c2: 0, c3: 1\n",
      "Cyclone 'Idai' 2019-03-15 00:00:00\n",
      "\n"
     ]
    },
    {
     "name": "stderr",
     "output_type": "stream",
     "text": [
      " 59%|█████████████████████▏              | 892/1517 [3:43:19<1:24:42,  8.13s/it]"
     ]
    },
    {
     "name": "stdout",
     "output_type": "stream",
     "text": [
      "c1: 0, c2: 4, c3: 11\n",
      "nan 2019-06-28 00:00:00\n",
      "\n"
     ]
    },
    {
     "name": "stderr",
     "output_type": "stream",
     "text": [
      "\r",
      " 59%|█████████████████████▏              | 893/1517 [3:43:23<1:12:22,  6.96s/it]"
     ]
    },
    {
     "name": "stdout",
     "output_type": "stream",
     "text": [
      "c1: 0, c2: 0, c3: 8\n",
      "nan 2019-05-16 00:00:00\n",
      "\n"
     ]
    },
    {
     "name": "stderr",
     "output_type": "stream",
     "text": [
      " 59%|█████████████████████▎              | 896/1517 [3:43:41<1:04:58,  6.28s/it]"
     ]
    },
    {
     "name": "stdout",
     "output_type": "stream",
     "text": [
      "c1: 29, c2: 0, c3: 0\n",
      "Cyclone 'Kenneth' 2019-04-25 00:00:00\n",
      "\n"
     ]
    },
    {
     "name": "stderr",
     "output_type": "stream",
     "text": [
      " 59%|█████████████████████▎              | 898/1517 [3:44:03<1:23:24,  8.09s/it]"
     ]
    },
    {
     "name": "stdout",
     "output_type": "stream",
     "text": [
      "c1: 0, c2: 0, c3: 9\n",
      "nan 2019-03-09 00:00:00\n",
      "\n"
     ]
    },
    {
     "name": "stderr",
     "output_type": "stream",
     "text": [
      "\r",
      " 59%|█████████████████████▎              | 899/1517 [3:44:07<1:09:53,  6.79s/it]"
     ]
    },
    {
     "name": "stdout",
     "output_type": "stream",
     "text": [
      "c1: 0, c2: 0, c3: 4\n",
      "nan 2019-04-20 00:00:00\n",
      "\n"
     ]
    },
    {
     "name": "stderr",
     "output_type": "stream",
     "text": [
      " 59%|█████████████████████▍              | 901/1517 [3:44:39<1:55:27, 11.25s/it]"
     ]
    },
    {
     "name": "stdout",
     "output_type": "stream",
     "text": [
      "c1: 0, c2: 2, c3: 5\n",
      "nan 2019-03-04 00:00:00\n",
      "\n"
     ]
    },
    {
     "name": "stderr",
     "output_type": "stream",
     "text": [
      "\r",
      " 59%|█████████████████████▍              | 902/1517 [3:44:46<1:44:15, 10.17s/it]"
     ]
    },
    {
     "name": "stdout",
     "output_type": "stream",
     "text": [
      "c1: 0, c2: 0, c3: 2\n",
      "nan 2019-06-02 00:00:00\n",
      "\n"
     ]
    },
    {
     "name": "stderr",
     "output_type": "stream",
     "text": [
      "\r",
      " 60%|█████████████████████▍              | 903/1517 [3:44:50<1:24:58,  8.30s/it]"
     ]
    },
    {
     "name": "stdout",
     "output_type": "stream",
     "text": [
      "c1: 0, c2: 2, c3: 1\n",
      "nan 2019-03-30 00:00:00\n",
      "\n"
     ]
    },
    {
     "name": "stderr",
     "output_type": "stream",
     "text": [
      "\r",
      " 60%|█████████████████████▍              | 904/1517 [3:44:54<1:11:15,  6.98s/it]"
     ]
    },
    {
     "name": "stdout",
     "output_type": "stream",
     "text": [
      "c1: 0, c2: 0, c3: 55\n",
      "nan 2019-05-18 00:00:00\n",
      "\n"
     ]
    },
    {
     "name": "stderr",
     "output_type": "stream",
     "text": [
      "\r",
      " 60%|█████████████████████▍              | 905/1517 [3:44:58<1:01:40,  6.05s/it]"
     ]
    },
    {
     "name": "stdout",
     "output_type": "stream",
     "text": [
      "c1: 0, c2: 0, c3: 1\n",
      "nan 2019-04-13 00:00:00\n",
      "\n"
     ]
    },
    {
     "name": "stderr",
     "output_type": "stream",
     "text": [
      "\r",
      " 60%|█████████████████████▌              | 906/1517 [3:45:04<1:01:11,  6.01s/it]"
     ]
    },
    {
     "name": "stdout",
     "output_type": "stream",
     "text": [
      "c1: 0, c2: 17, c3: 4\n",
      "nan 2019-04-15 00:00:00\n",
      "\n"
     ]
    },
    {
     "name": "stderr",
     "output_type": "stream",
     "text": [
      "\r",
      " 60%|██████████████████████▋               | 907/1517 [3:45:08<54:23,  5.35s/it]"
     ]
    },
    {
     "name": "stdout",
     "output_type": "stream",
     "text": [
      "c1: 0, c2: 3, c3: 3\n",
      "nan 2019-05-26 00:00:00\n",
      "\n"
     ]
    },
    {
     "name": "stderr",
     "output_type": "stream",
     "text": [
      " 60%|██████████████████████▊               | 909/1517 [3:45:16<47:28,  4.69s/it]"
     ]
    },
    {
     "name": "stdout",
     "output_type": "stream",
     "text": [
      "c1: 0, c2: 2, c3: 0\n",
      "nan 2019-04-22 00:00:00\n",
      "\n"
     ]
    },
    {
     "name": "stderr",
     "output_type": "stream",
     "text": [
      " 60%|█████████████████████▌              | 911/1517 [3:47:06<5:46:22, 34.29s/it]"
     ]
    },
    {
     "name": "stdout",
     "output_type": "stream",
     "text": [
      "c1: 735, c2: 0, c3: 0\n",
      "Measles 2019-01-01 00:00:00\n",
      "\n"
     ]
    },
    {
     "name": "stderr",
     "output_type": "stream",
     "text": [
      " 60%|█████████████████████▋              | 913/1517 [3:47:31<3:46:42, 22.52s/it]"
     ]
    },
    {
     "name": "stdout",
     "output_type": "stream",
     "text": [
      "c1: 0, c2: 1, c3: 1\n",
      "nan 2019-05-14 00:00:00\n",
      "\n"
     ]
    },
    {
     "name": "stderr",
     "output_type": "stream",
     "text": [
      "\r",
      " 60%|█████████████████████▋              | 914/1517 [3:47:37<2:55:21, 17.45s/it]"
     ]
    },
    {
     "name": "stdout",
     "output_type": "stream",
     "text": [
      "c1: 4, c2: 0, c3: 0\n",
      "Mount Ulawun and Manam 2019-06-28 00:00:00\n",
      "\n"
     ]
    },
    {
     "name": "stderr",
     "output_type": "stream",
     "text": [
      " 60%|█████████████████████▊              | 917/1517 [3:48:32<3:24:49, 20.48s/it]"
     ]
    },
    {
     "name": "stdout",
     "output_type": "stream",
     "text": [
      "c1: 0, c2: 244, c3: 1\n",
      "nan 2019-04-01 00:00:00\n",
      "\n"
     ]
    },
    {
     "name": "stderr",
     "output_type": "stream",
     "text": [
      " 61%|█████████████████████▊              | 919/1517 [3:48:51<2:29:33, 15.01s/it]"
     ]
    },
    {
     "name": "stdout",
     "output_type": "stream",
     "text": [
      "c1: 0, c2: 2, c3: 0\n",
      "Tropical storm Dianmu 2016-08-18 00:00:00\n",
      "\n"
     ]
    },
    {
     "name": "stderr",
     "output_type": "stream",
     "text": [
      "\r",
      " 61%|█████████████████████▊              | 920/1517 [3:49:02<2:19:51, 14.06s/it]"
     ]
    },
    {
     "name": "stdout",
     "output_type": "stream",
     "text": [
      "c1: 76, c2: 134, c3: 0\n",
      "Hurricane Hermine 2016-09-01 00:00:00\n",
      "\n"
     ]
    },
    {
     "name": "stderr",
     "output_type": "stream",
     "text": [
      "\r",
      " 61%|█████████████████████▊              | 921/1517 [3:49:09<1:57:36, 11.84s/it]"
     ]
    },
    {
     "name": "stdout",
     "output_type": "stream",
     "text": [
      "c1: 13, c2: 0, c3: 0\n",
      "Typhoon Megi 2016-09-27 00:00:00\n",
      "\n"
     ]
    },
    {
     "name": "stderr",
     "output_type": "stream",
     "text": [
      "\r",
      " 61%|█████████████████████▉              | 922/1517 [3:49:26<2:13:23, 13.45s/it]"
     ]
    },
    {
     "name": "stdout",
     "output_type": "stream",
     "text": [
      "c1: 0, c2: 49, c3: 0\n",
      "nan 2016-09-19 00:00:00\n",
      "\n"
     ]
    },
    {
     "name": "stderr",
     "output_type": "stream",
     "text": [
      "\r",
      " 61%|█████████████████████▉              | 923/1517 [3:49:35<1:57:39, 11.88s/it]"
     ]
    },
    {
     "name": "stdout",
     "output_type": "stream",
     "text": [
      "c1: 0, c2: 62, c3: 0\n",
      "nan 2016-11-29 00:00:00\n",
      "\n"
     ]
    },
    {
     "name": "stderr",
     "output_type": "stream",
     "text": [
      "\r",
      " 61%|█████████████████████▉              | 924/1517 [3:49:42<1:43:39, 10.49s/it]"
     ]
    },
    {
     "name": "stdout",
     "output_type": "stream",
     "text": [
      "c1: 0, c2: 1, c3: 0\n",
      "nan 2016-08-12 00:00:00\n",
      "\n"
     ]
    },
    {
     "name": "stderr",
     "output_type": "stream",
     "text": [
      "\r",
      " 61%|█████████████████████▉              | 925/1517 [3:49:48<1:30:08,  9.14s/it]"
     ]
    },
    {
     "name": "stdout",
     "output_type": "stream",
     "text": [
      "c1: 0, c2: 0, c3: 4\n",
      "nan 2016-12-08 00:00:00\n",
      "\n"
     ]
    },
    {
     "name": "stderr",
     "output_type": "stream",
     "text": [
      "\r",
      " 61%|█████████████████████▉              | 926/1517 [3:49:57<1:30:39,  9.20s/it]"
     ]
    },
    {
     "name": "stdout",
     "output_type": "stream",
     "text": [
      "c1: 0, c2: 47, c3: 0\n",
      "nan 2016-11-26 00:00:00\n",
      "\n"
     ]
    },
    {
     "name": "stderr",
     "output_type": "stream",
     "text": [
      "\r",
      " 61%|█████████████████████▉              | 927/1517 [3:50:06<1:29:36,  9.11s/it]"
     ]
    },
    {
     "name": "stdout",
     "output_type": "stream",
     "text": [
      "c1: 0, c2: 0, c3: 1\n",
      "nan 2016-10-12 00:00:00\n",
      "\n"
     ]
    },
    {
     "name": "stderr",
     "output_type": "stream",
     "text": [
      " 61%|██████████████████████              | 929/1517 [3:50:23<1:28:55,  9.07s/it]"
     ]
    },
    {
     "name": "stdout",
     "output_type": "stream",
     "text": [
      "c1: 0, c2: 105, c3: 0\n",
      "nan 2016-12-13 00:00:00\n",
      "\n"
     ]
    },
    {
     "name": "stderr",
     "output_type": "stream",
     "text": [
      "\r",
      " 61%|██████████████████████              | 930/1517 [3:50:29<1:17:30,  7.92s/it]"
     ]
    },
    {
     "name": "stdout",
     "output_type": "stream",
     "text": [
      "c1: 0, c2: 0, c3: 1\n",
      "nan 2016-11-28 00:00:00\n",
      "\n"
     ]
    },
    {
     "name": "stderr",
     "output_type": "stream",
     "text": [
      "\r",
      " 61%|██████████████████████              | 931/1517 [3:50:35<1:11:26,  7.32s/it]"
     ]
    },
    {
     "name": "stdout",
     "output_type": "stream",
     "text": [
      "c1: 14, c2: 0, c3: 0\n",
      "Typhoon Ferdie (Meranti) 2016-09-14 00:00:00\n",
      "\n"
     ]
    },
    {
     "name": "stderr",
     "output_type": "stream",
     "text": [
      "\r",
      " 61%|██████████████████████              | 932/1517 [3:50:45<1:19:02,  8.11s/it]"
     ]
    },
    {
     "name": "stdout",
     "output_type": "stream",
     "text": [
      "c1: 279, c2: 43, c3: 0\n",
      "Hurricane 'Matthew' 2016-10-08 00:00:00\n",
      "\n"
     ]
    },
    {
     "name": "stderr",
     "output_type": "stream",
     "text": [
      "\r",
      " 62%|██████████████████████▏             | 933/1517 [3:50:53<1:19:55,  8.21s/it]"
     ]
    },
    {
     "name": "stdout",
     "output_type": "stream",
     "text": [
      "c1: 0, c2: 1, c3: 0\n",
      "Tropical storm Aere 2016-10-13 00:00:00\n",
      "\n"
     ]
    },
    {
     "name": "stderr",
     "output_type": "stream",
     "text": [
      " 62%|██████████████████████▏             | 935/1517 [3:51:08<1:17:00,  7.94s/it]"
     ]
    },
    {
     "name": "stdout",
     "output_type": "stream",
     "text": [
      "c1: 0, c2: 0, c3: 1\n",
      "nan 2016-12-09 00:00:00\n",
      "\n"
     ]
    },
    {
     "name": "stderr",
     "output_type": "stream",
     "text": [
      " 62%|██████████████████████▏             | 937/1517 [3:51:44<2:16:30, 14.12s/it]"
     ]
    },
    {
     "name": "stdout",
     "output_type": "stream",
     "text": [
      "c1: 174, c2: 0, c3: 0\n",
      "Dengue 2016-01-01 00:00:00\n",
      "\n"
     ]
    },
    {
     "name": "stderr",
     "output_type": "stream",
     "text": [
      "\r",
      " 62%|██████████████████████▎             | 939/1517 [3:51:49<1:24:39,  8.79s/it]"
     ]
    },
    {
     "name": "stdout",
     "output_type": "stream",
     "text": [
      "c1: 0, c2: 97, c3: 0\n",
      "nan 2016-08-15 00:00:00\n",
      "\n"
     ]
    },
    {
     "name": "stderr",
     "output_type": "stream",
     "text": [
      "\r",
      " 62%|██████████████████████▎             | 940/1517 [3:52:01<1:31:57,  9.56s/it]"
     ]
    },
    {
     "name": "stdout",
     "output_type": "stream",
     "text": [
      "c1: 0, c2: 0, c3: 18\n",
      "nan 2016-10-06 00:00:00\n",
      "\n"
     ]
    },
    {
     "name": "stderr",
     "output_type": "stream",
     "text": [
      "\r",
      " 62%|██████████████████████▎             | 941/1517 [3:52:15<1:43:28, 10.78s/it]"
     ]
    },
    {
     "name": "stdout",
     "output_type": "stream",
     "text": [
      "c1: 0, c2: 33, c3: 1\n",
      "nan 2016-12-01 00:00:00\n",
      "\n"
     ]
    },
    {
     "name": "stderr",
     "output_type": "stream",
     "text": [
      "\r",
      " 62%|██████████████████████▎             | 942/1517 [3:52:20<1:27:58,  9.18s/it]"
     ]
    },
    {
     "name": "stdout",
     "output_type": "stream",
     "text": [
      "c1: 0, c2: 1, c3: 0\n",
      "nan 2016-09-10 00:00:00\n",
      "\n"
     ]
    },
    {
     "name": "stderr",
     "output_type": "stream",
     "text": [
      "\r",
      " 62%|██████████████████████▍             | 943/1517 [3:52:24<1:15:38,  7.91s/it]"
     ]
    },
    {
     "name": "stdout",
     "output_type": "stream",
     "text": [
      "c1: 0, c2: 0, c3: 1\n",
      "nan 2016-09-10 00:00:00\n",
      "\n"
     ]
    },
    {
     "name": "stderr",
     "output_type": "stream",
     "text": [
      "\r",
      " 62%|█████████████████████▏            | 944/1517 [3:58:01<16:12:52, 101.87s/it]"
     ]
    },
    {
     "name": "stdout",
     "output_type": "stream",
     "text": [
      "c1: 0, c2: 2159, c3: 0\n",
      "nan 2016-04-24 00:00:00\n",
      "\n"
     ]
    },
    {
     "name": "stderr",
     "output_type": "stream",
     "text": [
      "\r",
      " 62%|█████████████████████▊             | 945/1517 [3:58:09<11:49:53, 74.46s/it]"
     ]
    },
    {
     "name": "stdout",
     "output_type": "stream",
     "text": [
      "c1: 0, c2: 9, c3: 0\n",
      "nan 2016-11-07 00:00:00\n",
      "\n"
     ]
    },
    {
     "name": "stderr",
     "output_type": "stream",
     "text": [
      "\r",
      " 62%|██████████████████████▍             | 946/1517 [3:58:19<8:49:02, 55.59s/it]"
     ]
    },
    {
     "name": "stdout",
     "output_type": "stream",
     "text": [
      "c1: 0, c2: 51, c3: 0\n",
      "nan 2016-03-08 00:00:00\n",
      "\n"
     ]
    },
    {
     "name": "stderr",
     "output_type": "stream",
     "text": [
      "\r",
      " 62%|██████████████████████▍             | 947/1517 [3:58:26<6:32:07, 41.28s/it]"
     ]
    },
    {
     "name": "stdout",
     "output_type": "stream",
     "text": [
      "c1: 115, c2: 2, c3: 0\n",
      "Hurricane 'Matthew' 2016-09-28 00:00:00\n",
      "\n"
     ]
    },
    {
     "name": "stderr",
     "output_type": "stream",
     "text": [
      "\r",
      " 62%|██████████████████████▍             | 948/1517 [3:58:36<5:03:40, 32.02s/it]"
     ]
    },
    {
     "name": "stdout",
     "output_type": "stream",
     "text": [
      "c1: 0, c2: 1, c3: 0\n",
      "nan 2016-11-26 00:00:00\n",
      "\n"
     ]
    },
    {
     "name": "stderr",
     "output_type": "stream",
     "text": [
      "\r",
      " 63%|██████████████████████▌             | 949/1517 [3:58:48<4:08:52, 26.29s/it]"
     ]
    },
    {
     "name": "stdout",
     "output_type": "stream",
     "text": [
      "c1: 0, c2: 1, c3: 0\n",
      "nan 2016-10-09 00:00:00\n",
      "\n"
     ]
    },
    {
     "name": "stderr",
     "output_type": "stream",
     "text": [
      "\r",
      " 63%|█████████████████████▉             | 950/1517 [4:02:17<12:40:54, 80.52s/it]"
     ]
    },
    {
     "name": "stdout",
     "output_type": "stream",
     "text": [
      "c1: 686, c2: 0, c3: 0\n",
      "Dengue 2016-01-01 00:00:00\n",
      "\n"
     ]
    },
    {
     "name": "stderr",
     "output_type": "stream",
     "text": [
      "\r",
      " 63%|██████████████████████▌             | 951/1517 [4:02:27<9:21:00, 59.47s/it]"
     ]
    },
    {
     "name": "stdout",
     "output_type": "stream",
     "text": [
      "c1: 0, c2: 1, c3: 0\n",
      "nan 2016-12-12 00:00:00\n",
      "\n"
     ]
    },
    {
     "name": "stderr",
     "output_type": "stream",
     "text": [
      "\r",
      " 63%|██████████████████████▌             | 952/1517 [4:02:46<7:26:59, 47.47s/it]"
     ]
    },
    {
     "name": "stdout",
     "output_type": "stream",
     "text": [
      "c1: 0, c2: 1, c3: 0\n",
      "nan 2016-10-30 00:00:00\n",
      "\n"
     ]
    },
    {
     "name": "stderr",
     "output_type": "stream",
     "text": [
      "\r",
      " 63%|█████████████████████▉             | 953/1517 [4:04:53<11:10:27, 71.33s/it]"
     ]
    },
    {
     "name": "stdout",
     "output_type": "stream",
     "text": [
      "c1: 51, c2: 71, c3: 0\n",
      "Dengue 2016-11-30 00:00:00\n",
      "\n"
     ]
    },
    {
     "name": "stderr",
     "output_type": "stream",
     "text": [
      "\r",
      " 63%|██████████████████████             | 954/1517 [4:06:37<12:40:43, 81.07s/it]"
     ]
    },
    {
     "name": "stdout",
     "output_type": "stream",
     "text": [
      "c1: 99, c2: 65, c3: 6\n",
      "Cholera 2016-10-06 00:00:00\n",
      "\n"
     ]
    },
    {
     "name": "stderr",
     "output_type": "stream",
     "text": [
      "\r",
      " 63%|██████████████████████▋             | 955/1517 [4:06:43<9:07:40, 58.47s/it]"
     ]
    },
    {
     "name": "stdout",
     "output_type": "stream",
     "text": [
      "c1: 0, c2: 0, c3: 4\n",
      "nan 2016-11-09 00:00:00\n",
      "\n"
     ]
    },
    {
     "name": "stderr",
     "output_type": "stream",
     "text": [
      " 63%|██████████████████████▋             | 958/1517 [4:06:57<3:38:10, 23.42s/it]"
     ]
    },
    {
     "name": "stdout",
     "output_type": "stream",
     "text": [
      "c1: 13, c2: 0, c3: 0\n",
      "Cholera 2016-08-15 00:00:00\n",
      "\n"
     ]
    },
    {
     "name": "stderr",
     "output_type": "stream",
     "text": [
      "\r",
      " 63%|██████████████████████▊             | 959/1517 [4:07:48<4:52:19, 31.43s/it]"
     ]
    },
    {
     "name": "stdout",
     "output_type": "stream",
     "text": [
      "c1: 0, c2: 0, c3: 10\n",
      "nan 2016-07-01 00:00:00\n",
      "\n"
     ]
    },
    {
     "name": "stderr",
     "output_type": "stream",
     "text": [
      " 63%|██████████████████████▊             | 961/1517 [4:08:04<3:04:09, 19.87s/it]"
     ]
    },
    {
     "name": "stdout",
     "output_type": "stream",
     "text": [
      "c1: 0, c2: 90, c3: 0\n",
      "nan 2017-01-06 00:00:00\n",
      "\n"
     ]
    },
    {
     "name": "stderr",
     "output_type": "stream",
     "text": [
      "\r",
      " 63%|██████████████████████▊             | 962/1517 [4:08:13<2:31:30, 16.38s/it]"
     ]
    },
    {
     "name": "stdout",
     "output_type": "stream",
     "text": [
      "c1: 0, c2: 2, c3: 0\n",
      "Hurricane 'Maria' 2017-09-20 00:00:00\n",
      "\n"
     ]
    },
    {
     "name": "stderr",
     "output_type": "stream",
     "text": [
      "\r",
      " 63%|██████████████████████▊             | 963/1517 [4:08:29<2:30:10, 16.26s/it]"
     ]
    },
    {
     "name": "stdout",
     "output_type": "stream",
     "text": [
      "c1: 0, c2: 71, c3: 0\n",
      "nan 2017-04-28 00:00:00\n",
      "\n"
     ]
    },
    {
     "name": "stderr",
     "output_type": "stream",
     "text": [
      "\r",
      " 64%|██████████████████████▉             | 964/1517 [4:08:37<2:07:29, 13.83s/it]"
     ]
    },
    {
     "name": "stdout",
     "output_type": "stream",
     "text": [
      "c1: 0, c2: 41, c3: 0\n",
      "nan 2017-08-05 00:00:00\n",
      "\n"
     ]
    },
    {
     "name": "stderr",
     "output_type": "stream",
     "text": [
      "\r",
      " 64%|██████████████████████▉             | 965/1517 [4:08:47<1:57:33, 12.78s/it]"
     ]
    },
    {
     "name": "stdout",
     "output_type": "stream",
     "text": [
      "c1: 0, c2: 289, c3: 0\n",
      "nan 2017-12-31 00:00:00\n",
      "\n"
     ]
    },
    {
     "name": "stderr",
     "output_type": "stream",
     "text": [
      "\r",
      " 64%|██████████████████████▉             | 966/1517 [4:08:58<1:52:27, 12.25s/it]"
     ]
    },
    {
     "name": "stdout",
     "output_type": "stream",
     "text": [
      "c1: 0, c2: 38, c3: 3\n",
      "nan 2017-06-07 00:00:00\n",
      "\n"
     ]
    },
    {
     "name": "stderr",
     "output_type": "stream",
     "text": [
      "\r",
      " 64%|██████████████████████▉             | 967/1517 [4:09:14<2:01:32, 13.26s/it]"
     ]
    },
    {
     "name": "stdout",
     "output_type": "stream",
     "text": [
      "c1: 0, c2: 138, c3: 0\n",
      "nan 2017-02-08 00:00:00\n",
      "\n"
     ]
    },
    {
     "name": "stderr",
     "output_type": "stream",
     "text": [
      "\r",
      " 64%|██████████████████████▉             | 968/1517 [4:09:20<1:42:02, 11.15s/it]"
     ]
    },
    {
     "name": "stdout",
     "output_type": "stream",
     "text": [
      "c1: 0, c2: 2, c3: 2\n",
      "nan 2017-07-27 00:00:00\n",
      "\n"
     ]
    },
    {
     "name": "stderr",
     "output_type": "stream",
     "text": [
      "\r",
      " 64%|██████████████████████▉             | 969/1517 [4:09:36<1:54:27, 12.53s/it]"
     ]
    },
    {
     "name": "stdout",
     "output_type": "stream",
     "text": [
      "c1: 0, c2: 250, c3: 0\n",
      "nan 2017-06-25 00:00:00\n",
      "\n"
     ]
    },
    {
     "name": "stderr",
     "output_type": "stream",
     "text": [
      "\r",
      " 64%|███████████████████████             | 970/1517 [4:09:47<1:52:15, 12.31s/it]"
     ]
    },
    {
     "name": "stdout",
     "output_type": "stream",
     "text": [
      "c1: 0, c2: 130, c3: 0\n",
      "nan 2017-03-25 00:00:00\n",
      "\n"
     ]
    },
    {
     "name": "stderr",
     "output_type": "stream",
     "text": [
      "\r",
      " 64%|███████████████████████             | 971/1517 [4:10:03<2:01:20, 13.33s/it]"
     ]
    },
    {
     "name": "stdout",
     "output_type": "stream",
     "text": [
      "c1: 1807, c2: 464, c3: 0\n",
      "Hurricane Harvey 2017-08-25 00:00:00\n",
      "\n"
     ]
    },
    {
     "name": "stderr",
     "output_type": "stream",
     "text": [
      "\r",
      " 64%|███████████████████████             | 972/1517 [4:10:15<1:56:17, 12.80s/it]"
     ]
    },
    {
     "name": "stdout",
     "output_type": "stream",
     "text": [
      "c1: 0, c2: 89, c3: 0\n",
      "nan 2017-02-27 00:00:00\n",
      "\n"
     ]
    },
    {
     "name": "stderr",
     "output_type": "stream",
     "text": [
      "\r",
      " 64%|███████████████████████             | 973/1517 [4:10:20<1:36:29, 10.64s/it]"
     ]
    },
    {
     "name": "stdout",
     "output_type": "stream",
     "text": [
      "c1: 0, c2: 40, c3: 7\n",
      "nan 2017-08-14 00:00:00\n",
      "\n"
     ]
    },
    {
     "name": "stderr",
     "output_type": "stream",
     "text": [
      "\r",
      " 64%|███████████████████████             | 974/1517 [4:10:29<1:29:45,  9.92s/it]"
     ]
    },
    {
     "name": "stdout",
     "output_type": "stream",
     "text": [
      "c1: 384, c2: 0, c3: 1\n",
      "Tropical depression'16/Hurricane 'Nate' 2017-10-05 00:00:00\n",
      "\n"
     ]
    },
    {
     "name": "stderr",
     "output_type": "stream",
     "text": [
      "\r",
      " 64%|███████████████████████▏            | 975/1517 [4:11:16<3:12:11, 21.28s/it]"
     ]
    },
    {
     "name": "stdout",
     "output_type": "stream",
     "text": [
      "c1: 0, c2: 461, c3: 6\n",
      "nan 2017-07-05 00:00:00\n",
      "\n"
     ]
    },
    {
     "name": "stderr",
     "output_type": "stream",
     "text": [
      "\r",
      " 64%|███████████████████████▏            | 976/1517 [4:11:29<2:48:02, 18.64s/it]"
     ]
    },
    {
     "name": "stdout",
     "output_type": "stream",
     "text": [
      "c1: 0, c2: 6, c3: 0\n",
      "nan 2017-05-31 00:00:00\n",
      "\n"
     ]
    },
    {
     "name": "stderr",
     "output_type": "stream",
     "text": [
      " 65%|███████████████████████▏            | 979/1517 [4:11:55<1:49:15, 12.18s/it]"
     ]
    },
    {
     "name": "stdout",
     "output_type": "stream",
     "text": [
      "c1: 0, c2: 2, c3: 0\n",
      "nan 2017-07-07 00:00:00\n",
      "\n"
     ]
    },
    {
     "name": "stderr",
     "output_type": "stream",
     "text": [
      "\r",
      " 65%|███████████████████████▎            | 980/1517 [4:12:11<1:57:56, 13.18s/it]"
     ]
    },
    {
     "name": "stdout",
     "output_type": "stream",
     "text": [
      "c1: 0, c2: 6, c3: 0\n",
      "nan 2017-10-08 00:00:00\n",
      "\n"
     ]
    },
    {
     "name": "stderr",
     "output_type": "stream",
     "text": [
      "\r",
      " 65%|███████████████████████▎            | 981/1517 [4:12:16<1:35:45, 10.72s/it]"
     ]
    },
    {
     "name": "stdout",
     "output_type": "stream",
     "text": [
      "c1: 0, c2: 3, c3: 2\n",
      "nan 2017-07-21 00:00:00\n",
      "\n"
     ]
    },
    {
     "name": "stderr",
     "output_type": "stream",
     "text": [
      "\r",
      " 65%|███████████████████████▎            | 982/1517 [4:12:58<3:00:38, 20.26s/it]"
     ]
    },
    {
     "name": "stdout",
     "output_type": "stream",
     "text": [
      "c1: 0, c2: 681, c3: 7\n",
      "nan 2017-10-10 00:00:00\n",
      "\n"
     ]
    },
    {
     "name": "stderr",
     "output_type": "stream",
     "text": [
      "\r",
      " 65%|███████████████████████▎            | 983/1517 [4:13:08<2:31:06, 16.98s/it]"
     ]
    },
    {
     "name": "stdout",
     "output_type": "stream",
     "text": [
      "c1: 0, c2: 68, c3: 0\n",
      "nan 2017-05-09 00:00:00\n",
      "\n"
     ]
    },
    {
     "name": "stderr",
     "output_type": "stream",
     "text": [
      "\r",
      " 65%|███████████████████████▎            | 984/1517 [4:13:22<2:24:09, 16.23s/it]"
     ]
    },
    {
     "name": "stdout",
     "output_type": "stream",
     "text": [
      "c1: 0, c2: 154, c3: 0\n",
      "nan 2017-03-06 00:00:00\n",
      "\n"
     ]
    },
    {
     "name": "stderr",
     "output_type": "stream",
     "text": [
      "\r",
      " 65%|███████████████████████▍            | 985/1517 [4:13:35<2:14:20, 15.15s/it]"
     ]
    },
    {
     "name": "stdout",
     "output_type": "stream",
     "text": [
      "c1: 0, c2: 37, c3: 0\n",
      "nan 2017-06-09 00:00:00\n",
      "\n"
     ]
    },
    {
     "name": "stderr",
     "output_type": "stream",
     "text": [
      "\r",
      " 65%|███████████████████████▍            | 986/1517 [4:13:45<2:00:05, 13.57s/it]"
     ]
    },
    {
     "name": "stdout",
     "output_type": "stream",
     "text": [
      "c1: 0, c2: 63, c3: 0\n",
      "nan 2017-11-05 00:00:00\n",
      "\n"
     ]
    },
    {
     "name": "stderr",
     "output_type": "stream",
     "text": [
      " 65%|███████████████████████▍            | 988/1517 [4:14:03<1:38:33, 11.18s/it]"
     ]
    },
    {
     "name": "stdout",
     "output_type": "stream",
     "text": [
      "c1: 1493, c2: 15, c3: 0\n",
      "Hurricane 'Irma' 2017-09-08 00:00:00\n",
      "\n"
     ]
    },
    {
     "name": "stderr",
     "output_type": "stream",
     "text": [
      "\r",
      " 65%|███████████████████████▍            | 989/1517 [4:14:11<1:30:52, 10.33s/it]"
     ]
    },
    {
     "name": "stdout",
     "output_type": "stream",
     "text": [
      "c1: 0, c2: 0, c3: 1\n",
      "Typhoon 'Doksuri' 2017-09-17 00:00:00\n",
      "\n"
     ]
    },
    {
     "name": "stderr",
     "output_type": "stream",
     "text": [
      "\r",
      " 65%|███████████████████████▍            | 990/1517 [4:14:18<1:20:16,  9.14s/it]"
     ]
    },
    {
     "name": "stdout",
     "output_type": "stream",
     "text": [
      "c1: 6, c2: 0, c3: 0\n",
      "Typhoon Nesat & Haitang 2017-07-29 00:00:00\n",
      "\n"
     ]
    },
    {
     "name": "stderr",
     "output_type": "stream",
     "text": [
      "\r",
      " 65%|███████████████████████▌            | 991/1517 [4:14:58<2:42:59, 18.59s/it]"
     ]
    },
    {
     "name": "stdout",
     "output_type": "stream",
     "text": [
      "c1: 2127, c2: 210, c3: 0\n",
      "Hurricane 'Irma' 2017-09-10 00:00:00\n",
      "\n"
     ]
    },
    {
     "name": "stderr",
     "output_type": "stream",
     "text": [
      "\r",
      " 65%|███████████████████████▌            | 992/1517 [4:15:04<2:09:09, 14.76s/it]"
     ]
    },
    {
     "name": "stdout",
     "output_type": "stream",
     "text": [
      "c1: 1494, c2: 2, c3: 0\n",
      "Hurricane 'Irma' 2017-09-07 00:00:00\n",
      "\n"
     ]
    },
    {
     "name": "stderr",
     "output_type": "stream",
     "text": [
      "\r",
      " 65%|███████████████████████▌            | 993/1517 [4:15:13<1:53:30, 13.00s/it]"
     ]
    },
    {
     "name": "stdout",
     "output_type": "stream",
     "text": [
      "c1: 10, c2: 0, c3: 0\n",
      "Typhoon 'Damrey' / 'Ramil' 2017-11-04 00:00:00\n",
      "\n"
     ]
    },
    {
     "name": "stderr",
     "output_type": "stream",
     "text": [
      "\r",
      " 66%|███████████████████████▌            | 994/1517 [4:15:21<1:41:09, 11.60s/it]"
     ]
    },
    {
     "name": "stdout",
     "output_type": "stream",
     "text": [
      "c1: 0, c2: 3, c3: 0\n",
      "nan 2017-10-09 00:00:00\n",
      "\n"
     ]
    },
    {
     "name": "stderr",
     "output_type": "stream",
     "text": [
      "\r",
      " 66%|███████████████████████▌            | 995/1517 [4:15:27<1:26:03,  9.89s/it]"
     ]
    },
    {
     "name": "stdout",
     "output_type": "stream",
     "text": [
      "c1: 1493, c2: 0, c3: 0\n",
      "Hurricane 'Irma' 2017-09-08 00:00:00\n",
      "\n"
     ]
    },
    {
     "name": "stderr",
     "output_type": "stream",
     "text": [
      " 66%|███████████████████████▋            | 997/1517 [4:15:38<1:07:06,  7.74s/it]"
     ]
    },
    {
     "name": "stdout",
     "output_type": "stream",
     "text": [
      "c1: 0, c2: 0, c3: 4\n",
      "nan 2017-11-21 00:00:00\n",
      "\n"
     ]
    },
    {
     "name": "stderr",
     "output_type": "stream",
     "text": [
      "\r",
      " 66%|███████████████████████▋            | 998/1517 [4:16:31<3:02:40, 21.12s/it]"
     ]
    },
    {
     "name": "stdout",
     "output_type": "stream",
     "text": [
      "c1: 0, c2: 16, c3: 0\n",
      "nan 2017-06-30 00:00:00\n",
      "\n"
     ]
    },
    {
     "name": "stderr",
     "output_type": "stream",
     "text": [
      "\r",
      " 66%|███████████████████████▋            | 999/1517 [4:16:36<2:21:36, 16.40s/it]"
     ]
    },
    {
     "name": "stdout",
     "output_type": "stream",
     "text": [
      "c1: 1, c2: 0, c3: 0\n",
      "Acute Watery Diarrhoea 2017-09-18 00:00:00\n",
      "\n"
     ]
    },
    {
     "name": "stderr",
     "output_type": "stream",
     "text": [
      " 66%|███████████████████████            | 1001/1517 [4:17:33<3:32:49, 24.75s/it]"
     ]
    },
    {
     "name": "stdout",
     "output_type": "stream",
     "text": [
      "c1: 134, c2: 0, c3: 6\n",
      "Cholera 2017-08-14 00:00:00\n",
      "\n"
     ]
    },
    {
     "name": "stderr",
     "output_type": "stream",
     "text": [
      "\r",
      " 66%|███████████████████████            | 1002/1517 [4:18:07<3:54:57, 27.37s/it]"
     ]
    },
    {
     "name": "stdout",
     "output_type": "stream",
     "text": [
      "c1: 0, c2: 65, c3: 13\n",
      "nan 2017-01-01 00:00:00\n",
      "\n"
     ]
    },
    {
     "name": "stderr",
     "output_type": "stream",
     "text": [
      "\r",
      " 66%|███████████████████████▏           | 1003/1517 [4:18:21<3:19:11, 23.25s/it]"
     ]
    },
    {
     "name": "stdout",
     "output_type": "stream",
     "text": [
      "c1: 0, c2: 31, c3: 1\n",
      "nan 2017-11-25 00:00:00\n",
      "\n"
     ]
    },
    {
     "name": "stderr",
     "output_type": "stream",
     "text": [
      "\r",
      " 66%|███████████████████████▏           | 1004/1517 [4:18:28<2:39:20, 18.64s/it]"
     ]
    },
    {
     "name": "stdout",
     "output_type": "stream",
     "text": [
      "c1: 0, c2: 94, c3: 0\n",
      "Tropical Storm Talas 2017-07-17 00:00:00\n",
      "\n"
     ]
    },
    {
     "name": "stderr",
     "output_type": "stream",
     "text": [
      "\r",
      " 66%|███████████████████████▏           | 1005/1517 [4:18:35<2:07:54, 14.99s/it]"
     ]
    },
    {
     "name": "stdout",
     "output_type": "stream",
     "text": [
      "c1: 0, c2: 19, c3: 0\n",
      "nan 2017-01-27 00:00:00\n",
      "\n"
     ]
    },
    {
     "name": "stderr",
     "output_type": "stream",
     "text": [
      "\r",
      " 66%|███████████████████████▏           | 1006/1517 [4:18:46<1:58:36, 13.93s/it]"
     ]
    },
    {
     "name": "stdout",
     "output_type": "stream",
     "text": [
      "c1: 0, c2: 1, c3: 0\n",
      "nan 2017-05-08 00:00:00\n",
      "\n"
     ]
    },
    {
     "name": "stderr",
     "output_type": "stream",
     "text": [
      "\r",
      " 66%|███████████████████████▏           | 1007/1517 [4:18:56<1:48:05, 12.72s/it]"
     ]
    },
    {
     "name": "stdout",
     "output_type": "stream",
     "text": [
      "c1: 0, c2: 0, c3: 1\n",
      "nan 2017-09-20 00:00:00\n",
      "\n"
     ]
    },
    {
     "name": "stderr",
     "output_type": "stream",
     "text": [
      "\r",
      " 66%|███████████████████████▎           | 1008/1517 [4:19:47<3:23:43, 24.01s/it]"
     ]
    },
    {
     "name": "stdout",
     "output_type": "stream",
     "text": [
      "c1: 6, c2: 0, c3: 5\n",
      "Marburg 2017-09-16 00:00:00\n",
      "\n"
     ]
    },
    {
     "name": "stderr",
     "output_type": "stream",
     "text": [
      " 67%|███████████████████████▎           | 1010/1517 [4:20:13<2:32:15, 18.02s/it]"
     ]
    },
    {
     "name": "stdout",
     "output_type": "stream",
     "text": [
      "c1: 0, c2: 62, c3: 0\n",
      "nan 2017-03-13 00:00:00\n",
      "\n"
     ]
    },
    {
     "name": "stderr",
     "output_type": "stream",
     "text": [
      "\r",
      " 67%|███████████████████████▎           | 1011/1517 [4:20:22<2:10:10, 15.44s/it]"
     ]
    },
    {
     "name": "stdout",
     "output_type": "stream",
     "text": [
      "c1: 0, c2: 63, c3: 0\n",
      "nan 2017-01-18 00:00:00\n",
      "\n"
     ]
    },
    {
     "name": "stderr",
     "output_type": "stream",
     "text": [
      "\r",
      " 67%|███████████████████████▎           | 1012/1517 [4:20:27<1:43:38, 12.31s/it]"
     ]
    },
    {
     "name": "stdout",
     "output_type": "stream",
     "text": [
      "c1: 0, c2: 19, c3: 0\n",
      "nan 2017-07-15 00:00:00\n",
      "\n"
     ]
    },
    {
     "name": "stderr",
     "output_type": "stream",
     "text": [
      "\r",
      " 67%|███████████████████████▎           | 1013/1517 [4:20:32<1:25:22, 10.16s/it]"
     ]
    },
    {
     "name": "stdout",
     "output_type": "stream",
     "text": [
      "c1: 0, c2: 21, c3: 0\n",
      "nan 2017-02-22 00:00:00\n",
      "\n"
     ]
    },
    {
     "name": "stderr",
     "output_type": "stream",
     "text": [
      "\r",
      " 67%|███████████████████████▍           | 1014/1517 [4:20:42<1:22:37,  9.86s/it]"
     ]
    },
    {
     "name": "stdout",
     "output_type": "stream",
     "text": [
      "c1: 0, c2: 118, c3: 0\n",
      "Hurricane 'Maria' 2017-09-26 00:00:00\n",
      "\n"
     ]
    },
    {
     "name": "stderr",
     "output_type": "stream",
     "text": [
      "\r",
      " 67%|███████████████████████▍           | 1015/1517 [4:20:51<1:21:50,  9.78s/it]"
     ]
    },
    {
     "name": "stdout",
     "output_type": "stream",
     "text": [
      "c1: 313, c2: 96, c3: 0\n",
      "Tropical depression'16/Hurricane 'Nate' 2017-10-07 00:00:00\n",
      "\n"
     ]
    },
    {
     "name": "stderr",
     "output_type": "stream",
     "text": [
      "\r",
      " 67%|███████████████████████▍           | 1016/1517 [4:21:01<1:21:15,  9.73s/it]"
     ]
    },
    {
     "name": "stdout",
     "output_type": "stream",
     "text": [
      "c1: 274, c2: 11, c3: 0\n",
      "Wall Fire, Alamo Fire, Whittier Fire 2017-07-06 00:00:00\n",
      "\n"
     ]
    },
    {
     "name": "stderr",
     "output_type": "stream",
     "text": [
      "\r",
      " 67%|██████████████████████▊           | 1017/1517 [4:25:18<11:40:47, 84.10s/it]"
     ]
    },
    {
     "name": "stdout",
     "output_type": "stream",
     "text": [
      "c1: 33, c2: 1096, c3: 0\n",
      "Tubbs, Atlas, Nuns Fires 2017-06-01 00:00:00\n",
      "\n"
     ]
    },
    {
     "name": "stderr",
     "output_type": "stream",
     "text": [
      "\r",
      " 67%|██████████████████████▏          | 1018/1517 [4:29:10<17:47:26, 128.35s/it]"
     ]
    },
    {
     "name": "stdout",
     "output_type": "stream",
     "text": [
      "c1: 0, c2: 29, c3: 0\n",
      "nan 2017-03-01 00:00:00\n",
      "\n"
     ]
    },
    {
     "name": "stderr",
     "output_type": "stream",
     "text": [
      "\r",
      " 67%|██████████████████████▊           | 1019/1517 [4:29:37<13:32:33, 97.90s/it]"
     ]
    },
    {
     "name": "stdout",
     "output_type": "stream",
     "text": [
      "c1: 1512, c2: 240, c3: 0\n",
      "'Thomas' 2017-12-04 00:00:00\n",
      "\n"
     ]
    },
    {
     "name": "stderr",
     "output_type": "stream",
     "text": [
      "\r",
      " 67%|███████████████████████▌           | 1020/1517 [4:29:44<9:44:35, 70.57s/it]"
     ]
    },
    {
     "name": "stdout",
     "output_type": "stream",
     "text": [
      "c1: 1493, c2: 0, c3: 0\n",
      "Hurricane 'Irma' 2017-09-08 00:00:00\n",
      "\n"
     ]
    },
    {
     "name": "stderr",
     "output_type": "stream",
     "text": [
      " 67%|███████████████████████▌           | 1023/1517 [4:30:03<3:53:13, 28.33s/it]"
     ]
    },
    {
     "name": "stdout",
     "output_type": "stream",
     "text": [
      "c1: 1, c2: 0, c3: 0\n",
      "Typhoon 'Hato' 2017-08-24 00:00:00\n",
      "\n"
     ]
    },
    {
     "name": "stderr",
     "output_type": "stream",
     "text": [
      "\r",
      " 68%|███████████████████████▋           | 1024/1517 [4:30:10<3:01:29, 22.09s/it]"
     ]
    },
    {
     "name": "stdout",
     "output_type": "stream",
     "text": [
      "c1: 2, c2: 0, c3: 0\n",
      "Typhoon 'Doksuri' 2017-09-15 00:00:00\n",
      "\n"
     ]
    },
    {
     "name": "stderr",
     "output_type": "stream",
     "text": [
      " 68%|███████████████████████▋           | 1026/1517 [4:30:31<2:13:30, 16.31s/it]"
     ]
    },
    {
     "name": "stdout",
     "output_type": "stream",
     "text": [
      "c1: 0, c2: 1, c3: 0\n",
      "Mt Monaro 2017-09-23 00:00:00\n",
      "\n"
     ]
    },
    {
     "name": "stderr",
     "output_type": "stream",
     "text": [
      "\r",
      " 68%|███████████████████████▋           | 1027/1517 [4:30:43<2:02:00, 14.94s/it]"
     ]
    },
    {
     "name": "stdout",
     "output_type": "stream",
     "text": [
      "c1: 3, c2: 0, c3: 0\n",
      "Tropical cyclone 'Donna' 2017-05-07 00:00:00\n",
      "\n"
     ]
    },
    {
     "name": "stderr",
     "output_type": "stream",
     "text": [
      "\r",
      " 68%|███████████████████████▋           | 1028/1517 [4:31:20<2:56:11, 21.62s/it]"
     ]
    },
    {
     "name": "stdout",
     "output_type": "stream",
     "text": [
      "c1: 71, c2: 0, c3: 2\n",
      "Cholera 2017-04-27 00:00:00\n",
      "\n"
     ]
    },
    {
     "name": "stderr",
     "output_type": "stream",
     "text": [
      "\r",
      " 68%|███████████████████████▋           | 1029/1517 [4:32:07<3:56:40, 29.10s/it]"
     ]
    },
    {
     "name": "stdout",
     "output_type": "stream",
     "text": [
      "c1: 34, c2: 9, c3: 29\n",
      "Diphteria 2017-10-29 00:00:00\n",
      "\n"
     ]
    },
    {
     "name": "stderr",
     "output_type": "stream",
     "text": [
      "\r",
      " 68%|███████████████████████▊           | 1030/1517 [4:32:13<3:00:04, 22.19s/it]"
     ]
    },
    {
     "name": "stdout",
     "output_type": "stream",
     "text": [
      "c1: 0, c2: 0, c3: 4\n",
      "nan 2017-08-29 00:00:00\n",
      "\n"
     ]
    },
    {
     "name": "stderr",
     "output_type": "stream",
     "text": [
      "\r",
      " 68%|███████████████████████▊           | 1031/1517 [4:32:24<2:34:30, 19.08s/it]"
     ]
    },
    {
     "name": "stdout",
     "output_type": "stream",
     "text": [
      "c1: 0, c2: 17, c3: 0\n",
      "nan 2017-05-14 00:00:00\n",
      "\n"
     ]
    },
    {
     "name": "stderr",
     "output_type": "stream",
     "text": [
      "\r",
      " 68%|███████████████████████▊           | 1032/1517 [4:32:35<2:13:01, 16.46s/it]"
     ]
    },
    {
     "name": "stdout",
     "output_type": "stream",
     "text": [
      "c1: 3, c2: 2, c3: 0\n",
      "Knysna fire 2017-06-07 00:00:00\n",
      "\n"
     ]
    },
    {
     "name": "stderr",
     "output_type": "stream",
     "text": [
      "\r",
      " 68%|███████████████████████▊           | 1033/1517 [4:32:39<1:42:45, 12.74s/it]"
     ]
    },
    {
     "name": "stdout",
     "output_type": "stream",
     "text": [
      "c1: 0, c2: 5, c3: 0\n",
      "nan 2017-08-16 00:00:00\n",
      "\n"
     ]
    },
    {
     "name": "stderr",
     "output_type": "stream",
     "text": [
      "\r",
      " 68%|███████████████████████▊           | 1034/1517 [4:33:44<3:50:10, 28.59s/it]"
     ]
    },
    {
     "name": "stdout",
     "output_type": "stream",
     "text": [
      "c1: 158, c2: 1, c3: 0\n",
      "Cholera 2017-11-25 00:00:00\n",
      "\n"
     ]
    },
    {
     "name": "stderr",
     "output_type": "stream",
     "text": [
      "\r",
      " 68%|███████████████████████▉           | 1035/1517 [4:33:51<2:55:29, 21.85s/it]"
     ]
    },
    {
     "name": "stdout",
     "output_type": "stream",
     "text": [
      "c1: 0, c2: 1, c3: 0\n",
      "nan 2017-09-19 00:00:00\n",
      "\n"
     ]
    },
    {
     "name": "stderr",
     "output_type": "stream",
     "text": [
      "\r",
      " 68%|███████████████████████▉           | 1036/1517 [4:36:07<7:29:46, 56.11s/it]"
     ]
    },
    {
     "name": "stdout",
     "output_type": "stream",
     "text": [
      "c1: 292, c2: 0, c3: 4\n",
      "Cholera 2017-09-28 00:00:00\n",
      "\n"
     ]
    },
    {
     "name": "stderr",
     "output_type": "stream",
     "text": [
      "\r",
      " 68%|███████████████████████▉           | 1037/1517 [4:36:14<5:31:44, 41.47s/it]"
     ]
    },
    {
     "name": "stdout",
     "output_type": "stream",
     "text": [
      "c1: 0, c2: 6, c3: 2\n",
      "nan 2017-07-16 00:00:00\n",
      "\n"
     ]
    },
    {
     "name": "stderr",
     "output_type": "stream",
     "text": [
      "\r",
      " 68%|███████████████████████▉           | 1038/1517 [4:36:20<4:06:10, 30.84s/it]"
     ]
    },
    {
     "name": "stdout",
     "output_type": "stream",
     "text": [
      "c1: 1493, c2: 0, c3: 0\n",
      "Hurricane 'Irma' 2017-09-08 00:00:00\n",
      "\n"
     ]
    },
    {
     "name": "stderr",
     "output_type": "stream",
     "text": [
      "\r",
      " 68%|███████████████████████▉           | 1039/1517 [4:36:26<3:06:02, 23.35s/it]"
     ]
    },
    {
     "name": "stdout",
     "output_type": "stream",
     "text": [
      "c1: 1493, c2: 0, c3: 0\n",
      "Hurricane 'Irma' 2017-09-08 00:00:00\n",
      "\n"
     ]
    },
    {
     "name": "stderr",
     "output_type": "stream",
     "text": [
      "\r",
      " 69%|███████████████████████▉           | 1040/1517 [4:36:36<2:33:35, 19.32s/it]"
     ]
    },
    {
     "name": "stdout",
     "output_type": "stream",
     "text": [
      "c1: 2, c2: 0, c3: 0\n",
      "Tyhoon 'Son Tinh' 2018-07-18 00:00:00\n",
      "\n"
     ]
    },
    {
     "name": "stderr",
     "output_type": "stream",
     "text": [
      " 69%|████████████████████████           | 1043/1517 [4:37:00<1:35:13, 12.05s/it]"
     ]
    },
    {
     "name": "stdout",
     "output_type": "stream",
     "text": [
      "c1: 0, c2: 259, c3: 0\n",
      "nan 2018-03-01 00:00:00\n",
      "\n"
     ]
    },
    {
     "name": "stderr",
     "output_type": "stream",
     "text": [
      "\r",
      " 69%|████████████████████████           | 1044/1517 [4:37:08<1:24:56, 10.78s/it]"
     ]
    },
    {
     "name": "stdout",
     "output_type": "stream",
     "text": [
      "c1: 0, c2: 0, c3: 1\n",
      "nan 2018-04-23 00:00:00\n",
      "\n"
     ]
    },
    {
     "name": "stderr",
     "output_type": "stream",
     "text": [
      "\r",
      " 69%|████████████████████████           | 1045/1517 [4:37:19<1:26:51, 11.04s/it]"
     ]
    },
    {
     "name": "stdout",
     "output_type": "stream",
     "text": [
      "c1: 0, c2: 4, c3: 2\n",
      "nan 2018-10-06 00:00:00\n",
      "\n"
     ]
    },
    {
     "name": "stderr",
     "output_type": "stream",
     "text": [
      " 69%|████████████████████████▏          | 1047/1517 [4:37:33<1:08:08,  8.70s/it]"
     ]
    },
    {
     "name": "stdout",
     "output_type": "stream",
     "text": [
      "c1: 0, c2: 11, c3: 0\n",
      "nan 2018-04-14 00:00:00\n",
      "\n"
     ]
    },
    {
     "name": "stderr",
     "output_type": "stream",
     "text": [
      "\r",
      " 69%|████████████████████████▏          | 1048/1517 [4:37:40<1:05:12,  8.34s/it]"
     ]
    },
    {
     "name": "stdout",
     "output_type": "stream",
     "text": [
      "c1: 0, c2: 2, c3: 0\n",
      "nan 2018-06-23 00:00:00\n",
      "\n"
     ]
    },
    {
     "name": "stderr",
     "output_type": "stream",
     "text": [
      " 69%|████████████████████████▏          | 1050/1517 [4:38:18<1:54:14, 14.68s/it]"
     ]
    },
    {
     "name": "stdout",
     "output_type": "stream",
     "text": [
      "c1: 404, c2: 0, c3: 0\n",
      "Kilauea 2018-05-03 00:00:00\n",
      "\n"
     ]
    },
    {
     "name": "stderr",
     "output_type": "stream",
     "text": [
      " 69%|████████████████████████▎          | 1052/1517 [4:38:59<2:26:31, 18.91s/it]"
     ]
    },
    {
     "name": "stdout",
     "output_type": "stream",
     "text": [
      "c1: 101, c2: 412, c3: 0\n",
      "Carr and Mendocino Complex fires 2018-07-27 00:00:00\n",
      "\n"
     ]
    },
    {
     "name": "stderr",
     "output_type": "stream",
     "text": [
      "\r",
      " 69%|████████████████████████▎          | 1053/1517 [4:39:03<1:53:06, 14.63s/it]"
     ]
    },
    {
     "name": "stdout",
     "output_type": "stream",
     "text": [
      "c1: 0, c2: 21, c3: 0\n",
      "nan 2018-08-06 00:00:00\n",
      "\n"
     ]
    },
    {
     "name": "stderr",
     "output_type": "stream",
     "text": [
      "\r",
      " 69%|████████████████████████▎          | 1054/1517 [4:39:12<1:37:45, 12.67s/it]"
     ]
    },
    {
     "name": "stdout",
     "output_type": "stream",
     "text": [
      "c1: 0, c2: 98, c3: 0\n",
      "nan 2018-04-13 00:00:00\n",
      "\n"
     ]
    },
    {
     "name": "stderr",
     "output_type": "stream",
     "text": [
      "\r",
      " 70%|████████████████████████▎          | 1055/1517 [4:39:24<1:36:24, 12.52s/it]"
     ]
    },
    {
     "name": "stdout",
     "output_type": "stream",
     "text": [
      "c1: 0, c2: 201, c3: 0\n",
      "nan 2018-10-15 00:00:00\n",
      "\n"
     ]
    },
    {
     "name": "stderr",
     "output_type": "stream",
     "text": [
      "\r",
      " 70%|████████████████████████▎          | 1056/1517 [4:39:32<1:25:49, 11.17s/it]"
     ]
    },
    {
     "name": "stdout",
     "output_type": "stream",
     "text": [
      "c1: 0, c2: 263, c3: 0\n",
      "nan 2018-01-03 00:00:00\n",
      "\n"
     ]
    },
    {
     "name": "stderr",
     "output_type": "stream",
     "text": [
      "\r",
      " 70%|████████████████████████▍          | 1057/1517 [4:39:48<1:36:31, 12.59s/it]"
     ]
    },
    {
     "name": "stdout",
     "output_type": "stream",
     "text": [
      "c1: 0, c2: 0, c3: 27\n",
      "nan 2018-07-08 00:00:00\n",
      "\n"
     ]
    },
    {
     "name": "stderr",
     "output_type": "stream",
     "text": [
      "\r",
      " 70%|████████████████████████▍          | 1058/1517 [4:39:52<1:16:48, 10.04s/it]"
     ]
    },
    {
     "name": "stdout",
     "output_type": "stream",
     "text": [
      "c1: 1, c2: 17, c3: 0\n",
      "Tropical cyclone 'Penny' 2018-12-29 00:00:00\n",
      "\n"
     ]
    },
    {
     "name": "stderr",
     "output_type": "stream",
     "text": [
      "\r",
      " 70%|████████████████████████▍          | 1059/1517 [4:39:57<1:06:35,  8.72s/it]"
     ]
    },
    {
     "name": "stdout",
     "output_type": "stream",
     "text": [
      "c1: 7, c2: 1, c3: 0\n",
      "Cyclone 'Sagar' 2018-05-21 00:00:00\n",
      "\n"
     ]
    },
    {
     "name": "stderr",
     "output_type": "stream",
     "text": [
      "\r",
      " 70%|████████████████████████▍          | 1060/1517 [4:40:04<1:01:01,  8.01s/it]"
     ]
    },
    {
     "name": "stdout",
     "output_type": "stream",
     "text": [
      "c1: 7, c2: 0, c3: 2\n",
      "Cyclone Gita 2018-02-12 00:00:00\n",
      "\n"
     ]
    },
    {
     "name": "stderr",
     "output_type": "stream",
     "text": [
      " 70%|█████████████████████████▉           | 1062/1517 [4:40:12<45:56,  6.06s/it]"
     ]
    },
    {
     "name": "stdout",
     "output_type": "stream",
     "text": [
      "c1: 0, c2: 1, c3: 3\n",
      "nan 2018-10-11 00:00:00\n",
      "\n"
     ]
    },
    {
     "name": "stderr",
     "output_type": "stream",
     "text": [
      "\r",
      " 70%|█████████████████████████▉           | 1063/1517 [4:40:16<40:28,  5.35s/it]"
     ]
    },
    {
     "name": "stdout",
     "output_type": "stream",
     "text": [
      "c1: 0, c2: 56, c3: 0\n",
      "nan 2018-12-26 00:00:00\n",
      "\n"
     ]
    },
    {
     "name": "stderr",
     "output_type": "stream",
     "text": [
      "\r",
      " 70%|█████████████████████████▉           | 1064/1517 [4:40:26<51:01,  6.76s/it]"
     ]
    },
    {
     "name": "stdout",
     "output_type": "stream",
     "text": [
      "c1: 865, c2: 26, c3: 0\n",
      "Hurricane Florence 2018-09-12 00:00:00\n",
      "\n"
     ]
    },
    {
     "name": "stderr",
     "output_type": "stream",
     "text": [
      "\r",
      " 70%|█████████████████████████▉           | 1065/1517 [4:40:36<57:31,  7.64s/it]"
     ]
    },
    {
     "name": "stdout",
     "output_type": "stream",
     "text": [
      "c1: 0, c2: 125, c3: 0\n",
      "nan 2018-01-08 00:00:00\n",
      "\n"
     ]
    },
    {
     "name": "stderr",
     "output_type": "stream",
     "text": [
      " 70%|████████████████████████▌          | 1067/1517 [4:40:58<1:06:26,  8.86s/it]"
     ]
    },
    {
     "name": "stdout",
     "output_type": "stream",
     "text": [
      "c1: 7, c2: 0, c3: 1\n",
      "Cyclone Gita 2018-02-12 00:00:00\n",
      "\n"
     ]
    },
    {
     "name": "stderr",
     "output_type": "stream",
     "text": [
      "\r",
      " 70%|██████████████████████████           | 1068/1517 [4:41:03<56:59,  7.61s/it]"
     ]
    },
    {
     "name": "stdout",
     "output_type": "stream",
     "text": [
      "c1: 15, c2: 0, c3: 3\n",
      "Cyclone 'Mekunu' 2018-05-23 00:00:00\n",
      "\n"
     ]
    },
    {
     "name": "stderr",
     "output_type": "stream",
     "text": [
      "\r",
      " 70%|██████████████████████████           | 1069/1517 [4:41:07<50:06,  6.71s/it]"
     ]
    },
    {
     "name": "stdout",
     "output_type": "stream",
     "text": [
      "c1: 0, c2: 0, c3: 7\n",
      "Cyclone 'Luban' 2018-10-14 00:00:00\n",
      "\n"
     ]
    },
    {
     "name": "stderr",
     "output_type": "stream",
     "text": [
      "\r",
      " 71%|██████████████████████████           | 1070/1517 [4:41:13<48:17,  6.48s/it]"
     ]
    },
    {
     "name": "stdout",
     "output_type": "stream",
     "text": [
      "c1: 454, c2: 46, c3: 0\n",
      "Hurricane Michael 2018-10-10 00:00:00\n",
      "\n"
     ]
    },
    {
     "name": "stderr",
     "output_type": "stream",
     "text": [
      "\r",
      " 71%|██████████████████████████           | 1071/1517 [4:41:17<42:45,  5.75s/it]"
     ]
    },
    {
     "name": "stdout",
     "output_type": "stream",
     "text": [
      "c1: 0, c2: 0, c3: 5\n",
      "nan 2018-07-08 00:00:00\n",
      "\n"
     ]
    },
    {
     "name": "stderr",
     "output_type": "stream",
     "text": [
      "\r",
      " 71%|██████████████████████████▏          | 1072/1517 [4:41:27<50:59,  6.88s/it]"
     ]
    },
    {
     "name": "stdout",
     "output_type": "stream",
     "text": [
      "c1: 0, c2: 184, c3: 0\n",
      "nan 2018-07-19 00:00:00\n",
      "\n"
     ]
    },
    {
     "name": "stderr",
     "output_type": "stream",
     "text": [
      "\r",
      " 71%|██████████████████████████▏          | 1073/1517 [4:41:35<54:00,  7.30s/it]"
     ]
    },
    {
     "name": "stdout",
     "output_type": "stream",
     "text": [
      "c1: 0, c2: 0, c3: 1\n",
      "nan 2018-06-25 00:00:00\n",
      "\n"
     ]
    },
    {
     "name": "stderr",
     "output_type": "stream",
     "text": [
      "\r",
      " 71%|████████████████████████▊          | 1074/1517 [4:41:48<1:07:23,  9.13s/it]"
     ]
    },
    {
     "name": "stdout",
     "output_type": "stream",
     "text": [
      "c1: 0, c2: 0, c3: 3\n",
      "nan 2018-04-01 00:00:00\n",
      "\n"
     ]
    },
    {
     "name": "stderr",
     "output_type": "stream",
     "text": [
      "\r",
      " 71%|████████████████████████▊          | 1075/1517 [4:42:10<1:34:12, 12.79s/it]"
     ]
    },
    {
     "name": "stdout",
     "output_type": "stream",
     "text": [
      "c1: 0, c2: 3, c3: 0\n",
      "nan 2018-08-01 00:00:00\n",
      "\n"
     ]
    },
    {
     "name": "stderr",
     "output_type": "stream",
     "text": [
      " 71%|████████████████████████▊          | 1078/1517 [4:42:35<1:08:31,  9.37s/it]"
     ]
    },
    {
     "name": "stdout",
     "output_type": "stream",
     "text": [
      "c1: 0, c2: 0, c3: 3\n",
      "nan 2018-05-06 00:00:00\n",
      "\n"
     ]
    },
    {
     "name": "stderr",
     "output_type": "stream",
     "text": [
      "\r",
      " 71%|████████████████████████▉          | 1079/1517 [4:43:31<2:50:54, 23.41s/it]"
     ]
    },
    {
     "name": "stdout",
     "output_type": "stream",
     "text": [
      "c1: 0, c2: 90, c3: 19\n",
      "nan 2018-04-01 00:00:00\n",
      "\n"
     ]
    },
    {
     "name": "stderr",
     "output_type": "stream",
     "text": [
      "\r",
      " 71%|███████████████████████▍         | 1080/1517 [4:48:44<13:23:07, 110.27s/it]"
     ]
    },
    {
     "name": "stdout",
     "output_type": "stream",
     "text": [
      "c1: 713, c2: 3140, c3: 0\n",
      "Measles 2018-05-30 00:00:00\n",
      "\n"
     ]
    },
    {
     "name": "stderr",
     "output_type": "stream",
     "text": [
      " 71%|████████████████████████▉          | 1082/1517 [4:48:57<6:54:09, 57.13s/it]"
     ]
    },
    {
     "name": "stdout",
     "output_type": "stream",
     "text": [
      "c1: 0, c2: 0, c3: 1\n",
      "nan 2018-09-21 00:00:00\n",
      "\n"
     ]
    },
    {
     "name": "stderr",
     "output_type": "stream",
     "text": [
      "\r",
      " 71%|████████████████████████▉          | 1083/1517 [4:49:02<5:00:10, 41.50s/it]"
     ]
    },
    {
     "name": "stdout",
     "output_type": "stream",
     "text": [
      "c1: 0, c2: 2, c3: 0\n",
      "nan 2018-10-17 00:00:00\n",
      "\n"
     ]
    },
    {
     "name": "stderr",
     "output_type": "stream",
     "text": [
      " 72%|█████████████████████████          | 1085/1517 [4:49:19<3:00:51, 25.12s/it]"
     ]
    },
    {
     "name": "stdout",
     "output_type": "stream",
     "text": [
      "c1: 0, c2: 123, c3: 0\n",
      "nan 2018-04-14 00:00:00\n",
      "\n"
     ]
    },
    {
     "name": "stderr",
     "output_type": "stream",
     "text": [
      "\r",
      " 72%|█████████████████████████          | 1086/1517 [4:49:37<2:44:59, 22.97s/it]"
     ]
    },
    {
     "name": "stdout",
     "output_type": "stream",
     "text": [
      "c1: 15, c2: 0, c3: 1\n",
      "Cholera 2018-02-15 00:00:00\n",
      "\n"
     ]
    },
    {
     "name": "stderr",
     "output_type": "stream",
     "text": [
      "\r",
      " 72%|█████████████████████████          | 1087/1517 [4:49:42<2:06:22, 17.63s/it]"
     ]
    },
    {
     "name": "stdout",
     "output_type": "stream",
     "text": [
      "c1: 0, c2: 0, c3: 3\n",
      "nan 2018-06-28 00:00:00\n",
      "\n"
     ]
    },
    {
     "name": "stderr",
     "output_type": "stream",
     "text": [
      "\r",
      " 72%|█████████████████████████          | 1088/1517 [4:49:50<1:44:13, 14.58s/it]"
     ]
    },
    {
     "name": "stdout",
     "output_type": "stream",
     "text": [
      "c1: 0, c2: 12, c3: 0\n",
      "nan 2018-01-21 00:00:00\n",
      "\n"
     ]
    },
    {
     "name": "stderr",
     "output_type": "stream",
     "text": [
      "\r",
      " 72%|█████████████████████████▏         | 1089/1517 [4:50:00<1:35:32, 13.39s/it]"
     ]
    },
    {
     "name": "stdout",
     "output_type": "stream",
     "text": [
      "c1: 0, c2: 123, c3: 0\n",
      "nan 2018-09-03 00:00:00\n",
      "\n"
     ]
    },
    {
     "name": "stderr",
     "output_type": "stream",
     "text": [
      "\r",
      " 72%|█████████████████████████▏         | 1090/1517 [4:50:09<1:24:39, 11.90s/it]"
     ]
    },
    {
     "name": "stdout",
     "output_type": "stream",
     "text": [
      "c1: 0, c2: 187, c3: 0\n",
      "nan 2018-05-13 00:00:00\n",
      "\n"
     ]
    },
    {
     "name": "stderr",
     "output_type": "stream",
     "text": [
      "\r",
      " 72%|█████████████████████████▏         | 1091/1517 [4:50:15<1:13:22, 10.33s/it]"
     ]
    },
    {
     "name": "stdout",
     "output_type": "stream",
     "text": [
      "c1: 62, c2: 12, c3: 0\n",
      "Tropical storm 'Alberto' 2018-05-27 00:00:00\n",
      "\n"
     ]
    },
    {
     "name": "stderr",
     "output_type": "stream",
     "text": [
      "\r",
      " 72%|█████████████████████████▏         | 1092/1517 [4:52:39<5:55:47, 50.23s/it]"
     ]
    },
    {
     "name": "stdout",
     "output_type": "stream",
     "text": [
      "c1: 10214, c2: 22, c3: 0\n",
      "Camp Fire 2018-06-01 00:00:00\n",
      "\n"
     ]
    },
    {
     "name": "stderr",
     "output_type": "stream",
     "text": [
      "\r",
      " 72%|█████████████████████████▏         | 1093/1517 [4:52:56<4:44:25, 40.25s/it]"
     ]
    },
    {
     "name": "stdout",
     "output_type": "stream",
     "text": [
      "c1: 351, c2: 483, c3: 0\n",
      "Woolsey Fire 2018-11-08 00:00:00\n",
      "\n"
     ]
    },
    {
     "name": "stderr",
     "output_type": "stream",
     "text": [
      "\r",
      " 72%|█████████████████████████▏         | 1094/1517 [4:53:01<3:30:40, 29.88s/it]"
     ]
    },
    {
     "name": "stdout",
     "output_type": "stream",
     "text": [
      "c1: 0, c2: 2, c3: 0\n",
      "nan 2018-09-25 00:00:00\n",
      "\n"
     ]
    },
    {
     "name": "stderr",
     "output_type": "stream",
     "text": [
      " 72%|█████████████████████████▎         | 1098/1517 [4:54:36<3:48:11, 32.68s/it]"
     ]
    },
    {
     "name": "stdout",
     "output_type": "stream",
     "text": [
      "c1: 359, c2: 0, c3: 0\n",
      "Ebola 2018-05-08 00:00:00\n",
      "\n"
     ]
    },
    {
     "name": "stderr",
     "output_type": "stream",
     "text": [
      "\r",
      " 72%|███████████████████████▉         | 1099/1517 [5:05:19<25:03:36, 215.83s/it]"
     ]
    },
    {
     "name": "stdout",
     "output_type": "stream",
     "text": [
      "c1: 1257, c2: 58, c3: 0\n",
      "Ebola 2018-08-01 00:00:00\n",
      "\n"
     ]
    },
    {
     "name": "stderr",
     "output_type": "stream",
     "text": [
      "\r",
      " 73%|███████████████████████▉         | 1100/1517 [5:06:44<20:25:40, 176.36s/it]"
     ]
    },
    {
     "name": "stdout",
     "output_type": "stream",
     "text": [
      "c1: 7, c2: 0, c3: 3\n",
      "Typhoid fever 2018-08-07 00:00:00\n",
      "\n"
     ]
    },
    {
     "name": "stderr",
     "output_type": "stream",
     "text": [
      "\r",
      " 73%|███████████████████████▉         | 1101/1517 [5:06:49<14:26:49, 125.02s/it]"
     ]
    },
    {
     "name": "stdout",
     "output_type": "stream",
     "text": [
      "c1: 14, c2: 5, c3: 0\n",
      "Typhoon 'Yutu' (Rosita) 2018-10-25 00:00:00\n",
      "\n"
     ]
    },
    {
     "name": "stderr",
     "output_type": "stream",
     "text": [
      "\r",
      " 73%|████████████████████████▋         | 1102/1517 [5:06:58<10:23:31, 90.15s/it]"
     ]
    },
    {
     "name": "stdout",
     "output_type": "stream",
     "text": [
      "c1: 0, c2: 67, c3: 0\n",
      "nan 2019-02-25 00:00:00\n",
      "\n"
     ]
    },
    {
     "name": "stderr",
     "output_type": "stream",
     "text": [
      "\r",
      " 73%|█████████████████████████▍         | 1104/1517 [5:07:04<5:44:18, 50.02s/it]"
     ]
    },
    {
     "name": "stdout",
     "output_type": "stream",
     "text": [
      "c1: 0, c2: 0, c3: 87\n",
      "Tropical cyclone Lekima (Hanna) 2019-08-10 00:00:00\n",
      "\n"
     ]
    },
    {
     "name": "stderr",
     "output_type": "stream",
     "text": [
      "\r",
      " 73%|█████████████████████████▍         | 1105/1517 [5:07:11<4:30:03, 39.33s/it]"
     ]
    },
    {
     "name": "stdout",
     "output_type": "stream",
     "text": [
      "c1: 0, c2: 110, c3: 0\n",
      "nan 2019-02-23 00:00:00\n",
      "\n"
     ]
    },
    {
     "name": "stderr",
     "output_type": "stream",
     "text": [
      "\r",
      " 73%|█████████████████████████▌         | 1106/1517 [5:07:21<3:36:43, 31.64s/it]"
     ]
    },
    {
     "name": "stdout",
     "output_type": "stream",
     "text": [
      "c1: 0, c2: 1, c3: 0\n",
      "nan 2019-06-04 00:00:00\n",
      "\n"
     ]
    },
    {
     "name": "stderr",
     "output_type": "stream",
     "text": [
      "\r",
      " 73%|█████████████████████████▌         | 1107/1517 [5:07:25<2:45:43, 24.25s/it]"
     ]
    },
    {
     "name": "stdout",
     "output_type": "stream",
     "text": [
      "c1: 0, c2: 9, c3: 0\n",
      "nan 2019-01-18 00:00:00\n",
      "\n"
     ]
    },
    {
     "name": "stderr",
     "output_type": "stream",
     "text": [
      "\r",
      " 73%|█████████████████████████▌         | 1108/1517 [5:07:30<2:07:14, 18.67s/it]"
     ]
    },
    {
     "name": "stdout",
     "output_type": "stream",
     "text": [
      "c1: 0, c2: 0, c3: 1\n",
      "nan 2019-05-30 00:00:00\n",
      "\n"
     ]
    },
    {
     "name": "stderr",
     "output_type": "stream",
     "text": [
      " 73%|█████████████████████████▌         | 1110/1517 [5:07:50<1:36:21, 14.20s/it]"
     ]
    },
    {
     "name": "stdout",
     "output_type": "stream",
     "text": [
      "c1: 0, c2: 13, c3: 0\n",
      "nan 2019-02-26 00:00:00\n",
      "\n"
     ]
    },
    {
     "name": "stderr",
     "output_type": "stream",
     "text": [
      " 73%|█████████████████████████▋         | 1112/1517 [5:08:03<1:10:09, 10.39s/it]"
     ]
    },
    {
     "name": "stdout",
     "output_type": "stream",
     "text": [
      "c1: 0, c2: 7, c3: 8\n",
      "nan 2019-04-21 00:00:00\n",
      "\n"
     ]
    },
    {
     "name": "stderr",
     "output_type": "stream",
     "text": [
      " 73%|███████████████████████████▏         | 1114/1517 [5:08:15<54:21,  8.09s/it]"
     ]
    },
    {
     "name": "stdout",
     "output_type": "stream",
     "text": [
      "c1: 0, c2: 0, c3: 7\n",
      "nan 2019-07-23 00:00:00\n",
      "\n"
     ]
    },
    {
     "name": "stderr",
     "output_type": "stream",
     "text": [
      "\r",
      " 74%|███████████████████████████▏         | 1115/1517 [5:08:22<51:34,  7.70s/it]"
     ]
    },
    {
     "name": "stdout",
     "output_type": "stream",
     "text": [
      "c1: 0, c2: 0, c3: 16\n",
      "nan 2019-11-16 00:00:00\n",
      "\n"
     ]
    },
    {
     "name": "stderr",
     "output_type": "stream",
     "text": [
      "\r",
      " 74%|███████████████████████████▏         | 1116/1517 [5:08:28<48:36,  7.27s/it]"
     ]
    },
    {
     "name": "stdout",
     "output_type": "stream",
     "text": [
      "c1: 0, c2: 0, c3: 17\n",
      "nan 2019-11-25 00:00:00\n",
      "\n"
     ]
    },
    {
     "name": "stderr",
     "output_type": "stream",
     "text": [
      "\r",
      " 74%|█████████████████████████▊         | 1117/1517 [5:08:42<1:02:23,  9.36s/it]"
     ]
    },
    {
     "name": "stdout",
     "output_type": "stream",
     "text": [
      "c1: 0, c2: 128, c3: 77\n",
      "nan 2019-10-15 00:00:00\n",
      "\n"
     ]
    },
    {
     "name": "stderr",
     "output_type": "stream",
     "text": [
      "\r",
      " 74%|█████████████████████████▊         | 1118/1517 [5:08:54<1:07:12, 10.11s/it]"
     ]
    },
    {
     "name": "stdout",
     "output_type": "stream",
     "text": [
      "c1: 0, c2: 418, c3: 0\n",
      "nan 2019-11-21 00:00:00\n",
      "\n"
     ]
    },
    {
     "name": "stderr",
     "output_type": "stream",
     "text": [
      "\r",
      " 74%|███████████████████████████▎         | 1119/1517 [5:09:00<58:56,  8.89s/it]"
     ]
    },
    {
     "name": "stdout",
     "output_type": "stream",
     "text": [
      "c1: 0, c2: 67, c3: 0\n",
      "nan 2019-04-13 00:00:00\n",
      "\n"
     ]
    },
    {
     "name": "stderr",
     "output_type": "stream",
     "text": [
      "\r",
      " 74%|█████████████████████████▊         | 1120/1517 [5:09:10<1:01:49,  9.34s/it]"
     ]
    },
    {
     "name": "stdout",
     "output_type": "stream",
     "text": [
      "c1: 0, c2: 56, c3: 0\n",
      "nan 2019-05-23 00:00:00\n",
      "\n"
     ]
    },
    {
     "name": "stderr",
     "output_type": "stream",
     "text": [
      "\r",
      " 74%|█████████████████████████▊         | 1121/1517 [5:09:30<1:21:40, 12.37s/it]"
     ]
    },
    {
     "name": "stdout",
     "output_type": "stream",
     "text": [
      "c1: 0, c2: 285, c3: 0\n",
      "nan 2019-03-14 00:00:00\n",
      "\n"
     ]
    },
    {
     "name": "stderr",
     "output_type": "stream",
     "text": [
      "\r",
      " 74%|█████████████████████████▉         | 1122/1517 [5:09:36<1:10:07, 10.65s/it]"
     ]
    },
    {
     "name": "stdout",
     "output_type": "stream",
     "text": [
      "c1: 0, c2: 0, c3: 11\n",
      "nan 2019-03-08 00:00:00\n",
      "\n"
     ]
    },
    {
     "name": "stderr",
     "output_type": "stream",
     "text": [
      "\r",
      " 74%|█████████████████████████▉         | 1123/1517 [5:09:46<1:08:23, 10.42s/it]"
     ]
    },
    {
     "name": "stdout",
     "output_type": "stream",
     "text": [
      "c1: 0, c2: 293, c3: 0\n",
      "FL-2019-000131 2019-10-11 00:00:00\n",
      "\n"
     ]
    },
    {
     "name": "stderr",
     "output_type": "stream",
     "text": [
      "\r",
      " 74%|███████████████████████████▍         | 1124/1517 [5:09:51<57:31,  8.78s/it]"
     ]
    },
    {
     "name": "stdout",
     "output_type": "stream",
     "text": [
      "c1: 0, c2: 5, c3: 0\n",
      "nan 2019-01-29 00:00:00\n",
      "\n"
     ]
    },
    {
     "name": "stderr",
     "output_type": "stream",
     "text": [
      "\r",
      " 74%|███████████████████████████▍         | 1125/1517 [5:09:57<51:47,  7.93s/it]"
     ]
    },
    {
     "name": "stdout",
     "output_type": "stream",
     "text": [
      "c1: 0, c2: 31, c3: 0\n",
      "nan 2019-04-24 00:00:00\n",
      "\n"
     ]
    },
    {
     "name": "stderr",
     "output_type": "stream",
     "text": [
      "\r",
      " 74%|███████████████████████████▍         | 1126/1517 [5:10:07<55:49,  8.57s/it]"
     ]
    },
    {
     "name": "stdout",
     "output_type": "stream",
     "text": [
      "c1: 53, c2: 280, c3: 0\n",
      "Cyclone 'Idai' 2019-03-14 00:00:00\n",
      "\n"
     ]
    },
    {
     "name": "stderr",
     "output_type": "stream",
     "text": [
      "\r",
      " 74%|███████████████████████████▍         | 1127/1517 [5:10:15<54:17,  8.35s/it]"
     ]
    },
    {
     "name": "stdout",
     "output_type": "stream",
     "text": [
      "c1: 0, c2: 1, c3: 14\n",
      "nan 2019-10-31 00:00:00\n",
      "\n"
     ]
    },
    {
     "name": "stderr",
     "output_type": "stream",
     "text": [
      "\r",
      " 74%|███████████████████████████▌         | 1128/1517 [5:10:22<51:15,  7.91s/it]"
     ]
    },
    {
     "name": "stdout",
     "output_type": "stream",
     "text": [
      "c1: 0, c2: 211, c3: 0\n",
      "nan 2019-01-11 00:00:00\n",
      "\n"
     ]
    },
    {
     "name": "stderr",
     "output_type": "stream",
     "text": [
      "\r",
      " 74%|███████████████████████████▌         | 1129/1517 [5:10:27<45:10,  6.99s/it]"
     ]
    },
    {
     "name": "stdout",
     "output_type": "stream",
     "text": [
      "c1: 0, c2: 0, c3: 4\n",
      "nan 2019-01-27 00:00:00\n",
      "\n"
     ]
    },
    {
     "name": "stderr",
     "output_type": "stream",
     "text": [
      "\r",
      " 74%|███████████████████████████▌         | 1130/1517 [5:10:33<43:21,  6.72s/it]"
     ]
    },
    {
     "name": "stdout",
     "output_type": "stream",
     "text": [
      "c1: 0, c2: 0, c3: 6\n",
      "nan 2019-05-22 00:00:00\n",
      "\n"
     ]
    },
    {
     "name": "stderr",
     "output_type": "stream",
     "text": [
      " 75%|███████████████████████████▋         | 1133/1517 [5:10:54<40:55,  6.39s/it]"
     ]
    },
    {
     "name": "stdout",
     "output_type": "stream",
     "text": [
      "c1: 0, c2: 6, c3: 4\n",
      "Tropical cylone 'Pabuk' 2019-01-04 00:00:00\n",
      "\n"
     ]
    },
    {
     "name": "stderr",
     "output_type": "stream",
     "text": [
      "\r",
      " 75%|███████████████████████████▋         | 1134/1517 [5:11:00<41:20,  6.48s/it]"
     ]
    },
    {
     "name": "stdout",
     "output_type": "stream",
     "text": [
      "c1: 0, c2: 0, c3: 3\n",
      "nan 2019-06-18 00:00:00\n",
      "\n"
     ]
    },
    {
     "name": "stderr",
     "output_type": "stream",
     "text": [
      "\r",
      " 75%|███████████████████████████▋         | 1135/1517 [5:11:05<38:19,  6.02s/it]"
     ]
    },
    {
     "name": "stdout",
     "output_type": "stream",
     "text": [
      "c1: 25, c2: 0, c3: 0\n",
      "Cyclone 'Kenneth' 2019-04-26 00:00:00\n",
      "\n"
     ]
    },
    {
     "name": "stderr",
     "output_type": "stream",
     "text": [
      "\r",
      " 75%|███████████████████████████▋         | 1136/1517 [5:11:14<42:59,  6.77s/it]"
     ]
    },
    {
     "name": "stdout",
     "output_type": "stream",
     "text": [
      "c1: 0, c2: 1, c3: 0\n",
      "nan 2019-05-13 00:00:00\n",
      "\n"
     ]
    },
    {
     "name": "stderr",
     "output_type": "stream",
     "text": [
      "\r",
      " 75%|███████████████████████████▋         | 1137/1517 [5:11:19<39:52,  6.30s/it]"
     ]
    },
    {
     "name": "stdout",
     "output_type": "stream",
     "text": [
      "c1: 0, c2: 0, c3: 3\n",
      "nan 2019-04-22 00:00:00\n",
      "\n"
     ]
    },
    {
     "name": "stderr",
     "output_type": "stream",
     "text": [
      " 75%|███████████████████████████▊         | 1139/1517 [5:11:36<49:03,  7.79s/it]"
     ]
    },
    {
     "name": "stdout",
     "output_type": "stream",
     "text": [
      "c1: 0, c2: 26, c3: 1\n",
      "nan 2019-01-10 00:00:00\n",
      "\n"
     ]
    },
    {
     "name": "stderr",
     "output_type": "stream",
     "text": [
      "\r",
      " 75%|██████████████████████████▎        | 1140/1517 [5:11:51<1:01:24,  9.77s/it]"
     ]
    },
    {
     "name": "stdout",
     "output_type": "stream",
     "text": [
      "c1: 0, c2: 44, c3: 0\n",
      "nan 2019-06-11 00:00:00\n",
      "\n"
     ]
    },
    {
     "name": "stderr",
     "output_type": "stream",
     "text": [
      "\r",
      " 75%|███████████████████████████▊         | 1141/1517 [5:11:56<53:16,  8.50s/it]"
     ]
    },
    {
     "name": "stdout",
     "output_type": "stream",
     "text": [
      "c1: 0, c2: 407, c3: 0\n",
      "nan 2019-03-03 00:00:00\n",
      "\n"
     ]
    },
    {
     "name": "stderr",
     "output_type": "stream",
     "text": [
      "\r",
      " 75%|███████████████████████████▊         | 1142/1517 [5:12:01<45:49,  7.33s/it]"
     ]
    },
    {
     "name": "stdout",
     "output_type": "stream",
     "text": [
      "c1: 0, c2: 59, c3: 0\n",
      "nan 2019-07-05 00:00:00\n",
      "\n"
     ]
    },
    {
     "name": "stderr",
     "output_type": "stream",
     "text": [
      "\r",
      " 75%|███████████████████████████▉         | 1143/1517 [5:12:08<45:51,  7.36s/it]"
     ]
    },
    {
     "name": "stdout",
     "output_type": "stream",
     "text": [
      "c1: 0, c2: 6, c3: 0\n",
      "nan 2019-06-06 00:00:00\n",
      "\n"
     ]
    },
    {
     "name": "stderr",
     "output_type": "stream",
     "text": [
      "\r",
      " 75%|███████████████████████████▉         | 1144/1517 [5:12:20<53:34,  8.62s/it]"
     ]
    },
    {
     "name": "stdout",
     "output_type": "stream",
     "text": [
      "c1: 0, c2: 20, c3: 0\n",
      "nan 2019-06-11 00:00:00\n",
      "\n"
     ]
    },
    {
     "name": "stderr",
     "output_type": "stream",
     "text": [
      "\r",
      " 75%|██████████████████████████▍        | 1145/1517 [5:14:48<5:12:14, 50.36s/it]"
     ]
    },
    {
     "name": "stdout",
     "output_type": "stream",
     "text": [
      "c1: 147, c2: 61, c3: 16\n",
      "Cholera 2019-01-01 00:00:00\n",
      "\n"
     ]
    },
    {
     "name": "stderr",
     "output_type": "stream",
     "text": [
      "\r",
      " 76%|██████████████████████████▍        | 1146/1517 [5:14:57<3:54:16, 37.89s/it]"
     ]
    },
    {
     "name": "stdout",
     "output_type": "stream",
     "text": [
      "c1: 0, c2: 0, c3: 6\n",
      "nan 2019-05-17 00:00:00\n",
      "\n"
     ]
    },
    {
     "name": "stderr",
     "output_type": "stream",
     "text": [
      "\r",
      " 76%|██████████████████████████▍        | 1147/1517 [5:15:00<2:50:37, 27.67s/it]"
     ]
    },
    {
     "name": "stdout",
     "output_type": "stream",
     "text": [
      "c1: 0, c2: 0, c3: 1\n",
      "nan 2019-05-02 00:00:00\n",
      "\n"
     ]
    },
    {
     "name": "stderr",
     "output_type": "stream",
     "text": [
      " 76%|██████████████████████████▌        | 1149/1517 [5:15:23<2:02:31, 19.98s/it]"
     ]
    },
    {
     "name": "stdout",
     "output_type": "stream",
     "text": [
      "c1: 0, c2: 0, c3: 1\n",
      "nan 2019-01-01 00:00:00\n",
      "\n"
     ]
    },
    {
     "name": "stderr",
     "output_type": "stream",
     "text": [
      "\r",
      " 76%|██████████████████████████▌        | 1150/1517 [5:15:31<1:39:49, 16.32s/it]"
     ]
    },
    {
     "name": "stdout",
     "output_type": "stream",
     "text": [
      "c1: 0, c2: 0, c3: 7\n",
      "nan 2019-02-11 00:00:00\n",
      "\n"
     ]
    },
    {
     "name": "stderr",
     "output_type": "stream",
     "text": [
      "\r",
      " 76%|██████████████████████████▌        | 1151/1517 [5:15:47<1:39:10, 16.26s/it]"
     ]
    },
    {
     "name": "stdout",
     "output_type": "stream",
     "text": [
      "c1: 0, c2: 1, c3: 5\n",
      "nan 2019-06-02 00:00:00\n",
      "\n"
     ]
    },
    {
     "name": "stderr",
     "output_type": "stream",
     "text": [
      "\r",
      " 76%|██████████████████████████▌        | 1152/1517 [5:16:01<1:34:29, 15.53s/it]"
     ]
    },
    {
     "name": "stdout",
     "output_type": "stream",
     "text": [
      "c1: 0, c2: 63, c3: 1\n",
      "nan 2019-06-05 00:00:00\n",
      "\n"
     ]
    },
    {
     "name": "stderr",
     "output_type": "stream",
     "text": [
      " 76%|██████████████████████████▌        | 1154/1517 [5:16:11<1:00:57, 10.08s/it]"
     ]
    },
    {
     "name": "stdout",
     "output_type": "stream",
     "text": [
      "c1: 0, c2: 0, c3: 4\n",
      "nan 2019-12-11 00:00:00\n",
      "\n"
     ]
    },
    {
     "name": "stderr",
     "output_type": "stream",
     "text": [
      "\r",
      " 76%|████████████████████████████▏        | 1155/1517 [5:16:16<52:35,  8.72s/it]"
     ]
    },
    {
     "name": "stdout",
     "output_type": "stream",
     "text": [
      "c1: 0, c2: 1, c3: 0\n",
      "nan 2019-09-21 00:00:00\n",
      "\n"
     ]
    },
    {
     "name": "stderr",
     "output_type": "stream",
     "text": [
      "\r",
      " 76%|████████████████████████████▏        | 1156/1517 [5:16:21<44:48,  7.45s/it]"
     ]
    },
    {
     "name": "stdout",
     "output_type": "stream",
     "text": [
      "c1: 0, c2: 1, c3: 34\n",
      "nan 2019-11-26 00:00:00\n",
      "\n"
     ]
    },
    {
     "name": "stderr",
     "output_type": "stream",
     "text": [
      "\r",
      " 76%|████████████████████████████▏        | 1157/1517 [5:16:27<42:32,  7.09s/it]"
     ]
    },
    {
     "name": "stdout",
     "output_type": "stream",
     "text": [
      "c1: 0, c2: 0, c3: 3\n",
      "nan 2019-07-24 00:00:00\n",
      "\n"
     ]
    },
    {
     "name": "stderr",
     "output_type": "stream",
     "text": [
      "\r",
      " 76%|████████████████████████████▏        | 1158/1517 [5:16:33<40:19,  6.74s/it]"
     ]
    },
    {
     "name": "stdout",
     "output_type": "stream",
     "text": [
      "c1: 0, c2: 0, c3: 1\n",
      "nan 2019-12-05 00:00:00\n",
      "\n"
     ]
    },
    {
     "name": "stderr",
     "output_type": "stream",
     "text": [
      "\r",
      " 76%|████████████████████████████▎        | 1159/1517 [5:16:43<45:19,  7.60s/it]"
     ]
    },
    {
     "name": "stdout",
     "output_type": "stream",
     "text": [
      "c1: 0, c2: 0, c3: 22\n",
      "nan 2019-07-19 00:00:00\n",
      "\n"
     ]
    },
    {
     "name": "stderr",
     "output_type": "stream",
     "text": [
      "\r",
      " 76%|████████████████████████████▎        | 1160/1517 [5:16:50<45:22,  7.62s/it]"
     ]
    },
    {
     "name": "stdout",
     "output_type": "stream",
     "text": [
      "c1: 0, c2: 0, c3: 1\n",
      "nan 2019-08-23 00:00:00\n",
      "\n"
     ]
    },
    {
     "name": "stderr",
     "output_type": "stream",
     "text": [
      "\r",
      " 77%|██████████████████████████        | 1161/1517 [5:22:06<9:53:40, 100.06s/it]"
     ]
    },
    {
     "name": "stdout",
     "output_type": "stream",
     "text": [
      "c1: 133, c2: 0, c3: 4\n",
      "Meningitis 2019-01-06 00:00:00\n",
      "\n"
     ]
    },
    {
     "name": "stderr",
     "output_type": "stream",
     "text": [
      "\r",
      " 77%|██████████████████████████▊        | 1162/1517 [5:22:15<7:10:36, 72.78s/it]"
     ]
    },
    {
     "name": "stdout",
     "output_type": "stream",
     "text": [
      "c1: 7, c2: 0, c3: 4\n",
      "Tropical cyclone 'Bulbul' 2019-11-09 00:00:00\n",
      "\n"
     ]
    },
    {
     "name": "stderr",
     "output_type": "stream",
     "text": [
      "\r",
      " 77%|██████████████████████████▊        | 1163/1517 [5:22:24<5:15:54, 53.55s/it]"
     ]
    },
    {
     "name": "stdout",
     "output_type": "stream",
     "text": [
      "c1: 36, c2: 224, c3: 0\n",
      "Tropical cyclone 'Dorian' 2019-09-01 00:00:00\n",
      "\n"
     ]
    },
    {
     "name": "stderr",
     "output_type": "stream",
     "text": [
      "\r",
      " 77%|██████████████████████████▊        | 1164/1517 [5:22:33<3:56:20, 40.17s/it]"
     ]
    },
    {
     "name": "stdout",
     "output_type": "stream",
     "text": [
      "c1: 1, c2: 0, c3: 0\n",
      "Ubinas 2019-07-19 00:00:00\n",
      "\n"
     ]
    },
    {
     "name": "stderr",
     "output_type": "stream",
     "text": [
      "\r",
      " 77%|█████████████████████████▎       | 1165/1517 [5:29:31<15:01:43, 153.70s/it]"
     ]
    },
    {
     "name": "stdout",
     "output_type": "stream",
     "text": [
      "c1: 1628, c2: 0, c3: 11\n",
      "Measles 2019-01-01 00:00:00\n",
      "\n"
     ]
    },
    {
     "name": "stderr",
     "output_type": "stream",
     "text": [
      "\r",
      " 77%|█████████████████████████▎       | 1166/1517 [5:29:36<10:37:09, 108.92s/it]"
     ]
    },
    {
     "name": "stdout",
     "output_type": "stream",
     "text": [
      "c1: 0, c2: 1, c3: 1\n",
      "nan 2019-12-24 00:00:00\n",
      "\n"
     ]
    },
    {
     "name": "stderr",
     "output_type": "stream",
     "text": [
      "\r",
      " 77%|██████████████████████████▉        | 1167/1517 [5:29:41<7:34:00, 77.83s/it]"
     ]
    },
    {
     "name": "stdout",
     "output_type": "stream",
     "text": [
      "c1: 0, c2: 0, c3: 5\n",
      "nan 2019-09-08 00:00:00\n",
      "\n"
     ]
    },
    {
     "name": "stderr",
     "output_type": "stream",
     "text": [
      "\r",
      " 77%|██████████████████████████▉        | 1168/1517 [5:29:46<5:25:30, 55.96s/it]"
     ]
    },
    {
     "name": "stdout",
     "output_type": "stream",
     "text": [
      "c1: 0, c2: 0, c3: 75\n",
      "nan 2019-08-04 00:00:00\n",
      "\n"
     ]
    },
    {
     "name": "stderr",
     "output_type": "stream",
     "text": [
      "\r",
      " 77%|██████████████████████████▉        | 1169/1517 [5:29:53<3:59:52, 41.36s/it]"
     ]
    },
    {
     "name": "stdout",
     "output_type": "stream",
     "text": [
      "c1: 0, c2: 0, c3: 107\n",
      "nan 2019-07-29 00:00:00\n",
      "\n"
     ]
    },
    {
     "name": "stderr",
     "output_type": "stream",
     "text": [
      "\r",
      " 77%|██████████████████████████▉        | 1170/1517 [5:29:58<2:56:29, 30.52s/it]"
     ]
    },
    {
     "name": "stdout",
     "output_type": "stream",
     "text": [
      "c1: 0, c2: 0, c3: 4\n",
      "nan 2019-07-23 00:00:00\n",
      "\n"
     ]
    },
    {
     "name": "stderr",
     "output_type": "stream",
     "text": [
      "\r",
      " 77%|███████████████████████████        | 1171/1517 [5:30:08<2:18:52, 24.08s/it]"
     ]
    },
    {
     "name": "stdout",
     "output_type": "stream",
     "text": [
      "c1: 0, c2: 0, c3: 102\n",
      "Tropical cyclone 'Lingling' 2019-09-05 00:00:00\n",
      "\n"
     ]
    },
    {
     "name": "stderr",
     "output_type": "stream",
     "text": [
      "\r",
      " 77%|███████████████████████████        | 1172/1517 [5:30:14<1:47:42, 18.73s/it]"
     ]
    },
    {
     "name": "stdout",
     "output_type": "stream",
     "text": [
      "c1: 0, c2: 0, c3: 120\n",
      "Tropical cyclone 'Mitag' 2019-10-02 00:00:00\n",
      "\n"
     ]
    },
    {
     "name": "stderr",
     "output_type": "stream",
     "text": [
      "\r",
      " 77%|███████████████████████████        | 1173/1517 [5:30:19<1:24:42, 14.78s/it]"
     ]
    },
    {
     "name": "stdout",
     "output_type": "stream",
     "text": [
      "c1: 0, c2: 0, c3: 4\n",
      "nan 2019-08-19 00:00:00\n",
      "\n"
     ]
    },
    {
     "name": "stderr",
     "output_type": "stream",
     "text": [
      "\r",
      " 77%|███████████████████████████        | 1174/1517 [5:30:25<1:08:27, 11.98s/it]"
     ]
    },
    {
     "name": "stdout",
     "output_type": "stream",
     "text": [
      "c1: 0, c2: 1, c3: 1\n",
      "nan 2019-10-28 00:00:00\n",
      "\n"
     ]
    },
    {
     "name": "stderr",
     "output_type": "stream",
     "text": [
      " 78%|███████████████████████████▏       | 1176/1517 [5:30:53<1:16:40, 13.49s/it]"
     ]
    },
    {
     "name": "stdout",
     "output_type": "stream",
     "text": [
      "c1: 0, c2: 0, c3: 12\n",
      "nan 2019-10-27 00:00:00\n",
      "\n"
     ]
    },
    {
     "name": "stderr",
     "output_type": "stream",
     "text": [
      "\r",
      " 78%|███████████████████████████▏       | 1177/1517 [5:31:00<1:06:27, 11.73s/it]"
     ]
    },
    {
     "name": "stdout",
     "output_type": "stream",
     "text": [
      "c1: 0, c2: 0, c3: 4\n",
      "nan 2019-12-06 00:00:00\n",
      "\n"
     ]
    },
    {
     "name": "stderr",
     "output_type": "stream",
     "text": [
      "\r",
      " 78%|████████████████████████████▋        | 1178/1517 [5:31:03<50:24,  8.92s/it]"
     ]
    },
    {
     "name": "stdout",
     "output_type": "stream",
     "text": [
      "c1: 0, c2: 0, c3: 1\n",
      "nan 2019-12-26 00:00:00\n",
      "\n"
     ]
    },
    {
     "name": "stderr",
     "output_type": "stream",
     "text": [
      " 78%|████████████████████████████▊        | 1180/1517 [5:31:17<44:03,  7.84s/it]"
     ]
    },
    {
     "name": "stdout",
     "output_type": "stream",
     "text": [
      "c1: 0, c2: 0, c3: 23\n",
      "nan 2019-07-24 00:00:00\n",
      "\n"
     ]
    },
    {
     "name": "stderr",
     "output_type": "stream",
     "text": [
      "\r",
      " 78%|████████████████████████████▊        | 1181/1517 [5:31:23<42:05,  7.52s/it]"
     ]
    },
    {
     "name": "stdout",
     "output_type": "stream",
     "text": [
      "c1: 1, c2: 0, c3: 0\n",
      "Dengue 2019-09-30 00:00:00\n",
      "\n"
     ]
    },
    {
     "name": "stderr",
     "output_type": "stream",
     "text": [
      "\r",
      " 78%|████████████████████████████▊        | 1182/1517 [5:31:28<37:22,  6.69s/it]"
     ]
    },
    {
     "name": "stdout",
     "output_type": "stream",
     "text": [
      "c1: 0, c2: 1, c3: 2\n",
      "nan 2019-02-22 00:00:00\n",
      "\n"
     ]
    },
    {
     "name": "stderr",
     "output_type": "stream",
     "text": [
      "\r",
      " 78%|████████████████████████████▊        | 1183/1517 [5:31:41<47:42,  8.57s/it]"
     ]
    },
    {
     "name": "stdout",
     "output_type": "stream",
     "text": [
      "c1: 0, c2: 6, c3: 24\n",
      "nan 2020-01-17 00:00:00\n",
      "\n"
     ]
    },
    {
     "name": "stderr",
     "output_type": "stream",
     "text": [
      "\r",
      " 78%|████████████████████████████▉        | 1184/1517 [5:31:47<43:08,  7.77s/it]"
     ]
    },
    {
     "name": "stdout",
     "output_type": "stream",
     "text": [
      "c1: 0, c2: 19, c3: 42\n",
      "nan 2020-01-19 00:00:00\n",
      "\n"
     ]
    },
    {
     "name": "stderr",
     "output_type": "stream",
     "text": [
      "\r",
      " 78%|████████████████████████████▉        | 1185/1517 [5:31:56<45:14,  8.18s/it]"
     ]
    },
    {
     "name": "stdout",
     "output_type": "stream",
     "text": [
      "c1: 0, c2: 2, c3: 8\n",
      "nan 2020-01-12 00:00:00\n",
      "\n"
     ]
    },
    {
     "name": "stderr",
     "output_type": "stream",
     "text": [
      "\r",
      " 78%|████████████████████████████▉        | 1186/1517 [5:32:02<41:41,  7.56s/it]"
     ]
    },
    {
     "name": "stdout",
     "output_type": "stream",
     "text": [
      "c1: 0, c2: 1, c3: 0\n",
      "nan 2020-02-13 00:00:00\n",
      "\n"
     ]
    },
    {
     "name": "stderr",
     "output_type": "stream",
     "text": [
      "\r",
      " 78%|███████████████████████████▍       | 1187/1517 [5:32:30<1:15:20, 13.70s/it]"
     ]
    },
    {
     "name": "stdout",
     "output_type": "stream",
     "text": [
      "c1: 0, c2: 10, c3: 0\n",
      "nan 2020-02-08 00:00:00\n",
      "\n"
     ]
    },
    {
     "name": "stderr",
     "output_type": "stream",
     "text": [
      "\r",
      " 78%|███████████████████████████▍       | 1188/1517 [5:32:37<1:03:48, 11.64s/it]"
     ]
    },
    {
     "name": "stdout",
     "output_type": "stream",
     "text": [
      "c1: 0, c2: 0, c3: 10\n",
      "nan 2020-02-09 00:00:00\n",
      "\n"
     ]
    },
    {
     "name": "stderr",
     "output_type": "stream",
     "text": [
      "\r",
      " 78%|█████████████████████████████        | 1189/1517 [5:32:44<55:15, 10.11s/it]"
     ]
    },
    {
     "name": "stdout",
     "output_type": "stream",
     "text": [
      "c1: 0, c2: 0, c3: 13\n",
      "nan 2020-02-29 00:00:00\n",
      "\n"
     ]
    },
    {
     "name": "stderr",
     "output_type": "stream",
     "text": [
      "\r",
      " 78%|█████████████████████████████        | 1190/1517 [5:32:52<51:34,  9.46s/it]"
     ]
    },
    {
     "name": "stdout",
     "output_type": "stream",
     "text": [
      "c1: 0, c2: 1, c3: 12\n",
      "nan 2020-03-02 00:00:00\n",
      "\n"
     ]
    },
    {
     "name": "stderr",
     "output_type": "stream",
     "text": [
      " 79%|█████████████████████████████        | 1192/1517 [5:33:10<51:01,  9.42s/it]"
     ]
    },
    {
     "name": "stdout",
     "output_type": "stream",
     "text": [
      "c1: 0, c2: 24, c3: 42\n",
      "nan 2020-02-04 00:00:00\n",
      "\n"
     ]
    },
    {
     "name": "stderr",
     "output_type": "stream",
     "text": [
      "\r",
      " 79%|█████████████████████████████        | 1193/1517 [5:33:16<46:08,  8.55s/it]"
     ]
    },
    {
     "name": "stdout",
     "output_type": "stream",
     "text": [
      "c1: 0, c2: 0, c3: 1\n",
      "nan 2020-01-15 00:00:00\n",
      "\n"
     ]
    },
    {
     "name": "stderr",
     "output_type": "stream",
     "text": [
      " 79%|█████████████████████████████▏       | 1196/1517 [5:33:35<31:27,  5.88s/it]"
     ]
    },
    {
     "name": "stdout",
     "output_type": "stream",
     "text": [
      "c1: 0, c2: 0, c3: 1\n",
      "nan 2020-03-28 00:00:00\n",
      "\n"
     ]
    },
    {
     "name": "stderr",
     "output_type": "stream",
     "text": [
      " 79%|█████████████████████████████▏       | 1198/1517 [5:33:50<37:13,  7.00s/it]"
     ]
    },
    {
     "name": "stdout",
     "output_type": "stream",
     "text": [
      "c1: 0, c2: 0, c3: 1\n",
      "nan 2020-03-16 00:00:00\n",
      "\n"
     ]
    },
    {
     "name": "stderr",
     "output_type": "stream",
     "text": [
      "\r",
      " 79%|█████████████████████████████▏       | 1199/1517 [5:34:02<44:43,  8.44s/it]"
     ]
    },
    {
     "name": "stdout",
     "output_type": "stream",
     "text": [
      "c1: 0, c2: 2, c3: 2\n",
      "nan 2020-02-11 00:00:00\n",
      "\n"
     ]
    },
    {
     "name": "stderr",
     "output_type": "stream",
     "text": [
      " 79%|█████████████████████████████▎       | 1201/1517 [5:34:27<52:53, 10.04s/it]"
     ]
    },
    {
     "name": "stdout",
     "output_type": "stream",
     "text": [
      "c1: 30, c2: 0, c3: 2\n",
      "Storm 'Ciara' (Sabine) 2020-02-09 00:00:00\n",
      "\n"
     ]
    },
    {
     "name": "stderr",
     "output_type": "stream",
     "text": [
      "\r",
      " 79%|█████████████████████████████▎       | 1202/1517 [5:34:28<38:02,  7.25s/it]"
     ]
    },
    {
     "name": "stdout",
     "output_type": "stream",
     "text": [
      "c1: 0, c2: 0, c3: 5\n",
      "nan 2020-03-30 00:00:00\n",
      "\n"
     ]
    },
    {
     "name": "stderr",
     "output_type": "stream",
     "text": [
      "\r",
      " 79%|█████████████████████████████▎       | 1203/1517 [5:34:37<41:41,  7.97s/it]"
     ]
    },
    {
     "name": "stdout",
     "output_type": "stream",
     "text": [
      "c1: 28, c2: 5, c3: 0\n",
      "Storm 'Ciara' (Sabine) 2020-02-07 00:00:00\n",
      "\n"
     ]
    },
    {
     "name": "stderr",
     "output_type": "stream",
     "text": [
      "\r",
      " 79%|█████████████████████████████▎       | 1204/1517 [5:34:46<42:01,  8.06s/it]"
     ]
    },
    {
     "name": "stdout",
     "output_type": "stream",
     "text": [
      "c1: 30, c2: 4, c3: 21\n",
      "Storm 'Ciara' (Sabine) 2020-02-09 00:00:00\n",
      "\n"
     ]
    },
    {
     "name": "stderr",
     "output_type": "stream",
     "text": [
      " 79%|█████████████████████████████▍       | 1206/1517 [5:34:58<35:56,  6.93s/it]"
     ]
    },
    {
     "name": "stdout",
     "output_type": "stream",
     "text": [
      "c1: 0, c2: 0, c3: 8\n",
      "nan 2019-11-23 00:00:00\n",
      "\n"
     ]
    },
    {
     "name": "stderr",
     "output_type": "stream",
     "text": [
      " 80%|█████████████████████████████▍       | 1208/1517 [5:35:17<45:12,  8.78s/it]"
     ]
    },
    {
     "name": "stdout",
     "output_type": "stream",
     "text": [
      "c1: 0, c2: 0, c3: 18\n",
      "Storm 'Amelie' 2019-10-28 00:00:00\n",
      "\n"
     ]
    },
    {
     "name": "stderr",
     "output_type": "stream",
     "text": [
      " 80%|█████████████████████████████▌       | 1210/1517 [5:35:36<48:01,  9.39s/it]"
     ]
    },
    {
     "name": "stdout",
     "output_type": "stream",
     "text": [
      "c1: 0, c2: 17, c3: 23\n",
      "nan 2019-11-12 00:00:00\n",
      "\n"
     ]
    },
    {
     "name": "stderr",
     "output_type": "stream",
     "text": [
      "\r",
      " 80%|█████████████████████████████▌       | 1211/1517 [5:35:45<47:48,  9.38s/it]"
     ]
    },
    {
     "name": "stdout",
     "output_type": "stream",
     "text": [
      "c1: 0, c2: 14, c3: 0\n",
      "Cyclone 'Belna' 2019-12-09 00:00:00\n",
      "\n"
     ]
    },
    {
     "name": "stderr",
     "output_type": "stream",
     "text": [
      "\r",
      " 80%|█████████████████████████████▌       | 1212/1517 [5:35:56<49:32,  9.75s/it]"
     ]
    },
    {
     "name": "stdout",
     "output_type": "stream",
     "text": [
      "c1: 0, c2: 1, c3: 0\n",
      "nan 2019-08-17 00:00:00\n",
      "\n"
     ]
    },
    {
     "name": "stderr",
     "output_type": "stream",
     "text": [
      "\r",
      " 80%|█████████████████████████████▌       | 1213/1517 [5:36:03<45:06,  8.90s/it]"
     ]
    },
    {
     "name": "stdout",
     "output_type": "stream",
     "text": [
      "c1: 0, c2: 7, c3: 3\n",
      "nan 2019-10-22 00:00:00\n",
      "\n"
     ]
    },
    {
     "name": "stderr",
     "output_type": "stream",
     "text": [
      "\r",
      " 80%|█████████████████████████████▌       | 1214/1517 [5:36:09<41:07,  8.14s/it]"
     ]
    },
    {
     "name": "stdout",
     "output_type": "stream",
     "text": [
      "c1: 0, c2: 68, c3: 8\n",
      "nan 2019-11-30 00:00:00\n",
      "\n"
     ]
    },
    {
     "name": "stderr",
     "output_type": "stream",
     "text": [
      "\r",
      " 80%|█████████████████████████████▋       | 1215/1517 [5:36:17<40:32,  8.05s/it]"
     ]
    },
    {
     "name": "stdout",
     "output_type": "stream",
     "text": [
      "c1: 0, c2: 29, c3: 4\n",
      "nan 2019-12-31 00:00:00\n",
      "\n"
     ]
    },
    {
     "name": "stderr",
     "output_type": "stream",
     "text": [
      "\r",
      " 80%|█████████████████████████████▋       | 1216/1517 [5:36:22<35:35,  7.10s/it]"
     ]
    },
    {
     "name": "stdout",
     "output_type": "stream",
     "text": [
      "c1: 0, c2: 0, c3: 5\n",
      "nan 2019-12-19 00:00:00\n",
      "\n"
     ]
    },
    {
     "name": "stderr",
     "output_type": "stream",
     "text": [
      "\r",
      " 80%|█████████████████████████████▋       | 1217/1517 [5:36:31<38:58,  7.79s/it]"
     ]
    },
    {
     "name": "stdout",
     "output_type": "stream",
     "text": [
      "c1: 0, c2: 1, c3: 34\n",
      "nan 2019-10-19 00:00:00\n",
      "\n"
     ]
    },
    {
     "name": "stderr",
     "output_type": "stream",
     "text": [
      "\r",
      " 80%|█████████████████████████████▋       | 1218/1517 [5:36:39<37:53,  7.61s/it]"
     ]
    },
    {
     "name": "stdout",
     "output_type": "stream",
     "text": [
      "c1: 0, c2: 4, c3: 16\n",
      "nan 2019-08-27 00:00:00\n",
      "\n"
     ]
    },
    {
     "name": "stderr",
     "output_type": "stream",
     "text": [
      "\r",
      " 80%|█████████████████████████████▋       | 1219/1517 [5:36:45<35:42,  7.19s/it]"
     ]
    },
    {
     "name": "stdout",
     "output_type": "stream",
     "text": [
      "c1: 0, c2: 7, c3: 16\n",
      "nan 2019-10-25 00:00:00\n",
      "\n"
     ]
    },
    {
     "name": "stderr",
     "output_type": "stream",
     "text": [
      "\r",
      " 80%|████████████████████████████▏      | 1220/1517 [5:38:42<3:18:17, 40.06s/it]"
     ]
    },
    {
     "name": "stdout",
     "output_type": "stream",
     "text": [
      "c1: 0, c2: 11, c3: 39\n",
      "nan 2019-10-10 00:00:00\n",
      "\n"
     ]
    },
    {
     "name": "stderr",
     "output_type": "stream",
     "text": [
      "\r",
      " 80%|████████████████████████████▏      | 1221/1517 [5:38:53<2:35:07, 31.44s/it]"
     ]
    },
    {
     "name": "stdout",
     "output_type": "stream",
     "text": [
      "c1: 0, c2: 7, c3: 1\n",
      "nan 2019-09-23 00:00:00\n",
      "\n"
     ]
    },
    {
     "name": "stderr",
     "output_type": "stream",
     "text": [
      "\r",
      " 81%|████████████████████████████▏      | 1222/1517 [5:38:58<1:55:44, 23.54s/it]"
     ]
    },
    {
     "name": "stdout",
     "output_type": "stream",
     "text": [
      "c1: 0, c2: 0, c3: 2\n",
      "nan 2019-10-24 00:00:00\n",
      "\n"
     ]
    },
    {
     "name": "stderr",
     "output_type": "stream",
     "text": [
      "\r",
      " 81%|████████████████████████████▏      | 1223/1517 [5:39:12<1:41:25, 20.70s/it]"
     ]
    },
    {
     "name": "stdout",
     "output_type": "stream",
     "text": [
      "c1: 0, c2: 0, c3: 2\n",
      "nan 2019-11-29 00:00:00\n",
      "\n"
     ]
    },
    {
     "name": "stderr",
     "output_type": "stream",
     "text": [
      "\r",
      " 81%|████████████████████████████▏      | 1224/1517 [5:39:22<1:25:02, 17.42s/it]"
     ]
    },
    {
     "name": "stdout",
     "output_type": "stream",
     "text": [
      "c1: 0, c2: 2, c3: 10\n",
      "nan 2019-08-08 00:00:00\n",
      "\n"
     ]
    },
    {
     "name": "stderr",
     "output_type": "stream",
     "text": [
      "\r",
      " 81%|████████████████████████████▎      | 1225/1517 [5:39:38<1:23:31, 17.16s/it]"
     ]
    },
    {
     "name": "stdout",
     "output_type": "stream",
     "text": [
      "c1: 0, c2: 0, c3: 21\n",
      "nan 2019-07-16 00:00:00\n",
      "\n"
     ]
    },
    {
     "name": "stderr",
     "output_type": "stream",
     "text": [
      "\r",
      " 81%|████████████████████████████▎      | 1226/1517 [5:39:43<1:05:05, 13.42s/it]"
     ]
    },
    {
     "name": "stdout",
     "output_type": "stream",
     "text": [
      "c1: 0, c2: 0, c3: 10\n",
      "nan 2019-07-15 00:00:00\n",
      "\n"
     ]
    },
    {
     "name": "stderr",
     "output_type": "stream",
     "text": [
      "\r",
      " 81%|█████████████████████████████▉       | 1227/1517 [5:39:49<53:29, 11.07s/it]"
     ]
    },
    {
     "name": "stdout",
     "output_type": "stream",
     "text": [
      "c1: 0, c2: 1, c3: 11\n",
      "nan 2019-08-09 00:00:00\n",
      "\n"
     ]
    },
    {
     "name": "stderr",
     "output_type": "stream",
     "text": [
      "\r",
      " 81%|█████████████████████████████▉       | 1228/1517 [5:39:55<46:48,  9.72s/it]"
     ]
    },
    {
     "name": "stdout",
     "output_type": "stream",
     "text": [
      "c1: 0, c2: 0, c3: 10\n",
      "nan 2019-08-16 00:00:00\n",
      "\n"
     ]
    },
    {
     "name": "stderr",
     "output_type": "stream",
     "text": [
      "\r",
      " 81%|█████████████████████████████▉       | 1229/1517 [5:40:14<58:58, 12.29s/it]"
     ]
    },
    {
     "name": "stdout",
     "output_type": "stream",
     "text": [
      "c1: 0, c2: 0, c3: 5\n",
      "nan 2019-12-15 00:00:00\n",
      "\n"
     ]
    },
    {
     "name": "stderr",
     "output_type": "stream",
     "text": [
      "\r",
      " 81%|██████████████████████████████       | 1230/1517 [5:40:24<56:21, 11.78s/it]"
     ]
    },
    {
     "name": "stdout",
     "output_type": "stream",
     "text": [
      "c1: 0, c2: 10, c3: 13\n",
      "nan 2019-09-11 00:00:00\n",
      "\n"
     ]
    },
    {
     "name": "stderr",
     "output_type": "stream",
     "text": [
      "\r",
      " 81%|████████████████████████████▍      | 1231/1517 [5:40:47<1:12:23, 15.19s/it]"
     ]
    },
    {
     "name": "stdout",
     "output_type": "stream",
     "text": [
      "c1: 0, c2: 1, c3: 6\n",
      "nan 2019-12-27 00:00:00\n",
      "\n"
     ]
    },
    {
     "name": "stderr",
     "output_type": "stream",
     "text": [
      "\r",
      " 81%|██████████████████████████████       | 1232/1517 [5:40:52<57:03, 12.01s/it]"
     ]
    },
    {
     "name": "stdout",
     "output_type": "stream",
     "text": [
      "c1: 0, c2: 54, c3: 7\n",
      "nan 2019-11-23 00:00:00\n",
      "\n"
     ]
    },
    {
     "name": "stderr",
     "output_type": "stream",
     "text": [
      "\r",
      " 81%|██████████████████████████████       | 1233/1517 [5:41:01<52:07, 11.01s/it]"
     ]
    },
    {
     "name": "stdout",
     "output_type": "stream",
     "text": [
      "c1: 0, c2: 6, c3: 30\n",
      "nan 2019-12-12 00:00:00\n",
      "\n"
     ]
    },
    {
     "name": "stderr",
     "output_type": "stream",
     "text": [
      "\r",
      " 81%|██████████████████████████████       | 1234/1517 [5:41:15<57:08, 12.11s/it]"
     ]
    },
    {
     "name": "stdout",
     "output_type": "stream",
     "text": [
      "c1: 9, c2: 63, c3: 28\n",
      "Tropical cylone 'Hagibis' 2019-10-12 00:00:00\n",
      "\n"
     ]
    },
    {
     "name": "stderr",
     "output_type": "stream",
     "text": [
      "\r",
      " 81%|██████████████████████████████       | 1235/1517 [5:41:20<46:00,  9.79s/it]"
     ]
    },
    {
     "name": "stdout",
     "output_type": "stream",
     "text": [
      "c1: 0, c2: 7, c3: 4\n",
      "nan 2019-11-23 00:00:00\n",
      "\n"
     ]
    },
    {
     "name": "stderr",
     "output_type": "stream",
     "text": [
      "\r",
      " 81%|██████████████████████████████▏      | 1236/1517 [5:41:28<43:43,  9.34s/it]"
     ]
    },
    {
     "name": "stdout",
     "output_type": "stream",
     "text": [
      "c1: 0, c2: 1, c3: 31\n",
      "Tropical cyclone 'Lorena' 2019-09-20 00:00:00\n",
      "\n"
     ]
    },
    {
     "name": "stderr",
     "output_type": "stream",
     "text": [
      "\r",
      " 82%|██████████████████████████████▏      | 1237/1517 [5:41:37<42:48,  9.17s/it]"
     ]
    },
    {
     "name": "stdout",
     "output_type": "stream",
     "text": [
      "c1: 5, c2: 0, c3: 52\n",
      "Tropical storm 'Fernand' 2019-09-05 00:00:00\n",
      "\n"
     ]
    },
    {
     "name": "stderr",
     "output_type": "stream",
     "text": [
      "\r",
      " 82%|██████████████████████████████▏      | 1238/1517 [5:41:42<37:07,  7.98s/it]"
     ]
    },
    {
     "name": "stdout",
     "output_type": "stream",
     "text": [
      "c1: 0, c2: 2, c3: 3\n",
      "nan 2019-07-28 00:00:00\n",
      "\n"
     ]
    },
    {
     "name": "stderr",
     "output_type": "stream",
     "text": [
      "\r",
      " 82%|██████████████████████████████▏      | 1239/1517 [5:41:48<33:43,  7.28s/it]"
     ]
    },
    {
     "name": "stdout",
     "output_type": "stream",
     "text": [
      "c1: 0, c2: 0, c3: 4\n",
      "nan 2019-09-08 00:00:00\n",
      "\n"
     ]
    },
    {
     "name": "stderr",
     "output_type": "stream",
     "text": [
      "\r",
      " 82%|██████████████████████████████▏      | 1240/1517 [5:42:01<41:39,  9.02s/it]"
     ]
    },
    {
     "name": "stdout",
     "output_type": "stream",
     "text": [
      "c1: 0, c2: 0, c3: 7\n",
      "Storm 'Amelie' 2019-10-28 00:00:00\n",
      "\n"
     ]
    },
    {
     "name": "stderr",
     "output_type": "stream",
     "text": [
      "\r",
      " 82%|██████████████████████████████▎      | 1241/1517 [5:42:06<36:38,  7.97s/it]"
     ]
    },
    {
     "name": "stdout",
     "output_type": "stream",
     "text": [
      "c1: 27, c2: 0, c3: 6\n",
      "Elsa, Fabien 2019-12-19 00:00:00\n",
      "\n"
     ]
    },
    {
     "name": "stderr",
     "output_type": "stream",
     "text": [
      "\r",
      " 82%|██████████████████████████████▎      | 1242/1517 [5:42:20<45:09,  9.85s/it]"
     ]
    },
    {
     "name": "stdout",
     "output_type": "stream",
     "text": [
      "c1: 0, c2: 0, c3: 5\n",
      "nan 2019-10-01 00:00:00\n",
      "\n"
     ]
    },
    {
     "name": "stderr",
     "output_type": "stream",
     "text": [
      " 82%|████████████████████████████▋      | 1244/1517 [5:43:28<1:52:13, 24.66s/it]"
     ]
    },
    {
     "name": "stdout",
     "output_type": "stream",
     "text": [
      "c1: 32, c2: 7, c3: 2\n",
      "Cholera 2019-04-25 00:00:00\n",
      "\n"
     ]
    },
    {
     "name": "stderr",
     "output_type": "stream",
     "text": [
      "\r",
      " 82%|████████████████████████████▋      | 1245/1517 [5:43:31<1:22:33, 18.21s/it]"
     ]
    },
    {
     "name": "stdout",
     "output_type": "stream",
     "text": [
      "c1: 1, c2: 217, c3: 0\n",
      "Tropical cyclone 'Sarai' 2019-12-26 00:00:00\n",
      "\n"
     ]
    },
    {
     "name": "stderr",
     "output_type": "stream",
     "text": [
      "\r",
      " 82%|████████████████████████████▋      | 1246/1517 [5:43:36<1:03:24, 14.04s/it]"
     ]
    },
    {
     "name": "stdout",
     "output_type": "stream",
     "text": [
      "c1: 0, c2: 0, c3: 13\n",
      "nan 2019-08-09 00:00:00\n",
      "\n"
     ]
    },
    {
     "name": "stderr",
     "output_type": "stream",
     "text": [
      "\r",
      " 82%|██████████████████████████████▍      | 1247/1517 [5:43:41<51:02, 11.34s/it]"
     ]
    },
    {
     "name": "stdout",
     "output_type": "stream",
     "text": [
      "c1: 0, c2: 0, c3: 22\n",
      "nan 2019-11-11 00:00:00\n",
      "\n"
     ]
    },
    {
     "name": "stderr",
     "output_type": "stream",
     "text": [
      "\r",
      " 82%|██████████████████████████████▍      | 1248/1517 [5:43:46<43:06,  9.61s/it]"
     ]
    },
    {
     "name": "stdout",
     "output_type": "stream",
     "text": [
      "c1: 27, c2: 0, c3: 16\n",
      "Elsa, Fabien 2019-12-19 00:00:00\n",
      "\n"
     ]
    },
    {
     "name": "stderr",
     "output_type": "stream",
     "text": [
      "\r",
      " 82%|██████████████████████████████▍      | 1249/1517 [5:43:56<43:25,  9.72s/it]"
     ]
    },
    {
     "name": "stdout",
     "output_type": "stream",
     "text": [
      "c1: 0, c2: 0, c3: 37\n",
      "nan 2019-07-21 00:00:00\n",
      "\n"
     ]
    },
    {
     "name": "stderr",
     "output_type": "stream",
     "text": [
      "\r",
      " 82%|██████████████████████████████▍      | 1250/1517 [5:44:05<42:00,  9.44s/it]"
     ]
    },
    {
     "name": "stdout",
     "output_type": "stream",
     "text": [
      "c1: 0, c2: 40, c3: 26\n",
      "nan 2019-10-21 00:00:00\n",
      "\n"
     ]
    },
    {
     "name": "stderr",
     "output_type": "stream",
     "text": [
      " 83%|████████████████████████████▉      | 1255/1517 [5:45:40<1:29:37, 20.52s/it]"
     ]
    },
    {
     "name": "stdout",
     "output_type": "stream",
     "text": [
      "c1: 32, c2: 3, c3: 0\n",
      "Dengue 2019-06-29 00:00:00\n",
      "\n"
     ]
    },
    {
     "name": "stderr",
     "output_type": "stream",
     "text": [
      "\r",
      " 83%|████████████████████████████▉      | 1256/1517 [5:45:48<1:13:09, 16.82s/it]"
     ]
    },
    {
     "name": "stdout",
     "output_type": "stream",
     "text": [
      "c1: 0, c2: 0, c3: 4\n",
      "nan 2019-09-18 00:00:00\n",
      "\n"
     ]
    },
    {
     "name": "stderr",
     "output_type": "stream",
     "text": [
      "\r",
      " 83%|██████████████████████████████▋      | 1257/1517 [5:45:53<57:44, 13.33s/it]"
     ]
    },
    {
     "name": "stdout",
     "output_type": "stream",
     "text": [
      "c1: 0, c2: 2, c3: 4\n",
      "nan 2019-08-02 00:00:00\n",
      "\n"
     ]
    },
    {
     "name": "stderr",
     "output_type": "stream",
     "text": [
      "\r",
      " 83%|██████████████████████████████▋      | 1258/1517 [5:46:00<48:56, 11.34s/it]"
     ]
    },
    {
     "name": "stdout",
     "output_type": "stream",
     "text": [
      "c1: 0, c2: 3, c3: 5\n",
      "nan 2019-09-26 00:00:00\n",
      "\n"
     ]
    },
    {
     "name": "stderr",
     "output_type": "stream",
     "text": [
      "\r",
      " 83%|██████████████████████████████▋      | 1259/1517 [5:46:08<44:38, 10.38s/it]"
     ]
    },
    {
     "name": "stdout",
     "output_type": "stream",
     "text": [
      "c1: 0, c2: 0, c3: 17\n",
      "nan 2019-12-12 00:00:00\n",
      "\n"
     ]
    },
    {
     "name": "stderr",
     "output_type": "stream",
     "text": [
      "\r",
      " 83%|██████████████████████████████▋      | 1260/1517 [5:46:14<38:28,  8.98s/it]"
     ]
    },
    {
     "name": "stdout",
     "output_type": "stream",
     "text": [
      "c1: 0, c2: 0, c3: 12\n",
      "nan 2019-10-26 00:00:00\n",
      "\n"
     ]
    },
    {
     "name": "stderr",
     "output_type": "stream",
     "text": [
      "\r",
      " 83%|██████████████████████████████▊      | 1261/1517 [5:46:21<36:30,  8.56s/it]"
     ]
    },
    {
     "name": "stdout",
     "output_type": "stream",
     "text": [
      "c1: 7, c2: 0, c3: 23\n",
      "Tropical cyclone 'Bulbul' 2019-11-09 00:00:00\n",
      "\n"
     ]
    },
    {
     "name": "stderr",
     "output_type": "stream",
     "text": [
      "\r",
      " 83%|██████████████████████████████▊      | 1262/1517 [5:46:29<34:37,  8.15s/it]"
     ]
    },
    {
     "name": "stdout",
     "output_type": "stream",
     "text": [
      "c1: 0, c2: 5, c3: 28\n",
      "nan 2019-08-12 00:00:00\n",
      "\n"
     ]
    },
    {
     "name": "stderr",
     "output_type": "stream",
     "text": [
      "\r",
      " 83%|██████████████████████████████▊      | 1263/1517 [5:46:38<36:04,  8.52s/it]"
     ]
    },
    {
     "name": "stdout",
     "output_type": "stream",
     "text": [
      "c1: 0, c2: 1, c3: 40\n",
      "nan 2019-11-29 00:00:00\n",
      "\n"
     ]
    },
    {
     "name": "stderr",
     "output_type": "stream",
     "text": [
      " 83%|██████████████████████████████▉      | 1266/1517 [5:47:00<34:35,  8.27s/it]"
     ]
    },
    {
     "name": "stdout",
     "output_type": "stream",
     "text": [
      "c1: 0, c2: 1, c3: 58\n",
      "Tropical cyclone 'Lingling' 2019-09-05 00:00:00\n",
      "\n"
     ]
    },
    {
     "name": "stderr",
     "output_type": "stream",
     "text": [
      "\r",
      " 84%|██████████████████████████████▉      | 1267/1517 [5:47:07<32:24,  7.78s/it]"
     ]
    },
    {
     "name": "stdout",
     "output_type": "stream",
     "text": [
      "c1: 1, c2: 0, c3: 34\n",
      "Tropical storm 'Tapah' 2019-09-24 00:00:00\n",
      "\n"
     ]
    },
    {
     "name": "stderr",
     "output_type": "stream",
     "text": [
      "\r",
      " 84%|██████████████████████████████▉      | 1268/1517 [5:47:14<30:40,  7.39s/it]"
     ]
    },
    {
     "name": "stdout",
     "output_type": "stream",
     "text": [
      "c1: 27, c2: 44, c3: 34\n",
      "Typhoon 'Faxai' 2019-10-08 00:00:00\n",
      "\n"
     ]
    },
    {
     "name": "stderr",
     "output_type": "stream",
     "text": [
      "\r",
      " 84%|██████████████████████████████▉      | 1269/1517 [5:47:24<34:57,  8.46s/it]"
     ]
    },
    {
     "name": "stdout",
     "output_type": "stream",
     "text": [
      "c1: 0, c2: 0, c3: 6\n",
      "nan 2019-07-29 00:00:00\n",
      "\n"
     ]
    },
    {
     "name": "stderr",
     "output_type": "stream",
     "text": [
      "\r",
      " 84%|██████████████████████████████▉      | 1270/1517 [5:47:34<36:35,  8.89s/it]"
     ]
    },
    {
     "name": "stdout",
     "output_type": "stream",
     "text": [
      "c1: 0, c2: 0, c3: 11\n",
      "nan 2019-07-22 00:00:00\n",
      "\n"
     ]
    },
    {
     "name": "stderr",
     "output_type": "stream",
     "text": [
      "\r",
      " 84%|███████████████████████████████      | 1271/1517 [5:47:48<41:58, 10.24s/it]"
     ]
    },
    {
     "name": "stdout",
     "output_type": "stream",
     "text": [
      "c1: 0, c2: 0, c3: 5\n",
      "nan 2019-09-11 00:00:00\n",
      "\n"
     ]
    },
    {
     "name": "stderr",
     "output_type": "stream",
     "text": [
      "\r",
      " 84%|███████████████████████████████      | 1272/1517 [5:47:55<38:27,  9.42s/it]"
     ]
    },
    {
     "name": "stdout",
     "output_type": "stream",
     "text": [
      "c1: 0, c2: 2, c3: 0\n",
      "Tropical cyclone 'Lingling' 2019-09-06 00:00:00\n",
      "\n"
     ]
    },
    {
     "name": "stderr",
     "output_type": "stream",
     "text": [
      "\r",
      " 84%|███████████████████████████████      | 1273/1517 [5:48:02<34:39,  8.52s/it]"
     ]
    },
    {
     "name": "stdout",
     "output_type": "stream",
     "text": [
      "c1: 1, c2: 0, c3: 0\n",
      "Tropical storm 'Tapah' 2019-09-24 00:00:00\n",
      "\n"
     ]
    },
    {
     "name": "stderr",
     "output_type": "stream",
     "text": [
      " 84%|███████████████████████████████      | 1276/1517 [5:48:26<33:45,  8.41s/it]"
     ]
    },
    {
     "name": "stdout",
     "output_type": "stream",
     "text": [
      "c1: 0, c2: 1, c3: 3\n",
      "nan 2019-12-18 00:00:00\n",
      "\n"
     ]
    },
    {
     "name": "stderr",
     "output_type": "stream",
     "text": [
      "\r",
      " 84%|███████████████████████████████▏     | 1277/1517 [5:48:40<41:02, 10.26s/it]"
     ]
    },
    {
     "name": "stdout",
     "output_type": "stream",
     "text": [
      "c1: 0, c2: 37, c3: 1\n",
      "nan 2019-12-02 00:00:00\n",
      "\n"
     ]
    },
    {
     "name": "stderr",
     "output_type": "stream",
     "text": [
      "\r",
      " 84%|███████████████████████████████▏     | 1278/1517 [5:48:45<33:55,  8.52s/it]"
     ]
    },
    {
     "name": "stdout",
     "output_type": "stream",
     "text": [
      "c1: 0, c2: 0, c3: 1\n",
      "nan 2019-08-09 00:00:00\n",
      "\n"
     ]
    },
    {
     "name": "stderr",
     "output_type": "stream",
     "text": [
      "\r",
      " 84%|███████████████████████████████▏     | 1279/1517 [5:48:49<28:40,  7.23s/it]"
     ]
    },
    {
     "name": "stdout",
     "output_type": "stream",
     "text": [
      "c1: 0, c2: 0, c3: 1\n",
      "nan 2019-08-28 00:00:00\n",
      "\n"
     ]
    },
    {
     "name": "stderr",
     "output_type": "stream",
     "text": [
      "\r",
      " 84%|███████████████████████████████▏     | 1280/1517 [5:48:55<27:21,  6.93s/it]"
     ]
    },
    {
     "name": "stdout",
     "output_type": "stream",
     "text": [
      "c1: 1, c2: 0, c3: 21\n",
      "Tropical storm 'Narda' 2019-09-30 00:00:00\n",
      "\n"
     ]
    },
    {
     "name": "stderr",
     "output_type": "stream",
     "text": [
      "\r",
      " 84%|███████████████████████████████▏     | 1281/1517 [5:49:07<32:25,  8.25s/it]"
     ]
    },
    {
     "name": "stdout",
     "output_type": "stream",
     "text": [
      "c1: 0, c2: 2, c3: 23\n",
      "nan 2019-11-27 00:00:00\n",
      "\n"
     ]
    },
    {
     "name": "stderr",
     "output_type": "stream",
     "text": [
      "\r",
      " 85%|███████████████████████████████▎     | 1282/1517 [5:49:27<46:48, 11.95s/it]"
     ]
    },
    {
     "name": "stdout",
     "output_type": "stream",
     "text": [
      "c1: 0, c2: 0, c3: 60\n",
      "nan 2019-08-24 00:00:00\n",
      "\n"
     ]
    },
    {
     "name": "stderr",
     "output_type": "stream",
     "text": [
      "\r",
      " 85%|███████████████████████████████▎     | 1283/1517 [5:49:32<38:41,  9.92s/it]"
     ]
    },
    {
     "name": "stdout",
     "output_type": "stream",
     "text": [
      "c1: 0, c2: 1, c3: 9\n",
      "nan 2019-07-14 00:00:00\n",
      "\n"
     ]
    },
    {
     "name": "stderr",
     "output_type": "stream",
     "text": [
      "\r",
      " 85%|███████████████████████████████▎     | 1284/1517 [5:49:38<33:09,  8.54s/it]"
     ]
    },
    {
     "name": "stdout",
     "output_type": "stream",
     "text": [
      "c1: 0, c2: 0, c3: 2\n",
      "nan 2019-08-26 00:00:00\n",
      "\n"
     ]
    },
    {
     "name": "stderr",
     "output_type": "stream",
     "text": [
      "\r",
      " 85%|███████████████████████████████▎     | 1285/1517 [5:49:43<29:15,  7.57s/it]"
     ]
    },
    {
     "name": "stdout",
     "output_type": "stream",
     "text": [
      "c1: 0, c2: 0, c3: 3\n",
      "nan 2019-10-26 00:00:00\n",
      "\n"
     ]
    },
    {
     "name": "stderr",
     "output_type": "stream",
     "text": [
      "\r",
      " 85%|███████████████████████████████▎     | 1286/1517 [5:50:00<40:17, 10.47s/it]"
     ]
    },
    {
     "name": "stdout",
     "output_type": "stream",
     "text": [
      "c1: 0, c2: 0, c3: 1\n",
      "nan 2019-11-30 00:00:00\n",
      "\n"
     ]
    },
    {
     "name": "stderr",
     "output_type": "stream",
     "text": [
      "\r",
      " 85%|███████████████████████████████▍     | 1287/1517 [5:50:05<32:53,  8.58s/it]"
     ]
    },
    {
     "name": "stdout",
     "output_type": "stream",
     "text": [
      "c1: 0, c2: 0, c3: 6\n",
      "nan 2019-12-18 00:00:00\n",
      "\n"
     ]
    },
    {
     "name": "stderr",
     "output_type": "stream",
     "text": [
      "\r",
      " 85%|███████████████████████████████▍     | 1288/1517 [5:50:22<43:10, 11.31s/it]"
     ]
    },
    {
     "name": "stdout",
     "output_type": "stream",
     "text": [
      "c1: 0, c2: 431, c3: 0\n",
      "nan 2019-09-01 00:00:00\n",
      "\n"
     ]
    },
    {
     "name": "stderr",
     "output_type": "stream",
     "text": [
      " 85%|███████████████████████████████▍     | 1290/1517 [5:50:38<36:52,  9.75s/it]"
     ]
    },
    {
     "name": "stdout",
     "output_type": "stream",
     "text": [
      "c1: 0, c2: 0, c3: 3\n",
      "nan 2019-09-21 00:00:00\n",
      "\n"
     ]
    },
    {
     "name": "stderr",
     "output_type": "stream",
     "text": [
      "\r",
      " 85%|███████████████████████████████▍     | 1291/1517 [5:50:47<36:08,  9.60s/it]"
     ]
    },
    {
     "name": "stdout",
     "output_type": "stream",
     "text": [
      "c1: 0, c2: 0, c3: 11\n",
      "nan 2019-08-20 00:00:00\n",
      "\n"
     ]
    },
    {
     "name": "stderr",
     "output_type": "stream",
     "text": [
      " 85%|███████████████████████████████▌     | 1294/1517 [5:51:07<28:18,  7.62s/it]"
     ]
    },
    {
     "name": "stdout",
     "output_type": "stream",
     "text": [
      "c1: 145, c2: 0, c3: 1\n",
      "Whakaari/White Island volcano 2019-12-09 00:00:00\n",
      "\n"
     ]
    },
    {
     "name": "stderr",
     "output_type": "stream",
     "text": [
      "\r",
      " 85%|███████████████████████████████▌     | 1295/1517 [5:51:13<25:55,  7.01s/it]"
     ]
    },
    {
     "name": "stdout",
     "output_type": "stream",
     "text": [
      "c1: 0, c2: 3, c3: 7\n",
      "nan 2019-09-24 00:00:00\n",
      "\n"
     ]
    },
    {
     "name": "stderr",
     "output_type": "stream",
     "text": [
      "\r",
      " 85%|█████████████████████████████     | 1296/1517 [5:58:56<8:49:23, 143.73s/it]"
     ]
    },
    {
     "name": "stdout",
     "output_type": "stream",
     "text": [
      "c1: 272, c2: 52, c3: 114\n",
      "Dengue 2019-01-01 00:00:00\n",
      "\n"
     ]
    },
    {
     "name": "stderr",
     "output_type": "stream",
     "text": [
      "\r",
      " 85%|█████████████████████████████     | 1297/1517 [5:59:04<6:17:46, 103.03s/it]"
     ]
    },
    {
     "name": "stdout",
     "output_type": "stream",
     "text": [
      "c1: 0, c2: 0, c3: 7\n",
      "nan 2019-07-29 00:00:00\n",
      "\n"
     ]
    },
    {
     "name": "stderr",
     "output_type": "stream",
     "text": [
      "\r",
      " 86%|█████████████████████████████▉     | 1298/1517 [5:59:12<4:32:05, 74.55s/it]"
     ]
    },
    {
     "name": "stdout",
     "output_type": "stream",
     "text": [
      "c1: 0, c2: 0, c3: 3\n",
      "nan 2019-09-30 00:00:00\n",
      "\n"
     ]
    },
    {
     "name": "stderr",
     "output_type": "stream",
     "text": [
      "\r",
      " 86%|█████████████████████████████▉     | 1299/1517 [5:59:20<3:18:43, 54.69s/it]"
     ]
    },
    {
     "name": "stdout",
     "output_type": "stream",
     "text": [
      "c1: 1, c2: 0, c3: 0\n",
      "Ubinas 2019-07-19 00:00:00\n",
      "\n"
     ]
    },
    {
     "name": "stderr",
     "output_type": "stream",
     "text": [
      " 86%|██████████████████████████████     | 1302/1517 [5:59:36<1:19:56, 22.31s/it]"
     ]
    },
    {
     "name": "stdout",
     "output_type": "stream",
     "text": [
      "c1: 0, c2: 3, c3: 0\n",
      "nan 2019-10-16 00:00:00\n",
      "\n"
     ]
    },
    {
     "name": "stderr",
     "output_type": "stream",
     "text": [
      "\r",
      " 86%|██████████████████████████████     | 1303/1517 [5:59:42<1:01:39, 17.29s/it]"
     ]
    },
    {
     "name": "stdout",
     "output_type": "stream",
     "text": [
      "c1: 0, c2: 2, c3: 0\n",
      "nan 2019-10-29 00:00:00\n",
      "\n"
     ]
    },
    {
     "name": "stderr",
     "output_type": "stream",
     "text": [
      "\r",
      " 86%|███████████████████████████████▊     | 1304/1517 [5:59:50<51:04, 14.39s/it]"
     ]
    },
    {
     "name": "stdout",
     "output_type": "stream",
     "text": [
      "c1: 0, c2: 0, c3: 2\n",
      "nan 2020-01-11 00:00:00\n",
      "\n"
     ]
    },
    {
     "name": "stderr",
     "output_type": "stream",
     "text": [
      "\r",
      " 86%|██████████████████████████████     | 1305/1517 [6:00:14<1:00:59, 17.26s/it]"
     ]
    },
    {
     "name": "stdout",
     "output_type": "stream",
     "text": [
      "c1: 0, c2: 0, c3: 14\n",
      "nan 2020-03-04 00:00:00\n",
      "\n"
     ]
    },
    {
     "name": "stderr",
     "output_type": "stream",
     "text": [
      "\r",
      " 86%|██████████████████████████████▏    | 1306/1517 [6:00:31<1:00:57, 17.34s/it]"
     ]
    },
    {
     "name": "stdout",
     "output_type": "stream",
     "text": [
      "c1: 0, c2: 0, c3: 13\n",
      "nan 2020-02-13 00:00:00\n",
      "\n"
     ]
    },
    {
     "name": "stderr",
     "output_type": "stream",
     "text": [
      "\r",
      " 86%|██████████████████████████████▏    | 1307/1517 [6:01:13<1:26:10, 24.62s/it]"
     ]
    },
    {
     "name": "stdout",
     "output_type": "stream",
     "text": [
      "c1: 0, c2: 52, c3: 5\n",
      "nan 2020-01-01 00:00:00\n",
      "\n"
     ]
    },
    {
     "name": "stderr",
     "output_type": "stream",
     "text": [
      " 86%|███████████████████████████████▉     | 1309/1517 [6:01:32<59:26, 17.15s/it]"
     ]
    },
    {
     "name": "stdout",
     "output_type": "stream",
     "text": [
      "c1: 0, c2: 0, c3: 4\n",
      "nan 2020-02-17 00:00:00\n",
      "\n"
     ]
    },
    {
     "name": "stderr",
     "output_type": "stream",
     "text": [
      " 86%|███████████████████████████████▉     | 1311/1517 [6:01:40<36:59, 10.77s/it]"
     ]
    },
    {
     "name": "stdout",
     "output_type": "stream",
     "text": [
      "c1: 0, c2: 0, c3: 7\n",
      "nan 2020-01-19 00:00:00\n",
      "\n"
     ]
    },
    {
     "name": "stderr",
     "output_type": "stream",
     "text": [
      "\r",
      " 86%|████████████████████████████████     | 1312/1517 [6:01:49<35:24, 10.36s/it]"
     ]
    },
    {
     "name": "stdout",
     "output_type": "stream",
     "text": [
      "c1: 0, c2: 0, c3: 1\n",
      "nan 2020-02-28 00:00:00\n",
      "\n"
     ]
    },
    {
     "name": "stderr",
     "output_type": "stream",
     "text": [
      "\r",
      " 87%|████████████████████████████████     | 1313/1517 [6:01:57<32:24,  9.53s/it]"
     ]
    },
    {
     "name": "stdout",
     "output_type": "stream",
     "text": [
      "c1: 0, c2: 2, c3: 18\n",
      "nan 2020-01-04 00:00:00\n",
      "\n"
     ]
    },
    {
     "name": "stderr",
     "output_type": "stream",
     "text": [
      "\r",
      " 87%|████████████████████████████████     | 1314/1517 [6:02:11<37:20, 11.04s/it]"
     ]
    },
    {
     "name": "stdout",
     "output_type": "stream",
     "text": [
      "c1: 0, c2: 9, c3: 0\n",
      "Cyclone 'Herold' 2020-03-13 00:00:00\n",
      "\n"
     ]
    },
    {
     "name": "stderr",
     "output_type": "stream",
     "text": [
      " 87%|████████████████████████████████     | 1316/1517 [6:02:24<28:28,  8.50s/it]"
     ]
    },
    {
     "name": "stdout",
     "output_type": "stream",
     "text": [
      "c1: 0, c2: 0, c3: 21\n",
      "nan 2020-01-11 00:00:00\n",
      "\n"
     ]
    },
    {
     "name": "stderr",
     "output_type": "stream",
     "text": [
      "\r",
      " 87%|████████████████████████████████     | 1317/1517 [6:02:39<35:08, 10.54s/it]"
     ]
    },
    {
     "name": "stdout",
     "output_type": "stream",
     "text": [
      "c1: 0, c2: 3, c3: 9\n",
      "nan 2020-03-11 00:00:00\n",
      "\n"
     ]
    },
    {
     "name": "stderr",
     "output_type": "stream",
     "text": [
      " 87%|████████████████████████████████▏    | 1319/1517 [6:02:56<31:21,  9.50s/it]"
     ]
    },
    {
     "name": "stdout",
     "output_type": "stream",
     "text": [
      "c1: 36, c2: 3, c3: 8\n",
      "'Gloria' 2020-01-19 00:00:00\n",
      "\n"
     ]
    },
    {
     "name": "stderr",
     "output_type": "stream",
     "text": [
      "\r",
      " 87%|████████████████████████████████▏    | 1320/1517 [6:03:02<28:21,  8.64s/it]"
     ]
    },
    {
     "name": "stdout",
     "output_type": "stream",
     "text": [
      "c1: 0, c2: 0, c3: 2\n",
      "Cyclone 'Tino' 2020-01-17 00:00:00\n",
      "\n"
     ]
    },
    {
     "name": "stderr",
     "output_type": "stream",
     "text": [
      "\r",
      " 87%|████████████████████████████████▏    | 1321/1517 [6:03:10<27:42,  8.48s/it]"
     ]
    },
    {
     "name": "stdout",
     "output_type": "stream",
     "text": [
      "c1: 30, c2: 20, c3: 17\n",
      "'Gloria' 2020-01-21 00:00:00\n",
      "\n"
     ]
    },
    {
     "name": "stderr",
     "output_type": "stream",
     "text": [
      "\r",
      " 87%|████████████████████████████████▏    | 1322/1517 [6:03:26<34:02, 10.48s/it]"
     ]
    },
    {
     "name": "stdout",
     "output_type": "stream",
     "text": [
      "c1: 28, c2: 354, c3: 0\n",
      "Storm 'Ciara' (Sabine) 2020-02-08 00:00:00\n",
      "\n"
     ]
    },
    {
     "name": "stderr",
     "output_type": "stream",
     "text": [
      " 87%|████████████████████████████████▎    | 1324/1517 [6:03:43<31:05,  9.66s/it]"
     ]
    },
    {
     "name": "stdout",
     "output_type": "stream",
     "text": [
      "c1: 28, c2: 66, c3: 0\n",
      "Storm 'Ciara' (Sabine) 2020-02-08 00:00:00\n",
      "\n"
     ]
    },
    {
     "name": "stderr",
     "output_type": "stream",
     "text": [
      "\r",
      " 87%|████████████████████████████████▎    | 1325/1517 [6:03:49<27:46,  8.68s/it]"
     ]
    },
    {
     "name": "stdout",
     "output_type": "stream",
     "text": [
      "c1: 0, c2: 12, c3: 2\n",
      "nan 2020-03-22 00:00:00\n",
      "\n"
     ]
    },
    {
     "name": "stderr",
     "output_type": "stream",
     "text": [
      "\r",
      " 87%|████████████████████████████████▎    | 1326/1517 [6:04:00<29:46,  9.35s/it]"
     ]
    },
    {
     "name": "stdout",
     "output_type": "stream",
     "text": [
      "c1: 0, c2: 57, c3: 4\n",
      "nan 2020-03-04 00:00:00\n",
      "\n"
     ]
    },
    {
     "name": "stderr",
     "output_type": "stream",
     "text": [
      "\r",
      " 87%|████████████████████████████████▎    | 1327/1517 [6:04:05<25:47,  8.14s/it]"
     ]
    },
    {
     "name": "stdout",
     "output_type": "stream",
     "text": [
      "c1: 0, c2: 0, c3: 5\n",
      "nan 2020-02-11 00:00:00\n",
      "\n"
     ]
    },
    {
     "name": "stderr",
     "output_type": "stream",
     "text": [
      "\r",
      " 88%|████████████████████████████████▍    | 1328/1517 [6:04:11<23:13,  7.37s/it]"
     ]
    },
    {
     "name": "stdout",
     "output_type": "stream",
     "text": [
      "c1: 0, c2: 3, c3: 8\n",
      "nan 2020-01-14 00:00:00\n",
      "\n"
     ]
    },
    {
     "name": "stderr",
     "output_type": "stream",
     "text": [
      "\r",
      " 88%|████████████████████████████████▍    | 1329/1517 [6:04:20<24:59,  7.97s/it]"
     ]
    },
    {
     "name": "stdout",
     "output_type": "stream",
     "text": [
      "c1: 0, c2: 0, c3: 7\n",
      "nan 2020-01-23 00:00:00\n",
      "\n"
     ]
    },
    {
     "name": "stderr",
     "output_type": "stream",
     "text": [
      "\r",
      " 88%|████████████████████████████████▍    | 1330/1517 [6:04:26<23:07,  7.42s/it]"
     ]
    },
    {
     "name": "stdout",
     "output_type": "stream",
     "text": [
      "c1: 0, c2: 0, c3: 2\n",
      "nan 2020-01-28 00:00:00\n",
      "\n"
     ]
    },
    {
     "name": "stderr",
     "output_type": "stream",
     "text": [
      "\r",
      " 88%|████████████████████████████████▍    | 1331/1517 [6:04:36<24:31,  7.91s/it]"
     ]
    },
    {
     "name": "stdout",
     "output_type": "stream",
     "text": [
      "c1: 0, c2: 0, c3: 7\n",
      "nan 2020-02-26 00:00:00\n",
      "\n"
     ]
    },
    {
     "name": "stderr",
     "output_type": "stream",
     "text": [
      "\r",
      " 88%|████████████████████████████████▍    | 1332/1517 [6:04:46<26:39,  8.65s/it]"
     ]
    },
    {
     "name": "stdout",
     "output_type": "stream",
     "text": [
      "c1: 0, c2: 0, c3: 5\n",
      "nan 2020-03-20 00:00:00\n",
      "\n"
     ]
    },
    {
     "name": "stderr",
     "output_type": "stream",
     "text": [
      " 88%|████████████████████████████████▌    | 1335/1517 [6:05:14<32:52, 10.84s/it]"
     ]
    },
    {
     "name": "stdout",
     "output_type": "stream",
     "text": [
      "c1: 0, c2: 2, c3: 0\n",
      "nan 2020-01-09 00:00:00\n",
      "\n"
     ]
    },
    {
     "name": "stderr",
     "output_type": "stream",
     "text": [
      " 88%|██████████████████████████████▊    | 1337/1517 [6:06:19<1:07:07, 22.38s/it]"
     ]
    },
    {
     "name": "stdout",
     "output_type": "stream",
     "text": [
      "c1: 0, c2: 2, c3: 0\n",
      "nan 2020-02-24 00:00:00\n",
      "\n"
     ]
    },
    {
     "name": "stderr",
     "output_type": "stream",
     "text": [
      "\r",
      " 88%|████████████████████████████████▋    | 1338/1517 [6:06:30<57:03, 19.12s/it]"
     ]
    },
    {
     "name": "stdout",
     "output_type": "stream",
     "text": [
      "c1: 0, c2: 0, c3: 20\n",
      "nan 2020-03-18 00:00:00\n",
      "\n"
     ]
    },
    {
     "name": "stderr",
     "output_type": "stream",
     "text": [
      "\r",
      " 88%|████████████████████████████████▋    | 1339/1517 [6:06:38<46:40, 15.74s/it]"
     ]
    },
    {
     "name": "stdout",
     "output_type": "stream",
     "text": [
      "c1: 33, c2: 0, c3: 2\n",
      "Storm 'Ciara' (Sabine) 2020-02-08 00:00:00\n",
      "\n"
     ]
    },
    {
     "name": "stderr",
     "output_type": "stream",
     "text": [
      "\r",
      " 88%|████████████████████████████████▋    | 1340/1517 [6:06:52<44:14, 15.00s/it]"
     ]
    },
    {
     "name": "stdout",
     "output_type": "stream",
     "text": [
      "c1: 0, c2: 0, c3: 1\n",
      "nan 2020-02-11 00:00:00\n",
      "\n"
     ]
    },
    {
     "name": "stderr",
     "output_type": "stream",
     "text": [
      "\r",
      " 88%|████████████████████████████████▋    | 1341/1517 [6:06:59<37:20, 12.73s/it]"
     ]
    },
    {
     "name": "stdout",
     "output_type": "stream",
     "text": [
      "c1: 0, c2: 0, c3: 1\n",
      "nan 2020-02-04 00:00:00\n",
      "\n"
     ]
    },
    {
     "name": "stderr",
     "output_type": "stream",
     "text": [
      " 89%|██████████████████████████████▉    | 1343/1517 [6:08:16<1:23:19, 28.73s/it]"
     ]
    },
    {
     "name": "stdout",
     "output_type": "stream",
     "text": [
      "c1: 6, c2: 1205, c3: 13\n",
      "Lassa fever 2020-01-01 00:00:00\n",
      "\n"
     ]
    },
    {
     "name": "stderr",
     "output_type": "stream",
     "text": [
      "\r",
      " 89%|███████████████████████████████    | 1344/1517 [6:08:25<1:05:37, 22.76s/it]"
     ]
    },
    {
     "name": "stdout",
     "output_type": "stream",
     "text": [
      "c1: 0, c2: 3, c3: 5\n",
      "nan 2020-02-01 00:00:00\n",
      "\n"
     ]
    },
    {
     "name": "stderr",
     "output_type": "stream",
     "text": [
      " 89%|██████████████████████████████▏   | 1346/1517 [6:15:12<6:19:25, 133.13s/it]"
     ]
    },
    {
     "name": "stdout",
     "output_type": "stream",
     "text": [
      "c1: 187, c2: 0, c3: 0\n",
      "Dengue 2018-01-01 00:00:00\n",
      "\n"
     ]
    },
    {
     "name": "stderr",
     "output_type": "stream",
     "text": [
      " 89%|███████████████████████████████    | 1348/1517 [6:15:32<3:18:13, 70.38s/it]"
     ]
    },
    {
     "name": "stdout",
     "output_type": "stream",
     "text": [
      "c1: 1, c2: 15, c3: 0\n",
      "Tropical cyclone 'Phanfone' (Ursula) 2019-12-24 00:00:00\n",
      "\n"
     ]
    },
    {
     "name": "stderr",
     "output_type": "stream",
     "text": [
      "\r",
      " 89%|███████████████████████████████    | 1349/1517 [6:15:41<2:25:55, 52.11s/it]"
     ]
    },
    {
     "name": "stdout",
     "output_type": "stream",
     "text": [
      "c1: 0, c2: 0, c3: 2\n",
      "Tropical Storm 'Pawan' 2019-12-07 00:00:00\n",
      "\n"
     ]
    },
    {
     "name": "stderr",
     "output_type": "stream",
     "text": [
      " 89%|███████████████████████████████▏   | 1351/1517 [6:15:56<1:20:31, 29.11s/it]"
     ]
    },
    {
     "name": "stdout",
     "output_type": "stream",
     "text": [
      "c1: 0, c2: 6, c3: 0\n",
      "nan 2019-10-19 00:00:00\n",
      "\n"
     ]
    },
    {
     "name": "stderr",
     "output_type": "stream",
     "text": [
      " 89%|█████████████████████████████████    | 1353/1517 [6:16:10<48:44, 17.83s/it]"
     ]
    },
    {
     "name": "stdout",
     "output_type": "stream",
     "text": [
      "c1: 0, c2: 0, c3: 1\n",
      "nan 2019-07-17 00:00:00\n",
      "\n"
     ]
    },
    {
     "name": "stderr",
     "output_type": "stream",
     "text": [
      "\r",
      " 89%|█████████████████████████████████    | 1354/1517 [6:16:23<44:24, 16.35s/it]"
     ]
    },
    {
     "name": "stdout",
     "output_type": "stream",
     "text": [
      "c1: 0, c2: 0, c3: 3\n",
      "nan 2019-11-29 00:00:00\n",
      "\n"
     ]
    },
    {
     "name": "stderr",
     "output_type": "stream",
     "text": [
      " 89%|█████████████████████████████████    | 1357/1517 [6:16:45<29:20, 11.00s/it]"
     ]
    },
    {
     "name": "stdout",
     "output_type": "stream",
     "text": [
      "c1: 0, c2: 3, c3: 0\n",
      "nan 2019-10-15 00:00:00\n",
      "\n"
     ]
    },
    {
     "name": "stderr",
     "output_type": "stream",
     "text": [
      "\r",
      " 90%|█████████████████████████████████    | 1358/1517 [6:16:54<27:41, 10.45s/it]"
     ]
    },
    {
     "name": "stdout",
     "output_type": "stream",
     "text": [
      "c1: 0, c2: 0, c3: 2\n",
      "nan 2019-07-31 00:00:00\n",
      "\n"
     ]
    },
    {
     "name": "stderr",
     "output_type": "stream",
     "text": [
      " 90%|█████████████████████████████████▏   | 1360/1517 [6:17:08<22:54,  8.75s/it]"
     ]
    },
    {
     "name": "stdout",
     "output_type": "stream",
     "text": [
      "c1: 0, c2: 60, c3: 0\n",
      "nan 2019-12-16 00:00:00\n",
      "\n"
     ]
    },
    {
     "name": "stderr",
     "output_type": "stream",
     "text": [
      "\r",
      " 90%|█████████████████████████████████▏   | 1361/1517 [6:17:17<23:20,  8.98s/it]"
     ]
    },
    {
     "name": "stdout",
     "output_type": "stream",
     "text": [
      "c1: 0, c2: 28, c3: 0\n",
      "nan 2019-11-27 00:00:00\n",
      "\n"
     ]
    },
    {
     "name": "stderr",
     "output_type": "stream",
     "text": [
      " 90%|█████████████████████████████████▏   | 1363/1517 [6:17:41<28:20, 11.04s/it]"
     ]
    },
    {
     "name": "stdout",
     "output_type": "stream",
     "text": [
      "c1: 46, c2: 807, c3: 0\n",
      "Tropical cyclone 'Dorian' 2019-08-28 00:00:00\n",
      "\n"
     ]
    },
    {
     "name": "stderr",
     "output_type": "stream",
     "text": [
      "\r",
      " 90%|█████████████████████████████████▎   | 1364/1517 [6:17:54<28:55, 11.34s/it]"
     ]
    },
    {
     "name": "stdout",
     "output_type": "stream",
     "text": [
      "c1: 87, c2: 55, c3: 0\n",
      "Tropical storm ' Imelda' 2019-09-17 00:00:00\n",
      "\n"
     ]
    },
    {
     "name": "stderr",
     "output_type": "stream",
     "text": [
      " 90%|█████████████████████████████████▎   | 1366/1517 [6:18:06<21:46,  8.65s/it]"
     ]
    },
    {
     "name": "stdout",
     "output_type": "stream",
     "text": [
      "c1: 0, c2: 1, c3: 7\n",
      "nan 2019-08-22 00:00:00\n",
      "\n"
     ]
    },
    {
     "name": "stderr",
     "output_type": "stream",
     "text": [
      "\r",
      " 90%|█████████████████████████████████▎   | 1367/1517 [6:18:11<18:57,  7.58s/it]"
     ]
    },
    {
     "name": "stdout",
     "output_type": "stream",
     "text": [
      "c1: 0, c2: 2, c3: 0\n",
      "nan 2019-10-31 00:00:00\n",
      "\n"
     ]
    },
    {
     "name": "stderr",
     "output_type": "stream",
     "text": [
      "\r",
      " 90%|█████████████████████████████████▎   | 1368/1517 [6:18:16<16:48,  6.77s/it]"
     ]
    },
    {
     "name": "stdout",
     "output_type": "stream",
     "text": [
      "c1: 0, c2: 4, c3: 0\n",
      "nan 2019-12-15 00:00:00\n",
      "\n"
     ]
    },
    {
     "name": "stderr",
     "output_type": "stream",
     "text": [
      " 90%|█████████████████████████████████▍   | 1372/1517 [6:18:51<22:38,  9.37s/it]"
     ]
    },
    {
     "name": "stdout",
     "output_type": "stream",
     "text": [
      "c1: 1, c2: 221, c3: 0\n",
      "Tropical cyclone 'Kammuri' (Tisoy) 2019-12-02 00:00:00\n",
      "\n"
     ]
    },
    {
     "name": "stderr",
     "output_type": "stream",
     "text": [
      "\r",
      " 91%|███████████████████████████████▋   | 1373/1517 [6:21:26<2:07:04, 52.95s/it]"
     ]
    },
    {
     "name": "stdout",
     "output_type": "stream",
     "text": [
      "c1: 78, c2: 2193, c3: 0\n",
      "Dengue 2019-01-01 00:00:00\n",
      "\n"
     ]
    },
    {
     "name": "stderr",
     "output_type": "stream",
     "text": [
      " 91%|███████████████████████████████▋   | 1375/1517 [6:21:42<1:10:54, 29.96s/it]"
     ]
    },
    {
     "name": "stdout",
     "output_type": "stream",
     "text": [
      "c1: 27, c2: 3, c3: 5\n",
      "Elsa, Fabien 2019-12-19 00:00:00\n",
      "\n"
     ]
    },
    {
     "name": "stderr",
     "output_type": "stream",
     "text": [
      " 91%|█████████████████████████████████▌   | 1377/1517 [6:22:00<44:45, 19.18s/it]"
     ]
    },
    {
     "name": "stdout",
     "output_type": "stream",
     "text": [
      "c1: 0, c2: 2, c3: 0\n",
      "nan 2019-07-25 00:00:00\n",
      "\n"
     ]
    },
    {
     "name": "stderr",
     "output_type": "stream",
     "text": [
      " 91%|█████████████████████████████████▋   | 1379/1517 [6:22:07<26:34, 11.55s/it]"
     ]
    },
    {
     "name": "stdout",
     "output_type": "stream",
     "text": [
      "c1: 0, c2: 0, c3: 9\n",
      "nan 2019-10-28 00:00:00\n",
      "\n"
     ]
    },
    {
     "name": "stderr",
     "output_type": "stream",
     "text": [
      "\r",
      " 91%|███████████████████████████████▊   | 1380/1517 [6:23:56<1:32:53, 40.69s/it]"
     ]
    },
    {
     "name": "stdout",
     "output_type": "stream",
     "text": [
      "c1: 86, c2: 0, c3: 0\n",
      "Cholera 2019-08-29 00:00:00\n",
      "\n"
     ]
    },
    {
     "name": "stderr",
     "output_type": "stream",
     "text": [
      "\r",
      " 91%|███████████████████████████████▊   | 1381/1517 [6:24:12<1:15:06, 33.13s/it]"
     ]
    },
    {
     "name": "stdout",
     "output_type": "stream",
     "text": [
      "c1: 0, c2: 0, c3: 2\n",
      "nan 2019-09-10 00:00:00\n",
      "\n"
     ]
    },
    {
     "name": "stderr",
     "output_type": "stream",
     "text": [
      "\r",
      " 91%|█████████████████████████████████▋   | 1382/1517 [6:24:16<55:13, 24.55s/it]"
     ]
    },
    {
     "name": "stdout",
     "output_type": "stream",
     "text": [
      "c1: 0, c2: 0, c3: 1\n",
      "nan 2019-08-22 00:00:00\n",
      "\n"
     ]
    },
    {
     "name": "stderr",
     "output_type": "stream",
     "text": [
      "\r",
      " 91%|█████████████████████████████████▋   | 1383/1517 [6:24:23<43:03, 19.28s/it]"
     ]
    },
    {
     "name": "stdout",
     "output_type": "stream",
     "text": [
      "c1: 0, c2: 0, c3: 5\n",
      "nan 2019-09-11 00:00:00\n",
      "\n"
     ]
    },
    {
     "name": "stderr",
     "output_type": "stream",
     "text": [
      "\r",
      " 91%|█████████████████████████████████▊   | 1384/1517 [6:24:53<49:43, 22.43s/it]"
     ]
    },
    {
     "name": "stdout",
     "output_type": "stream",
     "text": [
      "c1: 78, c2: 0, c3: 0\n",
      "Measles 2019-10-22 00:00:00\n",
      "\n"
     ]
    },
    {
     "name": "stderr",
     "output_type": "stream",
     "text": [
      "\r",
      " 91%|█████████████████████████████████▊   | 1385/1517 [6:24:58<37:51, 17.21s/it]"
     ]
    },
    {
     "name": "stdout",
     "output_type": "stream",
     "text": [
      "c1: 0, c2: 1, c3: 3\n",
      "nan 2019-09-26 00:00:00\n",
      "\n"
     ]
    },
    {
     "name": "stderr",
     "output_type": "stream",
     "text": [
      "\r",
      " 91%|█████████████████████████████████▊   | 1386/1517 [6:25:03<29:30, 13.51s/it]"
     ]
    },
    {
     "name": "stdout",
     "output_type": "stream",
     "text": [
      "c1: 0, c2: 4, c3: 1\n",
      "nan 2019-08-17 00:00:00\n",
      "\n"
     ]
    },
    {
     "name": "stderr",
     "output_type": "stream",
     "text": [
      " 92%|█████████████████████████████████▉   | 1393/1517 [6:26:18<28:29, 13.78s/it]"
     ]
    },
    {
     "name": "stdout",
     "output_type": "stream",
     "text": [
      "c1: 0, c2: 0, c3: 3\n",
      "nan 2019-10-15 00:00:00\n",
      "\n"
     ]
    },
    {
     "name": "stderr",
     "output_type": "stream",
     "text": [
      "\r",
      " 92%|██████████████████████████████████   | 1394/1517 [6:26:29<26:33, 12.95s/it]"
     ]
    },
    {
     "name": "stdout",
     "output_type": "stream",
     "text": [
      "c1: 0, c2: 23, c3: 0\n",
      "nan 2019-10-12 00:00:00\n",
      "\n"
     ]
    },
    {
     "name": "stderr",
     "output_type": "stream",
     "text": [
      "\r",
      " 92%|██████████████████████████████████   | 1395/1517 [6:26:35<22:34, 11.11s/it]"
     ]
    },
    {
     "name": "stdout",
     "output_type": "stream",
     "text": [
      "c1: 0, c2: 61, c3: 0\n",
      "nan 2019-10-20 00:00:00\n",
      "\n"
     ]
    },
    {
     "name": "stderr",
     "output_type": "stream",
     "text": [
      "\r",
      " 92%|██████████████████████████████████   | 1396/1517 [6:26:43<20:29, 10.16s/it]"
     ]
    },
    {
     "name": "stdout",
     "output_type": "stream",
     "text": [
      "c1: 14, c2: 109, c3: 0\n",
      "Tropical cylone 'Barry' 2019-07-13 00:00:00\n",
      "\n"
     ]
    },
    {
     "name": "stderr",
     "output_type": "stream",
     "text": [
      "\r",
      " 92%|██████████████████████████████████   | 1397/1517 [6:26:58<22:51, 11.43s/it]"
     ]
    },
    {
     "name": "stdout",
     "output_type": "stream",
     "text": [
      "c1: 50, c2: 149, c3: 0\n",
      "Saddleridge fire & Sandalwood fire 2019-10-10 00:00:00\n",
      "\n"
     ]
    },
    {
     "name": "stderr",
     "output_type": "stream",
     "text": [
      "\r",
      " 92%|██████████████████████████████████   | 1398/1517 [6:27:10<23:06, 11.65s/it]"
     ]
    },
    {
     "name": "stdout",
     "output_type": "stream",
     "text": [
      "c1: 178, c2: 201, c3: 0\n",
      "Kincade Fire 2019-10-26 00:00:00\n",
      "\n"
     ]
    },
    {
     "name": "stderr",
     "output_type": "stream",
     "text": [
      " 92%|██████████████████████████████████▏  | 1402/1517 [6:27:41<15:47,  8.24s/it]"
     ]
    },
    {
     "name": "stdout",
     "output_type": "stream",
     "text": [
      "c1: 0, c2: 0, c3: 3\n",
      "nan 2019-11-11 00:00:00\n",
      "\n"
     ]
    },
    {
     "name": "stderr",
     "output_type": "stream",
     "text": [
      "\r",
      " 92%|████████████████████████████████▎  | 1403/1517 [6:31:19<2:14:44, 70.92s/it]"
     ]
    },
    {
     "name": "stdout",
     "output_type": "stream",
     "text": [
      "c1: 0, c2: 0, c3: 195\n",
      "nan 2019-01-01 00:00:00\n",
      "\n"
     ]
    },
    {
     "name": "stderr",
     "output_type": "stream",
     "text": [
      "\r",
      " 93%|████████████████████████████████▍  | 1404/1517 [6:31:32<1:41:02, 53.65s/it]"
     ]
    },
    {
     "name": "stdout",
     "output_type": "stream",
     "text": [
      "c1: 0, c2: 0, c3: 73\n",
      "nan 2019-12-02 00:00:00\n",
      "\n"
     ]
    },
    {
     "name": "stderr",
     "output_type": "stream",
     "text": [
      " 93%|██████████████████████████████████▍  | 1412/1517 [6:33:08<21:19, 12.18s/it]"
     ]
    },
    {
     "name": "stdout",
     "output_type": "stream",
     "text": [
      "c1: 0, c2: 45, c3: 46\n",
      "nan 2020-01-07 00:00:00\n",
      "\n"
     ]
    },
    {
     "name": "stderr",
     "output_type": "stream",
     "text": [
      "\r",
      " 93%|██████████████████████████████████▍  | 1413/1517 [6:33:13<17:36, 10.16s/it]"
     ]
    },
    {
     "name": "stdout",
     "output_type": "stream",
     "text": [
      "c1: 0, c2: 3, c3: 1\n",
      "nan 2020-03-25 00:00:00\n",
      "\n"
     ]
    },
    {
     "name": "stderr",
     "output_type": "stream",
     "text": [
      "\r",
      " 93%|██████████████████████████████████▍  | 1414/1517 [6:33:21<16:18,  9.50s/it]"
     ]
    },
    {
     "name": "stdout",
     "output_type": "stream",
     "text": [
      "c1: 0, c2: 69, c3: 0\n",
      "nan 2020-01-10 00:00:00\n",
      "\n"
     ]
    },
    {
     "name": "stderr",
     "output_type": "stream",
     "text": [
      "\r",
      " 93%|██████████████████████████████████▌  | 1415/1517 [6:33:28<14:46,  8.69s/it]"
     ]
    },
    {
     "name": "stdout",
     "output_type": "stream",
     "text": [
      "c1: 0, c2: 0, c3: 6\n",
      "nan 2020-01-07 00:00:00\n",
      "\n"
     ]
    },
    {
     "name": "stderr",
     "output_type": "stream",
     "text": [
      "\r",
      " 93%|██████████████████████████████████▌  | 1416/1517 [6:33:44<18:35, 11.05s/it]"
     ]
    },
    {
     "name": "stdout",
     "output_type": "stream",
     "text": [
      "c1: 0, c2: 2, c3: 1\n",
      "nan 2020-03-02 00:00:00\n",
      "\n"
     ]
    },
    {
     "name": "stderr",
     "output_type": "stream",
     "text": [
      "\r",
      " 93%|██████████████████████████████████▌  | 1417/1517 [6:34:00<20:48, 12.49s/it]"
     ]
    },
    {
     "name": "stdout",
     "output_type": "stream",
     "text": [
      "c1: 81, c2: 0, c3: 0\n",
      "Taal volcano 2020-01-12 00:00:00\n",
      "\n"
     ]
    },
    {
     "name": "stderr",
     "output_type": "stream",
     "text": [
      " 94%|██████████████████████████████████▌  | 1419/1517 [6:34:14<15:55,  9.75s/it]"
     ]
    },
    {
     "name": "stdout",
     "output_type": "stream",
     "text": [
      "c1: 33, c2: 0, c3: 2\n",
      "Storm 'Ciara' (Sabine) 2020-02-08 00:00:00\n",
      "\n"
     ]
    },
    {
     "name": "stderr",
     "output_type": "stream",
     "text": [
      "\r",
      " 94%|██████████████████████████████████▋  | 1420/1517 [6:34:38<22:21, 13.83s/it]"
     ]
    },
    {
     "name": "stdout",
     "output_type": "stream",
     "text": [
      "c1: 23, c2: 1238, c3: 6\n",
      "Dengue 2020-02-15 00:00:00\n",
      "\n"
     ]
    },
    {
     "name": "stderr",
     "output_type": "stream",
     "text": [
      "\r",
      " 94%|██████████████████████████████████▋  | 1421/1517 [6:34:47<19:44, 12.34s/it]"
     ]
    },
    {
     "name": "stdout",
     "output_type": "stream",
     "text": [
      "c1: 33, c2: 2, c3: 0\n",
      "Storm 'Ciara' (Sabine) 2020-02-07 00:00:00\n",
      "\n"
     ]
    },
    {
     "name": "stderr",
     "output_type": "stream",
     "text": [
      "\r",
      " 94%|██████████████████████████████████▋  | 1422/1517 [6:34:56<17:58, 11.35s/it]"
     ]
    },
    {
     "name": "stdout",
     "output_type": "stream",
     "text": [
      "c1: 33, c2: 130, c3: 2\n",
      "Storm 'Ciara' (Sabine) 2020-02-07 00:00:00\n",
      "\n"
     ]
    },
    {
     "name": "stderr",
     "output_type": "stream",
     "text": [
      "\r",
      " 94%|██████████████████████████████████▋  | 1423/1517 [6:35:01<14:59,  9.57s/it]"
     ]
    },
    {
     "name": "stdout",
     "output_type": "stream",
     "text": [
      "c1: 0, c2: 14, c3: 1\n",
      "nan 2020-01-24 00:00:00\n",
      "\n"
     ]
    },
    {
     "name": "stderr",
     "output_type": "stream",
     "text": [
      "\r",
      " 94%|██████████████████████████████████▋  | 1424/1517 [6:35:07<13:09,  8.49s/it]"
     ]
    },
    {
     "name": "stdout",
     "output_type": "stream",
     "text": [
      "c1: 0, c2: 0, c3: 11\n",
      "nan 2020-02-23 00:00:00\n",
      "\n"
     ]
    },
    {
     "name": "stderr",
     "output_type": "stream",
     "text": [
      "\r",
      " 94%|██████████████████████████████████▊  | 1425/1517 [6:35:14<12:12,  7.96s/it]"
     ]
    },
    {
     "name": "stdout",
     "output_type": "stream",
     "text": [
      "c1: 0, c2: 1, c3: 9\n",
      "nan 2020-02-04 00:00:00\n",
      "\n"
     ]
    },
    {
     "name": "stderr",
     "output_type": "stream",
     "text": [
      " 94%|██████████████████████████████████▊  | 1427/1517 [6:35:32<13:30,  9.00s/it]"
     ]
    },
    {
     "name": "stdout",
     "output_type": "stream",
     "text": [
      "c1: 0, c2: 84, c3: 0\n",
      "nan 2020-01-27 00:00:00\n",
      "\n"
     ]
    },
    {
     "name": "stderr",
     "output_type": "stream",
     "text": [
      " 94%|██████████████████████████████████▊  | 1429/1517 [6:36:01<16:55, 11.54s/it]"
     ]
    },
    {
     "name": "stdout",
     "output_type": "stream",
     "text": [
      "c1: 0, c2: 164, c3: 0\n",
      "nan 2020-03-02 00:00:00\n",
      "\n"
     ]
    },
    {
     "name": "stderr",
     "output_type": "stream",
     "text": [
      "\r",
      " 94%|██████████████████████████████████▉  | 1430/1517 [6:36:04<13:00,  8.98s/it]"
     ]
    },
    {
     "name": "stdout",
     "output_type": "stream",
     "text": [
      "c1: 0, c2: 21, c3: 0\n",
      "nan 2020-03-27 00:00:00\n",
      "\n"
     ]
    },
    {
     "name": "stderr",
     "output_type": "stream",
     "text": [
      "\r",
      " 94%|██████████████████████████████████▉  | 1431/1517 [6:36:14<13:25,  9.37s/it]"
     ]
    },
    {
     "name": "stdout",
     "output_type": "stream",
     "text": [
      "c1: 0, c2: 27, c3: 0\n",
      "nan 2020-02-10 00:00:00\n",
      "\n"
     ]
    },
    {
     "name": "stderr",
     "output_type": "stream",
     "text": [
      "\r",
      " 94%|██████████████████████████████████▉  | 1432/1517 [6:36:21<12:15,  8.65s/it]"
     ]
    },
    {
     "name": "stdout",
     "output_type": "stream",
     "text": [
      "c1: 0, c2: 0, c3: 8\n",
      "nan 2020-02-07 00:00:00\n",
      "\n"
     ]
    },
    {
     "name": "stderr",
     "output_type": "stream",
     "text": [
      " 95%|███████████████████████████████████  | 1435/1517 [6:36:54<13:37,  9.97s/it]"
     ]
    },
    {
     "name": "stdout",
     "output_type": "stream",
     "text": [
      "c1: 0, c2: 0, c3: 1\n",
      "nan 2020-03-20 00:00:00\n",
      "\n"
     ]
    },
    {
     "name": "stderr",
     "output_type": "stream",
     "text": [
      "100%|█████████████████████████████████████| 1517/1517 [6:37:04<00:00, 15.71s/it]\n"
     ]
    }
   ],
   "source": [
    "# from rdflib import Graph, URIRef, Literal, BNode\n",
    "# from rdflib.namespace import FOAF, RDF\n",
    "\n",
    "# g = Graph()\n",
    "# g.bind(\"foaf\", FOAF)\n",
    "\n",
    "# bob = URIRef(\"http://example.org/people/Bob\")\n",
    "# linda = BNode()  # a GUID is generated\n",
    "\n",
    "# name = Literal(\"Bob\")\n",
    "# age = Literal(24)\n",
    "\n",
    "# g.add((bob, RDF.type, FOAF.Person))\n",
    "# g.add((bob, FOAF.name, name))\n",
    "# g.add((bob, FOAF.age, age))\n",
    "# g.add((bob, FOAF.knows, linda))\n",
    "# g.add((linda, RDF.type, FOAF.Person))\n",
    "# g.add((linda, FOAF.name, Literal(\"Linda\")))\n",
    "\n",
    "# print(g.serialize())\n",
    "\n",
    "for i in trange(len(disaster_info)):\n",
    "    start_date, end_date = disaster_info.iloc[i]['Start Date'], disaster_info.iloc[i]['End Date']\n",
    "    start_date_adj = start_date - timedelta(days=pre_margin)\n",
    "    end_date_adj = end_date + timedelta(days=post_margin)\n",
    "    candidate_articles = news_data[(news_data['Date']  < end_date_adj) & (news_data['Date']  > start_date_adj)]\n",
    "    disaster_types = [disaster_info.iloc[i]['Disaster Type'], disaster_info.iloc[i]['Disaster Subtype'], disaster_info.iloc[i]['Disaster Subsubtype']]\n",
    "    \n",
    "    count_1 = 0\n",
    "    count_2 = 0\n",
    "    count_3 = 0\n",
    "    for j, candidate in candidate_articles.iterrows():\n",
    "        contains = False\n",
    "        # _________________________________Mentions 1____________________________________________________\n",
    "        # If event name is mentioned in an article it assumed to talk about the subject.\n",
    "        if type(disaster_info.iloc[i]['Event Name']) == str:\n",
    "            kws_1 = conv_dict[disaster_info.iloc[i]['Event Name']]\n",
    "            for kws in kws_1:\n",
    "                if all(x in candidate.Article.lower() for x in kws):\n",
    "                    count_1 += 1\n",
    "#                     print(candidate.Article)\n",
    "                    contains = True\n",
    "                    break\n",
    "            if contains:\n",
    "                continue\n",
    "        \n",
    "        # _________________________________Mentions 2____________________________________________________\n",
    "        # If any of the locations in the locations list is mentioned together with the type of disaster or \n",
    "        # subtype or disaster, the article is counted towards mentions 2.\n",
    "        if any(location.lower() in candidate.Article.lower() for location in disaster_info.iloc[i]['Location List'] if type(location) == str) and any(dis_type.lower() in candidate.Article.lower() for dis_type in disaster_types if type(dis_type) == str):\n",
    "            count_2 += 1\n",
    "            continue\n",
    "    \n",
    "    \n",
    "        # _________________________________Mentions 3____________________________________________________\n",
    "        # If the country is mentioned together with the type of disaster or \n",
    "        # subtype or disaster, the article is counted towards mentions 3.\n",
    "        if type(disaster_info.iloc[i]['Country'].lower()) == str:\n",
    "            if disaster_info.iloc[i]['Country'].lower() in candidate.Article.lower() and any(dis_type.lower() in candidate.Article.lower() for dis_type in disaster_types if type(dis_type) == str):\n",
    "                    count_3 += 1\n",
    "    \n",
    "    if count_1+count_2+count_3!=0:\n",
    "        print(f'c1: {count_1}, c2: {count_2}, c3: {count_3}')\n",
    "        print(disaster_info.iloc[i]['Event Name'], disaster_info.iloc[i]['Start Date'])\n",
    "        print()\n",
    "    \n",
    "    disaster_info.loc[i, 'mentions_1'] = count_1\n",
    "    disaster_info.loc[i, 'mentions_2'] = count_2\n",
    "    disaster_info.loc[i, 'mentions_3'] = count_3"
   ]
  },
  {
   "cell_type": "code",
   "execution_count": 205,
   "metadata": {},
   "outputs": [
    {
     "data": {
      "text/html": [
       "<div>\n",
       "<style scoped>\n",
       "    .dataframe tbody tr th:only-of-type {\n",
       "        vertical-align: middle;\n",
       "    }\n",
       "\n",
       "    .dataframe tbody tr th {\n",
       "        vertical-align: top;\n",
       "    }\n",
       "\n",
       "    .dataframe thead th {\n",
       "        text-align: right;\n",
       "    }\n",
       "</style>\n",
       "<table border=\"1\" class=\"dataframe\">\n",
       "  <thead>\n",
       "    <tr style=\"text-align: right;\">\n",
       "      <th></th>\n",
       "      <th>Event Name</th>\n",
       "      <th>count</th>\n",
       "    </tr>\n",
       "  </thead>\n",
       "  <tbody>\n",
       "    <tr>\n",
       "      <th>13</th>\n",
       "      <td>Cholera</td>\n",
       "      <td>21</td>\n",
       "    </tr>\n",
       "    <tr>\n",
       "      <th>52</th>\n",
       "      <td>Hurricane 'Irma'</td>\n",
       "      <td>16</td>\n",
       "    </tr>\n",
       "    <tr>\n",
       "      <th>40</th>\n",
       "      <td>Dengue</td>\n",
       "      <td>15</td>\n",
       "    </tr>\n",
       "    <tr>\n",
       "      <th>53</th>\n",
       "      <td>Hurricane 'Maria'</td>\n",
       "      <td>9</td>\n",
       "    </tr>\n",
       "    <tr>\n",
       "      <th>82</th>\n",
       "      <td>Storm 'Ciara' (Sabine)</td>\n",
       "      <td>9</td>\n",
       "    </tr>\n",
       "    <tr>\n",
       "      <th>54</th>\n",
       "      <td>Hurricane 'Matthew'</td>\n",
       "      <td>8</td>\n",
       "    </tr>\n",
       "    <tr>\n",
       "      <th>116</th>\n",
       "      <td>Tropical depression'16/Hurricane 'Nate'</td>\n",
       "      <td>8</td>\n",
       "    </tr>\n",
       "    <tr>\n",
       "      <th>69</th>\n",
       "      <td>Measles</td>\n",
       "      <td>6</td>\n",
       "    </tr>\n",
       "    <tr>\n",
       "      <th>43</th>\n",
       "      <td>Eleanor</td>\n",
       "      <td>5</td>\n",
       "    </tr>\n",
       "    <tr>\n",
       "      <th>0</th>\n",
       "      <td>'Friederike' (David)</td>\n",
       "      <td>4</td>\n",
       "    </tr>\n",
       "    <tr>\n",
       "      <th>147</th>\n",
       "      <td>Typhoon 'Hato'</td>\n",
       "      <td>4</td>\n",
       "    </tr>\n",
       "    <tr>\n",
       "      <th>90</th>\n",
       "      <td>Tropical Storm Talas</td>\n",
       "      <td>4</td>\n",
       "    </tr>\n",
       "    <tr>\n",
       "      <th>99</th>\n",
       "      <td>Tropical cyclone 'Lingling'</td>\n",
       "      <td>4</td>\n",
       "    </tr>\n",
       "    <tr>\n",
       "      <th>129</th>\n",
       "      <td>Tropical storm 'Pakhar'/'Jolina'</td>\n",
       "      <td>4</td>\n",
       "    </tr>\n",
       "    <tr>\n",
       "      <th>122</th>\n",
       "      <td>Tropical storm 'Earl'</td>\n",
       "      <td>4</td>\n",
       "    </tr>\n",
       "    <tr>\n",
       "      <th>67</th>\n",
       "      <td>Lassa fever</td>\n",
       "      <td>3</td>\n",
       "    </tr>\n",
       "    <tr>\n",
       "      <th>24</th>\n",
       "      <td>Cyclone 'Idai'</td>\n",
       "      <td>3</td>\n",
       "    </tr>\n",
       "    <tr>\n",
       "      <th>158</th>\n",
       "      <td>Typhoon Carina (Nida)</td>\n",
       "      <td>3</td>\n",
       "    </tr>\n",
       "    <tr>\n",
       "      <th>44</th>\n",
       "      <td>Elsa, Fabien</td>\n",
       "      <td>3</td>\n",
       "    </tr>\n",
       "    <tr>\n",
       "      <th>35</th>\n",
       "      <td>Cyclone Mora</td>\n",
       "      <td>3</td>\n",
       "    </tr>\n",
       "    <tr>\n",
       "      <th>157</th>\n",
       "      <td>Typhoon Butchoy (Nepartak)</td>\n",
       "      <td>3</td>\n",
       "    </tr>\n",
       "    <tr>\n",
       "      <th>81</th>\n",
       "      <td>Storm 'Amelie'</td>\n",
       "      <td>3</td>\n",
       "    </tr>\n",
       "    <tr>\n",
       "      <th>26</th>\n",
       "      <td>Cyclone 'Kenneth'</td>\n",
       "      <td>3</td>\n",
       "    </tr>\n",
       "    <tr>\n",
       "      <th>169</th>\n",
       "      <td>Typhoon Nesat &amp; Haitang</td>\n",
       "      <td>3</td>\n",
       "    </tr>\n",
       "    <tr>\n",
       "      <th>167</th>\n",
       "      <td>Typhoon Mangkut (Ompong)</td>\n",
       "      <td>3</td>\n",
       "    </tr>\n",
       "  </tbody>\n",
       "</table>\n",
       "</div>"
      ],
      "text/plain": [
       "                                  Event Name  count\n",
       "13                                   Cholera     21\n",
       "52                          Hurricane 'Irma'     16\n",
       "40                                    Dengue     15\n",
       "53                         Hurricane 'Maria'      9\n",
       "82                    Storm 'Ciara' (Sabine)      9\n",
       "54                       Hurricane 'Matthew'      8\n",
       "116  Tropical depression'16/Hurricane 'Nate'      8\n",
       "69                                   Measles      6\n",
       "43                                   Eleanor      5\n",
       "0                       'Friederike' (David)      4\n",
       "147                           Typhoon 'Hato'      4\n",
       "90                      Tropical Storm Talas      4\n",
       "99               Tropical cyclone 'Lingling'      4\n",
       "129         Tropical storm 'Pakhar'/'Jolina'      4\n",
       "122                    Tropical storm 'Earl'      4\n",
       "67                               Lassa fever      3\n",
       "24                            Cyclone 'Idai'      3\n",
       "158                    Typhoon Carina (Nida)      3\n",
       "44                              Elsa, Fabien      3\n",
       "35                              Cyclone Mora      3\n",
       "157               Typhoon Butchoy (Nepartak)      3\n",
       "81                            Storm 'Amelie'      3\n",
       "26                         Cyclone 'Kenneth'      3\n",
       "169                  Typhoon Nesat & Haitang      3\n",
       "167                 Typhoon Mangkut (Ompong)      3"
      ]
     },
     "execution_count": 205,
     "metadata": {},
     "output_type": "execute_result"
    }
   ],
   "source": [
    "disaster_info.groupby(['Event Name'])['Dis No'].count().reset_index(name='count').sort_values(['count'], ascending=False).head(25)"
   ]
  },
  {
   "cell_type": "code",
   "execution_count": 32,
   "metadata": {
    "scrolled": false
   },
   "outputs": [
    {
     "data": {
      "text/html": [
       "<div>\n",
       "<style scoped>\n",
       "    .dataframe tbody tr th:only-of-type {\n",
       "        vertical-align: middle;\n",
       "    }\n",
       "\n",
       "    .dataframe tbody tr th {\n",
       "        vertical-align: top;\n",
       "    }\n",
       "\n",
       "    .dataframe thead th {\n",
       "        text-align: right;\n",
       "    }\n",
       "</style>\n",
       "<table border=\"1\" class=\"dataframe\">\n",
       "  <thead>\n",
       "    <tr style=\"text-align: right;\">\n",
       "      <th></th>\n",
       "      <th>Dis No</th>\n",
       "      <th>Year</th>\n",
       "      <th>Glide</th>\n",
       "      <th>Disaster Group</th>\n",
       "      <th>Disaster Subgroup</th>\n",
       "      <th>Disaster Type</th>\n",
       "      <th>Disaster Subtype</th>\n",
       "      <th>Disaster Subsubtype</th>\n",
       "      <th>Event Name</th>\n",
       "      <th>Country</th>\n",
       "      <th>ISO</th>\n",
       "      <th>Region</th>\n",
       "      <th>Continent</th>\n",
       "      <th>Location</th>\n",
       "      <th>Origin</th>\n",
       "      <th>Associated Dis</th>\n",
       "      <th>Associated Dis2</th>\n",
       "      <th>Appeal</th>\n",
       "      <th>Declaration</th>\n",
       "      <th>AID Contribution ('000 US$)</th>\n",
       "      <th>Dis Mag Value</th>\n",
       "      <th>Dis Mag Scale</th>\n",
       "      <th>Latitude</th>\n",
       "      <th>Longitude</th>\n",
       "      <th>River Basin</th>\n",
       "      <th>Total Deaths</th>\n",
       "      <th>No Injured</th>\n",
       "      <th>No Affected</th>\n",
       "      <th>No Homeless</th>\n",
       "      <th>Total Affected</th>\n",
       "      <th>Reconstruction Costs, Adjusted ('000 US$)</th>\n",
       "      <th>Insured Damages, Adjusted ('000 US$)</th>\n",
       "      <th>Total Damages, Adjusted ('000 US$)</th>\n",
       "      <th>Geo Locations</th>\n",
       "      <th>Start Date</th>\n",
       "      <th>End Date</th>\n",
       "      <th>Location List</th>\n",
       "      <th>mentions_1</th>\n",
       "      <th>mentions_2</th>\n",
       "      <th>mentions_3</th>\n",
       "    </tr>\n",
       "  </thead>\n",
       "  <tbody>\n",
       "    <tr>\n",
       "      <th>0</th>\n",
       "      <td>2016-0175-BGD</td>\n",
       "      <td>2016</td>\n",
       "      <td>TC-2016-000052</td>\n",
       "      <td>Natural</td>\n",
       "      <td>Meteorological</td>\n",
       "      <td>Storm</td>\n",
       "      <td>Tropical cyclone</td>\n",
       "      <td>NaN</td>\n",
       "      <td>Cyclone Roanu</td>\n",
       "      <td>Bangladesh</td>\n",
       "      <td>BGD</td>\n",
       "      <td>Southern Asia</td>\n",
       "      <td>Asia</td>\n",
       "      <td>Barisal; Noakhali, Lakshmipur, Chandpur (Chitt...</td>\n",
       "      <td>NaN</td>\n",
       "      <td>Flood</td>\n",
       "      <td>Slide (land, mud, snow, rock)</td>\n",
       "      <td>NaN</td>\n",
       "      <td>NaN</td>\n",
       "      <td>NaN</td>\n",
       "      <td>NaN</td>\n",
       "      <td>Kph</td>\n",
       "      <td>NaN</td>\n",
       "      <td>NaN</td>\n",
       "      <td>NaN</td>\n",
       "      <td>28.0</td>\n",
       "      <td>NaN</td>\n",
       "      <td>1083855.0</td>\n",
       "      <td>119700.0</td>\n",
       "      <td>1203555.0</td>\n",
       "      <td>NaN</td>\n",
       "      <td>NaN</td>\n",
       "      <td>731615.0</td>\n",
       "      <td>Barguna, Bhola, Chandpur, Cox's Bazar, Lakshmi...</td>\n",
       "      <td>2016-05-21</td>\n",
       "      <td>2016-05-21</td>\n",
       "      <td>[Barisal, Noakhali, Lakshmipur, Chandpur, Chit...</td>\n",
       "      <td>0</td>\n",
       "      <td>0</td>\n",
       "      <td>0</td>\n",
       "    </tr>\n",
       "    <tr>\n",
       "      <th>1</th>\n",
       "      <td>2016-0117-ECU</td>\n",
       "      <td>2016</td>\n",
       "      <td>EQ-2016-000035</td>\n",
       "      <td>Natural</td>\n",
       "      <td>Geophysical</td>\n",
       "      <td>Earthquake</td>\n",
       "      <td>Ground movement</td>\n",
       "      <td>NaN</td>\n",
       "      <td>NaN</td>\n",
       "      <td>Ecuador</td>\n",
       "      <td>ECU</td>\n",
       "      <td>South America</td>\n",
       "      <td>Americas</td>\n",
       "      <td>Guayaquil district (Guayas province), Muisne d...</td>\n",
       "      <td>NaN</td>\n",
       "      <td>NaN</td>\n",
       "      <td>Slide (land, mud, snow, rock)</td>\n",
       "      <td>NaN</td>\n",
       "      <td>Yes</td>\n",
       "      <td>44992.0</td>\n",
       "      <td>8.0</td>\n",
       "      <td>Richter</td>\n",
       "      <td>0.382</td>\n",
       "      <td>-79.920</td>\n",
       "      <td>NaN</td>\n",
       "      <td>672.0</td>\n",
       "      <td>6274.0</td>\n",
       "      <td>383090.0</td>\n",
       "      <td>NaN</td>\n",
       "      <td>389364.0</td>\n",
       "      <td>4077535.0</td>\n",
       "      <td>682841.0</td>\n",
       "      <td>2438717.0</td>\n",
       "      <td>Los Rios, Santa Elena, Santo Domingo de los Ts...</td>\n",
       "      <td>2016-04-16</td>\n",
       "      <td>2016-04-16</td>\n",
       "      <td>[Guayaquil district, Guayas province, Muisne d...</td>\n",
       "      <td>0</td>\n",
       "      <td>0</td>\n",
       "      <td>0</td>\n",
       "    </tr>\n",
       "    <tr>\n",
       "      <th>2</th>\n",
       "      <td>2016-0095-CHN</td>\n",
       "      <td>2016</td>\n",
       "      <td>NaN</td>\n",
       "      <td>Natural</td>\n",
       "      <td>Hydrological</td>\n",
       "      <td>Flood</td>\n",
       "      <td>Flash flood</td>\n",
       "      <td>NaN</td>\n",
       "      <td>NaN</td>\n",
       "      <td>China</td>\n",
       "      <td>CHN</td>\n",
       "      <td>Eastern Asia</td>\n",
       "      <td>Asia</td>\n",
       "      <td>Jiangxi Sheng, Hunan Sheng, Guangdong Sheng, G...</td>\n",
       "      <td>Monsoonal rain</td>\n",
       "      <td>Slide (land, mud, snow, rock)</td>\n",
       "      <td>Hail</td>\n",
       "      <td>NaN</td>\n",
       "      <td>NaN</td>\n",
       "      <td>NaN</td>\n",
       "      <td>383224.0</td>\n",
       "      <td>Km2</td>\n",
       "      <td>24.704</td>\n",
       "      <td>113.991</td>\n",
       "      <td>NaN</td>\n",
       "      <td>5.0</td>\n",
       "      <td>NaN</td>\n",
       "      <td>216000.0</td>\n",
       "      <td>3300.0</td>\n",
       "      <td>219300.0</td>\n",
       "      <td>NaN</td>\n",
       "      <td>NaN</td>\n",
       "      <td>207291.0</td>\n",
       "      <td>Guangdong Sheng, Guangxi Zhuangzu Zizhiqu, Gui...</td>\n",
       "      <td>2016-03-19</td>\n",
       "      <td>2016-03-22</td>\n",
       "      <td>[Jiangxi Sheng, Hunan Sheng, Guangdong Sheng, ...</td>\n",
       "      <td>0</td>\n",
       "      <td>0</td>\n",
       "      <td>0</td>\n",
       "    </tr>\n",
       "    <tr>\n",
       "      <th>3</th>\n",
       "      <td>2016-0137-CHN</td>\n",
       "      <td>2016</td>\n",
       "      <td>NaN</td>\n",
       "      <td>Natural</td>\n",
       "      <td>Hydrological</td>\n",
       "      <td>Flood</td>\n",
       "      <td>Riverine flood</td>\n",
       "      <td>NaN</td>\n",
       "      <td>NaN</td>\n",
       "      <td>China</td>\n",
       "      <td>CHN</td>\n",
       "      <td>Eastern Asia</td>\n",
       "      <td>Asia</td>\n",
       "      <td>Anhui, Hubei, Fujian, Zhejiang, Jiangxi, Hunan...</td>\n",
       "      <td>Heavy rains</td>\n",
       "      <td>Slide (land, mud, snow, rock)</td>\n",
       "      <td>Storm</td>\n",
       "      <td>NaN</td>\n",
       "      <td>NaN</td>\n",
       "      <td>NaN</td>\n",
       "      <td>NaN</td>\n",
       "      <td>Km2</td>\n",
       "      <td>NaN</td>\n",
       "      <td>NaN</td>\n",
       "      <td>Yangtze river</td>\n",
       "      <td>20.0</td>\n",
       "      <td>NaN</td>\n",
       "      <td>48000.0</td>\n",
       "      <td>NaN</td>\n",
       "      <td>48000.0</td>\n",
       "      <td>NaN</td>\n",
       "      <td>NaN</td>\n",
       "      <td>118278.0</td>\n",
       "      <td>Anhui Sheng, Fujian Sheng, Guangdong Sheng, Gu...</td>\n",
       "      <td>2016-04-20</td>\n",
       "      <td>2016-04-28</td>\n",
       "      <td>[Anhui, Hubei, Fujian, Zhejiang, Jiangxi, Huna...</td>\n",
       "      <td>0</td>\n",
       "      <td>0</td>\n",
       "      <td>0</td>\n",
       "    </tr>\n",
       "    <tr>\n",
       "      <th>4</th>\n",
       "      <td>2016-0041-FJI</td>\n",
       "      <td>2016</td>\n",
       "      <td>TC-2016-000014</td>\n",
       "      <td>Natural</td>\n",
       "      <td>Meteorological</td>\n",
       "      <td>Storm</td>\n",
       "      <td>Tropical cyclone</td>\n",
       "      <td>NaN</td>\n",
       "      <td>Cyclone Winston</td>\n",
       "      <td>Fiji</td>\n",
       "      <td>FJI</td>\n",
       "      <td>Melanesia</td>\n",
       "      <td>Oceania</td>\n",
       "      <td>Savusavu (Cakaudrove district, Northern provin...</td>\n",
       "      <td>NaN</td>\n",
       "      <td>Flood</td>\n",
       "      <td>Surge</td>\n",
       "      <td>Yes</td>\n",
       "      <td>Yes</td>\n",
       "      <td>41862.0</td>\n",
       "      <td>325.0</td>\n",
       "      <td>Kph</td>\n",
       "      <td>NaN</td>\n",
       "      <td>NaN</td>\n",
       "      <td>NaN</td>\n",
       "      <td>45.0</td>\n",
       "      <td>144.0</td>\n",
       "      <td>540414.0</td>\n",
       "      <td>NaN</td>\n",
       "      <td>540558.0</td>\n",
       "      <td>NaN</td>\n",
       "      <td>60968.0</td>\n",
       "      <td>731615.0</td>\n",
       "      <td>Ba, Bua, Cakaudrove, Lau, Lomaiviti, Macuata, ...</td>\n",
       "      <td>2016-02-20</td>\n",
       "      <td>2016-02-21</td>\n",
       "      <td>[Savusavu, Cakaudrove district, Northern provi...</td>\n",
       "      <td>1</td>\n",
       "      <td>0</td>\n",
       "      <td>0</td>\n",
       "    </tr>\n",
       "    <tr>\n",
       "      <th>5</th>\n",
       "      <td>2016-0112-AFG</td>\n",
       "      <td>2016</td>\n",
       "      <td>FL-2016-000021</td>\n",
       "      <td>Natural</td>\n",
       "      <td>Hydrological</td>\n",
       "      <td>Flood</td>\n",
       "      <td>Flash flood</td>\n",
       "      <td>NaN</td>\n",
       "      <td>NaN</td>\n",
       "      <td>Afghanistan</td>\n",
       "      <td>AFG</td>\n",
       "      <td>Southern Asia</td>\n",
       "      <td>Asia</td>\n",
       "      <td>Daykundi, Ghazni, Uruzgan provinces</td>\n",
       "      <td>NaN</td>\n",
       "      <td>Slide (land, mud, snow, rock)</td>\n",
       "      <td>NaN</td>\n",
       "      <td>NaN</td>\n",
       "      <td>NaN</td>\n",
       "      <td>NaN</td>\n",
       "      <td>NaN</td>\n",
       "      <td>Km2</td>\n",
       "      <td>NaN</td>\n",
       "      <td>NaN</td>\n",
       "      <td>NaN</td>\n",
       "      <td>30.0</td>\n",
       "      <td>NaN</td>\n",
       "      <td>NaN</td>\n",
       "      <td>NaN</td>\n",
       "      <td>NaN</td>\n",
       "      <td>NaN</td>\n",
       "      <td>NaN</td>\n",
       "      <td>NaN</td>\n",
       "      <td>Daykundi, Ghazni, Uruzgan (Adm1).</td>\n",
       "      <td>2016-04-02</td>\n",
       "      <td>2016-04-08</td>\n",
       "      <td>[Daykundi, Ghazni, Uruzgan provinces]</td>\n",
       "      <td>0</td>\n",
       "      <td>0</td>\n",
       "      <td>0</td>\n",
       "    </tr>\n",
       "    <tr>\n",
       "      <th>6</th>\n",
       "      <td>2016-0191-AFG</td>\n",
       "      <td>2016</td>\n",
       "      <td>NaN</td>\n",
       "      <td>Natural</td>\n",
       "      <td>Hydrological</td>\n",
       "      <td>Flood</td>\n",
       "      <td>NaN</td>\n",
       "      <td>NaN</td>\n",
       "      <td>NaN</td>\n",
       "      <td>Afghanistan</td>\n",
       "      <td>AFG</td>\n",
       "      <td>Southern Asia</td>\n",
       "      <td>Asia</td>\n",
       "      <td>Badakhshan (Tashkan, Baharak, Darayem, Shahada...</td>\n",
       "      <td>NaN</td>\n",
       "      <td>Slide (land, mud, snow, rock)</td>\n",
       "      <td>NaN</td>\n",
       "      <td>NaN</td>\n",
       "      <td>NaN</td>\n",
       "      <td>NaN</td>\n",
       "      <td>NaN</td>\n",
       "      <td>Km2</td>\n",
       "      <td>NaN</td>\n",
       "      <td>NaN</td>\n",
       "      <td>NaN</td>\n",
       "      <td>6.0</td>\n",
       "      <td>NaN</td>\n",
       "      <td>NaN</td>\n",
       "      <td>NaN</td>\n",
       "      <td>NaN</td>\n",
       "      <td>NaN</td>\n",
       "      <td>NaN</td>\n",
       "      <td>NaN</td>\n",
       "      <td>Baharak, Darayem, Shuhada, Teshkan (Adm2).</td>\n",
       "      <td>2016-05-09</td>\n",
       "      <td>2016-05-12</td>\n",
       "      <td>[Badakhshan, Tashkan, Baharak, Darayem, Shahad...</td>\n",
       "      <td>0</td>\n",
       "      <td>0</td>\n",
       "      <td>0</td>\n",
       "    </tr>\n",
       "    <tr>\n",
       "      <th>7</th>\n",
       "      <td>2016-0246-BOL</td>\n",
       "      <td>2016</td>\n",
       "      <td>NaN</td>\n",
       "      <td>Natural</td>\n",
       "      <td>Hydrological</td>\n",
       "      <td>Flood</td>\n",
       "      <td>NaN</td>\n",
       "      <td>NaN</td>\n",
       "      <td>NaN</td>\n",
       "      <td>Bolivia (Plurinational State of)</td>\n",
       "      <td>BOL</td>\n",
       "      <td>South America</td>\n",
       "      <td>Americas</td>\n",
       "      <td>Sur Yungas, Nor Yungas, Camacho, Bautista Saav...</td>\n",
       "      <td>Heavy rains</td>\n",
       "      <td>Slide (land, mud, snow, rock)</td>\n",
       "      <td>NaN</td>\n",
       "      <td>NaN</td>\n",
       "      <td>NaN</td>\n",
       "      <td>NaN</td>\n",
       "      <td>190581.0</td>\n",
       "      <td>Km2</td>\n",
       "      <td>-12.843</td>\n",
       "      <td>-64.930</td>\n",
       "      <td>NaN</td>\n",
       "      <td>NaN</td>\n",
       "      <td>NaN</td>\n",
       "      <td>120.0</td>\n",
       "      <td>NaN</td>\n",
       "      <td>120.0</td>\n",
       "      <td>NaN</td>\n",
       "      <td>NaN</td>\n",
       "      <td>NaN</td>\n",
       "      <td>Arani, Bautista Saavedra, Camacho, Carrasco, F...</td>\n",
       "      <td>2016-02-28</td>\n",
       "      <td>2016-03-03</td>\n",
       "      <td>[Sur Yungas, Nor Yungas, Camacho, Bautista Saa...</td>\n",
       "      <td>0</td>\n",
       "      <td>0</td>\n",
       "      <td>0</td>\n",
       "    </tr>\n",
       "    <tr>\n",
       "      <th>8</th>\n",
       "      <td>2016-0077-BRA</td>\n",
       "      <td>2016</td>\n",
       "      <td>NaN</td>\n",
       "      <td>Natural</td>\n",
       "      <td>Hydrological</td>\n",
       "      <td>Flood</td>\n",
       "      <td>Flash flood</td>\n",
       "      <td>NaN</td>\n",
       "      <td>NaN</td>\n",
       "      <td>Brazil</td>\n",
       "      <td>BRA</td>\n",
       "      <td>South America</td>\n",
       "      <td>Americas</td>\n",
       "      <td>Mairipora, Francisco Morato, Itapevi, Guarulho...</td>\n",
       "      <td>Torrential arins</td>\n",
       "      <td>Slide (land, mud, snow, rock)</td>\n",
       "      <td>NaN</td>\n",
       "      <td>NaN</td>\n",
       "      <td>NaN</td>\n",
       "      <td>NaN</td>\n",
       "      <td>NaN</td>\n",
       "      <td>Km2</td>\n",
       "      <td>NaN</td>\n",
       "      <td>NaN</td>\n",
       "      <td>Pinheiros</td>\n",
       "      <td>30.0</td>\n",
       "      <td>NaN</td>\n",
       "      <td>NaN</td>\n",
       "      <td>NaN</td>\n",
       "      <td>NaN</td>\n",
       "      <td>NaN</td>\n",
       "      <td>NaN</td>\n",
       "      <td>121936.0</td>\n",
       "      <td>Rio De Janeiro (Adm1). Cajamar, Francisco Mora...</td>\n",
       "      <td>2016-03-10</td>\n",
       "      <td>2016-03-11</td>\n",
       "      <td>[Mairipora, Francisco Morato, Itapevi, Guarulh...</td>\n",
       "      <td>0</td>\n",
       "      <td>0</td>\n",
       "      <td>0</td>\n",
       "    </tr>\n",
       "    <tr>\n",
       "      <th>9</th>\n",
       "      <td>2016-0241-CHN</td>\n",
       "      <td>2016</td>\n",
       "      <td>NaN</td>\n",
       "      <td>Natural</td>\n",
       "      <td>Hydrological</td>\n",
       "      <td>Flood</td>\n",
       "      <td>NaN</td>\n",
       "      <td>NaN</td>\n",
       "      <td>NaN</td>\n",
       "      <td>China</td>\n",
       "      <td>CHN</td>\n",
       "      <td>Eastern Asia</td>\n",
       "      <td>Asia</td>\n",
       "      <td>Jiangsu, Anhui, Jiangxi, Henan, Hubei, Hunan, ...</td>\n",
       "      <td>Heavy rains</td>\n",
       "      <td>Slide (land, mud, snow, rock)</td>\n",
       "      <td>NaN</td>\n",
       "      <td>NaN</td>\n",
       "      <td>NaN</td>\n",
       "      <td>NaN</td>\n",
       "      <td>720844.0</td>\n",
       "      <td>Km2</td>\n",
       "      <td>27.976</td>\n",
       "      <td>114.240</td>\n",
       "      <td>Yangtze river</td>\n",
       "      <td>289.0</td>\n",
       "      <td>NaN</td>\n",
       "      <td>60000000.0</td>\n",
       "      <td>NaN</td>\n",
       "      <td>60000000.0</td>\n",
       "      <td>NaN</td>\n",
       "      <td>526763.0</td>\n",
       "      <td>26825889.0</td>\n",
       "      <td>Anhui Sheng, Chongqing Shi, Guangxi Zhuangzu Z...</td>\n",
       "      <td>2016-06-28</td>\n",
       "      <td>2016-07-13</td>\n",
       "      <td>[Jiangsu, Anhui, Jiangxi, Henan, Hubei, Hunan,...</td>\n",
       "      <td>0</td>\n",
       "      <td>0</td>\n",
       "      <td>0</td>\n",
       "    </tr>\n",
       "    <tr>\n",
       "      <th>10</th>\n",
       "      <td>2016-0039-ECU</td>\n",
       "      <td>2016</td>\n",
       "      <td>NaN</td>\n",
       "      <td>Natural</td>\n",
       "      <td>Hydrological</td>\n",
       "      <td>Flood</td>\n",
       "      <td>Riverine flood</td>\n",
       "      <td>NaN</td>\n",
       "      <td>NaN</td>\n",
       "      <td>Ecuador</td>\n",
       "      <td>ECU</td>\n",
       "      <td>South America</td>\n",
       "      <td>Americas</td>\n",
       "      <td>Atacames, Rioverde, Esmeraldas districts (Esme...</td>\n",
       "      <td>Heavy rains</td>\n",
       "      <td>Slide (land, mud, snow, rock)</td>\n",
       "      <td>NaN</td>\n",
       "      <td>NaN</td>\n",
       "      <td>Yes</td>\n",
       "      <td>NaN</td>\n",
       "      <td>NaN</td>\n",
       "      <td>Km2</td>\n",
       "      <td>NaN</td>\n",
       "      <td>NaN</td>\n",
       "      <td>Esmeraldas, Muisne, Quininde, San Lorenzo, Elo...</td>\n",
       "      <td>NaN</td>\n",
       "      <td>NaN</td>\n",
       "      <td>23955.0</td>\n",
       "      <td>NaN</td>\n",
       "      <td>23955.0</td>\n",
       "      <td>NaN</td>\n",
       "      <td>NaN</td>\n",
       "      <td>NaN</td>\n",
       "      <td>Atacames, Esmeraldas, Rioverde (Adm2).</td>\n",
       "      <td>2016-01-24</td>\n",
       "      <td>2016-01-26</td>\n",
       "      <td>[Atacames, Rioverde, Esmeraldas districts, Esm...</td>\n",
       "      <td>0</td>\n",
       "      <td>0</td>\n",
       "      <td>0</td>\n",
       "    </tr>\n",
       "    <tr>\n",
       "      <th>11</th>\n",
       "      <td>2016-0101-ETH</td>\n",
       "      <td>2016</td>\n",
       "      <td>FL-2016-000045</td>\n",
       "      <td>Natural</td>\n",
       "      <td>Hydrological</td>\n",
       "      <td>Flood</td>\n",
       "      <td>Flash flood</td>\n",
       "      <td>NaN</td>\n",
       "      <td>NaN</td>\n",
       "      <td>Ethiopia</td>\n",
       "      <td>ETH</td>\n",
       "      <td>Eastern Africa</td>\n",
       "      <td>Africa</td>\n",
       "      <td>Jijiga city (Fafan district, Somali province),...</td>\n",
       "      <td>Torrential rains, El Nino</td>\n",
       "      <td>Slide (land, mud, snow, rock)</td>\n",
       "      <td>NaN</td>\n",
       "      <td>NaN</td>\n",
       "      <td>NaN</td>\n",
       "      <td>NaN</td>\n",
       "      <td>2440002.0</td>\n",
       "      <td>Km2</td>\n",
       "      <td>9.268</td>\n",
       "      <td>41.691</td>\n",
       "      <td>Fafen river</td>\n",
       "      <td>28.0</td>\n",
       "      <td>80.0</td>\n",
       "      <td>2000.0</td>\n",
       "      <td>1000.0</td>\n",
       "      <td>3080.0</td>\n",
       "      <td>NaN</td>\n",
       "      <td>NaN</td>\n",
       "      <td>NaN</td>\n",
       "      <td>Afar, Amhara, Oromia, Tigray (Adm1). Fafan, Wo...</td>\n",
       "      <td>2016-04-02</td>\n",
       "      <td>2016-04-07</td>\n",
       "      <td>[Jijiga city, Fafan district, Somali province,...</td>\n",
       "      <td>0</td>\n",
       "      <td>0</td>\n",
       "      <td>0</td>\n",
       "    </tr>\n",
       "    <tr>\n",
       "      <th>12</th>\n",
       "      <td>2016-0186-ETH</td>\n",
       "      <td>2016</td>\n",
       "      <td>NaN</td>\n",
       "      <td>Natural</td>\n",
       "      <td>Hydrological</td>\n",
       "      <td>Flood</td>\n",
       "      <td>Flash flood</td>\n",
       "      <td>NaN</td>\n",
       "      <td>NaN</td>\n",
       "      <td>Ethiopia</td>\n",
       "      <td>ETH</td>\n",
       "      <td>Eastern Africa</td>\n",
       "      <td>Africa</td>\n",
       "      <td>Wolayita district (SNNPR province), Bale distr...</td>\n",
       "      <td>Torrential rains</td>\n",
       "      <td>Slide (land, mud, snow, rock)</td>\n",
       "      <td>NaN</td>\n",
       "      <td>NaN</td>\n",
       "      <td>NaN</td>\n",
       "      <td>NaN</td>\n",
       "      <td>NaN</td>\n",
       "      <td>Km2</td>\n",
       "      <td>NaN</td>\n",
       "      <td>NaN</td>\n",
       "      <td>Shabelle river</td>\n",
       "      <td>100.0</td>\n",
       "      <td>NaN</td>\n",
       "      <td>490000.0</td>\n",
       "      <td>NaN</td>\n",
       "      <td>490000.0</td>\n",
       "      <td>NaN</td>\n",
       "      <td>NaN</td>\n",
       "      <td>NaN</td>\n",
       "      <td>Bale, Wolayita (Adm2).</td>\n",
       "      <td>2016-05-09</td>\n",
       "      <td>2016-05-20</td>\n",
       "      <td>[Wolayita district, SNNPR province, Bale distr...</td>\n",
       "      <td>0</td>\n",
       "      <td>0</td>\n",
       "      <td>0</td>\n",
       "    </tr>\n",
       "    <tr>\n",
       "      <th>13</th>\n",
       "      <td>2016-0126-HTI</td>\n",
       "      <td>2016</td>\n",
       "      <td>NaN</td>\n",
       "      <td>Natural</td>\n",
       "      <td>Hydrological</td>\n",
       "      <td>Flood</td>\n",
       "      <td>NaN</td>\n",
       "      <td>NaN</td>\n",
       "      <td>NaN</td>\n",
       "      <td>Haiti</td>\n",
       "      <td>HTI</td>\n",
       "      <td>Caribbean</td>\n",
       "      <td>Americas</td>\n",
       "      <td>Port-au-Prince city (Port-au-Prince district, ...</td>\n",
       "      <td>Heavy rains</td>\n",
       "      <td>Slide (land, mud, snow, rock)</td>\n",
       "      <td>NaN</td>\n",
       "      <td>NaN</td>\n",
       "      <td>NaN</td>\n",
       "      <td>NaN</td>\n",
       "      <td>NaN</td>\n",
       "      <td>Km2</td>\n",
       "      <td>NaN</td>\n",
       "      <td>NaN</td>\n",
       "      <td>NaN</td>\n",
       "      <td>6.0</td>\n",
       "      <td>10.0</td>\n",
       "      <td>22060.0</td>\n",
       "      <td>NaN</td>\n",
       "      <td>22070.0</td>\n",
       "      <td>NaN</td>\n",
       "      <td>NaN</td>\n",
       "      <td>NaN</td>\n",
       "      <td>Port-Au-Prince (Adm2).</td>\n",
       "      <td>2016-04-23</td>\n",
       "      <td>2016-04-24</td>\n",
       "      <td>[Port-au-Prince city, Port-au-Prince district,...</td>\n",
       "      <td>0</td>\n",
       "      <td>0</td>\n",
       "      <td>0</td>\n",
       "    </tr>\n",
       "    <tr>\n",
       "      <th>14</th>\n",
       "      <td>2016-0172-CAN</td>\n",
       "      <td>2016</td>\n",
       "      <td>NaN</td>\n",
       "      <td>Natural</td>\n",
       "      <td>Climatological</td>\n",
       "      <td>Wildfire</td>\n",
       "      <td>Forest fire</td>\n",
       "      <td>NaN</td>\n",
       "      <td>Fort McMurray wildfires</td>\n",
       "      <td>Canada</td>\n",
       "      <td>CAN</td>\n",
       "      <td>Northern America</td>\n",
       "      <td>Americas</td>\n",
       "      <td>Fort McMurray city (Wood Buffalo area, Divisio...</td>\n",
       "      <td>NaN</td>\n",
       "      <td>Explosion</td>\n",
       "      <td>NaN</td>\n",
       "      <td>NaN</td>\n",
       "      <td>NaN</td>\n",
       "      <td>NaN</td>\n",
       "      <td>6000.0</td>\n",
       "      <td>Km2</td>\n",
       "      <td>NaN</td>\n",
       "      <td>NaN</td>\n",
       "      <td>NaN</td>\n",
       "      <td>NaN</td>\n",
       "      <td>NaN</td>\n",
       "      <td>88000.0</td>\n",
       "      <td>NaN</td>\n",
       "      <td>88000.0</td>\n",
       "      <td>NaN</td>\n",
       "      <td>3536140.0</td>\n",
       "      <td>4877434.0</td>\n",
       "      <td>Division No. 16 (Adm2).</td>\n",
       "      <td>2016-05-01</td>\n",
       "      <td>2016-07-04</td>\n",
       "      <td>[Fort McMurray city, Wood Buffalo area, Divisi...</td>\n",
       "      <td>0</td>\n",
       "      <td>0</td>\n",
       "      <td>0</td>\n",
       "    </tr>\n",
       "    <tr>\n",
       "      <th>15</th>\n",
       "      <td>2016-0140-CHN</td>\n",
       "      <td>2016</td>\n",
       "      <td>NaN</td>\n",
       "      <td>Natural</td>\n",
       "      <td>Meteorological</td>\n",
       "      <td>Storm</td>\n",
       "      <td>Convective storm</td>\n",
       "      <td>Lightning/Thunderstorms</td>\n",
       "      <td>NaN</td>\n",
       "      <td>China</td>\n",
       "      <td>CHN</td>\n",
       "      <td>Eastern Asia</td>\n",
       "      <td>Asia</td>\n",
       "      <td>Hubei Sheng, Henan Sheng, Shaanxi Sheng, Guang...</td>\n",
       "      <td>NaN</td>\n",
       "      <td>Hail</td>\n",
       "      <td>NaN</td>\n",
       "      <td>NaN</td>\n",
       "      <td>NaN</td>\n",
       "      <td>NaN</td>\n",
       "      <td>NaN</td>\n",
       "      <td>Kph</td>\n",
       "      <td>NaN</td>\n",
       "      <td>NaN</td>\n",
       "      <td>NaN</td>\n",
       "      <td>NaN</td>\n",
       "      <td>49.0</td>\n",
       "      <td>6000.0</td>\n",
       "      <td>NaN</td>\n",
       "      <td>6049.0</td>\n",
       "      <td>NaN</td>\n",
       "      <td>NaN</td>\n",
       "      <td>246310.0</td>\n",
       "      <td>Guangxi Zhuangzu Zizhiqu, Guizhou Sheng, Henan...</td>\n",
       "      <td>2016-04-24</td>\n",
       "      <td>2016-04-27</td>\n",
       "      <td>[Hubei Sheng, Henan Sheng, Shaanxi Sheng, Guan...</td>\n",
       "      <td>0</td>\n",
       "      <td>0</td>\n",
       "      <td>0</td>\n",
       "    </tr>\n",
       "    <tr>\n",
       "      <th>16</th>\n",
       "      <td>2016-0230-CHN</td>\n",
       "      <td>2016</td>\n",
       "      <td>NaN</td>\n",
       "      <td>Natural</td>\n",
       "      <td>Meteorological</td>\n",
       "      <td>Storm</td>\n",
       "      <td>Convective storm</td>\n",
       "      <td>NaN</td>\n",
       "      <td>NaN</td>\n",
       "      <td>China</td>\n",
       "      <td>CHN</td>\n",
       "      <td>Eastern Asia</td>\n",
       "      <td>Asia</td>\n",
       "      <td>Shanxi Sheng, Henan Sheng, Hebei Sheng, Hubei ...</td>\n",
       "      <td>NaN</td>\n",
       "      <td>Hail</td>\n",
       "      <td>NaN</td>\n",
       "      <td>NaN</td>\n",
       "      <td>NaN</td>\n",
       "      <td>NaN</td>\n",
       "      <td>NaN</td>\n",
       "      <td>Kph</td>\n",
       "      <td>NaN</td>\n",
       "      <td>NaN</td>\n",
       "      <td>NaN</td>\n",
       "      <td>12.0</td>\n",
       "      <td>NaN</td>\n",
       "      <td>150000.0</td>\n",
       "      <td>NaN</td>\n",
       "      <td>150000.0</td>\n",
       "      <td>NaN</td>\n",
       "      <td>NaN</td>\n",
       "      <td>936467.0</td>\n",
       "      <td>Gansu Sheng, Guangdong Sheng, Guangxi Zhuangzu...</td>\n",
       "      <td>2016-06-02</td>\n",
       "      <td>2016-06-08</td>\n",
       "      <td>[Shanxi Sheng, Henan Sheng, Hebei Sheng, Hubei...</td>\n",
       "      <td>0</td>\n",
       "      <td>0</td>\n",
       "      <td>0</td>\n",
       "    </tr>\n",
       "    <tr>\n",
       "      <th>17</th>\n",
       "      <td>2016-0201-AUS</td>\n",
       "      <td>2016</td>\n",
       "      <td>NaN</td>\n",
       "      <td>Natural</td>\n",
       "      <td>Meteorological</td>\n",
       "      <td>Storm</td>\n",
       "      <td>Convective storm</td>\n",
       "      <td>Winter storm/Blizzard</td>\n",
       "      <td>NaN</td>\n",
       "      <td>Australia</td>\n",
       "      <td>AUS</td>\n",
       "      <td>Australia and New Zealand</td>\n",
       "      <td>Oceania</td>\n",
       "      <td>New South Wales, Queensland, Tasmania provinces</td>\n",
       "      <td>NaN</td>\n",
       "      <td>Flood</td>\n",
       "      <td>NaN</td>\n",
       "      <td>NaN</td>\n",
       "      <td>NaN</td>\n",
       "      <td>NaN</td>\n",
       "      <td>115.0</td>\n",
       "      <td>Kph</td>\n",
       "      <td>NaN</td>\n",
       "      <td>NaN</td>\n",
       "      <td>NaN</td>\n",
       "      <td>5.0</td>\n",
       "      <td>NaN</td>\n",
       "      <td>NaN</td>\n",
       "      <td>NaN</td>\n",
       "      <td>NaN</td>\n",
       "      <td>NaN</td>\n",
       "      <td>378001.0</td>\n",
       "      <td>609679.0</td>\n",
       "      <td>New South Wales, Queensland, Tasmania (Adm1).</td>\n",
       "      <td>2016-06-04</td>\n",
       "      <td>2016-06-05</td>\n",
       "      <td>[New South Wales, Queensland, Tasmania provinces]</td>\n",
       "      <td>0</td>\n",
       "      <td>0</td>\n",
       "      <td>0</td>\n",
       "    </tr>\n",
       "    <tr>\n",
       "      <th>18</th>\n",
       "      <td>2016-0211-BEL</td>\n",
       "      <td>2016</td>\n",
       "      <td>NaN</td>\n",
       "      <td>Natural</td>\n",
       "      <td>Meteorological</td>\n",
       "      <td>Storm</td>\n",
       "      <td>Convective storm</td>\n",
       "      <td>Lightning/Thunderstorms</td>\n",
       "      <td>NaN</td>\n",
       "      <td>Belgium</td>\n",
       "      <td>BEL</td>\n",
       "      <td>Western Europe</td>\n",
       "      <td>Europe</td>\n",
       "      <td>Manage village (Mons region, Hainaut district,...</td>\n",
       "      <td>NaN</td>\n",
       "      <td>Flood</td>\n",
       "      <td>NaN</td>\n",
       "      <td>NaN</td>\n",
       "      <td>NaN</td>\n",
       "      <td>NaN</td>\n",
       "      <td>NaN</td>\n",
       "      <td>Kph</td>\n",
       "      <td>NaN</td>\n",
       "      <td>NaN</td>\n",
       "      <td>NaN</td>\n",
       "      <td>1.0</td>\n",
       "      <td>NaN</td>\n",
       "      <td>NaN</td>\n",
       "      <td>NaN</td>\n",
       "      <td>NaN</td>\n",
       "      <td>NaN</td>\n",
       "      <td>NaN</td>\n",
       "      <td>NaN</td>\n",
       "      <td>Area without administration at 2nd level, Brab...</td>\n",
       "      <td>2016-06-23</td>\n",
       "      <td>2016-06-24</td>\n",
       "      <td>[Manage village, Mons region, Hainaut district...</td>\n",
       "      <td>0</td>\n",
       "      <td>0</td>\n",
       "      <td>0</td>\n",
       "    </tr>\n",
       "    <tr>\n",
       "      <th>19</th>\n",
       "      <td>2016-0256-CHN</td>\n",
       "      <td>2016</td>\n",
       "      <td>NaN</td>\n",
       "      <td>Natural</td>\n",
       "      <td>Meteorological</td>\n",
       "      <td>Storm</td>\n",
       "      <td>Tropical cyclone</td>\n",
       "      <td>NaN</td>\n",
       "      <td>Typhoon Butchoy (Nepartak)</td>\n",
       "      <td>China</td>\n",
       "      <td>CHN</td>\n",
       "      <td>Eastern Asia</td>\n",
       "      <td>Asia</td>\n",
       "      <td>Fujian Sheng province</td>\n",
       "      <td>NaN</td>\n",
       "      <td>Flood</td>\n",
       "      <td>NaN</td>\n",
       "      <td>NaN</td>\n",
       "      <td>NaN</td>\n",
       "      <td>NaN</td>\n",
       "      <td>NaN</td>\n",
       "      <td>Kph</td>\n",
       "      <td>NaN</td>\n",
       "      <td>NaN</td>\n",
       "      <td>NaN</td>\n",
       "      <td>69.0</td>\n",
       "      <td>NaN</td>\n",
       "      <td>NaN</td>\n",
       "      <td>24900.0</td>\n",
       "      <td>24900.0</td>\n",
       "      <td>NaN</td>\n",
       "      <td>NaN</td>\n",
       "      <td>1842646.0</td>\n",
       "      <td>Fujian Sheng (Adm1).</td>\n",
       "      <td>2016-07-09</td>\n",
       "      <td>2016-07-09</td>\n",
       "      <td>[Fujian Sheng province]</td>\n",
       "      <td>0</td>\n",
       "      <td>0</td>\n",
       "      <td>0</td>\n",
       "    </tr>\n",
       "    <tr>\n",
       "      <th>20</th>\n",
       "      <td>2016-0162-CHN</td>\n",
       "      <td>2016</td>\n",
       "      <td>NaN</td>\n",
       "      <td>Natural</td>\n",
       "      <td>Hydrological</td>\n",
       "      <td>Landslide</td>\n",
       "      <td>Mudslide</td>\n",
       "      <td>NaN</td>\n",
       "      <td>NaN</td>\n",
       "      <td>China</td>\n",
       "      <td>CHN</td>\n",
       "      <td>Eastern Asia</td>\n",
       "      <td>Asia</td>\n",
       "      <td>Sanming district (Fujian Sheng province), Guan...</td>\n",
       "      <td>Heavy rains</td>\n",
       "      <td>Flood</td>\n",
       "      <td>NaN</td>\n",
       "      <td>NaN</td>\n",
       "      <td>NaN</td>\n",
       "      <td>NaN</td>\n",
       "      <td>NaN</td>\n",
       "      <td>NaN</td>\n",
       "      <td>NaN</td>\n",
       "      <td>NaN</td>\n",
       "      <td>NaN</td>\n",
       "      <td>66.0</td>\n",
       "      <td>NaN</td>\n",
       "      <td>237600.0</td>\n",
       "      <td>NaN</td>\n",
       "      <td>237600.0</td>\n",
       "      <td>NaN</td>\n",
       "      <td>NaN</td>\n",
       "      <td>853551.0</td>\n",
       "      <td>Guangdong Sheng, Guangxi Zhuangzu Zizhiqu (Adm...</td>\n",
       "      <td>2016-05-04</td>\n",
       "      <td>2016-05-11</td>\n",
       "      <td>[Sanming district, Fujian Sheng province, Guan...</td>\n",
       "      <td>0</td>\n",
       "      <td>0</td>\n",
       "      <td>0</td>\n",
       "    </tr>\n",
       "    <tr>\n",
       "      <th>21</th>\n",
       "      <td>2016-0141-FJI</td>\n",
       "      <td>2016</td>\n",
       "      <td>NaN</td>\n",
       "      <td>Natural</td>\n",
       "      <td>Meteorological</td>\n",
       "      <td>Storm</td>\n",
       "      <td>Tropical cyclone</td>\n",
       "      <td>NaN</td>\n",
       "      <td>Tropical cyclone Zena</td>\n",
       "      <td>Fiji</td>\n",
       "      <td>FJI</td>\n",
       "      <td>Melanesia</td>\n",
       "      <td>Oceania</td>\n",
       "      <td>Central, Western provinces (Viti Levu Isl.)</td>\n",
       "      <td>NaN</td>\n",
       "      <td>Flood</td>\n",
       "      <td>NaN</td>\n",
       "      <td>NaN</td>\n",
       "      <td>NaN</td>\n",
       "      <td>NaN</td>\n",
       "      <td>NaN</td>\n",
       "      <td>Kph</td>\n",
       "      <td>NaN</td>\n",
       "      <td>NaN</td>\n",
       "      <td>NaN</td>\n",
       "      <td>2.0</td>\n",
       "      <td>NaN</td>\n",
       "      <td>5000.0</td>\n",
       "      <td>NaN</td>\n",
       "      <td>5000.0</td>\n",
       "      <td>NaN</td>\n",
       "      <td>NaN</td>\n",
       "      <td>NaN</td>\n",
       "      <td>Central, Western (Adm1).</td>\n",
       "      <td>2016-04-04</td>\n",
       "      <td>2016-04-07</td>\n",
       "      <td>[Central, Western provinces, Viti Levu Isl.]</td>\n",
       "      <td>0</td>\n",
       "      <td>0</td>\n",
       "      <td>0</td>\n",
       "    </tr>\n",
       "    <tr>\n",
       "      <th>23</th>\n",
       "      <td>2016-0165-HTI</td>\n",
       "      <td>2016</td>\n",
       "      <td>NaN</td>\n",
       "      <td>Natural</td>\n",
       "      <td>Hydrological</td>\n",
       "      <td>Flood</td>\n",
       "      <td>Riverine flood</td>\n",
       "      <td>NaN</td>\n",
       "      <td>NaN</td>\n",
       "      <td>Haiti</td>\n",
       "      <td>HTI</td>\n",
       "      <td>Caribbean</td>\n",
       "      <td>Americas</td>\n",
       "      <td>Bombardopolis city (Mole Saint Nicolas distric...</td>\n",
       "      <td>NaN</td>\n",
       "      <td>Transport accident</td>\n",
       "      <td>NaN</td>\n",
       "      <td>NaN</td>\n",
       "      <td>NaN</td>\n",
       "      <td>NaN</td>\n",
       "      <td>NaN</td>\n",
       "      <td>Km2</td>\n",
       "      <td>NaN</td>\n",
       "      <td>NaN</td>\n",
       "      <td>NaN</td>\n",
       "      <td>23.0</td>\n",
       "      <td>NaN</td>\n",
       "      <td>NaN</td>\n",
       "      <td>NaN</td>\n",
       "      <td>NaN</td>\n",
       "      <td>NaN</td>\n",
       "      <td>NaN</td>\n",
       "      <td>NaN</td>\n",
       "      <td>Gonaives, Mole Saint Nicolas (Adm2).</td>\n",
       "      <td>2016-05-02</td>\n",
       "      <td>2016-05-02</td>\n",
       "      <td>[Bombardopolis city, Mole Saint Nicolas distri...</td>\n",
       "      <td>0</td>\n",
       "      <td>0</td>\n",
       "      <td>0</td>\n",
       "    </tr>\n",
       "    <tr>\n",
       "      <th>24</th>\n",
       "      <td>2016-0154-BGD</td>\n",
       "      <td>2016</td>\n",
       "      <td>NaN</td>\n",
       "      <td>Natural</td>\n",
       "      <td>Meteorological</td>\n",
       "      <td>Storm</td>\n",
       "      <td>Convective storm</td>\n",
       "      <td>Lightning/Thunderstorms</td>\n",
       "      <td>NaN</td>\n",
       "      <td>Bangladesh</td>\n",
       "      <td>BGD</td>\n",
       "      <td>Southern Asia</td>\n",
       "      <td>Asia</td>\n",
       "      <td>Dhaka (Jatrabarhi’s Konaparha), Rajshahi (Moha...</td>\n",
       "      <td>NaN</td>\n",
       "      <td>Lightening</td>\n",
       "      <td>NaN</td>\n",
       "      <td>NaN</td>\n",
       "      <td>NaN</td>\n",
       "      <td>NaN</td>\n",
       "      <td>NaN</td>\n",
       "      <td>Kph</td>\n",
       "      <td>NaN</td>\n",
       "      <td>NaN</td>\n",
       "      <td>NaN</td>\n",
       "      <td>59.0</td>\n",
       "      <td>NaN</td>\n",
       "      <td>NaN</td>\n",
       "      <td>NaN</td>\n",
       "      <td>NaN</td>\n",
       "      <td>NaN</td>\n",
       "      <td>NaN</td>\n",
       "      <td>NaN</td>\n",
       "      <td>Bogra, Brahamanbaria, Dhaka, Gazipur, Habiganj...</td>\n",
       "      <td>2016-05-13</td>\n",
       "      <td>2016-05-15</td>\n",
       "      <td>[Dhaka, Jatrabarhi’s Konaparha, Rajshahi, Moha...</td>\n",
       "      <td>0</td>\n",
       "      <td>0</td>\n",
       "      <td>0</td>\n",
       "    </tr>\n",
       "    <tr>\n",
       "      <th>25</th>\n",
       "      <td>2016-0179-FRA</td>\n",
       "      <td>2016</td>\n",
       "      <td>NaN</td>\n",
       "      <td>Natural</td>\n",
       "      <td>Hydrological</td>\n",
       "      <td>Flood</td>\n",
       "      <td>NaN</td>\n",
       "      <td>NaN</td>\n",
       "      <td>NaN</td>\n",
       "      <td>France</td>\n",
       "      <td>FRA</td>\n",
       "      <td>Western Europe</td>\n",
       "      <td>Europe</td>\n",
       "      <td>Yvelines, Paris districts (Ile-de-France provi...</td>\n",
       "      <td>Heavy rains</td>\n",
       "      <td>Lightening</td>\n",
       "      <td>NaN</td>\n",
       "      <td>NaN</td>\n",
       "      <td>NaN</td>\n",
       "      <td>NaN</td>\n",
       "      <td>NaN</td>\n",
       "      <td>Km2</td>\n",
       "      <td>NaN</td>\n",
       "      <td>NaN</td>\n",
       "      <td>Seine, Loing, Yonne</td>\n",
       "      <td>5.0</td>\n",
       "      <td>24.0</td>\n",
       "      <td>NaN</td>\n",
       "      <td>NaN</td>\n",
       "      <td>24.0</td>\n",
       "      <td>NaN</td>\n",
       "      <td>1585166.0</td>\n",
       "      <td>2926461.0</td>\n",
       "      <td>Calvados, Eure, Manche, Marne, Orne, Paris, Se...</td>\n",
       "      <td>2016-05-31</td>\n",
       "      <td>2016-06-05</td>\n",
       "      <td>[Yvelines, Paris districts, Ile-de-France prov...</td>\n",
       "      <td>0</td>\n",
       "      <td>0</td>\n",
       "      <td>0</td>\n",
       "    </tr>\n",
       "    <tr>\n",
       "      <th>26</th>\n",
       "      <td>2016-0053-HTI</td>\n",
       "      <td>2016</td>\n",
       "      <td>NaN</td>\n",
       "      <td>Natural</td>\n",
       "      <td>Hydrological</td>\n",
       "      <td>Flood</td>\n",
       "      <td>Riverine flood</td>\n",
       "      <td>NaN</td>\n",
       "      <td>NaN</td>\n",
       "      <td>Haiti</td>\n",
       "      <td>HTI</td>\n",
       "      <td>Caribbean</td>\n",
       "      <td>Americas</td>\n",
       "      <td>Cap-Haitien, Limonade cities (Cap Haitien dist...</td>\n",
       "      <td>Heavy rains</td>\n",
       "      <td>Lightening</td>\n",
       "      <td>NaN</td>\n",
       "      <td>NaN</td>\n",
       "      <td>NaN</td>\n",
       "      <td>NaN</td>\n",
       "      <td>NaN</td>\n",
       "      <td>Km2</td>\n",
       "      <td>NaN</td>\n",
       "      <td>NaN</td>\n",
       "      <td>Mapou river</td>\n",
       "      <td>5.0</td>\n",
       "      <td>7660.0</td>\n",
       "      <td>40620.0</td>\n",
       "      <td>NaN</td>\n",
       "      <td>48280.0</td>\n",
       "      <td>NaN</td>\n",
       "      <td>NaN</td>\n",
       "      <td>2439.0</td>\n",
       "      <td>Grande Anse (Adm1). Cap Haitien (Adm2).</td>\n",
       "      <td>2016-02-28</td>\n",
       "      <td>2016-02-28</td>\n",
       "      <td>[Cap-Haitien, Limonade cities, Cap Haitien dis...</td>\n",
       "      <td>0</td>\n",
       "      <td>0</td>\n",
       "      <td>0</td>\n",
       "    </tr>\n",
       "    <tr>\n",
       "      <th>27</th>\n",
       "      <td>2016-0135-AFG</td>\n",
       "      <td>2016</td>\n",
       "      <td>NaN</td>\n",
       "      <td>Natural</td>\n",
       "      <td>Hydrological</td>\n",
       "      <td>Flood</td>\n",
       "      <td>Flash flood</td>\n",
       "      <td>NaN</td>\n",
       "      <td>NaN</td>\n",
       "      <td>Afghanistan</td>\n",
       "      <td>AFG</td>\n",
       "      <td>Southern Asia</td>\n",
       "      <td>Asia</td>\n",
       "      <td>Baghlan, Daykundi, Samangan, Takhar, Badghis p...</td>\n",
       "      <td>Heavy rains</td>\n",
       "      <td>NaN</td>\n",
       "      <td>NaN</td>\n",
       "      <td>NaN</td>\n",
       "      <td>NaN</td>\n",
       "      <td>NaN</td>\n",
       "      <td>NaN</td>\n",
       "      <td>Km2</td>\n",
       "      <td>NaN</td>\n",
       "      <td>NaN</td>\n",
       "      <td>NaN</td>\n",
       "      <td>31.0</td>\n",
       "      <td>NaN</td>\n",
       "      <td>NaN</td>\n",
       "      <td>NaN</td>\n",
       "      <td>NaN</td>\n",
       "      <td>NaN</td>\n",
       "      <td>NaN</td>\n",
       "      <td>NaN</td>\n",
       "      <td>Badghis, Baghlan, Daykundi, Samangan, Takhar (...</td>\n",
       "      <td>2016-04-16</td>\n",
       "      <td>2016-04-17</td>\n",
       "      <td>[Baghlan, Daykundi, Samangan, Takhar, Badghis ...</td>\n",
       "      <td>0</td>\n",
       "      <td>0</td>\n",
       "      <td>0</td>\n",
       "    </tr>\n",
       "    <tr>\n",
       "      <th>28</th>\n",
       "      <td>2016-0309-AFG</td>\n",
       "      <td>2016</td>\n",
       "      <td>NaN</td>\n",
       "      <td>Natural</td>\n",
       "      <td>Hydrological</td>\n",
       "      <td>Flood</td>\n",
       "      <td>NaN</td>\n",
       "      <td>NaN</td>\n",
       "      <td>NaN</td>\n",
       "      <td>Afghanistan</td>\n",
       "      <td>AFG</td>\n",
       "      <td>Southern Asia</td>\n",
       "      <td>Asia</td>\n",
       "      <td>Yaqubi, Haroonkhel districts (Khost city); Zaz...</td>\n",
       "      <td>NaN</td>\n",
       "      <td>NaN</td>\n",
       "      <td>NaN</td>\n",
       "      <td>NaN</td>\n",
       "      <td>NaN</td>\n",
       "      <td>NaN</td>\n",
       "      <td>NaN</td>\n",
       "      <td>Km2</td>\n",
       "      <td>NaN</td>\n",
       "      <td>NaN</td>\n",
       "      <td>NaN</td>\n",
       "      <td>17.0</td>\n",
       "      <td>NaN</td>\n",
       "      <td>NaN</td>\n",
       "      <td>NaN</td>\n",
       "      <td>NaN</td>\n",
       "      <td>NaN</td>\n",
       "      <td>NaN</td>\n",
       "      <td>NaN</td>\n",
       "      <td>Khost (Adm1).</td>\n",
       "      <td>2016-07-19</td>\n",
       "      <td>2016-07-19</td>\n",
       "      <td>[Yaqubi, Haroonkhel districts, Khost city, Zaz...</td>\n",
       "      <td>0</td>\n",
       "      <td>0</td>\n",
       "      <td>0</td>\n",
       "    </tr>\n",
       "    <tr>\n",
       "      <th>29</th>\n",
       "      <td>2016-0056-AGO</td>\n",
       "      <td>2016</td>\n",
       "      <td>NaN</td>\n",
       "      <td>Natural</td>\n",
       "      <td>Hydrological</td>\n",
       "      <td>Flood</td>\n",
       "      <td>Flash flood</td>\n",
       "      <td>NaN</td>\n",
       "      <td>NaN</td>\n",
       "      <td>Angola</td>\n",
       "      <td>AGO</td>\n",
       "      <td>Middle Africa</td>\n",
       "      <td>Africa</td>\n",
       "      <td>Lubango city (Lubango district, Huila province)</td>\n",
       "      <td>NaN</td>\n",
       "      <td>NaN</td>\n",
       "      <td>NaN</td>\n",
       "      <td>NaN</td>\n",
       "      <td>NaN</td>\n",
       "      <td>NaN</td>\n",
       "      <td>NaN</td>\n",
       "      <td>Km2</td>\n",
       "      <td>NaN</td>\n",
       "      <td>NaN</td>\n",
       "      <td>Capitao, Caculuvar rivers</td>\n",
       "      <td>54.0</td>\n",
       "      <td>NaN</td>\n",
       "      <td>NaN</td>\n",
       "      <td>NaN</td>\n",
       "      <td>NaN</td>\n",
       "      <td>NaN</td>\n",
       "      <td>NaN</td>\n",
       "      <td>NaN</td>\n",
       "      <td>Lubango (Adm2).</td>\n",
       "      <td>2016-02-29</td>\n",
       "      <td>2016-03-01</td>\n",
       "      <td>[Lubango city, Lubango district, Huila province]</td>\n",
       "      <td>0</td>\n",
       "      <td>0</td>\n",
       "      <td>0</td>\n",
       "    </tr>\n",
       "    <tr>\n",
       "      <th>30</th>\n",
       "      <td>2016-0088-AGO</td>\n",
       "      <td>2016</td>\n",
       "      <td>NaN</td>\n",
       "      <td>Natural</td>\n",
       "      <td>Hydrological</td>\n",
       "      <td>Flood</td>\n",
       "      <td>Flash flood</td>\n",
       "      <td>NaN</td>\n",
       "      <td>NaN</td>\n",
       "      <td>Angola</td>\n",
       "      <td>AGO</td>\n",
       "      <td>Middle Africa</td>\n",
       "      <td>Africa</td>\n",
       "      <td>Sumbe district (Cuanza Sul province), Cacolo, ...</td>\n",
       "      <td>Extreme rainfall</td>\n",
       "      <td>NaN</td>\n",
       "      <td>NaN</td>\n",
       "      <td>NaN</td>\n",
       "      <td>NaN</td>\n",
       "      <td>NaN</td>\n",
       "      <td>NaN</td>\n",
       "      <td>Km2</td>\n",
       "      <td>NaN</td>\n",
       "      <td>NaN</td>\n",
       "      <td>NaN</td>\n",
       "      <td>6.0</td>\n",
       "      <td>NaN</td>\n",
       "      <td>NaN</td>\n",
       "      <td>2755.0</td>\n",
       "      <td>2755.0</td>\n",
       "      <td>NaN</td>\n",
       "      <td>NaN</td>\n",
       "      <td>NaN</td>\n",
       "      <td>Cacolo, Dala, Saurimo, Sumbe (Adm2).</td>\n",
       "      <td>2016-03-03</td>\n",
       "      <td>2016-03-06</td>\n",
       "      <td>[Sumbe district, Cuanza Sul province, Cacolo, ...</td>\n",
       "      <td>0</td>\n",
       "      <td>0</td>\n",
       "      <td>0</td>\n",
       "    </tr>\n",
       "  </tbody>\n",
       "</table>\n",
       "</div>"
      ],
      "text/plain": [
       "           Dis No  Year           Glide Disaster Group Disaster Subgroup  \\\n",
       "0   2016-0175-BGD  2016  TC-2016-000052        Natural    Meteorological   \n",
       "1   2016-0117-ECU  2016  EQ-2016-000035        Natural       Geophysical   \n",
       "2   2016-0095-CHN  2016             NaN        Natural      Hydrological   \n",
       "3   2016-0137-CHN  2016             NaN        Natural      Hydrological   \n",
       "4   2016-0041-FJI  2016  TC-2016-000014        Natural    Meteorological   \n",
       "5   2016-0112-AFG  2016  FL-2016-000021        Natural      Hydrological   \n",
       "6   2016-0191-AFG  2016             NaN        Natural      Hydrological   \n",
       "7   2016-0246-BOL  2016             NaN        Natural      Hydrological   \n",
       "8   2016-0077-BRA  2016             NaN        Natural      Hydrological   \n",
       "9   2016-0241-CHN  2016             NaN        Natural      Hydrological   \n",
       "10  2016-0039-ECU  2016             NaN        Natural      Hydrological   \n",
       "11  2016-0101-ETH  2016  FL-2016-000045        Natural      Hydrological   \n",
       "12  2016-0186-ETH  2016             NaN        Natural      Hydrological   \n",
       "13  2016-0126-HTI  2016             NaN        Natural      Hydrological   \n",
       "14  2016-0172-CAN  2016             NaN        Natural    Climatological   \n",
       "15  2016-0140-CHN  2016             NaN        Natural    Meteorological   \n",
       "16  2016-0230-CHN  2016             NaN        Natural    Meteorological   \n",
       "17  2016-0201-AUS  2016             NaN        Natural    Meteorological   \n",
       "18  2016-0211-BEL  2016             NaN        Natural    Meteorological   \n",
       "19  2016-0256-CHN  2016             NaN        Natural    Meteorological   \n",
       "20  2016-0162-CHN  2016             NaN        Natural      Hydrological   \n",
       "21  2016-0141-FJI  2016             NaN        Natural    Meteorological   \n",
       "23  2016-0165-HTI  2016             NaN        Natural      Hydrological   \n",
       "24  2016-0154-BGD  2016             NaN        Natural    Meteorological   \n",
       "25  2016-0179-FRA  2016             NaN        Natural      Hydrological   \n",
       "26  2016-0053-HTI  2016             NaN        Natural      Hydrological   \n",
       "27  2016-0135-AFG  2016             NaN        Natural      Hydrological   \n",
       "28  2016-0309-AFG  2016             NaN        Natural      Hydrological   \n",
       "29  2016-0056-AGO  2016             NaN        Natural      Hydrological   \n",
       "30  2016-0088-AGO  2016             NaN        Natural      Hydrological   \n",
       "\n",
       "   Disaster Type  Disaster Subtype      Disaster Subsubtype  \\\n",
       "0          Storm  Tropical cyclone                      NaN   \n",
       "1     Earthquake   Ground movement                      NaN   \n",
       "2          Flood       Flash flood                      NaN   \n",
       "3          Flood    Riverine flood                      NaN   \n",
       "4          Storm  Tropical cyclone                      NaN   \n",
       "5          Flood       Flash flood                      NaN   \n",
       "6          Flood               NaN                      NaN   \n",
       "7          Flood               NaN                      NaN   \n",
       "8          Flood       Flash flood                      NaN   \n",
       "9          Flood               NaN                      NaN   \n",
       "10         Flood    Riverine flood                      NaN   \n",
       "11         Flood       Flash flood                      NaN   \n",
       "12         Flood       Flash flood                      NaN   \n",
       "13         Flood               NaN                      NaN   \n",
       "14      Wildfire       Forest fire                      NaN   \n",
       "15         Storm  Convective storm  Lightning/Thunderstorms   \n",
       "16         Storm  Convective storm                      NaN   \n",
       "17         Storm  Convective storm    Winter storm/Blizzard   \n",
       "18         Storm  Convective storm  Lightning/Thunderstorms   \n",
       "19         Storm  Tropical cyclone                      NaN   \n",
       "20     Landslide          Mudslide                      NaN   \n",
       "21         Storm  Tropical cyclone                      NaN   \n",
       "23         Flood    Riverine flood                      NaN   \n",
       "24         Storm  Convective storm  Lightning/Thunderstorms   \n",
       "25         Flood               NaN                      NaN   \n",
       "26         Flood    Riverine flood                      NaN   \n",
       "27         Flood       Flash flood                      NaN   \n",
       "28         Flood               NaN                      NaN   \n",
       "29         Flood       Flash flood                      NaN   \n",
       "30         Flood       Flash flood                      NaN   \n",
       "\n",
       "                    Event Name                           Country  ISO  \\\n",
       "0                Cyclone Roanu                        Bangladesh  BGD   \n",
       "1                          NaN                           Ecuador  ECU   \n",
       "2                          NaN                             China  CHN   \n",
       "3                          NaN                             China  CHN   \n",
       "4              Cyclone Winston                              Fiji  FJI   \n",
       "5                          NaN                       Afghanistan  AFG   \n",
       "6                          NaN                       Afghanistan  AFG   \n",
       "7                          NaN  Bolivia (Plurinational State of)  BOL   \n",
       "8                          NaN                            Brazil  BRA   \n",
       "9                          NaN                             China  CHN   \n",
       "10                         NaN                           Ecuador  ECU   \n",
       "11                         NaN                          Ethiopia  ETH   \n",
       "12                         NaN                          Ethiopia  ETH   \n",
       "13                         NaN                             Haiti  HTI   \n",
       "14     Fort McMurray wildfires                            Canada  CAN   \n",
       "15                         NaN                             China  CHN   \n",
       "16                         NaN                             China  CHN   \n",
       "17                         NaN                         Australia  AUS   \n",
       "18                         NaN                           Belgium  BEL   \n",
       "19  Typhoon Butchoy (Nepartak)                             China  CHN   \n",
       "20                         NaN                             China  CHN   \n",
       "21       Tropical cyclone Zena                              Fiji  FJI   \n",
       "23                         NaN                             Haiti  HTI   \n",
       "24                         NaN                        Bangladesh  BGD   \n",
       "25                         NaN                            France  FRA   \n",
       "26                         NaN                             Haiti  HTI   \n",
       "27                         NaN                       Afghanistan  AFG   \n",
       "28                         NaN                       Afghanistan  AFG   \n",
       "29                         NaN                            Angola  AGO   \n",
       "30                         NaN                            Angola  AGO   \n",
       "\n",
       "                       Region Continent  \\\n",
       "0               Southern Asia      Asia   \n",
       "1               South America  Americas   \n",
       "2                Eastern Asia      Asia   \n",
       "3                Eastern Asia      Asia   \n",
       "4                   Melanesia   Oceania   \n",
       "5               Southern Asia      Asia   \n",
       "6               Southern Asia      Asia   \n",
       "7               South America  Americas   \n",
       "8               South America  Americas   \n",
       "9                Eastern Asia      Asia   \n",
       "10              South America  Americas   \n",
       "11             Eastern Africa    Africa   \n",
       "12             Eastern Africa    Africa   \n",
       "13                  Caribbean  Americas   \n",
       "14           Northern America  Americas   \n",
       "15               Eastern Asia      Asia   \n",
       "16               Eastern Asia      Asia   \n",
       "17  Australia and New Zealand   Oceania   \n",
       "18             Western Europe    Europe   \n",
       "19               Eastern Asia      Asia   \n",
       "20               Eastern Asia      Asia   \n",
       "21                  Melanesia   Oceania   \n",
       "23                  Caribbean  Americas   \n",
       "24              Southern Asia      Asia   \n",
       "25             Western Europe    Europe   \n",
       "26                  Caribbean  Americas   \n",
       "27              Southern Asia      Asia   \n",
       "28              Southern Asia      Asia   \n",
       "29              Middle Africa    Africa   \n",
       "30              Middle Africa    Africa   \n",
       "\n",
       "                                             Location  \\\n",
       "0   Barisal; Noakhali, Lakshmipur, Chandpur (Chitt...   \n",
       "1   Guayaquil district (Guayas province), Muisne d...   \n",
       "2   Jiangxi Sheng, Hunan Sheng, Guangdong Sheng, G...   \n",
       "3   Anhui, Hubei, Fujian, Zhejiang, Jiangxi, Hunan...   \n",
       "4   Savusavu (Cakaudrove district, Northern provin...   \n",
       "5                 Daykundi, Ghazni, Uruzgan provinces   \n",
       "6   Badakhshan (Tashkan, Baharak, Darayem, Shahada...   \n",
       "7   Sur Yungas, Nor Yungas, Camacho, Bautista Saav...   \n",
       "8   Mairipora, Francisco Morato, Itapevi, Guarulho...   \n",
       "9   Jiangsu, Anhui, Jiangxi, Henan, Hubei, Hunan, ...   \n",
       "10  Atacames, Rioverde, Esmeraldas districts (Esme...   \n",
       "11  Jijiga city (Fafan district, Somali province),...   \n",
       "12  Wolayita district (SNNPR province), Bale distr...   \n",
       "13  Port-au-Prince city (Port-au-Prince district, ...   \n",
       "14  Fort McMurray city (Wood Buffalo area, Divisio...   \n",
       "15  Hubei Sheng, Henan Sheng, Shaanxi Sheng, Guang...   \n",
       "16  Shanxi Sheng, Henan Sheng, Hebei Sheng, Hubei ...   \n",
       "17    New South Wales, Queensland, Tasmania provinces   \n",
       "18  Manage village (Mons region, Hainaut district,...   \n",
       "19                              Fujian Sheng province   \n",
       "20  Sanming district (Fujian Sheng province), Guan...   \n",
       "21        Central, Western provinces (Viti Levu Isl.)   \n",
       "23  Bombardopolis city (Mole Saint Nicolas distric...   \n",
       "24  Dhaka (Jatrabarhi’s Konaparha), Rajshahi (Moha...   \n",
       "25  Yvelines, Paris districts (Ile-de-France provi...   \n",
       "26  Cap-Haitien, Limonade cities (Cap Haitien dist...   \n",
       "27  Baghlan, Daykundi, Samangan, Takhar, Badghis p...   \n",
       "28  Yaqubi, Haroonkhel districts (Khost city); Zaz...   \n",
       "29    Lubango city (Lubango district, Huila province)   \n",
       "30  Sumbe district (Cuanza Sul province), Cacolo, ...   \n",
       "\n",
       "                       Origin                 Associated Dis  \\\n",
       "0                         NaN                          Flood   \n",
       "1                         NaN                            NaN   \n",
       "2              Monsoonal rain  Slide (land, mud, snow, rock)   \n",
       "3                 Heavy rains  Slide (land, mud, snow, rock)   \n",
       "4                         NaN                          Flood   \n",
       "5                         NaN  Slide (land, mud, snow, rock)   \n",
       "6                         NaN  Slide (land, mud, snow, rock)   \n",
       "7                 Heavy rains  Slide (land, mud, snow, rock)   \n",
       "8            Torrential arins  Slide (land, mud, snow, rock)   \n",
       "9                 Heavy rains  Slide (land, mud, snow, rock)   \n",
       "10                Heavy rains  Slide (land, mud, snow, rock)   \n",
       "11  Torrential rains, El Nino  Slide (land, mud, snow, rock)   \n",
       "12           Torrential rains  Slide (land, mud, snow, rock)   \n",
       "13                Heavy rains  Slide (land, mud, snow, rock)   \n",
       "14                        NaN                      Explosion   \n",
       "15                        NaN                           Hail   \n",
       "16                        NaN                           Hail   \n",
       "17                        NaN                          Flood   \n",
       "18                        NaN                          Flood   \n",
       "19                        NaN                          Flood   \n",
       "20                Heavy rains                          Flood   \n",
       "21                        NaN                          Flood   \n",
       "23                        NaN             Transport accident   \n",
       "24                        NaN                     Lightening   \n",
       "25                Heavy rains                     Lightening   \n",
       "26                Heavy rains                     Lightening   \n",
       "27                Heavy rains                            NaN   \n",
       "28                        NaN                            NaN   \n",
       "29                        NaN                            NaN   \n",
       "30           Extreme rainfall                            NaN   \n",
       "\n",
       "                  Associated Dis2 Appeal Declaration  \\\n",
       "0   Slide (land, mud, snow, rock)    NaN         NaN   \n",
       "1   Slide (land, mud, snow, rock)    NaN         Yes   \n",
       "2                            Hail    NaN         NaN   \n",
       "3                           Storm    NaN         NaN   \n",
       "4                           Surge    Yes         Yes   \n",
       "5                             NaN    NaN         NaN   \n",
       "6                             NaN    NaN         NaN   \n",
       "7                             NaN    NaN         NaN   \n",
       "8                             NaN    NaN         NaN   \n",
       "9                             NaN    NaN         NaN   \n",
       "10                            NaN    NaN         Yes   \n",
       "11                            NaN    NaN         NaN   \n",
       "12                            NaN    NaN         NaN   \n",
       "13                            NaN    NaN         NaN   \n",
       "14                            NaN    NaN         NaN   \n",
       "15                            NaN    NaN         NaN   \n",
       "16                            NaN    NaN         NaN   \n",
       "17                            NaN    NaN         NaN   \n",
       "18                            NaN    NaN         NaN   \n",
       "19                            NaN    NaN         NaN   \n",
       "20                            NaN    NaN         NaN   \n",
       "21                            NaN    NaN         NaN   \n",
       "23                            NaN    NaN         NaN   \n",
       "24                            NaN    NaN         NaN   \n",
       "25                            NaN    NaN         NaN   \n",
       "26                            NaN    NaN         NaN   \n",
       "27                            NaN    NaN         NaN   \n",
       "28                            NaN    NaN         NaN   \n",
       "29                            NaN    NaN         NaN   \n",
       "30                            NaN    NaN         NaN   \n",
       "\n",
       "    AID Contribution ('000 US$)  Dis Mag Value Dis Mag Scale  Latitude  \\\n",
       "0                           NaN            NaN           Kph       NaN   \n",
       "1                       44992.0            8.0       Richter     0.382   \n",
       "2                           NaN       383224.0           Km2    24.704   \n",
       "3                           NaN            NaN           Km2       NaN   \n",
       "4                       41862.0          325.0           Kph       NaN   \n",
       "5                           NaN            NaN           Km2       NaN   \n",
       "6                           NaN            NaN           Km2       NaN   \n",
       "7                           NaN       190581.0           Km2   -12.843   \n",
       "8                           NaN            NaN           Km2       NaN   \n",
       "9                           NaN       720844.0           Km2    27.976   \n",
       "10                          NaN            NaN           Km2       NaN   \n",
       "11                          NaN      2440002.0           Km2     9.268   \n",
       "12                          NaN            NaN           Km2       NaN   \n",
       "13                          NaN            NaN           Km2       NaN   \n",
       "14                          NaN         6000.0           Km2       NaN   \n",
       "15                          NaN            NaN           Kph       NaN   \n",
       "16                          NaN            NaN           Kph       NaN   \n",
       "17                          NaN          115.0           Kph       NaN   \n",
       "18                          NaN            NaN           Kph       NaN   \n",
       "19                          NaN            NaN           Kph       NaN   \n",
       "20                          NaN            NaN           NaN       NaN   \n",
       "21                          NaN            NaN           Kph       NaN   \n",
       "23                          NaN            NaN           Km2       NaN   \n",
       "24                          NaN            NaN           Kph       NaN   \n",
       "25                          NaN            NaN           Km2       NaN   \n",
       "26                          NaN            NaN           Km2       NaN   \n",
       "27                          NaN            NaN           Km2       NaN   \n",
       "28                          NaN            NaN           Km2       NaN   \n",
       "29                          NaN            NaN           Km2       NaN   \n",
       "30                          NaN            NaN           Km2       NaN   \n",
       "\n",
       "    Longitude                                        River Basin  \\\n",
       "0         NaN                                                NaN   \n",
       "1     -79.920                                                NaN   \n",
       "2     113.991                                                NaN   \n",
       "3         NaN                                      Yangtze river   \n",
       "4         NaN                                                NaN   \n",
       "5         NaN                                                NaN   \n",
       "6         NaN                                                NaN   \n",
       "7     -64.930                                                NaN   \n",
       "8         NaN                                          Pinheiros   \n",
       "9     114.240                                      Yangtze river   \n",
       "10        NaN  Esmeraldas, Muisne, Quininde, San Lorenzo, Elo...   \n",
       "11     41.691                                        Fafen river   \n",
       "12        NaN                                     Shabelle river   \n",
       "13        NaN                                                NaN   \n",
       "14        NaN                                                NaN   \n",
       "15        NaN                                                NaN   \n",
       "16        NaN                                                NaN   \n",
       "17        NaN                                                NaN   \n",
       "18        NaN                                                NaN   \n",
       "19        NaN                                                NaN   \n",
       "20        NaN                                                NaN   \n",
       "21        NaN                                                NaN   \n",
       "23        NaN                                                NaN   \n",
       "24        NaN                                                NaN   \n",
       "25        NaN                                Seine, Loing, Yonne   \n",
       "26        NaN                                        Mapou river   \n",
       "27        NaN                                                NaN   \n",
       "28        NaN                                                NaN   \n",
       "29        NaN                          Capitao, Caculuvar rivers   \n",
       "30        NaN                                                NaN   \n",
       "\n",
       "    Total Deaths  No Injured  No Affected  No Homeless  Total Affected  \\\n",
       "0           28.0         NaN    1083855.0     119700.0       1203555.0   \n",
       "1          672.0      6274.0     383090.0          NaN        389364.0   \n",
       "2            5.0         NaN     216000.0       3300.0        219300.0   \n",
       "3           20.0         NaN      48000.0          NaN         48000.0   \n",
       "4           45.0       144.0     540414.0          NaN        540558.0   \n",
       "5           30.0         NaN          NaN          NaN             NaN   \n",
       "6            6.0         NaN          NaN          NaN             NaN   \n",
       "7            NaN         NaN        120.0          NaN           120.0   \n",
       "8           30.0         NaN          NaN          NaN             NaN   \n",
       "9          289.0         NaN   60000000.0          NaN      60000000.0   \n",
       "10           NaN         NaN      23955.0          NaN         23955.0   \n",
       "11          28.0        80.0       2000.0       1000.0          3080.0   \n",
       "12         100.0         NaN     490000.0          NaN        490000.0   \n",
       "13           6.0        10.0      22060.0          NaN         22070.0   \n",
       "14           NaN         NaN      88000.0          NaN         88000.0   \n",
       "15           NaN        49.0       6000.0          NaN          6049.0   \n",
       "16          12.0         NaN     150000.0          NaN        150000.0   \n",
       "17           5.0         NaN          NaN          NaN             NaN   \n",
       "18           1.0         NaN          NaN          NaN             NaN   \n",
       "19          69.0         NaN          NaN      24900.0         24900.0   \n",
       "20          66.0         NaN     237600.0          NaN        237600.0   \n",
       "21           2.0         NaN       5000.0          NaN          5000.0   \n",
       "23          23.0         NaN          NaN          NaN             NaN   \n",
       "24          59.0         NaN          NaN          NaN             NaN   \n",
       "25           5.0        24.0          NaN          NaN            24.0   \n",
       "26           5.0      7660.0      40620.0          NaN         48280.0   \n",
       "27          31.0         NaN          NaN          NaN             NaN   \n",
       "28          17.0         NaN          NaN          NaN             NaN   \n",
       "29          54.0         NaN          NaN          NaN             NaN   \n",
       "30           6.0         NaN          NaN       2755.0          2755.0   \n",
       "\n",
       "    Reconstruction Costs, Adjusted ('000 US$)  \\\n",
       "0                                         NaN   \n",
       "1                                   4077535.0   \n",
       "2                                         NaN   \n",
       "3                                         NaN   \n",
       "4                                         NaN   \n",
       "5                                         NaN   \n",
       "6                                         NaN   \n",
       "7                                         NaN   \n",
       "8                                         NaN   \n",
       "9                                         NaN   \n",
       "10                                        NaN   \n",
       "11                                        NaN   \n",
       "12                                        NaN   \n",
       "13                                        NaN   \n",
       "14                                        NaN   \n",
       "15                                        NaN   \n",
       "16                                        NaN   \n",
       "17                                        NaN   \n",
       "18                                        NaN   \n",
       "19                                        NaN   \n",
       "20                                        NaN   \n",
       "21                                        NaN   \n",
       "23                                        NaN   \n",
       "24                                        NaN   \n",
       "25                                        NaN   \n",
       "26                                        NaN   \n",
       "27                                        NaN   \n",
       "28                                        NaN   \n",
       "29                                        NaN   \n",
       "30                                        NaN   \n",
       "\n",
       "    Insured Damages, Adjusted ('000 US$)  Total Damages, Adjusted ('000 US$)  \\\n",
       "0                                    NaN                            731615.0   \n",
       "1                               682841.0                           2438717.0   \n",
       "2                                    NaN                            207291.0   \n",
       "3                                    NaN                            118278.0   \n",
       "4                                60968.0                            731615.0   \n",
       "5                                    NaN                                 NaN   \n",
       "6                                    NaN                                 NaN   \n",
       "7                                    NaN                                 NaN   \n",
       "8                                    NaN                            121936.0   \n",
       "9                               526763.0                          26825889.0   \n",
       "10                                   NaN                                 NaN   \n",
       "11                                   NaN                                 NaN   \n",
       "12                                   NaN                                 NaN   \n",
       "13                                   NaN                                 NaN   \n",
       "14                             3536140.0                           4877434.0   \n",
       "15                                   NaN                            246310.0   \n",
       "16                                   NaN                            936467.0   \n",
       "17                              378001.0                            609679.0   \n",
       "18                                   NaN                                 NaN   \n",
       "19                                   NaN                           1842646.0   \n",
       "20                                   NaN                            853551.0   \n",
       "21                                   NaN                                 NaN   \n",
       "23                                   NaN                                 NaN   \n",
       "24                                   NaN                                 NaN   \n",
       "25                             1585166.0                           2926461.0   \n",
       "26                                   NaN                              2439.0   \n",
       "27                                   NaN                                 NaN   \n",
       "28                                   NaN                                 NaN   \n",
       "29                                   NaN                                 NaN   \n",
       "30                                   NaN                                 NaN   \n",
       "\n",
       "                                        Geo Locations Start Date   End Date  \\\n",
       "0   Barguna, Bhola, Chandpur, Cox's Bazar, Lakshmi... 2016-05-21 2016-05-21   \n",
       "1   Los Rios, Santa Elena, Santo Domingo de los Ts... 2016-04-16 2016-04-16   \n",
       "2   Guangdong Sheng, Guangxi Zhuangzu Zizhiqu, Gui... 2016-03-19 2016-03-22   \n",
       "3   Anhui Sheng, Fujian Sheng, Guangdong Sheng, Gu... 2016-04-20 2016-04-28   \n",
       "4   Ba, Bua, Cakaudrove, Lau, Lomaiviti, Macuata, ... 2016-02-20 2016-02-21   \n",
       "5                  Daykundi, Ghazni, Uruzgan (Adm1).  2016-04-02 2016-04-08   \n",
       "6         Baharak, Darayem, Shuhada, Teshkan (Adm2).  2016-05-09 2016-05-12   \n",
       "7   Arani, Bautista Saavedra, Camacho, Carrasco, F... 2016-02-28 2016-03-03   \n",
       "8   Rio De Janeiro (Adm1). Cajamar, Francisco Mora... 2016-03-10 2016-03-11   \n",
       "9   Anhui Sheng, Chongqing Shi, Guangxi Zhuangzu Z... 2016-06-28 2016-07-13   \n",
       "10            Atacames, Esmeraldas, Rioverde (Adm2).  2016-01-24 2016-01-26   \n",
       "11  Afar, Amhara, Oromia, Tigray (Adm1). Fafan, Wo... 2016-04-02 2016-04-07   \n",
       "12                            Bale, Wolayita (Adm2).  2016-05-09 2016-05-20   \n",
       "13                            Port-Au-Prince (Adm2).  2016-04-23 2016-04-24   \n",
       "14                           Division No. 16 (Adm2).  2016-05-01 2016-07-04   \n",
       "15  Guangxi Zhuangzu Zizhiqu, Guizhou Sheng, Henan... 2016-04-24 2016-04-27   \n",
       "16  Gansu Sheng, Guangdong Sheng, Guangxi Zhuangzu... 2016-06-02 2016-06-08   \n",
       "17     New South Wales, Queensland, Tasmania (Adm1).  2016-06-04 2016-06-05   \n",
       "18  Area without administration at 2nd level, Brab... 2016-06-23 2016-06-24   \n",
       "19                              Fujian Sheng (Adm1).  2016-07-09 2016-07-09   \n",
       "20  Guangdong Sheng, Guangxi Zhuangzu Zizhiqu (Adm... 2016-05-04 2016-05-11   \n",
       "21                          Central, Western (Adm1).  2016-04-04 2016-04-07   \n",
       "23              Gonaives, Mole Saint Nicolas (Adm2).  2016-05-02 2016-05-02   \n",
       "24  Bogra, Brahamanbaria, Dhaka, Gazipur, Habiganj... 2016-05-13 2016-05-15   \n",
       "25  Calvados, Eure, Manche, Marne, Orne, Paris, Se... 2016-05-31 2016-06-05   \n",
       "26           Grande Anse (Adm1). Cap Haitien (Adm2).  2016-02-28 2016-02-28   \n",
       "27  Badghis, Baghlan, Daykundi, Samangan, Takhar (... 2016-04-16 2016-04-17   \n",
       "28                                     Khost (Adm1).  2016-07-19 2016-07-19   \n",
       "29                                   Lubango (Adm2).  2016-02-29 2016-03-01   \n",
       "30              Cacolo, Dala, Saurimo, Sumbe (Adm2).  2016-03-03 2016-03-06   \n",
       "\n",
       "                                        Location List  mentions_1  mentions_2  \\\n",
       "0   [Barisal, Noakhali, Lakshmipur, Chandpur, Chit...           0           0   \n",
       "1   [Guayaquil district, Guayas province, Muisne d...           0           0   \n",
       "2   [Jiangxi Sheng, Hunan Sheng, Guangdong Sheng, ...           0           0   \n",
       "3   [Anhui, Hubei, Fujian, Zhejiang, Jiangxi, Huna...           0           0   \n",
       "4   [Savusavu, Cakaudrove district, Northern provi...           1           0   \n",
       "5               [Daykundi, Ghazni, Uruzgan provinces]           0           0   \n",
       "6   [Badakhshan, Tashkan, Baharak, Darayem, Shahad...           0           0   \n",
       "7   [Sur Yungas, Nor Yungas, Camacho, Bautista Saa...           0           0   \n",
       "8   [Mairipora, Francisco Morato, Itapevi, Guarulh...           0           0   \n",
       "9   [Jiangsu, Anhui, Jiangxi, Henan, Hubei, Hunan,...           0           0   \n",
       "10  [Atacames, Rioverde, Esmeraldas districts, Esm...           0           0   \n",
       "11  [Jijiga city, Fafan district, Somali province,...           0           0   \n",
       "12  [Wolayita district, SNNPR province, Bale distr...           0           0   \n",
       "13  [Port-au-Prince city, Port-au-Prince district,...           0           0   \n",
       "14  [Fort McMurray city, Wood Buffalo area, Divisi...           0           0   \n",
       "15  [Hubei Sheng, Henan Sheng, Shaanxi Sheng, Guan...           0           0   \n",
       "16  [Shanxi Sheng, Henan Sheng, Hebei Sheng, Hubei...           0           0   \n",
       "17  [New South Wales, Queensland, Tasmania provinces]           0           0   \n",
       "18  [Manage village, Mons region, Hainaut district...           0           0   \n",
       "19                            [Fujian Sheng province]           0           0   \n",
       "20  [Sanming district, Fujian Sheng province, Guan...           0           0   \n",
       "21       [Central, Western provinces, Viti Levu Isl.]           0           0   \n",
       "23  [Bombardopolis city, Mole Saint Nicolas distri...           0           0   \n",
       "24  [Dhaka, Jatrabarhi’s Konaparha, Rajshahi, Moha...           0           0   \n",
       "25  [Yvelines, Paris districts, Ile-de-France prov...           0           0   \n",
       "26  [Cap-Haitien, Limonade cities, Cap Haitien dis...           0           0   \n",
       "27  [Baghlan, Daykundi, Samangan, Takhar, Badghis ...           0           0   \n",
       "28  [Yaqubi, Haroonkhel districts, Khost city, Zaz...           0           0   \n",
       "29   [Lubango city, Lubango district, Huila province]           0           0   \n",
       "30  [Sumbe district, Cuanza Sul province, Cacolo, ...           0           0   \n",
       "\n",
       "    mentions_3  \n",
       "0            0  \n",
       "1            0  \n",
       "2            0  \n",
       "3            0  \n",
       "4            0  \n",
       "5            0  \n",
       "6            0  \n",
       "7            0  \n",
       "8            0  \n",
       "9            0  \n",
       "10           0  \n",
       "11           0  \n",
       "12           0  \n",
       "13           0  \n",
       "14           0  \n",
       "15           0  \n",
       "16           0  \n",
       "17           0  \n",
       "18           0  \n",
       "19           0  \n",
       "20           0  \n",
       "21           0  \n",
       "23           0  \n",
       "24           0  \n",
       "25           0  \n",
       "26           0  \n",
       "27           0  \n",
       "28           0  \n",
       "29           0  \n",
       "30           0  "
      ]
     },
     "execution_count": 32,
     "metadata": {},
     "output_type": "execute_result"
    }
   ],
   "source": [
    "disaster_info.iloc[:30]"
   ]
  },
  {
   "cell_type": "code",
   "execution_count": null,
   "metadata": {},
   "outputs": [],
   "source": []
  }
 ],
 "metadata": {
  "kernelspec": {
   "display_name": "Python 3 (ipykernel)",
   "language": "python",
   "name": "python3"
  },
  "language_info": {
   "codemirror_mode": {
    "name": "ipython",
    "version": 3
   },
   "file_extension": ".py",
   "mimetype": "text/x-python",
   "name": "python",
   "nbconvert_exporter": "python",
   "pygments_lexer": "ipython3",
   "version": "3.9.12"
  }
 },
 "nbformat": 4,
 "nbformat_minor": 2
}
