{
 "cells": [
  {
   "cell_type": "code",
   "execution_count": 3,
   "metadata": {},
   "outputs": [],
   "source": [
    "import pandas as pd"
   ]
  },
  {
   "cell_type": "code",
   "execution_count": 20,
   "metadata": {},
   "outputs": [],
   "source": [
    "social_media_tweets = pd.read_csv('./data/socialmedia-disaster-tweets-DFE.csv')"
   ]
  },
  {
   "cell_type": "code",
   "execution_count": 17,
   "metadata": {},
   "outputs": [],
   "source": [
    "old_newspapers = pd.read_table('./data/old-newspaper.tsv')"
   ]
  },
  {
   "cell_type": "code",
   "execution_count": 18,
   "metadata": {},
   "outputs": [],
   "source": [
    "old_newspapers['Date'] = pd.to_datetime(old_newspapers['Date'], format='%Y/%m/%d', errors='coerce')"
   ]
  },
  {
   "cell_type": "code",
   "execution_count": 19,
   "metadata": {},
   "outputs": [
    {
     "data": {
      "text/html": [
       "<div>\n",
       "<style scoped>\n",
       "    .dataframe tbody tr th:only-of-type {\n",
       "        vertical-align: middle;\n",
       "    }\n",
       "\n",
       "    .dataframe tbody tr th {\n",
       "        vertical-align: top;\n",
       "    }\n",
       "\n",
       "    .dataframe thead th {\n",
       "        text-align: right;\n",
       "    }\n",
       "</style>\n",
       "<table border=\"1\" class=\"dataframe\">\n",
       "  <thead>\n",
       "    <tr style=\"text-align: right;\">\n",
       "      <th></th>\n",
       "      <th>Language</th>\n",
       "      <th>Source</th>\n",
       "      <th>Date</th>\n",
       "      <th>Text</th>\n",
       "    </tr>\n",
       "  </thead>\n",
       "  <tbody>\n",
       "    <tr>\n",
       "      <th>0</th>\n",
       "      <td>Afrikaans</td>\n",
       "      <td>republikein.com.na</td>\n",
       "      <td>2011-09-14</td>\n",
       "      <td>Die veranderinge aan die Britsgeboude Avensis ...</td>\n",
       "    </tr>\n",
       "    <tr>\n",
       "      <th>1</th>\n",
       "      <td>Afrikaans</td>\n",
       "      <td>republikein.com.na</td>\n",
       "      <td>2011-01-20</td>\n",
       "      <td>Duitsland se mans- en vrouespanne is die afgel...</td>\n",
       "    </tr>\n",
       "    <tr>\n",
       "      <th>2</th>\n",
       "      <td>Afrikaans</td>\n",
       "      <td>sake24.com</td>\n",
       "      <td>2009-11-28</td>\n",
       "      <td>Mnr. Estienne de Klerk, uitvoerende direkteur ...</td>\n",
       "    </tr>\n",
       "    <tr>\n",
       "      <th>3</th>\n",
       "      <td>Afrikaans</td>\n",
       "      <td>sake24.com</td>\n",
       "      <td>2009-11-12</td>\n",
       "      <td>Mustek is se finansiële-resultate-advertensie ...</td>\n",
       "    </tr>\n",
       "    <tr>\n",
       "      <th>4</th>\n",
       "      <td>Afrikaans</td>\n",
       "      <td>sake24.com</td>\n",
       "      <td>2011-02-04</td>\n",
       "      <td>nadat LMS se raad van trustees in Junie verled...</td>\n",
       "    </tr>\n",
       "    <tr>\n",
       "      <th>...</th>\n",
       "      <td>...</td>\n",
       "      <td>...</td>\n",
       "      <td>...</td>\n",
       "      <td>...</td>\n",
       "    </tr>\n",
       "    <tr>\n",
       "      <th>16806036</th>\n",
       "      <td>Vietnamese</td>\n",
       "      <td>vneconomy.vn</td>\n",
       "      <td>2008-12-15</td>\n",
       "      <td>Thêm nữa, hồ sơ pháp lý của khoản vay thiếu ch...</td>\n",
       "    </tr>\n",
       "    <tr>\n",
       "      <th>16806037</th>\n",
       "      <td>Vietnamese</td>\n",
       "      <td>laodong.com.vn</td>\n",
       "      <td>2011-06-14</td>\n",
       "      <td>Khi “ngày tận thế” đến, chỉ có những người đọc...</td>\n",
       "    </tr>\n",
       "    <tr>\n",
       "      <th>16806038</th>\n",
       "      <td>Vietnamese</td>\n",
       "      <td>www.zing.vn</td>\n",
       "      <td>2009-04-18</td>\n",
       "      <td>Thế rồi Yumi Hòa quen một chàng trên mạng, tất...</td>\n",
       "    </tr>\n",
       "    <tr>\n",
       "      <th>16806039</th>\n",
       "      <td>Vietnamese</td>\n",
       "      <td>www.vietnamnet.vn</td>\n",
       "      <td>2011-12-25</td>\n",
       "      <td>Cầm giấy báo điểm của con trai mà bố mẹ Minh N...</td>\n",
       "    </tr>\n",
       "    <tr>\n",
       "      <th>16806040</th>\n",
       "      <td>Vietnamese</td>\n",
       "      <td>www.tienphong.vn</td>\n",
       "      <td>2011-12-04</td>\n",
       "      <td>Tuy là một trong những nước chống Syria hăng h...</td>\n",
       "    </tr>\n",
       "  </tbody>\n",
       "</table>\n",
       "<p>16806041 rows × 4 columns</p>\n",
       "</div>"
      ],
      "text/plain": [
       "            Language              Source       Date   \n",
       "0          Afrikaans  republikein.com.na 2011-09-14  \\\n",
       "1          Afrikaans  republikein.com.na 2011-01-20   \n",
       "2          Afrikaans          sake24.com 2009-11-28   \n",
       "3          Afrikaans          sake24.com 2009-11-12   \n",
       "4          Afrikaans          sake24.com 2011-02-04   \n",
       "...              ...                 ...        ...   \n",
       "16806036  Vietnamese        vneconomy.vn 2008-12-15   \n",
       "16806037  Vietnamese      laodong.com.vn 2011-06-14   \n",
       "16806038  Vietnamese         www.zing.vn 2009-04-18   \n",
       "16806039  Vietnamese   www.vietnamnet.vn 2011-12-25   \n",
       "16806040  Vietnamese    www.tienphong.vn 2011-12-04   \n",
       "\n",
       "                                                       Text  \n",
       "0         Die veranderinge aan die Britsgeboude Avensis ...  \n",
       "1         Duitsland se mans- en vrouespanne is die afgel...  \n",
       "2         Mnr. Estienne de Klerk, uitvoerende direkteur ...  \n",
       "3         Mustek is se finansiële-resultate-advertensie ...  \n",
       "4         nadat LMS se raad van trustees in Junie verled...  \n",
       "...                                                     ...  \n",
       "16806036  Thêm nữa, hồ sơ pháp lý của khoản vay thiếu ch...  \n",
       "16806037  Khi “ngày tận thế” đến, chỉ có những người đọc...  \n",
       "16806038  Thế rồi Yumi Hòa quen một chàng trên mạng, tất...  \n",
       "16806039  Cầm giấy báo điểm của con trai mà bố mẹ Minh N...  \n",
       "16806040  Tuy là một trong những nước chống Syria hăng h...  \n",
       "\n",
       "[16806041 rows x 4 columns]"
      ]
     },
     "execution_count": 19,
     "metadata": {},
     "output_type": "execute_result"
    }
   ],
   "source": [
    "old_newspapers"
   ]
  }
 ],
 "metadata": {
  "kernelspec": {
   "display_name": "Python 3",
   "language": "python",
   "name": "python3"
  },
  "language_info": {
   "codemirror_mode": {
    "name": "ipython",
    "version": 3
   },
   "file_extension": ".py",
   "mimetype": "text/x-python",
   "name": "python",
   "nbconvert_exporter": "python",
   "pygments_lexer": "ipython3",
   "version": "3.11.3"
  },
  "orig_nbformat": 4
 },
 "nbformat": 4,
 "nbformat_minor": 2
}
